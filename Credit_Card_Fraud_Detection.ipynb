{
 "cells": [
  {
   "cell_type": "code",
   "execution_count": 1,
   "metadata": {},
   "outputs": [
    {
     "name": "stdout",
     "output_type": "stream",
     "text": [
      "WARNING:tensorflow:From d:\\DS_6050\\project_env\\lib\\site-packages\\keras\\src\\losses.py:2976: The name tf.losses.sparse_softmax_cross_entropy is deprecated. Please use tf.compat.v1.losses.sparse_softmax_cross_entropy instead.\n",
      "\n"
     ]
    }
   ],
   "source": [
    "import pandas as pd\n",
    "import numpy as np\n",
    "import matplotlib.pyplot as plt\n",
    "import tensorflow as tf\n",
    "\n",
    "%matplotlib inline"
   ]
  },
  {
   "cell_type": "code",
   "execution_count": 2,
   "metadata": {},
   "outputs": [
    {
     "data": {
      "text/html": [
       "<div>\n",
       "<style scoped>\n",
       "    .dataframe tbody tr th:only-of-type {\n",
       "        vertical-align: middle;\n",
       "    }\n",
       "\n",
       "    .dataframe tbody tr th {\n",
       "        vertical-align: top;\n",
       "    }\n",
       "\n",
       "    .dataframe thead th {\n",
       "        text-align: right;\n",
       "    }\n",
       "</style>\n",
       "<table border=\"1\" class=\"dataframe\">\n",
       "  <thead>\n",
       "    <tr style=\"text-align: right;\">\n",
       "      <th></th>\n",
       "      <th>accountNumber</th>\n",
       "      <th>customerId</th>\n",
       "      <th>creditLimit</th>\n",
       "      <th>availableMoney</th>\n",
       "      <th>transactionDateTime</th>\n",
       "      <th>transactionAmount</th>\n",
       "      <th>merchantName</th>\n",
       "      <th>acqCountry</th>\n",
       "      <th>merchantCountryCode</th>\n",
       "      <th>posEntryMode</th>\n",
       "      <th>...</th>\n",
       "      <th>echoBuffer</th>\n",
       "      <th>currentBalance</th>\n",
       "      <th>merchantCity</th>\n",
       "      <th>merchantState</th>\n",
       "      <th>merchantZip</th>\n",
       "      <th>cardPresent</th>\n",
       "      <th>posOnPremises</th>\n",
       "      <th>recurringAuthInd</th>\n",
       "      <th>expirationDateKeyInMatch</th>\n",
       "      <th>isFraud</th>\n",
       "    </tr>\n",
       "  </thead>\n",
       "  <tbody>\n",
       "    <tr>\n",
       "      <th>0</th>\n",
       "      <td>737265056</td>\n",
       "      <td>737265056</td>\n",
       "      <td>5000</td>\n",
       "      <td>5000.0</td>\n",
       "      <td>2016-08-13T14:27:32</td>\n",
       "      <td>98.55</td>\n",
       "      <td>Uber</td>\n",
       "      <td>US</td>\n",
       "      <td>US</td>\n",
       "      <td>02</td>\n",
       "      <td>...</td>\n",
       "      <td></td>\n",
       "      <td>0.0</td>\n",
       "      <td></td>\n",
       "      <td></td>\n",
       "      <td></td>\n",
       "      <td>False</td>\n",
       "      <td></td>\n",
       "      <td></td>\n",
       "      <td>False</td>\n",
       "      <td>False</td>\n",
       "    </tr>\n",
       "    <tr>\n",
       "      <th>1</th>\n",
       "      <td>737265056</td>\n",
       "      <td>737265056</td>\n",
       "      <td>5000</td>\n",
       "      <td>5000.0</td>\n",
       "      <td>2016-10-11T05:05:54</td>\n",
       "      <td>74.51</td>\n",
       "      <td>AMC #191138</td>\n",
       "      <td>US</td>\n",
       "      <td>US</td>\n",
       "      <td>09</td>\n",
       "      <td>...</td>\n",
       "      <td></td>\n",
       "      <td>0.0</td>\n",
       "      <td></td>\n",
       "      <td></td>\n",
       "      <td></td>\n",
       "      <td>True</td>\n",
       "      <td></td>\n",
       "      <td></td>\n",
       "      <td>False</td>\n",
       "      <td>False</td>\n",
       "    </tr>\n",
       "    <tr>\n",
       "      <th>2</th>\n",
       "      <td>737265056</td>\n",
       "      <td>737265056</td>\n",
       "      <td>5000</td>\n",
       "      <td>5000.0</td>\n",
       "      <td>2016-11-08T09:18:39</td>\n",
       "      <td>7.47</td>\n",
       "      <td>Play Store</td>\n",
       "      <td>US</td>\n",
       "      <td>US</td>\n",
       "      <td>09</td>\n",
       "      <td>...</td>\n",
       "      <td></td>\n",
       "      <td>0.0</td>\n",
       "      <td></td>\n",
       "      <td></td>\n",
       "      <td></td>\n",
       "      <td>False</td>\n",
       "      <td></td>\n",
       "      <td></td>\n",
       "      <td>False</td>\n",
       "      <td>False</td>\n",
       "    </tr>\n",
       "    <tr>\n",
       "      <th>3</th>\n",
       "      <td>737265056</td>\n",
       "      <td>737265056</td>\n",
       "      <td>5000</td>\n",
       "      <td>5000.0</td>\n",
       "      <td>2016-12-10T02:14:50</td>\n",
       "      <td>7.47</td>\n",
       "      <td>Play Store</td>\n",
       "      <td>US</td>\n",
       "      <td>US</td>\n",
       "      <td>09</td>\n",
       "      <td>...</td>\n",
       "      <td></td>\n",
       "      <td>0.0</td>\n",
       "      <td></td>\n",
       "      <td></td>\n",
       "      <td></td>\n",
       "      <td>False</td>\n",
       "      <td></td>\n",
       "      <td></td>\n",
       "      <td>False</td>\n",
       "      <td>False</td>\n",
       "    </tr>\n",
       "    <tr>\n",
       "      <th>4</th>\n",
       "      <td>830329091</td>\n",
       "      <td>830329091</td>\n",
       "      <td>5000</td>\n",
       "      <td>5000.0</td>\n",
       "      <td>2016-03-24T21:04:46</td>\n",
       "      <td>71.18</td>\n",
       "      <td>Tim Hortons #947751</td>\n",
       "      <td>US</td>\n",
       "      <td>US</td>\n",
       "      <td>02</td>\n",
       "      <td>...</td>\n",
       "      <td></td>\n",
       "      <td>0.0</td>\n",
       "      <td></td>\n",
       "      <td></td>\n",
       "      <td></td>\n",
       "      <td>True</td>\n",
       "      <td></td>\n",
       "      <td></td>\n",
       "      <td>False</td>\n",
       "      <td>False</td>\n",
       "    </tr>\n",
       "  </tbody>\n",
       "</table>\n",
       "<p>5 rows × 29 columns</p>\n",
       "</div>"
      ],
      "text/plain": [
       "   accountNumber  customerId  creditLimit  availableMoney  \\\n",
       "0      737265056   737265056         5000          5000.0   \n",
       "1      737265056   737265056         5000          5000.0   \n",
       "2      737265056   737265056         5000          5000.0   \n",
       "3      737265056   737265056         5000          5000.0   \n",
       "4      830329091   830329091         5000          5000.0   \n",
       "\n",
       "   transactionDateTime  transactionAmount         merchantName acqCountry  \\\n",
       "0  2016-08-13T14:27:32              98.55                 Uber         US   \n",
       "1  2016-10-11T05:05:54              74.51          AMC #191138         US   \n",
       "2  2016-11-08T09:18:39               7.47           Play Store         US   \n",
       "3  2016-12-10T02:14:50               7.47           Play Store         US   \n",
       "4  2016-03-24T21:04:46              71.18  Tim Hortons #947751         US   \n",
       "\n",
       "  merchantCountryCode posEntryMode  ... echoBuffer currentBalance  \\\n",
       "0                  US           02  ...                       0.0   \n",
       "1                  US           09  ...                       0.0   \n",
       "2                  US           09  ...                       0.0   \n",
       "3                  US           09  ...                       0.0   \n",
       "4                  US           02  ...                       0.0   \n",
       "\n",
       "  merchantCity merchantState merchantZip  cardPresent  posOnPremises  \\\n",
       "0                                               False                  \n",
       "1                                                True                  \n",
       "2                                               False                  \n",
       "3                                               False                  \n",
       "4                                                True                  \n",
       "\n",
       "   recurringAuthInd expirationDateKeyInMatch isFraud  \n",
       "0                                      False   False  \n",
       "1                                      False   False  \n",
       "2                                      False   False  \n",
       "3                                      False   False  \n",
       "4                                      False   False  \n",
       "\n",
       "[5 rows x 29 columns]"
      ]
     },
     "execution_count": 2,
     "metadata": {},
     "output_type": "execute_result"
    }
   ],
   "source": [
    "df = pd.read_json('transactions.txt', lines=True)\n",
    "\n",
    "df.head()"
   ]
  },
  {
   "cell_type": "markdown",
   "metadata": {},
   "source": [
    "## Data Cleaning"
   ]
  },
  {
   "cell_type": "code",
   "execution_count": 3,
   "metadata": {},
   "outputs": [
    {
     "name": "stderr",
     "output_type": "stream",
     "text": [
      "C:\\Users\\brian\\AppData\\Local\\Temp\\ipykernel_43956\\2814523631.py:3: FutureWarning: Downcasting behavior in `replace` is deprecated and will be removed in a future version. To retain the old behavior, explicitly call `result.infer_objects(copy=False)`. To opt-in to the future behavior, set `pd.set_option('future.no_silent_downcasting', True)`\n",
      "  df = df.replace('', np.nan)\n"
     ]
    }
   ],
   "source": [
    "# Replacing white space with nan\n",
    "\n",
    "df = df.replace('', np.nan)"
   ]
  },
  {
   "cell_type": "code",
   "execution_count": 4,
   "metadata": {},
   "outputs": [
    {
     "name": "stdout",
     "output_type": "stream",
     "text": [
      "Empty columns that were removed:\n",
      "['echoBuffer', 'merchantCity', 'merchantState', 'merchantZip', 'posOnPremises', 'recurringAuthInd']\n"
     ]
    }
   ],
   "source": [
    "# Checking which columns are empty and removing\n",
    "\n",
    "nan_col = df.columns[df.isna().all()].tolist()\n",
    "df.drop(columns=nan_col, inplace=True)\n",
    "\n",
    "print(\"Empty columns that were removed:\")\n",
    "print(nan_col)"
   ]
  },
  {
   "cell_type": "code",
   "execution_count": 5,
   "metadata": {},
   "outputs": [
    {
     "data": {
      "text/plain": [
       "True"
      ]
     },
     "execution_count": 5,
     "metadata": {},
     "output_type": "execute_result"
    }
   ],
   "source": [
    "# Account Number and Customer Id columns appear to be equal\n",
    "\n",
    "df['accountNumber'].equals(df['customerId'])"
   ]
  },
  {
   "cell_type": "code",
   "execution_count": 6,
   "metadata": {},
   "outputs": [],
   "source": [
    "# Removing customerId as it is a duplicate of accountNumber\n",
    "\n",
    "df.drop(columns=['customerId'], inplace=True)"
   ]
  },
  {
   "cell_type": "code",
   "execution_count": 7,
   "metadata": {},
   "outputs": [],
   "source": [
    "# Dropping merchantName as merchantCategory will be used\n",
    "df.drop(columns=['merchantName'], inplace=True)"
   ]
  },
  {
   "cell_type": "code",
   "execution_count": 8,
   "metadata": {},
   "outputs": [],
   "source": [
    "# Need to remove remaining unneeded columns\n",
    "#df.drop(columns=['cardCVV'], inplace=True)\n",
    "#df.drop(columns=['enteredCVV'], inplace=True)\n",
    "df.drop(columns=['cardLast4Digits'], inplace=True)"
   ]
  },
  {
   "cell_type": "code",
   "execution_count": 9,
   "metadata": {},
   "outputs": [],
   "source": [
    "# Filling NaN with purchase to keep data\n",
    "\n",
    "df['transactionType'] = df['transactionType'].fillna('PURCHASE')"
   ]
  },
  {
   "cell_type": "code",
   "execution_count": 10,
   "metadata": {},
   "outputs": [
    {
     "data": {
      "text/plain": [
       "9003"
      ]
     },
     "execution_count": 10,
     "metadata": {},
     "output_type": "execute_result"
    }
   ],
   "source": [
    "# Total amount of rows with NaN values\n",
    "df.isnull().any(axis=1).sum()"
   ]
  },
  {
   "cell_type": "code",
   "execution_count": 11,
   "metadata": {},
   "outputs": [],
   "source": [
    "# Dropping all rows with NaN value\n",
    "df = df.dropna()"
   ]
  },
  {
   "cell_type": "code",
   "execution_count": 12,
   "metadata": {},
   "outputs": [],
   "source": [
    "pd.pandas.set_option('display.max_columns', None)"
   ]
  },
  {
   "cell_type": "code",
   "execution_count": 13,
   "metadata": {},
   "outputs": [],
   "source": [
    "# Changing transactionDatetime. All transactions occurred in 2016, year is unneeded.\n",
    "\n",
    "df['transactionDateTime'] = pd.to_datetime(df['transactionDateTime'])\n",
    "df['Month'] = df['transactionDateTime'].dt.month\n",
    "df['day'] = df['transactionDateTime'].dt.day\n",
    "df['hour'] = df['transactionDateTime'].dt.hour\n",
    "df['minute'] = df['transactionDateTime'].dt.minute\n",
    "\n",
    "# Cyclic encoding for hour and minute\n",
    "df['hourSin'] = np.sin(2 * np.pi * df['hour'] / 24)\n",
    "df['hourCos'] = np.cos(2 * np.pi * df['hour'] / 24)\n",
    "df['minuteSin'] = np.sin(2 * np.pi * df['minute'] / 24)\n",
    "df['minuteCos'] = np.cos(2 * np.pi * df['minute'] / 24)\n",
    "\n",
    "# Do not need columns\n",
    "df.drop(columns=['transactionDateTime'], inplace=True)\n",
    "df.drop(columns=['hour'], inplace=True)\n",
    "df.drop(columns=['minute'], inplace=True)"
   ]
  },
  {
   "cell_type": "code",
   "execution_count": 14,
   "metadata": {},
   "outputs": [
    {
     "name": "stderr",
     "output_type": "stream",
     "text": [
      "C:\\Users\\brian\\AppData\\Local\\Temp\\ipykernel_43956\\3371426977.py:3: UserWarning: Could not infer format, so each element will be parsed individually, falling back to `dateutil`. To ensure parsing is consistent and as-expected, please specify a format.\n",
      "  df['expYear'] = pd.to_datetime(df['currentExpDate']).dt.year\n",
      "C:\\Users\\brian\\AppData\\Local\\Temp\\ipykernel_43956\\3371426977.py:4: UserWarning: Could not infer format, so each element will be parsed individually, falling back to `dateutil`. To ensure parsing is consistent and as-expected, please specify a format.\n",
      "  df['expMonth'] = pd.to_datetime(df['currentExpDate']).dt.month\n"
     ]
    }
   ],
   "source": [
    "# Reformatting other date columns\n",
    "\n",
    "df['expYear'] = pd.to_datetime(df['currentExpDate']).dt.year\n",
    "df['expMonth'] = pd.to_datetime(df['currentExpDate']).dt.month\n",
    "\n",
    "df['accountOpenYear'] = pd.to_datetime(df['accountOpenDate']).dt.year\n",
    "df['accountOpenMonth'] = pd.to_datetime(df['accountOpenDate']).dt.month\n",
    "df['accountOpenDay'] = pd.to_datetime(df['accountOpenDate']).dt.day\n",
    "\n",
    "df['lastAddressChangeYear'] = pd.to_datetime(df['dateOfLastAddressChange']).dt.year\n",
    "df['lastAddressChangeMonth'] = pd.to_datetime(df['dateOfLastAddressChange']).dt.month\n",
    "df['lastAddressChangeDay'] = pd.to_datetime(df['dateOfLastAddressChange']).dt.day\n",
    "\n",
    "# removing unneeded columns\n",
    "df.drop(columns=['currentExpDate'], inplace=True)\n",
    "df.drop(columns=['accountOpenDate'], inplace=True)\n",
    "df.drop(columns=['dateOfLastAddressChange'], inplace=True)"
   ]
  },
  {
   "cell_type": "markdown",
   "metadata": {},
   "source": [
    "## Encoding"
   ]
  },
  {
   "cell_type": "code",
   "execution_count": 15,
   "metadata": {},
   "outputs": [],
   "source": [
    "# Categorical columns that need to be endocded\n",
    "\n",
    "columns_to_encode = ['acqCountry', 'merchantCountryCode', 'posEntryMode', 'posConditionCode', 'transactionType', 'merchantCategoryCode']\n",
    "df = pd.get_dummies(df, columns=columns_to_encode, prefix=columns_to_encode)\n",
    "\n",
    "# Convert boolean columns to integers\n",
    "df['cardPresent'] = df['cardPresent'].astype(int)\n",
    "df['expirationDateKeyInMatch'] = df['expirationDateKeyInMatch'].astype(int)"
   ]
  },
  {
   "cell_type": "code",
   "execution_count": 16,
   "metadata": {},
   "outputs": [
    {
     "name": "stdout",
     "output_type": "stream",
     "text": [
      "<class 'pandas.core.frame.DataFrame'>\n",
      "Index: 777360 entries, 0 to 786362\n",
      "Data columns (total 62 columns):\n",
      " #   Column                                     Non-Null Count   Dtype  \n",
      "---  ------                                     --------------   -----  \n",
      " 0   accountNumber                              777360 non-null  int64  \n",
      " 1   creditLimit                                777360 non-null  int64  \n",
      " 2   availableMoney                             777360 non-null  float64\n",
      " 3   transactionAmount                          777360 non-null  float64\n",
      " 4   cardCVV                                    777360 non-null  int64  \n",
      " 5   enteredCVV                                 777360 non-null  int64  \n",
      " 6   currentBalance                             777360 non-null  float64\n",
      " 7   cardPresent                                777360 non-null  int32  \n",
      " 8   expirationDateKeyInMatch                   777360 non-null  int32  \n",
      " 9   isFraud                                    777360 non-null  bool   \n",
      " 10  Month                                      777360 non-null  int32  \n",
      " 11  day                                        777360 non-null  int32  \n",
      " 12  hourSin                                    777360 non-null  float64\n",
      " 13  hourCos                                    777360 non-null  float64\n",
      " 14  minuteSin                                  777360 non-null  float64\n",
      " 15  minuteCos                                  777360 non-null  float64\n",
      " 16  expYear                                    777360 non-null  int32  \n",
      " 17  expMonth                                   777360 non-null  int32  \n",
      " 18  accountOpenYear                            777360 non-null  int32  \n",
      " 19  accountOpenMonth                           777360 non-null  int32  \n",
      " 20  accountOpenDay                             777360 non-null  int32  \n",
      " 21  lastAddressChangeYear                      777360 non-null  int32  \n",
      " 22  lastAddressChangeMonth                     777360 non-null  int32  \n",
      " 23  lastAddressChangeDay                       777360 non-null  int32  \n",
      " 24  acqCountry_CAN                             777360 non-null  bool   \n",
      " 25  acqCountry_MEX                             777360 non-null  bool   \n",
      " 26  acqCountry_PR                              777360 non-null  bool   \n",
      " 27  acqCountry_US                              777360 non-null  bool   \n",
      " 28  merchantCountryCode_CAN                    777360 non-null  bool   \n",
      " 29  merchantCountryCode_MEX                    777360 non-null  bool   \n",
      " 30  merchantCountryCode_PR                     777360 non-null  bool   \n",
      " 31  merchantCountryCode_US                     777360 non-null  bool   \n",
      " 32  posEntryMode_02                            777360 non-null  bool   \n",
      " 33  posEntryMode_05                            777360 non-null  bool   \n",
      " 34  posEntryMode_09                            777360 non-null  bool   \n",
      " 35  posEntryMode_80                            777360 non-null  bool   \n",
      " 36  posEntryMode_90                            777360 non-null  bool   \n",
      " 37  posConditionCode_01                        777360 non-null  bool   \n",
      " 38  posConditionCode_08                        777360 non-null  bool   \n",
      " 39  posConditionCode_99                        777360 non-null  bool   \n",
      " 40  transactionType_ADDRESS_VERIFICATION       777360 non-null  bool   \n",
      " 41  transactionType_PURCHASE                   777360 non-null  bool   \n",
      " 42  transactionType_REVERSAL                   777360 non-null  bool   \n",
      " 43  merchantCategoryCode_airline               777360 non-null  bool   \n",
      " 44  merchantCategoryCode_auto                  777360 non-null  bool   \n",
      " 45  merchantCategoryCode_cable/phone           777360 non-null  bool   \n",
      " 46  merchantCategoryCode_entertainment         777360 non-null  bool   \n",
      " 47  merchantCategoryCode_fastfood              777360 non-null  bool   \n",
      " 48  merchantCategoryCode_food                  777360 non-null  bool   \n",
      " 49  merchantCategoryCode_food_delivery         777360 non-null  bool   \n",
      " 50  merchantCategoryCode_fuel                  777360 non-null  bool   \n",
      " 51  merchantCategoryCode_furniture             777360 non-null  bool   \n",
      " 52  merchantCategoryCode_gym                   777360 non-null  bool   \n",
      " 53  merchantCategoryCode_health                777360 non-null  bool   \n",
      " 54  merchantCategoryCode_hotels                777360 non-null  bool   \n",
      " 55  merchantCategoryCode_mobileapps            777360 non-null  bool   \n",
      " 56  merchantCategoryCode_online_gifts          777360 non-null  bool   \n",
      " 57  merchantCategoryCode_online_retail         777360 non-null  bool   \n",
      " 58  merchantCategoryCode_online_subscriptions  777360 non-null  bool   \n",
      " 59  merchantCategoryCode_personal care         777360 non-null  bool   \n",
      " 60  merchantCategoryCode_rideshare             777360 non-null  bool   \n",
      " 61  merchantCategoryCode_subscriptions         777360 non-null  bool   \n",
      "dtypes: bool(39), float64(7), int32(12), int64(4)\n",
      "memory usage: 135.7 MB\n"
     ]
    }
   ],
   "source": [
    "df.info()"
   ]
  },
  {
   "cell_type": "code",
   "execution_count": 17,
   "metadata": {},
   "outputs": [],
   "source": [
    "# Breaking apart features and labels\n",
    "\n",
    "features = df.iloc[:, :-1]\n",
    "labels = df['isFraud']"
   ]
  },
  {
   "cell_type": "markdown",
   "metadata": {},
   "source": [
    "## Splitting dataset into train, test and val"
   ]
  },
  {
   "cell_type": "code",
   "execution_count": 18,
   "metadata": {},
   "outputs": [],
   "source": [
    "from sklearn.model_selection import train_test_split\n",
    "from imblearn.over_sampling import SMOTE\n",
    "\n",
    "np.random.seed(33)\n",
    "tf.random.set_seed(33)\n",
    "\n",
    "X = df.drop('isFraud', axis = 1)\n",
    "Y = df['isFraud']\n",
    "\n",
    "x_train, x_temp, y_train, y_temp = train_test_split(X, Y, test_size=0.3, random_state=33, stratify=Y)\n",
    "x_val, x_test, y_val, y_test = train_test_split(x_temp, y_temp, test_size=0.5, random_state=33, stratify=y_temp)\n"
   ]
  },
  {
   "cell_type": "code",
   "execution_count": 19,
   "metadata": {},
   "outputs": [],
   "source": [
    "np.random.seed(33)\n",
    "tf.random.set_seed(33)\n",
    "\n",
    "#standardize/normalize numerical features\n",
    "from sklearn.preprocessing import MinMaxScaler\n",
    "from sklearn.compose import ColumnTransformer\n",
    "\n",
    "#use DataFrame.select_dtypes() to select float64 or int64 feature types automatically.\n",
    "numerical_features = features.select_dtypes(include=['float64', 'int64'])\n",
    "numerical_columns = numerical_features.columns\n",
    "ct = ColumnTransformer([(\"only numeric\", MinMaxScaler(), numerical_columns)], remainder='passthrough')\n",
    "\n",
    "#Fit instance ct of ColumnTransformer to the training data and at the same time transform it by using the ColumnTransformer.fit_transform()\n",
    "x_train_scaled = ct.fit_transform(x_train)\n",
    "x_train_scaled = x_train_scaled.astype('float32')\n",
    "x_test_scaled = ct.transform(x_test)\n",
    "x_test_scaled = x_test_scaled.astype('float32')\n",
    "x_val_scaled = ct.transform(x_val)\n",
    "x_val_scaled = x_val_scaled.astype('float32')"
   ]
  },
  {
   "cell_type": "markdown",
   "metadata": {},
   "source": [
    "## Testing Function"
   ]
  },
  {
   "cell_type": "code",
   "execution_count": 20,
   "metadata": {},
   "outputs": [
    {
     "data": {
      "text/plain": [
       "'\\nfrom sklearn.metrics import accuracy_score, precision_score, recall_score, f1_score, roc_curve, roc_auc_score, confusion_matrix, ConfusionMatrixDisplay\\n\\ndef test_metrics(model, x_test, y_test):\\n\\n    #predict probabilities\\n    y_pred = model.predict(x_test)\\n\\n    #Convert probs intobinary predictions\\n    threshold = 0.5\\n    y_pred_binary = (y_pred >= threshold).astype(int)\\n\\n    #Calculate metrics\\n    accuracy = accuracy_score(y_test, y_pred_binary)\\n    precision = precision_score(y_test, y_pred_binary)\\n    recall = recall_score(y_test, y_pred_binary)\\n    f1 = f1_score(y_test, y_pred_binary)\\n\\n    # ROC and AUC\\n    fpr, tpr, _ = roc_curve(y_test, y_pred)\\n    auc = roc_auc_score(y_test, y_pred)\\n\\n    #Confusion Matrix\\n    cm = confusion_matrix(y_test, y_pred_binary)\\n\\n    #Print metrics\\n    print(\"Accuracy:\", accuracy)\\n    print(\"Precision:\", precision)\\n    print(\"Recall:\", recall)\\n    print(\"F1-Score:\", f1)\\n    print(\"AUC:\", auc)\\n    print(\"Confusion Matrix:\")\\n    print(cm)\\n    ConfusionMatrixDisplay.from_predictions(y_test, y_pred_binary)\\n'"
      ]
     },
     "execution_count": 20,
     "metadata": {},
     "output_type": "execute_result"
    }
   ],
   "source": [
    "# Function to test the model and produce results\n",
    "'''\n",
    "from sklearn.metrics import accuracy_score, precision_score, recall_score, f1_score, roc_curve, roc_auc_score, confusion_matrix, ConfusionMatrixDisplay\n",
    "\n",
    "def test_metrics(model, x_test, y_test):\n",
    "\n",
    "    #predict probabilities\n",
    "    y_pred = model.predict(x_test)\n",
    "\n",
    "    #Convert probs intobinary predictions\n",
    "    threshold = 0.5\n",
    "    y_pred_binary = (y_pred >= threshold).astype(int)\n",
    "\n",
    "    #Calculate metrics\n",
    "    accuracy = accuracy_score(y_test, y_pred_binary)\n",
    "    precision = precision_score(y_test, y_pred_binary)\n",
    "    recall = recall_score(y_test, y_pred_binary)\n",
    "    f1 = f1_score(y_test, y_pred_binary)\n",
    "\n",
    "    # ROC and AUC\n",
    "    fpr, tpr, _ = roc_curve(y_test, y_pred)\n",
    "    auc = roc_auc_score(y_test, y_pred)\n",
    "\n",
    "    #Confusion Matrix\n",
    "    cm = confusion_matrix(y_test, y_pred_binary)\n",
    "\n",
    "    #Print metrics\n",
    "    print(\"Accuracy:\", accuracy)\n",
    "    print(\"Precision:\", precision)\n",
    "    print(\"Recall:\", recall)\n",
    "    print(\"F1-Score:\", f1)\n",
    "    print(\"AUC:\", auc)\n",
    "    print(\"Confusion Matrix:\")\n",
    "    print(cm)\n",
    "    ConfusionMatrixDisplay.from_predictions(y_test, y_pred_binary)\n",
    "'''"
   ]
  },
  {
   "cell_type": "code",
   "execution_count": 21,
   "metadata": {},
   "outputs": [],
   "source": [
    "# Function to test the model threshold to procude the best f1 score and produce results\n",
    "from sklearn.metrics import accuracy_score, precision_score, recall_score, f1_score, roc_curve, roc_auc_score, confusion_matrix, ConfusionMatrixDisplay\n",
    "\n",
    "def test_metrics(model, x_test, y_test):\n",
    "    y_pred = model.predict(x_test)\n",
    "\n",
    "    # Find the best threshold for F1 score\n",
    "    thresholds = np.linspace(0, 1, 100)\n",
    "    f1_scores = []\n",
    "    for thresh in thresholds:\n",
    "        y_pred_binary = (y_pred >= thresh).astype(int)\n",
    "        f1 = f1_score(y_test, y_pred_binary)\n",
    "        f1_scores.append(f1)\n",
    "    \n",
    "    # Get the best threshold\n",
    "    max_f1_index = np.argmax(f1_scores) \n",
    "    best_threshold = thresholds[max_f1_index]\n",
    "    best_f1 = f1_scores[max_f1_index]\n",
    "\n",
    "    # Use the best threshold to get final predictions\n",
    "    y_pred_binary = (y_pred >= best_threshold).astype(int)\n",
    "    accuracy = accuracy_score(y_test, y_pred_binary)\n",
    "    precision = precision_score(y_test, y_pred_binary)\n",
    "    recall = recall_score(y_test, y_pred_binary)\n",
    "    auc = roc_auc_score(y_test, y_pred)\n",
    "    cm = confusion_matrix(y_test, y_pred_binary)\n",
    "\n",
    "    # Print metrics\n",
    "    print(f\"Best Threshold: {best_threshold}\")\n",
    "    print(f\"Accuracy: {accuracy}\")\n",
    "    print(f\"Precision: {precision}\")\n",
    "    print(f\"Recall: {recall}\")\n",
    "    print(f\"F1-Score: {best_f1}\")\n",
    "    print(f\"AUC: {auc}\")\n",
    "    print(\"Confusion Matrix:\")\n",
    "    print(cm)\n",
    "    ConfusionMatrixDisplay.from_predictions(y_test, y_pred_binary)\n",
    "\n",
    "    metrics = {\n",
    "        'Best Threshold': best_threshold,\n",
    "        'Accuracy': accuracy,\n",
    "        'Precision': precision,\n",
    "        'Recall': recall,\n",
    "        'F1-Score': best_f1,\n",
    "        'AUC': auc,\n",
    "        'Confusion Matrix': cm\n",
    "    }\n",
    "    return metrics\n",
    "    "
   ]
  },
  {
   "cell_type": "markdown",
   "metadata": {},
   "source": [
    "## Model Creation"
   ]
  },
  {
   "cell_type": "code",
   "execution_count": 22,
   "metadata": {},
   "outputs": [
    {
     "name": "stdout",
     "output_type": "stream",
     "text": [
      "WARNING:tensorflow:From d:\\DS_6050\\project_env\\lib\\site-packages\\keras\\src\\backend.py:873: The name tf.get_default_graph is deprecated. Please use tf.compat.v1.get_default_graph instead.\n",
      "\n"
     ]
    }
   ],
   "source": [
    "import tensorflow as tf\n",
    "from tensorflow.keras.models import Sequential\n",
    "from tensorflow.keras.layers import Dense\n",
    "\n",
    "np.random.seed(33)\n",
    "tf.random.set_seed(33)\n",
    "\n",
    "model_1 = Sequential([\n",
    "    tf.keras.layers.Dense(64, activation='relu', input_shape=(x_train_scaled.shape[1],)),\n",
    "    tf.keras.layers.Dense(32, activation='relu'),\n",
    "    tf.keras.layers.Dense(1, activation='sigmoid')\n",
    "])"
   ]
  },
  {
   "cell_type": "code",
   "execution_count": 23,
   "metadata": {},
   "outputs": [
    {
     "name": "stdout",
     "output_type": "stream",
     "text": [
      "WARNING:tensorflow:From d:\\DS_6050\\project_env\\lib\\site-packages\\keras\\src\\optimizers\\__init__.py:309: The name tf.train.Optimizer is deprecated. Please use tf.compat.v1.train.Optimizer instead.\n",
      "\n"
     ]
    }
   ],
   "source": [
    "model_1.compile(\n",
    "    optimizer = 'adam',\n",
    "    loss='binary_crossentropy',\n",
    "    metrics=[tf.keras.metrics.BinaryAccuracy(), tf.keras.metrics.Recall()]\n",
    ")"
   ]
  },
  {
   "cell_type": "code",
   "execution_count": 24,
   "metadata": {},
   "outputs": [
    {
     "name": "stdout",
     "output_type": "stream",
     "text": [
      "Epoch 1/10\n",
      "WARNING:tensorflow:From d:\\DS_6050\\project_env\\lib\\site-packages\\keras\\src\\utils\\tf_utils.py:492: The name tf.ragged.RaggedTensorValue is deprecated. Please use tf.compat.v1.ragged.RaggedTensorValue instead.\n",
      "\n",
      "17005/17005 [==============================] - 21s 1ms/step - loss: 0.2278 - binary_accuracy: 0.9827 - recall: 0.0021 - val_loss: 0.0798 - val_binary_accuracy: 0.9846 - val_recall: 0.0000e+00\n",
      "Epoch 2/10\n",
      "17005/17005 [==============================] - 20s 1ms/step - loss: 0.0797 - binary_accuracy: 0.9846 - recall: 0.0000e+00 - val_loss: 0.0760 - val_binary_accuracy: 0.9846 - val_recall: 0.0000e+00\n",
      "Epoch 3/10\n",
      "17005/17005 [==============================] - 20s 1ms/step - loss: 0.0783 - binary_accuracy: 0.9846 - recall: 0.0000e+00 - val_loss: 0.0765 - val_binary_accuracy: 0.9846 - val_recall: 0.0000e+00\n",
      "Epoch 4/10\n",
      "17005/17005 [==============================] - 20s 1ms/step - loss: 0.0775 - binary_accuracy: 0.9846 - recall: 0.0000e+00 - val_loss: 0.0767 - val_binary_accuracy: 0.9846 - val_recall: 0.0000e+00\n",
      "Epoch 5/10\n",
      "17005/17005 [==============================] - 20s 1ms/step - loss: 0.0771 - binary_accuracy: 0.9846 - recall: 0.0000e+00 - val_loss: 0.0787 - val_binary_accuracy: 0.9846 - val_recall: 0.0000e+00\n",
      "Epoch 6/10\n",
      "17005/17005 [==============================] - 20s 1ms/step - loss: 0.0768 - binary_accuracy: 0.9846 - recall: 0.0000e+00 - val_loss: 0.0755 - val_binary_accuracy: 0.9846 - val_recall: 0.0000e+00\n",
      "Epoch 7/10\n",
      "17005/17005 [==============================] - 20s 1ms/step - loss: 0.0764 - binary_accuracy: 0.9846 - recall: 0.0000e+00 - val_loss: 0.0775 - val_binary_accuracy: 0.9846 - val_recall: 0.0000e+00\n",
      "Epoch 8/10\n",
      "17005/17005 [==============================] - 20s 1ms/step - loss: 0.0763 - binary_accuracy: 0.9846 - recall: 0.0000e+00 - val_loss: 0.0783 - val_binary_accuracy: 0.9846 - val_recall: 0.0000e+00\n",
      "Epoch 9/10\n",
      "17005/17005 [==============================] - 20s 1ms/step - loss: 0.0761 - binary_accuracy: 0.9846 - recall: 0.0000e+00 - val_loss: 0.0772 - val_binary_accuracy: 0.9846 - val_recall: 0.0000e+00\n",
      "Epoch 10/10\n",
      "17005/17005 [==============================] - 20s 1ms/step - loss: 0.0761 - binary_accuracy: 0.9846 - recall: 0.0000e+00 - val_loss: 0.0751 - val_binary_accuracy: 0.9846 - val_recall: 0.0000e+00\n"
     ]
    }
   ],
   "source": [
    "np.random.seed(33)\n",
    "tf.random.set_seed(33)\n",
    "\n",
    "history = model_1.fit(x_train_scaled, y_train, \n",
    "                    validation_data=(x_val_scaled, y_val),\n",
    "                    epochs=10,\n",
    "                    batch_size=32)"
   ]
  },
  {
   "cell_type": "code",
   "execution_count": 25,
   "metadata": {},
   "outputs": [
    {
     "name": "stdout",
     "output_type": "stream",
     "text": [
      "3644/3644 [==============================] - 3s 708us/step\n",
      "Best Threshold: 0.04040404040404041\n",
      "Accuracy: 0.9545212857191863\n",
      "Precision: 0.06801379990142928\n",
      "Recall: 0.15358931552587646\n",
      "F1-Score: 0.09427839453458582\n",
      "AUC: 0.7318980334754446\n",
      "Confusion Matrix:\n",
      "[[111025   3782]\n",
      " [  1521    276]]\n"
     ]
    },
    {
     "data": {
      "image/png": "[encoded data removed]",
      "text/plain": [
       "<Figure size 640x480 with 2 Axes>"
      ]
     },
     "metadata": {},
     "output_type": "display_data"
    }
   ],
   "source": [
    "m1_test_results = test_metrics(model_1, x_test_scaled, y_test)"
   ]
  },
  {
   "cell_type": "markdown",
   "metadata": {},
   "source": [
    "## Model Creation with SMOTE"
   ]
  },
  {
   "cell_type": "code",
   "execution_count": 26,
   "metadata": {},
   "outputs": [],
   "source": [
    "np.random.seed(33)\n",
    "tf.random.set_seed(33)\n",
    "# Applying SMOTE to address the class imbalance\n",
    "smote = SMOTE(sampling_strategy='auto', random_state=33)\n",
    "x_train_resampled, y_train_resampled = smote.fit_resample(x_train, y_train)"
   ]
  },
  {
   "cell_type": "code",
   "execution_count": 28,
   "metadata": {},
   "outputs": [],
   "source": [
    "np.random.seed(33)\n",
    "tf.random.set_seed(33)\n",
    "\n",
    "#standardize/normalize numerical features\n",
    "\n",
    "#use DataFrame.select_dtypes() to select float64 or int64 feature types automatically.\n",
    "numerical_features = features.select_dtypes(include=['float64', 'int64'])\n",
    "numerical_columns = numerical_features.columns # Get a list of the column names\n",
    "ct = ColumnTransformer([(\"only numeric\", MinMaxScaler(), numerical_columns)], remainder='passthrough')\n",
    "\n",
    "#Fit instance ct of ColumnTransformer to the training data and at the same time transform it by using the ColumnTransformer.fit_transform()\n",
    "x_train_scaled = ct.fit_transform(x_train_resampled)\n",
    "x_train_scaled = x_train_scaled.astype('float32')\n",
    "x_test_scaled = ct.transform(x_test)\n",
    "x_test_scaled = x_test_scaled.astype('float32')\n",
    "x_val_scaled = ct.transform(x_val)\n",
    "x_val_scaled = x_val_scaled.astype('float32')"
   ]
  },
  {
   "cell_type": "code",
   "execution_count": 29,
   "metadata": {},
   "outputs": [],
   "source": [
    "np.random.seed(33)\n",
    "tf.random.set_seed(33)\n",
    "\n",
    "model_2 = Sequential([\n",
    "    Dense(64, activation='relu', input_shape=(x_train_scaled.shape[1],)),\n",
    "    Dense(32, activation='relu'),\n",
    "    Dense(1, activation='sigmoid')\n",
    "])"
   ]
  },
  {
   "cell_type": "code",
   "execution_count": 30,
   "metadata": {},
   "outputs": [],
   "source": [
    "model_2.compile(\n",
    "    optimizer = 'adam',\n",
    "    loss='binary_crossentropy',\n",
    "    metrics=[tf.keras.metrics.BinaryAccuracy(), tf.keras.metrics.Recall()]\n",
    ")"
   ]
  },
  {
   "cell_type": "code",
   "execution_count": 31,
   "metadata": {},
   "outputs": [
    {
     "name": "stdout",
     "output_type": "stream",
     "text": [
      "Epoch 1/10\n",
      "33486/33486 [==============================] - 37s 1ms/step - loss: 0.6865 - binary_accuracy: 0.7997 - recall_1: 0.7901 - val_loss: 0.0918 - val_binary_accuracy: 0.9839 - val_recall_1: 0.0100\n",
      "Epoch 2/10\n",
      "33486/33486 [==============================] - 36s 1ms/step - loss: 0.2820 - binary_accuracy: 0.8847 - recall_1: 0.8552 - val_loss: 0.8076 - val_binary_accuracy: 0.5461 - val_recall_1: 0.7574\n",
      "Epoch 3/10\n",
      "33486/33486 [==============================] - 36s 1ms/step - loss: 0.2477 - binary_accuracy: 0.8996 - recall_1: 0.8445 - val_loss: 0.1885 - val_binary_accuracy: 0.9842 - val_recall_1: 0.0028\n",
      "Epoch 4/10\n",
      "33486/33486 [==============================] - 36s 1ms/step - loss: 0.2444 - binary_accuracy: 0.9004 - recall_1: 0.8334 - val_loss: 0.1553 - val_binary_accuracy: 0.9814 - val_recall_1: 0.0167\n",
      "Epoch 5/10\n",
      "33486/33486 [==============================] - 36s 1ms/step - loss: 0.2355 - binary_accuracy: 0.9048 - recall_1: 0.8381 - val_loss: 0.2574 - val_binary_accuracy: 0.9535 - val_recall_1: 0.1458\n",
      "Epoch 6/10\n",
      "33486/33486 [==============================] - 35s 1ms/step - loss: 0.2287 - binary_accuracy: 0.9071 - recall_1: 0.8391 - val_loss: 0.2078 - val_binary_accuracy: 0.9662 - val_recall_1: 0.0985\n",
      "Epoch 7/10\n",
      "33486/33486 [==============================] - 37s 1ms/step - loss: 0.2245 - binary_accuracy: 0.9093 - recall_1: 0.8431 - val_loss: 0.1767 - val_binary_accuracy: 0.9773 - val_recall_1: 0.0495\n",
      "Epoch 8/10\n",
      "33486/33486 [==============================] - 36s 1ms/step - loss: 0.2200 - binary_accuracy: 0.9110 - recall_1: 0.8458 - val_loss: 0.1563 - val_binary_accuracy: 0.9821 - val_recall_1: 0.0239\n",
      "Epoch 9/10\n",
      "33486/33486 [==============================] - 36s 1ms/step - loss: 0.2170 - binary_accuracy: 0.9123 - recall_1: 0.8481 - val_loss: 0.0870 - val_binary_accuracy: 0.9846 - val_recall_1: 0.0000e+00\n",
      "Epoch 10/10\n",
      "33486/33486 [==============================] - 36s 1ms/step - loss: 0.2152 - binary_accuracy: 0.9128 - recall_1: 0.8496 - val_loss: 0.1408 - val_binary_accuracy: 0.9824 - val_recall_1: 0.0200\n"
     ]
    }
   ],
   "source": [
    "np.random.seed(33)\n",
    "tf.random.set_seed(33)\n",
    "\n",
    "history = model_2.fit(x_train_scaled, y_train_resampled, \n",
    "                    validation_data=(x_val_scaled, y_val),\n",
    "                    epochs=10,\n",
    "                    batch_size=32)"
   ]
  },
  {
   "cell_type": "code",
   "execution_count": 32,
   "metadata": {},
   "outputs": [
    {
     "name": "stdout",
     "output_type": "stream",
     "text": [
      "3644/3644 [==============================] - 3s 683us/step\n",
      "Best Threshold: 0.31313131313131315\n",
      "Accuracy: 0.9520942677781208\n",
      "Precision: 0.0653819683413627\n",
      "Recall: 0.15859766277128548\n",
      "F1-Score: 0.09259259259259259\n",
      "AUC: 0.7186628286801948\n",
      "Confusion Matrix:\n",
      "[[110733   4074]\n",
      " [  1512    285]]\n"
     ]
    },
    {
     "data": {
      "image/png": "[encoded data removed]",
      "text/plain": [
       "<Figure size 640x480 with 2 Axes>"
      ]
     },
     "metadata": {},
     "output_type": "display_data"
    }
   ],
   "source": [
    "m2_test_results = test_metrics(model_2, x_test_scaled, y_test)"
   ]
  },
  {
   "cell_type": "markdown",
   "metadata": {},
   "source": [
    "## Model 3\n",
    "Adding an additional dense layer"
   ]
  },
  {
   "cell_type": "code",
   "execution_count": 33,
   "metadata": {},
   "outputs": [],
   "source": [
    "np.random.seed(33)\n",
    "tf.random.set_seed(33)\n",
    "\n",
    "model_3 = Sequential([\n",
    "    tf.keras.layers.Dense(64, activation='relu', input_shape=(x_train_scaled.shape[1],)),\n",
    "    tf.keras.layers.Dense(32, activation='relu'),\n",
    "    tf.keras.layers.Dense(32, activation='relu'),\n",
    "    tf.keras.layers.Dense(1, activation='sigmoid')\n",
    "])"
   ]
  },
  {
   "cell_type": "code",
   "execution_count": 34,
   "metadata": {},
   "outputs": [],
   "source": [
    "model_3.compile(\n",
    "    optimizer = 'adam',\n",
    "    loss='binary_crossentropy',\n",
    "    metrics=[tf.keras.metrics.BinaryAccuracy(), tf.keras.metrics.Recall(), tf.keras.metrics.Precision()]\n",
    ")"
   ]
  },
  {
   "cell_type": "code",
   "execution_count": 35,
   "metadata": {},
   "outputs": [
    {
     "name": "stdout",
     "output_type": "stream",
     "text": [
      "Epoch 1/10\n",
      "33486/33486 [==============================] - 39s 1ms/step - loss: 0.4286 - binary_accuracy: 0.8186 - recall_2: 0.7877 - precision: 0.8395 - val_loss: 0.1954 - val_binary_accuracy: 0.9739 - val_recall_2: 0.0746 - val_precision: 0.0887\n",
      "Epoch 2/10\n",
      "33486/33486 [==============================] - 39s 1ms/step - loss: 0.2656 - binary_accuracy: 0.8915 - recall_2: 0.8256 - precision: 0.9509 - val_loss: 0.2685 - val_binary_accuracy: 0.9260 - val_recall_2: 0.2499 - val_precision: 0.0581\n",
      "Epoch 3/10\n",
      "33486/33486 [==============================] - 44s 1ms/step - loss: 0.2426 - binary_accuracy: 0.9022 - recall_2: 0.8353 - precision: 0.9644 - val_loss: 0.0879 - val_binary_accuracy: 0.9846 - val_recall_2: 0.0000e+00 - val_precision: 0.0000e+00\n",
      "Epoch 4/10\n",
      "33486/33486 [==============================] - 42s 1ms/step - loss: 0.2331 - binary_accuracy: 0.9065 - recall_2: 0.8402 - precision: 0.9685 - val_loss: 0.1775 - val_binary_accuracy: 0.9794 - val_recall_2: 0.0479 - val_precision: 0.1107\n",
      "Epoch 5/10\n",
      "33486/33486 [==============================] - 40s 1ms/step - loss: 0.2295 - binary_accuracy: 0.9079 - recall_2: 0.8453 - precision: 0.9663 - val_loss: 0.3124 - val_binary_accuracy: 0.8971 - val_recall_2: 0.3161 - val_precision: 0.0501\n",
      "Epoch 6/10\n",
      "33486/33486 [==============================] - 39s 1ms/step - loss: 0.2225 - binary_accuracy: 0.9104 - recall_2: 0.8452 - precision: 0.9720 - val_loss: 0.2343 - val_binary_accuracy: 0.9457 - val_recall_2: 0.1898 - val_precision: 0.0654\n",
      "Epoch 7/10\n",
      "33486/33486 [==============================] - 40s 1ms/step - loss: 0.2259 - binary_accuracy: 0.9103 - recall_2: 0.8481 - precision: 0.9686 - val_loss: 0.2166 - val_binary_accuracy: 0.9590 - val_recall_2: 0.1436 - val_precision: 0.0738\n",
      "Epoch 8/10\n",
      "33486/33486 [==============================] - 40s 1ms/step - loss: 0.2165 - binary_accuracy: 0.9128 - recall_2: 0.8515 - precision: 0.9704 - val_loss: 0.1480 - val_binary_accuracy: 0.9830 - val_recall_2: 0.0145 - val_precision: 0.1102\n",
      "Epoch 9/10\n",
      "33486/33486 [==============================] - 40s 1ms/step - loss: 0.2143 - binary_accuracy: 0.9135 - recall_2: 0.8514 - precision: 0.9723 - val_loss: 0.0881 - val_binary_accuracy: 0.9846 - val_recall_2: 0.0000e+00 - val_precision: 0.0000e+00\n",
      "Epoch 10/10\n",
      "33486/33486 [==============================] - 38s 1ms/step - loss: 0.2127 - binary_accuracy: 0.9140 - recall_2: 0.8527 - precision: 0.9718 - val_loss: 0.1784 - val_binary_accuracy: 0.9727 - val_recall_2: 0.0840 - val_precision: 0.0895\n"
     ]
    }
   ],
   "source": [
    "np.random.seed(33)\n",
    "tf.random.set_seed(33)\n",
    "\n",
    "history = model_3.fit(x_train_scaled, y_train_resampled, \n",
    "                    validation_data=(x_val_scaled, y_val),\n",
    "                    epochs=10,\n",
    "                    batch_size=32)"
   ]
  },
  {
   "cell_type": "code",
   "execution_count": 36,
   "metadata": {},
   "outputs": [
    {
     "name": "stdout",
     "output_type": "stream",
     "text": [
      "3644/3644 [==============================] - 3s 779us/step\n",
      "Best Threshold: 0.4646464646464647\n",
      "Accuracy: 0.9660131727899558\n",
      "Precision: 0.0866412213740458\n",
      "Recall: 0.12632164718976072\n",
      "F1-Score: 0.10278469549467965\n",
      "AUC: 0.7202035165072151\n",
      "Confusion Matrix:\n",
      "[[112414   2393]\n",
      " [  1570    227]]\n"
     ]
    },
    {
     "data": {
      "image/png": "[encoded data removed]",
      "text/plain": [
       "<Figure size 640x480 with 2 Axes>"
      ]
     },
     "metadata": {},
     "output_type": "display_data"
    }
   ],
   "source": [
    "m3_test_results = test_metrics(model_3, x_test_scaled, y_test)"
   ]
  },
  {
   "cell_type": "markdown",
   "metadata": {},
   "source": [
    "## Model 4\n",
    "Testing model architecture with bias in fully connected layers"
   ]
  },
  {
   "cell_type": "code",
   "execution_count": 37,
   "metadata": {},
   "outputs": [],
   "source": [
    "np.random.seed(33)\n",
    "tf.random.set_seed(33)\n",
    "\n",
    "model_4 = Sequential([\n",
    "    tf.keras.layers.Dense(64, activation='relu', input_shape=(x_train_scaled.shape[1],), use_bias=True),\n",
    "    tf.keras.layers.Dense(32, activation='relu',  use_bias=True),\n",
    "    tf.keras.layers.Dense(32, activation='relu',  use_bias=True),\n",
    "    tf.keras.layers.Dense(1, activation='sigmoid',  use_bias=True)\n",
    "])"
   ]
  },
  {
   "cell_type": "code",
   "execution_count": 38,
   "metadata": {},
   "outputs": [],
   "source": [
    "model_4.compile(\n",
    "    optimizer = 'adam',\n",
    "    loss='binary_crossentropy',\n",
    "    metrics=[tf.keras.metrics.BinaryAccuracy(), tf.keras.metrics.Recall(), tf.keras.metrics.Precision()]\n",
    ")"
   ]
  },
  {
   "cell_type": "code",
   "execution_count": 39,
   "metadata": {},
   "outputs": [
    {
     "name": "stdout",
     "output_type": "stream",
     "text": [
      "Epoch 1/10\n",
      "33486/33486 [==============================] - 43s 1ms/step - loss: 0.6825 - binary_accuracy: 0.5720 - recall_3: 0.5777 - precision_1: 0.5712 - val_loss: 0.6891 - val_binary_accuracy: 0.9846 - val_recall_3: 0.0000e+00 - val_precision_1: 0.0000e+00\n",
      "Epoch 2/10\n",
      "33486/33486 [==============================] - 45s 1ms/step - loss: 0.6932 - binary_accuracy: 0.4994 - recall_3: 0.5275 - precision_1: 0.4995 - val_loss: 0.6905 - val_binary_accuracy: 0.9846 - val_recall_3: 0.0000e+00 - val_precision_1: 0.0000e+00\n",
      "Epoch 3/10\n",
      "33486/33486 [==============================] - 48s 1ms/step - loss: 0.6932 - binary_accuracy: 0.4998 - recall_3: 0.4784 - precision_1: 0.4998 - val_loss: 0.7048 - val_binary_accuracy: 0.0154 - val_recall_3: 1.0000 - val_precision_1: 0.0154\n",
      "Epoch 4/10\n",
      "33486/33486 [==============================] - 49s 1ms/step - loss: 0.6932 - binary_accuracy: 0.4992 - recall_3: 0.5338 - precision_1: 0.4993 - val_loss: 0.7024 - val_binary_accuracy: 0.0154 - val_recall_3: 1.0000 - val_precision_1: 0.0154\n",
      "Epoch 5/10\n",
      "33486/33486 [==============================] - 49s 1ms/step - loss: 0.6932 - binary_accuracy: 0.5002 - recall_3: 0.5230 - precision_1: 0.5002 - val_loss: 0.6959 - val_binary_accuracy: 0.0154 - val_recall_3: 1.0000 - val_precision_1: 0.0154\n",
      "Epoch 6/10\n",
      "33486/33486 [==============================] - 50s 1ms/step - loss: 0.6932 - binary_accuracy: 0.5001 - recall_3: 0.5260 - precision_1: 0.5001 - val_loss: 0.6909 - val_binary_accuracy: 0.9846 - val_recall_3: 0.0000e+00 - val_precision_1: 0.0000e+00\n",
      "Epoch 7/10\n",
      "33486/33486 [==============================] - 48s 1ms/step - loss: 0.6932 - binary_accuracy: 0.5000 - recall_3: 0.4554 - precision_1: 0.5000 - val_loss: 0.7008 - val_binary_accuracy: 0.0154 - val_recall_3: 1.0000 - val_precision_1: 0.0154\n",
      "Epoch 8/10\n",
      "33486/33486 [==============================] - 47s 1ms/step - loss: 0.6932 - binary_accuracy: 0.5008 - recall_3: 0.4949 - precision_1: 0.5008 - val_loss: 0.6949 - val_binary_accuracy: 0.0154 - val_recall_3: 1.0000 - val_precision_1: 0.0154\n",
      "Epoch 9/10\n",
      "33486/33486 [==============================] - 47s 1ms/step - loss: 0.6932 - binary_accuracy: 0.5003 - recall_3: 0.4703 - precision_1: 0.5003 - val_loss: 0.6927 - val_binary_accuracy: 0.9846 - val_recall_3: 0.0000e+00 - val_precision_1: 0.0000e+00\n",
      "Epoch 10/10\n",
      "33486/33486 [==============================] - 47s 1ms/step - loss: 0.6932 - binary_accuracy: 0.4996 - recall_3: 0.5524 - precision_1: 0.4996 - val_loss: 0.6855 - val_binary_accuracy: 0.9846 - val_recall_3: 0.0000e+00 - val_precision_1: 0.0000e+00\n"
     ]
    }
   ],
   "source": [
    "np.random.seed(33)\n",
    "tf.random.set_seed(33)\n",
    "\n",
    "history = model_4.fit(x_train_scaled, y_train_resampled, \n",
    "                    validation_data=(x_val_scaled, y_val),\n",
    "                    epochs=10,\n",
    "                    batch_size=32)"
   ]
  },
  {
   "cell_type": "code",
   "execution_count": 40,
   "metadata": {},
   "outputs": [
    {
     "name": "stdout",
     "output_type": "stream",
     "text": [
      "3644/3644 [==============================] - 3s 837us/step\n",
      "Best Threshold: 0.0\n",
      "Accuracy: 0.015411135124009469\n",
      "Precision: 0.015411135124009469\n",
      "Recall: 1.0\n",
      "F1-Score: 0.030354473357488535\n",
      "AUC: 0.5\n",
      "Confusion Matrix:\n",
      "[[     0 114807]\n",
      " [     0   1797]]\n"
     ]
    },
    {
     "data": {
      "image/png": "[encoded data removed]",
      "text/plain": [
       "<Figure size 640x480 with 2 Axes>"
      ]
     },
     "metadata": {},
     "output_type": "display_data"
    }
   ],
   "source": [
    "m4_test_results = test_metrics(model_4, x_test_scaled, y_test)"
   ]
  },
  {
   "cell_type": "markdown",
   "metadata": {},
   "source": [
    "## Model 5\n",
    "Adding drop out layers"
   ]
  },
  {
   "cell_type": "code",
   "execution_count": 41,
   "metadata": {},
   "outputs": [],
   "source": [
    "np.random.seed(33)\n",
    "tf.random.set_seed(33)\n",
    "\n",
    "model_5 = Sequential([\n",
    "    tf.keras.layers.Dense(64, activation='relu', input_shape=(x_train_scaled.shape[1],),  use_bias=True),\n",
    "    tf.keras.layers.Dropout(0.2),\n",
    "    tf.keras.layers.Dense(32, activation='relu',  use_bias=True),\n",
    "    tf.keras.layers.Dropout(0.2),\n",
    "    tf.keras.layers.Dense(1, activation='sigmoid',  use_bias=True)\n",
    "])"
   ]
  },
  {
   "cell_type": "code",
   "execution_count": 42,
   "metadata": {},
   "outputs": [],
   "source": [
    "model_5.compile(\n",
    "    optimizer = 'adam',\n",
    "    loss='binary_crossentropy',\n",
    "    metrics=[tf.keras.metrics.BinaryAccuracy(), tf.keras.metrics.Recall(), tf.keras.metrics.Precision()]\n",
    ")"
   ]
  },
  {
   "cell_type": "code",
   "execution_count": 43,
   "metadata": {},
   "outputs": [
    {
     "name": "stdout",
     "output_type": "stream",
     "text": [
      "Epoch 1/10\n",
      "33486/33486 [==============================] - 49s 1ms/step - loss: 0.8558 - binary_accuracy: 0.4996 - recall_4: 0.5199 - precision_2: 0.4996 - val_loss: 0.6896 - val_binary_accuracy: 0.9846 - val_recall_4: 0.0000e+00 - val_precision_2: 0.0000e+00\n",
      "Epoch 2/10\n",
      "33486/33486 [==============================] - 46s 1ms/step - loss: 0.6935 - binary_accuracy: 0.4994 - recall_4: 0.5265 - precision_2: 0.4995 - val_loss: 0.6905 - val_binary_accuracy: 0.9846 - val_recall_4: 0.0000e+00 - val_precision_2: 0.0000e+00\n",
      "Epoch 3/10\n",
      "33486/33486 [==============================] - 46s 1ms/step - loss: 0.6934 - binary_accuracy: 0.4998 - recall_4: 0.4758 - precision_2: 0.4998 - val_loss: 0.7048 - val_binary_accuracy: 0.0154 - val_recall_4: 1.0000 - val_precision_2: 0.0154\n",
      "Epoch 4/10\n",
      "33486/33486 [==============================] - 46s 1ms/step - loss: 0.6933 - binary_accuracy: 0.4993 - recall_4: 0.5326 - precision_2: 0.4993 - val_loss: 0.7024 - val_binary_accuracy: 0.0154 - val_recall_4: 1.0000 - val_precision_2: 0.0154\n",
      "Epoch 5/10\n",
      "33486/33486 [==============================] - 46s 1ms/step - loss: 0.6932 - binary_accuracy: 0.5002 - recall_4: 0.5229 - precision_2: 0.5002 - val_loss: 0.6959 - val_binary_accuracy: 0.0154 - val_recall_4: 1.0000 - val_precision_2: 0.0154\n",
      "Epoch 6/10\n",
      "33486/33486 [==============================] - 45s 1ms/step - loss: 0.6932 - binary_accuracy: 0.5001 - recall_4: 0.5257 - precision_2: 0.5001 - val_loss: 0.6909 - val_binary_accuracy: 0.9846 - val_recall_4: 0.0000e+00 - val_precision_2: 0.0000e+00\n",
      "Epoch 7/10\n",
      "33486/33486 [==============================] - 48s 1ms/step - loss: 0.6932 - binary_accuracy: 0.5000 - recall_4: 0.4551 - precision_2: 0.5000 - val_loss: 0.7008 - val_binary_accuracy: 0.0154 - val_recall_4: 1.0000 - val_precision_2: 0.0154\n",
      "Epoch 8/10\n",
      "33486/33486 [==============================] - 47s 1ms/step - loss: 0.6933 - binary_accuracy: 0.5009 - recall_4: 0.4940 - precision_2: 0.5009 - val_loss: 0.6950 - val_binary_accuracy: 0.0154 - val_recall_4: 1.0000 - val_precision_2: 0.0154\n",
      "Epoch 9/10\n",
      "33486/33486 [==============================] - 51s 2ms/step - loss: 0.6932 - binary_accuracy: 0.5003 - recall_4: 0.4706 - precision_2: 0.5003 - val_loss: 0.6926 - val_binary_accuracy: 0.9846 - val_recall_4: 0.0000e+00 - val_precision_2: 0.0000e+00\n",
      "Epoch 10/10\n",
      "33486/33486 [==============================] - 47s 1ms/step - loss: 0.6933 - binary_accuracy: 0.4996 - recall_4: 0.5512 - precision_2: 0.4996 - val_loss: 0.6855 - val_binary_accuracy: 0.9846 - val_recall_4: 0.0000e+00 - val_precision_2: 0.0000e+00\n"
     ]
    }
   ],
   "source": [
    "np.random.seed(33)\n",
    "tf.random.set_seed(33)\n",
    "\n",
    "history = model_5.fit(x_train_scaled, y_train_resampled, \n",
    "                    validation_data=(x_val_scaled, y_val),\n",
    "                    epochs=10,\n",
    "                    batch_size=32)"
   ]
  },
  {
   "cell_type": "code",
   "execution_count": 44,
   "metadata": {},
   "outputs": [
    {
     "name": "stdout",
     "output_type": "stream",
     "text": [
      "3644/3644 [==============================] - 3s 826us/step\n",
      "Best Threshold: 0.0\n",
      "Accuracy: 0.015411135124009469\n",
      "Precision: 0.015411135124009469\n",
      "Recall: 1.0\n",
      "F1-Score: 0.030354473357488535\n",
      "AUC: 0.5\n",
      "Confusion Matrix:\n",
      "[[     0 114807]\n",
      " [     0   1797]]\n"
     ]
    },
    {
     "data": {
      "image/png": "[encoded data removed]",
      "text/plain": [
       "<Figure size 640x480 with 2 Axes>"
      ]
     },
     "metadata": {},
     "output_type": "display_data"
    }
   ],
   "source": [
    "m5_test_results = test_metrics(model_5, x_test_scaled, y_test)"
   ]
  },
  {
   "cell_type": "markdown",
   "metadata": {},
   "source": [
    "## Model 6\n",
    "Switching to Leaky Relu as the activation function"
   ]
  },
  {
   "cell_type": "code",
   "execution_count": 45,
   "metadata": {},
   "outputs": [],
   "source": [
    "np.random.seed(33)\n",
    "tf.random.set_seed(33)\n",
    "\n",
    "model_6 = Sequential([\n",
    "    tf.keras.layers.Dense(64, input_shape=(x_train_scaled.shape[1],),  use_bias=True),\n",
    "    tf.keras.layers.LeakyReLU(alpha=0.1),\n",
    "    tf.keras.layers.Dropout(0.2),\n",
    "    tf.keras.layers.Dense(32,  use_bias=True),\n",
    "    tf.keras.layers.LeakyReLU(alpha=0.1),\n",
    "    tf.keras.layers.Dropout(0.2),\n",
    "    tf.keras.layers.Dense(1, activation='sigmoid',  use_bias=True)\n",
    "])"
   ]
  },
  {
   "cell_type": "code",
   "execution_count": 46,
   "metadata": {},
   "outputs": [],
   "source": [
    "model_6.compile(\n",
    "    optimizer = 'adam',\n",
    "    loss='binary_crossentropy',\n",
    "    metrics=[tf.keras.metrics.BinaryAccuracy(), tf.keras.metrics.Recall(), tf.keras.metrics.Precision()]\n",
    ")"
   ]
  },
  {
   "cell_type": "code",
   "execution_count": 47,
   "metadata": {},
   "outputs": [
    {
     "name": "stdout",
     "output_type": "stream",
     "text": [
      "Epoch 1/10\n",
      "33486/33486 [==============================] - 48s 1ms/step - loss: 0.5993 - binary_accuracy: 0.7638 - recall_5: 0.7152 - precision_3: 0.7921 - val_loss: 0.2039 - val_binary_accuracy: 0.9764 - val_recall_5: 0.0579 - val_precision_3: 0.0897\n",
      "Epoch 2/10\n",
      "33486/33486 [==============================] - 46s 1ms/step - loss: 0.2988 - binary_accuracy: 0.8697 - recall_5: 0.8018 - precision_3: 0.9277 - val_loss: 0.2654 - val_binary_accuracy: 0.9437 - val_recall_5: 0.1742 - val_precision_3: 0.0580\n",
      "Epoch 3/10\n",
      "33486/33486 [==============================] - 46s 1ms/step - loss: 0.2756 - binary_accuracy: 0.8819 - recall_5: 0.8147 - precision_3: 0.9411 - val_loss: 0.1532 - val_binary_accuracy: 0.9846 - val_recall_5: 0.0000e+00 - val_precision_3: 0.0000e+00\n",
      "Epoch 4/10\n",
      "33486/33486 [==============================] - 47s 1ms/step - loss: 0.2588 - binary_accuracy: 0.8909 - recall_5: 0.8236 - precision_3: 0.9516 - val_loss: 0.1152 - val_binary_accuracy: 0.9845 - val_recall_5: 0.0011 - val_precision_3: 0.1111\n",
      "Epoch 5/10\n",
      "33486/33486 [==============================] - 44s 1ms/step - loss: 0.2488 - binary_accuracy: 0.8964 - recall_5: 0.8302 - precision_3: 0.9570 - val_loss: 0.1540 - val_binary_accuracy: 0.9839 - val_recall_5: 0.0067 - val_precision_3: 0.1212\n",
      "Epoch 6/10\n",
      "33486/33486 [==============================] - 44s 1ms/step - loss: 0.2394 - binary_accuracy: 0.9007 - recall_5: 0.8361 - precision_3: 0.9602 - val_loss: 0.1486 - val_binary_accuracy: 0.9816 - val_recall_5: 0.0301 - val_precision_3: 0.1192\n",
      "Epoch 7/10\n",
      "33486/33486 [==============================] - 45s 1ms/step - loss: 0.2332 - binary_accuracy: 0.9034 - recall_5: 0.8402 - precision_3: 0.9618 - val_loss: 0.1800 - val_binary_accuracy: 0.9650 - val_recall_5: 0.0985 - val_precision_3: 0.0671\n",
      "Epoch 8/10\n",
      "33486/33486 [==============================] - 46s 1ms/step - loss: 0.2279 - binary_accuracy: 0.9059 - recall_5: 0.8443 - precision_3: 0.9628 - val_loss: 0.1400 - val_binary_accuracy: 0.9837 - val_recall_5: 0.0117 - val_precision_3: 0.1409\n",
      "Epoch 9/10\n",
      "33486/33486 [==============================] - 45s 1ms/step - loss: 0.2230 - binary_accuracy: 0.9080 - recall_5: 0.8473 - precision_3: 0.9643 - val_loss: 0.1383 - val_binary_accuracy: 0.9845 - val_recall_5: 0.0017 - val_precision_3: 0.2308\n",
      "Epoch 10/10\n",
      "33486/33486 [==============================] - 45s 1ms/step - loss: 0.2193 - binary_accuracy: 0.9091 - recall_5: 0.8496 - precision_3: 0.9644 - val_loss: 0.1720 - val_binary_accuracy: 0.9723 - val_recall_5: 0.0774 - val_precision_3: 0.0812\n"
     ]
    }
   ],
   "source": [
    "np.random.seed(33)\n",
    "tf.random.set_seed(33)\n",
    "\n",
    "history = model_6.fit(x_train_scaled, y_train_resampled, \n",
    "                    validation_data=(x_val_scaled, y_val),\n",
    "                    epochs=10,\n",
    "                    batch_size=32)"
   ]
  },
  {
   "cell_type": "code",
   "execution_count": 48,
   "metadata": {},
   "outputs": [
    {
     "name": "stdout",
     "output_type": "stream",
     "text": [
      "3644/3644 [==============================] - 3s 773us/step\n",
      "Best Threshold: 0.38383838383838387\n",
      "Accuracy: 0.9447017254982676\n",
      "Precision: 0.06163996229971725\n",
      "Recall: 0.18196994991652754\n",
      "F1-Score: 0.09208673613066742\n",
      "AUC: 0.7103432433476136\n",
      "Confusion Matrix:\n",
      "[[109829   4978]\n",
      " [  1470    327]]\n"
     ]
    },
    {
     "data": {
      "image/png": "[encoded data removed]",
      "text/plain": [
       "<Figure size 640x480 with 2 Axes>"
      ]
     },
     "metadata": {},
     "output_type": "display_data"
    }
   ],
   "source": [
    "m6_test_results = test_metrics(model_6, x_test_scaled, y_test)"
   ]
  },
  {
   "cell_type": "markdown",
   "metadata": {},
   "source": [
    "## Model 7\n",
    "Adding another Dense layer"
   ]
  },
  {
   "cell_type": "code",
   "execution_count": 49,
   "metadata": {},
   "outputs": [],
   "source": [
    "np.random.seed(33)\n",
    "tf.random.set_seed(33)\n",
    "\n",
    "model_7 = Sequential([\n",
    "    tf.keras.layers.Dense(64, input_shape=(x_train_scaled.shape[1],),  use_bias=True),\n",
    "    tf.keras.layers.LeakyReLU(alpha=0.1),\n",
    "    tf.keras.layers.Dropout(0.2),\n",
    "    tf.keras.layers.Dense(32,  use_bias=True),\n",
    "    tf.keras.layers.LeakyReLU(alpha=0.1),\n",
    "    tf.keras.layers.Dropout(0.2),\n",
    "    tf.keras.layers.Dense(32,  use_bias=True),\n",
    "    tf.keras.layers.LeakyReLU(alpha=0.1),\n",
    "    tf.keras.layers.Dropout(0.2),\n",
    "    tf.keras.layers.Dense(1, activation='sigmoid',  use_bias=True)\n",
    "])"
   ]
  },
  {
   "cell_type": "code",
   "execution_count": 50,
   "metadata": {},
   "outputs": [],
   "source": [
    "model_7.compile(\n",
    "    optimizer = 'adam',\n",
    "    loss='binary_crossentropy',\n",
    "    metrics=[tf.keras.metrics.BinaryAccuracy(), tf.keras.metrics.Recall(), tf.keras.metrics.Precision()]\n",
    ")"
   ]
  },
  {
   "cell_type": "code",
   "execution_count": 51,
   "metadata": {},
   "outputs": [
    {
     "name": "stdout",
     "output_type": "stream",
     "text": [
      "Epoch 1/10\n",
      "33486/33486 [==============================] - 50s 1ms/step - loss: 0.6261 - binary_accuracy: 0.6694 - recall_6: 0.6340 - precision_4: 0.6823 - val_loss: 0.2337 - val_binary_accuracy: 0.9810 - val_recall_6: 0.0267 - val_precision_4: 0.0938\n",
      "Epoch 2/10\n",
      "33486/33486 [==============================] - 48s 1ms/step - loss: 0.3008 - binary_accuracy: 0.8709 - recall_6: 0.8023 - precision_4: 0.9298 - val_loss: 0.1309 - val_binary_accuracy: 0.9843 - val_recall_6: 0.0028 - val_precision_4: 0.1136\n",
      "Epoch 3/10\n",
      "33486/33486 [==============================] - 48s 1ms/step - loss: 0.2765 - binary_accuracy: 0.8843 - recall_6: 0.8167 - precision_4: 0.9443 - val_loss: 0.1114 - val_binary_accuracy: 0.9846 - val_recall_6: 0.0000e+00 - val_precision_4: 0.0000e+00\n",
      "Epoch 4/10\n",
      "33486/33486 [==============================] - 49s 1ms/step - loss: 0.2617 - binary_accuracy: 0.8918 - recall_6: 0.8240 - precision_4: 0.9533 - val_loss: 0.2111 - val_binary_accuracy: 0.9833 - val_recall_6: 0.0145 - val_precision_4: 0.1275\n",
      "Epoch 5/10\n",
      "33486/33486 [==============================] - 53s 2ms/step - loss: 0.2500 - binary_accuracy: 0.8970 - recall_6: 0.8286 - precision_4: 0.9599 - val_loss: 0.1607 - val_binary_accuracy: 0.9831 - val_recall_6: 0.0139 - val_precision_4: 0.1126\n",
      "Epoch 6/10\n",
      "33486/33486 [==============================] - 50s 1ms/step - loss: 0.2423 - binary_accuracy: 0.8999 - recall_6: 0.8322 - precision_4: 0.9626 - val_loss: 0.1365 - val_binary_accuracy: 0.9830 - val_recall_6: 0.0178 - val_precision_4: 0.1265\n",
      "Epoch 7/10\n",
      "33486/33486 [==============================] - 47s 1ms/step - loss: 0.2357 - binary_accuracy: 0.9023 - recall_6: 0.8355 - precision_4: 0.9643 - val_loss: 0.1916 - val_binary_accuracy: 0.9836 - val_recall_6: 0.0100 - val_precision_4: 0.1208\n",
      "Epoch 8/10\n",
      "33486/33486 [==============================] - 47s 1ms/step - loss: 0.2301 - binary_accuracy: 0.9047 - recall_6: 0.8396 - precision_4: 0.9652 - val_loss: 0.1497 - val_binary_accuracy: 0.9842 - val_recall_6: 0.0050 - val_precision_4: 0.1452\n",
      "Epoch 9/10\n",
      "33486/33486 [==============================] - 47s 1ms/step - loss: 0.2276 - binary_accuracy: 0.9054 - recall_6: 0.8413 - precision_4: 0.9650 - val_loss: 0.0976 - val_binary_accuracy: 0.9846 - val_recall_6: 0.0000e+00 - val_precision_4: 0.0000e+00\n",
      "Epoch 10/10\n",
      "33486/33486 [==============================] - 48s 1ms/step - loss: 0.2236 - binary_accuracy: 0.9071 - recall_6: 0.8441 - precision_4: 0.9658 - val_loss: 0.1603 - val_binary_accuracy: 0.9824 - val_recall_6: 0.0234 - val_precision_4: 0.1232\n"
     ]
    }
   ],
   "source": [
    "np.random.seed(33)\n",
    "tf.random.set_seed(33)\n",
    "\n",
    "history = model_7.fit(x_train_scaled, y_train_resampled, \n",
    "                    validation_data=(x_val_scaled, y_val),\n",
    "                    epochs=10,\n",
    "                    batch_size=32)"
   ]
  },
  {
   "cell_type": "code",
   "execution_count": 52,
   "metadata": {},
   "outputs": [
    {
     "name": "stdout",
     "output_type": "stream",
     "text": [
      "3644/3644 [==============================] - 3s 771us/step\n",
      "Best Threshold: 0.36363636363636365\n",
      "Accuracy: 0.9544784055435491\n",
      "Precision: 0.06707768187422934\n",
      "Recall: 0.15136338341680577\n",
      "F1-Score: 0.09295967190704033\n",
      "AUC: 0.7098265793912126\n",
      "Confusion Matrix:\n",
      "[[111024   3783]\n",
      " [  1525    272]]\n"
     ]
    },
    {
     "data": {
      "image/png": "[encoded data removed]",
      "text/plain": [
       "<Figure size 640x480 with 2 Axes>"
      ]
     },
     "metadata": {},
     "output_type": "display_data"
    }
   ],
   "source": [
    "m7_test_results = test_metrics(model_7, x_test_scaled, y_test)"
   ]
  },
  {
   "cell_type": "markdown",
   "metadata": {},
   "source": [
    "# Model 8\n",
    "Adding more filters to the Dense layers"
   ]
  },
  {
   "cell_type": "code",
   "execution_count": 53,
   "metadata": {},
   "outputs": [],
   "source": [
    "np.random.seed(33)\n",
    "tf.random.set_seed(33)\n",
    "\n",
    "model_8 = Sequential([\n",
    "    tf.keras.layers.Dense(64, input_shape=(x_train_scaled.shape[1],),  use_bias=True),\n",
    "    tf.keras.layers.LeakyReLU(alpha=0.1),\n",
    "    tf.keras.layers.Dropout(0.2),\n",
    "    tf.keras.layers.Dense(32,  use_bias=True),\n",
    "    tf.keras.layers.LeakyReLU(alpha=0.1),\n",
    "    tf.keras.layers.Dropout(0.2),\n",
    "    tf.keras.layers.Dense(32,  use_bias=True),\n",
    "    tf.keras.layers.LeakyReLU(alpha=0.1),\n",
    "    tf.keras.layers.Dropout(0.2),\n",
    "    tf.keras.layers.Dense(1, activation='sigmoid',  use_bias=True)\n",
    "])"
   ]
  },
  {
   "cell_type": "code",
   "execution_count": 54,
   "metadata": {},
   "outputs": [],
   "source": [
    "model_8.compile(\n",
    "    optimizer = 'adam',\n",
    "    loss='binary_crossentropy',\n",
    "    metrics=[tf.keras.metrics.BinaryAccuracy(), tf.keras.metrics.Recall(), tf.keras.metrics.Precision()]\n",
    ")"
   ]
  },
  {
   "cell_type": "code",
   "execution_count": 55,
   "metadata": {},
   "outputs": [
    {
     "name": "stdout",
     "output_type": "stream",
     "text": [
      "Epoch 1/10\n",
      "33486/33486 [==============================] - 47s 1ms/step - loss: 0.7256 - binary_accuracy: 0.6722 - recall_7: 0.6465 - precision_5: 0.6815 - val_loss: 0.2637 - val_binary_accuracy: 0.8928 - val_recall_7: 0.3189 - val_precision_5: 0.0484\n",
      "Epoch 2/10\n",
      "33486/33486 [==============================] - 46s 1ms/step - loss: 0.3012 - binary_accuracy: 0.8704 - recall_7: 0.8001 - precision_5: 0.9309 - val_loss: 0.2431 - val_binary_accuracy: 0.9626 - val_recall_7: 0.1252 - val_precision_5: 0.0747\n",
      "Epoch 3/10\n",
      "33486/33486 [==============================] - 48s 1ms/step - loss: 0.2751 - binary_accuracy: 0.8846 - recall_7: 0.8148 - precision_5: 0.9470 - val_loss: 0.1114 - val_binary_accuracy: 0.9846 - val_recall_7: 0.0000e+00 - val_precision_5: 0.0000e+00\n",
      "Epoch 4/10\n",
      "33486/33486 [==============================] - 48s 1ms/step - loss: 0.2632 - binary_accuracy: 0.8906 - recall_7: 0.8213 - precision_5: 0.9534 - val_loss: 0.1993 - val_binary_accuracy: 0.9835 - val_recall_7: 0.0089 - val_precision_5: 0.1019\n",
      "Epoch 5/10\n",
      "33486/33486 [==============================] - 48s 1ms/step - loss: 0.2515 - binary_accuracy: 0.8959 - recall_7: 0.8279 - precision_5: 0.9583 - val_loss: 0.2482 - val_binary_accuracy: 0.9841 - val_recall_7: 0.0033 - val_precision_5: 0.0822\n",
      "Epoch 6/10\n",
      "33486/33486 [==============================] - 49s 1ms/step - loss: 0.2446 - binary_accuracy: 0.8985 - recall_7: 0.8306 - precision_5: 0.9611 - val_loss: 0.2056 - val_binary_accuracy: 0.9829 - val_recall_7: 0.0184 - val_precision_5: 0.1260\n",
      "Epoch 7/10\n",
      "33486/33486 [==============================] - 48s 1ms/step - loss: 0.2373 - binary_accuracy: 0.9016 - recall_7: 0.8347 - precision_5: 0.9636 - val_loss: 0.1819 - val_binary_accuracy: 0.9846 - val_recall_7: 0.0000e+00 - val_precision_5: 0.0000e+00\n",
      "Epoch 8/10\n",
      "27515/33486 [=======================>......] - ETA: 8s - loss: 0.2322 - binary_accuracy: 0.9037 - recall_7: 0.8374 - precision_5: 0.9654"
     ]
    },
    {
     "ename": "KeyboardInterrupt",
     "evalue": "",
     "output_type": "error",
     "traceback": [
      "\u001b[1;31m---------------------------------------------------------------------------\u001b[0m",
      "\u001b[1;31mKeyboardInterrupt\u001b[0m                         Traceback (most recent call last)",
      "Cell \u001b[1;32mIn[55], line 4\u001b[0m\n\u001b[0;32m      1\u001b[0m np\u001b[38;5;241m.\u001b[39mrandom\u001b[38;5;241m.\u001b[39mseed(\u001b[38;5;241m33\u001b[39m)\n\u001b[0;32m      2\u001b[0m tf\u001b[38;5;241m.\u001b[39mrandom\u001b[38;5;241m.\u001b[39mset_seed(\u001b[38;5;241m33\u001b[39m)\n\u001b[1;32m----> 4\u001b[0m history \u001b[38;5;241m=\u001b[39m \u001b[43mmodel_8\u001b[49m\u001b[38;5;241;43m.\u001b[39;49m\u001b[43mfit\u001b[49m\u001b[43m(\u001b[49m\u001b[43mx_train_scaled\u001b[49m\u001b[43m,\u001b[49m\u001b[43m \u001b[49m\u001b[43my_train_resampled\u001b[49m\u001b[43m,\u001b[49m\u001b[43m \u001b[49m\n\u001b[0;32m      5\u001b[0m \u001b[43m                    \u001b[49m\u001b[43mvalidation_data\u001b[49m\u001b[38;5;241;43m=\u001b[39;49m\u001b[43m(\u001b[49m\u001b[43mx_val_scaled\u001b[49m\u001b[43m,\u001b[49m\u001b[43m \u001b[49m\u001b[43my_val\u001b[49m\u001b[43m)\u001b[49m\u001b[43m,\u001b[49m\n\u001b[0;32m      6\u001b[0m \u001b[43m                    \u001b[49m\u001b[43mepochs\u001b[49m\u001b[38;5;241;43m=\u001b[39;49m\u001b[38;5;241;43m10\u001b[39;49m\u001b[43m,\u001b[49m\n\u001b[0;32m      7\u001b[0m \u001b[43m                    \u001b[49m\u001b[43mbatch_size\u001b[49m\u001b[38;5;241;43m=\u001b[39;49m\u001b[38;5;241;43m32\u001b[39;49m\u001b[43m)\u001b[49m\n",
      "File \u001b[1;32md:\\DS_6050\\project_env\\lib\\site-packages\\keras\\src\\utils\\traceback_utils.py:65\u001b[0m, in \u001b[0;36mfilter_traceback.<locals>.error_handler\u001b[1;34m(*args, **kwargs)\u001b[0m\n\u001b[0;32m     63\u001b[0m filtered_tb \u001b[38;5;241m=\u001b[39m \u001b[38;5;28;01mNone\u001b[39;00m\n\u001b[0;32m     64\u001b[0m \u001b[38;5;28;01mtry\u001b[39;00m:\n\u001b[1;32m---> 65\u001b[0m     \u001b[38;5;28;01mreturn\u001b[39;00m fn(\u001b[38;5;241m*\u001b[39margs, \u001b[38;5;241m*\u001b[39m\u001b[38;5;241m*\u001b[39mkwargs)\n\u001b[0;32m     66\u001b[0m \u001b[38;5;28;01mexcept\u001b[39;00m \u001b[38;5;167;01mException\u001b[39;00m \u001b[38;5;28;01mas\u001b[39;00m e:\n\u001b[0;32m     67\u001b[0m     filtered_tb \u001b[38;5;241m=\u001b[39m _process_traceback_frames(e\u001b[38;5;241m.\u001b[39m__traceback__)\n",
      "File \u001b[1;32md:\\DS_6050\\project_env\\lib\\site-packages\\keras\\src\\engine\\training.py:1807\u001b[0m, in \u001b[0;36mModel.fit\u001b[1;34m(self, x, y, batch_size, epochs, verbose, callbacks, validation_split, validation_data, shuffle, class_weight, sample_weight, initial_epoch, steps_per_epoch, validation_steps, validation_batch_size, validation_freq, max_queue_size, workers, use_multiprocessing)\u001b[0m\n\u001b[0;32m   1799\u001b[0m \u001b[38;5;28;01mwith\u001b[39;00m tf\u001b[38;5;241m.\u001b[39mprofiler\u001b[38;5;241m.\u001b[39mexperimental\u001b[38;5;241m.\u001b[39mTrace(\n\u001b[0;32m   1800\u001b[0m     \u001b[38;5;124m\"\u001b[39m\u001b[38;5;124mtrain\u001b[39m\u001b[38;5;124m\"\u001b[39m,\n\u001b[0;32m   1801\u001b[0m     epoch_num\u001b[38;5;241m=\u001b[39mepoch,\n\u001b[1;32m   (...)\u001b[0m\n\u001b[0;32m   1804\u001b[0m     _r\u001b[38;5;241m=\u001b[39m\u001b[38;5;241m1\u001b[39m,\n\u001b[0;32m   1805\u001b[0m ):\n\u001b[0;32m   1806\u001b[0m     callbacks\u001b[38;5;241m.\u001b[39mon_train_batch_begin(step)\n\u001b[1;32m-> 1807\u001b[0m     tmp_logs \u001b[38;5;241m=\u001b[39m \u001b[38;5;28;43mself\u001b[39;49m\u001b[38;5;241;43m.\u001b[39;49m\u001b[43mtrain_function\u001b[49m\u001b[43m(\u001b[49m\u001b[43miterator\u001b[49m\u001b[43m)\u001b[49m\n\u001b[0;32m   1808\u001b[0m     \u001b[38;5;28;01mif\u001b[39;00m data_handler\u001b[38;5;241m.\u001b[39mshould_sync:\n\u001b[0;32m   1809\u001b[0m         context\u001b[38;5;241m.\u001b[39masync_wait()\n",
      "File \u001b[1;32md:\\DS_6050\\project_env\\lib\\site-packages\\tensorflow\\python\\util\\traceback_utils.py:150\u001b[0m, in \u001b[0;36mfilter_traceback.<locals>.error_handler\u001b[1;34m(*args, **kwargs)\u001b[0m\n\u001b[0;32m    148\u001b[0m filtered_tb \u001b[38;5;241m=\u001b[39m \u001b[38;5;28;01mNone\u001b[39;00m\n\u001b[0;32m    149\u001b[0m \u001b[38;5;28;01mtry\u001b[39;00m:\n\u001b[1;32m--> 150\u001b[0m   \u001b[38;5;28;01mreturn\u001b[39;00m fn(\u001b[38;5;241m*\u001b[39margs, \u001b[38;5;241m*\u001b[39m\u001b[38;5;241m*\u001b[39mkwargs)\n\u001b[0;32m    151\u001b[0m \u001b[38;5;28;01mexcept\u001b[39;00m \u001b[38;5;167;01mException\u001b[39;00m \u001b[38;5;28;01mas\u001b[39;00m e:\n\u001b[0;32m    152\u001b[0m   filtered_tb \u001b[38;5;241m=\u001b[39m _process_traceback_frames(e\u001b[38;5;241m.\u001b[39m__traceback__)\n",
      "File \u001b[1;32md:\\DS_6050\\project_env\\lib\\site-packages\\tensorflow\\python\\eager\\polymorphic_function\\polymorphic_function.py:832\u001b[0m, in \u001b[0;36mFunction.__call__\u001b[1;34m(self, *args, **kwds)\u001b[0m\n\u001b[0;32m    829\u001b[0m compiler \u001b[38;5;241m=\u001b[39m \u001b[38;5;124m\"\u001b[39m\u001b[38;5;124mxla\u001b[39m\u001b[38;5;124m\"\u001b[39m \u001b[38;5;28;01mif\u001b[39;00m \u001b[38;5;28mself\u001b[39m\u001b[38;5;241m.\u001b[39m_jit_compile \u001b[38;5;28;01melse\u001b[39;00m \u001b[38;5;124m\"\u001b[39m\u001b[38;5;124mnonXla\u001b[39m\u001b[38;5;124m\"\u001b[39m\n\u001b[0;32m    831\u001b[0m \u001b[38;5;28;01mwith\u001b[39;00m OptionalXlaContext(\u001b[38;5;28mself\u001b[39m\u001b[38;5;241m.\u001b[39m_jit_compile):\n\u001b[1;32m--> 832\u001b[0m   result \u001b[38;5;241m=\u001b[39m \u001b[38;5;28mself\u001b[39m\u001b[38;5;241m.\u001b[39m_call(\u001b[38;5;241m*\u001b[39margs, \u001b[38;5;241m*\u001b[39m\u001b[38;5;241m*\u001b[39mkwds)\n\u001b[0;32m    834\u001b[0m new_tracing_count \u001b[38;5;241m=\u001b[39m \u001b[38;5;28mself\u001b[39m\u001b[38;5;241m.\u001b[39mexperimental_get_tracing_count()\n\u001b[0;32m    835\u001b[0m without_tracing \u001b[38;5;241m=\u001b[39m (tracing_count \u001b[38;5;241m==\u001b[39m new_tracing_count)\n",
      "File \u001b[1;32md:\\DS_6050\\project_env\\lib\\site-packages\\tensorflow\\python\\eager\\polymorphic_function\\polymorphic_function.py:868\u001b[0m, in \u001b[0;36mFunction._call\u001b[1;34m(self, *args, **kwds)\u001b[0m\n\u001b[0;32m    865\u001b[0m   \u001b[38;5;28mself\u001b[39m\u001b[38;5;241m.\u001b[39m_lock\u001b[38;5;241m.\u001b[39mrelease()\n\u001b[0;32m    866\u001b[0m   \u001b[38;5;66;03m# In this case we have created variables on the first call, so we run the\u001b[39;00m\n\u001b[0;32m    867\u001b[0m   \u001b[38;5;66;03m# defunned version which is guaranteed to never create variables.\u001b[39;00m\n\u001b[1;32m--> 868\u001b[0m   \u001b[38;5;28;01mreturn\u001b[39;00m \u001b[43mtracing_compilation\u001b[49m\u001b[38;5;241;43m.\u001b[39;49m\u001b[43mcall_function\u001b[49m\u001b[43m(\u001b[49m\n\u001b[0;32m    869\u001b[0m \u001b[43m      \u001b[49m\u001b[43margs\u001b[49m\u001b[43m,\u001b[49m\u001b[43m \u001b[49m\u001b[43mkwds\u001b[49m\u001b[43m,\u001b[49m\u001b[43m \u001b[49m\u001b[38;5;28;43mself\u001b[39;49m\u001b[38;5;241;43m.\u001b[39;49m\u001b[43m_no_variable_creation_config\u001b[49m\n\u001b[0;32m    870\u001b[0m \u001b[43m  \u001b[49m\u001b[43m)\u001b[49m\n\u001b[0;32m    871\u001b[0m \u001b[38;5;28;01melif\u001b[39;00m \u001b[38;5;28mself\u001b[39m\u001b[38;5;241m.\u001b[39m_variable_creation_config \u001b[38;5;129;01mis\u001b[39;00m \u001b[38;5;129;01mnot\u001b[39;00m \u001b[38;5;28;01mNone\u001b[39;00m:\n\u001b[0;32m    872\u001b[0m   \u001b[38;5;66;03m# Release the lock early so that multiple threads can perform the call\u001b[39;00m\n\u001b[0;32m    873\u001b[0m   \u001b[38;5;66;03m# in parallel.\u001b[39;00m\n\u001b[0;32m    874\u001b[0m   \u001b[38;5;28mself\u001b[39m\u001b[38;5;241m.\u001b[39m_lock\u001b[38;5;241m.\u001b[39mrelease()\n",
      "File \u001b[1;32md:\\DS_6050\\project_env\\lib\\site-packages\\tensorflow\\python\\eager\\polymorphic_function\\tracing_compilation.py:139\u001b[0m, in \u001b[0;36mcall_function\u001b[1;34m(args, kwargs, tracing_options)\u001b[0m\n\u001b[0;32m    137\u001b[0m bound_args \u001b[38;5;241m=\u001b[39m function\u001b[38;5;241m.\u001b[39mfunction_type\u001b[38;5;241m.\u001b[39mbind(\u001b[38;5;241m*\u001b[39margs, \u001b[38;5;241m*\u001b[39m\u001b[38;5;241m*\u001b[39mkwargs)\n\u001b[0;32m    138\u001b[0m flat_inputs \u001b[38;5;241m=\u001b[39m function\u001b[38;5;241m.\u001b[39mfunction_type\u001b[38;5;241m.\u001b[39munpack_inputs(bound_args)\n\u001b[1;32m--> 139\u001b[0m \u001b[38;5;28;01mreturn\u001b[39;00m \u001b[43mfunction\u001b[49m\u001b[38;5;241;43m.\u001b[39;49m\u001b[43m_call_flat\u001b[49m\u001b[43m(\u001b[49m\u001b[43m  \u001b[49m\u001b[38;5;66;43;03m# pylint: disable=protected-access\u001b[39;49;00m\n\u001b[0;32m    140\u001b[0m \u001b[43m    \u001b[49m\u001b[43mflat_inputs\u001b[49m\u001b[43m,\u001b[49m\u001b[43m \u001b[49m\u001b[43mcaptured_inputs\u001b[49m\u001b[38;5;241;43m=\u001b[39;49m\u001b[43mfunction\u001b[49m\u001b[38;5;241;43m.\u001b[39;49m\u001b[43mcaptured_inputs\u001b[49m\n\u001b[0;32m    141\u001b[0m \u001b[43m\u001b[49m\u001b[43m)\u001b[49m\n",
      "File \u001b[1;32md:\\DS_6050\\project_env\\lib\\site-packages\\tensorflow\\python\\eager\\polymorphic_function\\concrete_function.py:1323\u001b[0m, in \u001b[0;36mConcreteFunction._call_flat\u001b[1;34m(self, tensor_inputs, captured_inputs)\u001b[0m\n\u001b[0;32m   1319\u001b[0m possible_gradient_type \u001b[38;5;241m=\u001b[39m gradients_util\u001b[38;5;241m.\u001b[39mPossibleTapeGradientTypes(args)\n\u001b[0;32m   1320\u001b[0m \u001b[38;5;28;01mif\u001b[39;00m (possible_gradient_type \u001b[38;5;241m==\u001b[39m gradients_util\u001b[38;5;241m.\u001b[39mPOSSIBLE_GRADIENT_TYPES_NONE\n\u001b[0;32m   1321\u001b[0m     \u001b[38;5;129;01mand\u001b[39;00m executing_eagerly):\n\u001b[0;32m   1322\u001b[0m   \u001b[38;5;66;03m# No tape is watching; skip to running the function.\u001b[39;00m\n\u001b[1;32m-> 1323\u001b[0m   \u001b[38;5;28;01mreturn\u001b[39;00m \u001b[38;5;28;43mself\u001b[39;49m\u001b[38;5;241;43m.\u001b[39;49m\u001b[43m_inference_function\u001b[49m\u001b[38;5;241;43m.\u001b[39;49m\u001b[43mcall_preflattened\u001b[49m\u001b[43m(\u001b[49m\u001b[43margs\u001b[49m\u001b[43m)\u001b[49m\n\u001b[0;32m   1324\u001b[0m forward_backward \u001b[38;5;241m=\u001b[39m \u001b[38;5;28mself\u001b[39m\u001b[38;5;241m.\u001b[39m_select_forward_and_backward_functions(\n\u001b[0;32m   1325\u001b[0m     args,\n\u001b[0;32m   1326\u001b[0m     possible_gradient_type,\n\u001b[0;32m   1327\u001b[0m     executing_eagerly)\n\u001b[0;32m   1328\u001b[0m forward_function, args_with_tangents \u001b[38;5;241m=\u001b[39m forward_backward\u001b[38;5;241m.\u001b[39mforward()\n",
      "File \u001b[1;32md:\\DS_6050\\project_env\\lib\\site-packages\\tensorflow\\python\\eager\\polymorphic_function\\atomic_function.py:216\u001b[0m, in \u001b[0;36mAtomicFunction.call_preflattened\u001b[1;34m(self, args)\u001b[0m\n\u001b[0;32m    214\u001b[0m \u001b[38;5;28;01mdef\u001b[39;00m \u001b[38;5;21mcall_preflattened\u001b[39m(\u001b[38;5;28mself\u001b[39m, args: Sequence[core\u001b[38;5;241m.\u001b[39mTensor]) \u001b[38;5;241m-\u001b[39m\u001b[38;5;241m>\u001b[39m Any:\n\u001b[0;32m    215\u001b[0m \u001b[38;5;250m  \u001b[39m\u001b[38;5;124;03m\"\"\"Calls with flattened tensor inputs and returns the structured output.\"\"\"\u001b[39;00m\n\u001b[1;32m--> 216\u001b[0m   flat_outputs \u001b[38;5;241m=\u001b[39m \u001b[38;5;28;43mself\u001b[39;49m\u001b[38;5;241;43m.\u001b[39;49m\u001b[43mcall_flat\u001b[49m\u001b[43m(\u001b[49m\u001b[38;5;241;43m*\u001b[39;49m\u001b[43margs\u001b[49m\u001b[43m)\u001b[49m\n\u001b[0;32m    217\u001b[0m   \u001b[38;5;28;01mreturn\u001b[39;00m \u001b[38;5;28mself\u001b[39m\u001b[38;5;241m.\u001b[39mfunction_type\u001b[38;5;241m.\u001b[39mpack_output(flat_outputs)\n",
      "File \u001b[1;32md:\\DS_6050\\project_env\\lib\\site-packages\\tensorflow\\python\\eager\\polymorphic_function\\atomic_function.py:251\u001b[0m, in \u001b[0;36mAtomicFunction.call_flat\u001b[1;34m(self, *args)\u001b[0m\n\u001b[0;32m    249\u001b[0m \u001b[38;5;28;01mwith\u001b[39;00m record\u001b[38;5;241m.\u001b[39mstop_recording():\n\u001b[0;32m    250\u001b[0m   \u001b[38;5;28;01mif\u001b[39;00m \u001b[38;5;28mself\u001b[39m\u001b[38;5;241m.\u001b[39m_bound_context\u001b[38;5;241m.\u001b[39mexecuting_eagerly():\n\u001b[1;32m--> 251\u001b[0m     outputs \u001b[38;5;241m=\u001b[39m \u001b[38;5;28;43mself\u001b[39;49m\u001b[38;5;241;43m.\u001b[39;49m\u001b[43m_bound_context\u001b[49m\u001b[38;5;241;43m.\u001b[39;49m\u001b[43mcall_function\u001b[49m\u001b[43m(\u001b[49m\n\u001b[0;32m    252\u001b[0m \u001b[43m        \u001b[49m\u001b[38;5;28;43mself\u001b[39;49m\u001b[38;5;241;43m.\u001b[39;49m\u001b[43mname\u001b[49m\u001b[43m,\u001b[49m\n\u001b[0;32m    253\u001b[0m \u001b[43m        \u001b[49m\u001b[38;5;28;43mlist\u001b[39;49m\u001b[43m(\u001b[49m\u001b[43margs\u001b[49m\u001b[43m)\u001b[49m\u001b[43m,\u001b[49m\n\u001b[0;32m    254\u001b[0m \u001b[43m        \u001b[49m\u001b[38;5;28;43mlen\u001b[39;49m\u001b[43m(\u001b[49m\u001b[38;5;28;43mself\u001b[39;49m\u001b[38;5;241;43m.\u001b[39;49m\u001b[43mfunction_type\u001b[49m\u001b[38;5;241;43m.\u001b[39;49m\u001b[43mflat_outputs\u001b[49m\u001b[43m)\u001b[49m\u001b[43m,\u001b[49m\n\u001b[0;32m    255\u001b[0m \u001b[43m    \u001b[49m\u001b[43m)\u001b[49m\n\u001b[0;32m    256\u001b[0m   \u001b[38;5;28;01melse\u001b[39;00m:\n\u001b[0;32m    257\u001b[0m     outputs \u001b[38;5;241m=\u001b[39m make_call_op_in_graph(\n\u001b[0;32m    258\u001b[0m         \u001b[38;5;28mself\u001b[39m,\n\u001b[0;32m    259\u001b[0m         \u001b[38;5;28mlist\u001b[39m(args),\n\u001b[0;32m    260\u001b[0m         \u001b[38;5;28mself\u001b[39m\u001b[38;5;241m.\u001b[39m_bound_context\u001b[38;5;241m.\u001b[39mfunction_call_options\u001b[38;5;241m.\u001b[39mas_attrs(),\n\u001b[0;32m    261\u001b[0m     )\n",
      "File \u001b[1;32md:\\DS_6050\\project_env\\lib\\site-packages\\tensorflow\\python\\eager\\context.py:1486\u001b[0m, in \u001b[0;36mContext.call_function\u001b[1;34m(self, name, tensor_inputs, num_outputs)\u001b[0m\n\u001b[0;32m   1484\u001b[0m cancellation_context \u001b[38;5;241m=\u001b[39m cancellation\u001b[38;5;241m.\u001b[39mcontext()\n\u001b[0;32m   1485\u001b[0m \u001b[38;5;28;01mif\u001b[39;00m cancellation_context \u001b[38;5;129;01mis\u001b[39;00m \u001b[38;5;28;01mNone\u001b[39;00m:\n\u001b[1;32m-> 1486\u001b[0m   outputs \u001b[38;5;241m=\u001b[39m \u001b[43mexecute\u001b[49m\u001b[38;5;241;43m.\u001b[39;49m\u001b[43mexecute\u001b[49m\u001b[43m(\u001b[49m\n\u001b[0;32m   1487\u001b[0m \u001b[43m      \u001b[49m\u001b[43mname\u001b[49m\u001b[38;5;241;43m.\u001b[39;49m\u001b[43mdecode\u001b[49m\u001b[43m(\u001b[49m\u001b[38;5;124;43m\"\u001b[39;49m\u001b[38;5;124;43mutf-8\u001b[39;49m\u001b[38;5;124;43m\"\u001b[39;49m\u001b[43m)\u001b[49m\u001b[43m,\u001b[49m\n\u001b[0;32m   1488\u001b[0m \u001b[43m      \u001b[49m\u001b[43mnum_outputs\u001b[49m\u001b[38;5;241;43m=\u001b[39;49m\u001b[43mnum_outputs\u001b[49m\u001b[43m,\u001b[49m\n\u001b[0;32m   1489\u001b[0m \u001b[43m      \u001b[49m\u001b[43minputs\u001b[49m\u001b[38;5;241;43m=\u001b[39;49m\u001b[43mtensor_inputs\u001b[49m\u001b[43m,\u001b[49m\n\u001b[0;32m   1490\u001b[0m \u001b[43m      \u001b[49m\u001b[43mattrs\u001b[49m\u001b[38;5;241;43m=\u001b[39;49m\u001b[43mattrs\u001b[49m\u001b[43m,\u001b[49m\n\u001b[0;32m   1491\u001b[0m \u001b[43m      \u001b[49m\u001b[43mctx\u001b[49m\u001b[38;5;241;43m=\u001b[39;49m\u001b[38;5;28;43mself\u001b[39;49m\u001b[43m,\u001b[49m\n\u001b[0;32m   1492\u001b[0m \u001b[43m  \u001b[49m\u001b[43m)\u001b[49m\n\u001b[0;32m   1493\u001b[0m \u001b[38;5;28;01melse\u001b[39;00m:\n\u001b[0;32m   1494\u001b[0m   outputs \u001b[38;5;241m=\u001b[39m execute\u001b[38;5;241m.\u001b[39mexecute_with_cancellation(\n\u001b[0;32m   1495\u001b[0m       name\u001b[38;5;241m.\u001b[39mdecode(\u001b[38;5;124m\"\u001b[39m\u001b[38;5;124mutf-8\u001b[39m\u001b[38;5;124m\"\u001b[39m),\n\u001b[0;32m   1496\u001b[0m       num_outputs\u001b[38;5;241m=\u001b[39mnum_outputs,\n\u001b[1;32m   (...)\u001b[0m\n\u001b[0;32m   1500\u001b[0m       cancellation_manager\u001b[38;5;241m=\u001b[39mcancellation_context,\n\u001b[0;32m   1501\u001b[0m   )\n",
      "File \u001b[1;32md:\\DS_6050\\project_env\\lib\\site-packages\\tensorflow\\python\\eager\\execute.py:53\u001b[0m, in \u001b[0;36mquick_execute\u001b[1;34m(op_name, num_outputs, inputs, attrs, ctx, name)\u001b[0m\n\u001b[0;32m     51\u001b[0m \u001b[38;5;28;01mtry\u001b[39;00m:\n\u001b[0;32m     52\u001b[0m   ctx\u001b[38;5;241m.\u001b[39mensure_initialized()\n\u001b[1;32m---> 53\u001b[0m   tensors \u001b[38;5;241m=\u001b[39m \u001b[43mpywrap_tfe\u001b[49m\u001b[38;5;241;43m.\u001b[39;49m\u001b[43mTFE_Py_Execute\u001b[49m\u001b[43m(\u001b[49m\u001b[43mctx\u001b[49m\u001b[38;5;241;43m.\u001b[39;49m\u001b[43m_handle\u001b[49m\u001b[43m,\u001b[49m\u001b[43m \u001b[49m\u001b[43mdevice_name\u001b[49m\u001b[43m,\u001b[49m\u001b[43m \u001b[49m\u001b[43mop_name\u001b[49m\u001b[43m,\u001b[49m\n\u001b[0;32m     54\u001b[0m \u001b[43m                                      \u001b[49m\u001b[43minputs\u001b[49m\u001b[43m,\u001b[49m\u001b[43m \u001b[49m\u001b[43mattrs\u001b[49m\u001b[43m,\u001b[49m\u001b[43m \u001b[49m\u001b[43mnum_outputs\u001b[49m\u001b[43m)\u001b[49m\n\u001b[0;32m     55\u001b[0m \u001b[38;5;28;01mexcept\u001b[39;00m core\u001b[38;5;241m.\u001b[39m_NotOkStatusException \u001b[38;5;28;01mas\u001b[39;00m e:\n\u001b[0;32m     56\u001b[0m   \u001b[38;5;28;01mif\u001b[39;00m name \u001b[38;5;129;01mis\u001b[39;00m \u001b[38;5;129;01mnot\u001b[39;00m \u001b[38;5;28;01mNone\u001b[39;00m:\n",
      "\u001b[1;31mKeyboardInterrupt\u001b[0m: "
     ]
    }
   ],
   "source": [
    "np.random.seed(33)\n",
    "tf.random.set_seed(33)\n",
    "\n",
    "history = model_8.fit(x_train_scaled, y_train_resampled, \n",
    "                    validation_data=(x_val_scaled, y_val),\n",
    "                    epochs=10,\n",
    "                    batch_size=32)"
   ]
  },
  {
   "cell_type": "code",
   "execution_count": null,
   "metadata": {},
   "outputs": [],
   "source": [
    "m8_test_results = test_metrics(model_8, x_test_scaled, y_test)"
   ]
  },
  {
   "cell_type": "markdown",
   "metadata": {},
   "source": [
    "## Results ordering"
   ]
  },
  {
   "cell_type": "code",
   "execution_count": null,
   "metadata": {},
   "outputs": [],
   "source": [
    "all_results = {\n",
    "    'model_1': m1_test_results,\n",
    "    'model_2': m2_test_results,\n",
    "    'model_3': m3_test_results,\n",
    "    'model_4': m4_test_results,\n",
    "    'model_5': m5_test_results,\n",
    "    'model_6': m6_test_results,\n",
    "    'model_7': m7_test_results,\n",
    "    'model_8': m8_test_results,\n",
    "}"
   ]
  },
  {
   "cell_type": "code",
   "execution_count": null,
   "metadata": {},
   "outputs": [],
   "source": [
    "results_df = pd.DataFrame.from_dict(all_results, orient='index')\n",
    "sorted_df = results_df.sort_values(by='F1-Score', ascending=False)\n",
    "sorted_df"
   ]
  },
  {
   "cell_type": "markdown",
   "metadata": {},
   "source": [
    "## RNN Model\n",
    "First attempt with a simple architecture."
   ]
  },
  {
   "cell_type": "code",
   "execution_count": null,
   "metadata": {},
   "outputs": [],
   "source": [
    "x_train_reshaped = np.expand_dims(x_train_scaled, axis=1)\n",
    "x_val_reshaped = np.expand_dims(x_val_scaled, axis=1)\n",
    "x_test_reshaped = np.expand_dims(x_test_scaled, axis = 1)"
   ]
  },
  {
   "cell_type": "code",
   "execution_count": null,
   "metadata": {},
   "outputs": [],
   "source": [
    "x_train_scaled.shape"
   ]
  },
  {
   "cell_type": "code",
   "execution_count": null,
   "metadata": {},
   "outputs": [],
   "source": [
    "x_train_reshaped.shape"
   ]
  },
  {
   "cell_type": "code",
   "execution_count": null,
   "metadata": {},
   "outputs": [],
   "source": [
    "x_val_reshaped.shape"
   ]
  },
  {
   "cell_type": "code",
   "execution_count": null,
   "metadata": {},
   "outputs": [],
   "source": [
    "num_features = x_train_scaled.shape[1]\n",
    "\n",
    "model_r1 = tf.keras.Sequential([\n",
    "    tf.keras.layers.InputLayer(input_shape=(None, num_features)),\n",
    "    tf.keras.layers.LSTM(50, return_sequences=True),\n",
    "    tf.keras.layers.Dropout(0.5),\n",
    "    tf.keras.layers.LSTM(50),\n",
    "    tf.keras.layers.Dense(1, activation='sigmoid')\n",
    "])\n"
   ]
  },
  {
   "cell_type": "code",
   "execution_count": null,
   "metadata": {},
   "outputs": [],
   "source": [
    "model_r1.compile(\n",
    "    optimizer = 'adam',\n",
    "    loss='binary_crossentropy',\n",
    "    metrics=[tf.keras.metrics.BinaryAccuracy(), tf.keras.metrics.Recall(), tf.keras.metrics.Precision()]\n",
    ")"
   ]
  },
  {
   "cell_type": "code",
   "execution_count": null,
   "metadata": {},
   "outputs": [],
   "source": [
    "np.random.seed(33)\n",
    "tf.random.set_seed(33)\n",
    "\n",
    "history = model_r1.fit(x_train_reshaped, y_train_resampled, \n",
    "                    validation_data=(x_val_reshaped, y_val),\n",
    "                    epochs=10,\n",
    "                    batch_size=32)"
   ]
  },
  {
   "cell_type": "code",
   "execution_count": null,
   "metadata": {},
   "outputs": [],
   "source": [
    "test_metrics(model_r1, x_test_reshaped, y_test)"
   ]
  },
  {
   "cell_type": "markdown",
   "metadata": {},
   "source": [
    "## RNN Model 2  \n",
    "Adjusting class weights."
   ]
  },
  {
   "cell_type": "code",
   "execution_count": null,
   "metadata": {},
   "outputs": [],
   "source": [
    "num_features = x_train_scaled.shape[1]\n",
    "\n",
    "model_r2 = tf.keras.Sequential([\n",
    "    tf.keras.layers.InputLayer(input_shape=(None, num_features)),\n",
    "    tf.keras.layers.LSTM(50, return_sequences=True),\n",
    "    tf.keras.layers.Dropout(0.2),\n",
    "    tf.keras.layers.LSTM(50, return_sequences=True),\n",
    "    tf.keras.layers.GlobalAveragePooling1D(),\n",
    "    tf.keras.layers.Dense(64, activation='relu'), \n",
    "    tf.keras.layers.Dropout(0.2),\n",
    "    tf.keras.layers.Dense(1, activation='sigmoid')\n",
    "])\n"
   ]
  },
  {
   "cell_type": "code",
   "execution_count": null,
   "metadata": {},
   "outputs": [],
   "source": [
    "model_r2.compile(\n",
    "    optimizer = 'adam',\n",
    "    loss='binary_crossentropy',\n",
    "    metrics=[tf.keras.metrics.BinaryAccuracy(), tf.keras.metrics.Recall(), tf.keras.metrics.Precision()]\n",
    ")"
   ]
  },
  {
   "cell_type": "code",
   "execution_count": null,
   "metadata": {},
   "outputs": [],
   "source": [
    "np.random.seed(33)\n",
    "tf.random.set_seed(33)\n",
    "class_weights = {0: 1, 1: 10}\n",
    "\n",
    "history = model_r2.fit(x_train_reshaped, y_train_resampled, \n",
    "                    validation_data=(x_val_reshaped, y_val),\n",
    "                    epochs=3,\n",
    "                    batch_size=32\n",
    "                    )"
   ]
  },
  {
   "cell_type": "code",
   "execution_count": null,
   "metadata": {},
   "outputs": [],
   "source": [
    "test_metrics(model_r2, x_test_reshaped, y_test)"
   ]
  },
  {
   "cell_type": "code",
   "execution_count": null,
   "metadata": {},
   "outputs": [],
   "source": [
    "import numpy as np\n",
    "account_numbers = x_train_scaled[:, 0]\n",
    "\n",
    "# Get unique account numbers and their counts\n",
    "unique_accounts, counts = np.unique(account_numbers, return_counts=True)\n",
    "\n",
    "# Get indices of accounts with more than one transaction\n",
    "indices_more_than_one = np.where(counts > 1)[0]\n",
    "\n",
    "# Extract account numbers with more than one transaction\n",
    "accounts_with_more_than_one_transaction = unique_accounts[indices_more_than_one]\n",
    "\n",
    "# Print the accounts with more than one transaction and their corresponding transaction counts\n",
    "print(\"Accounts with more than one transaction:\")\n",
    "for account, count in zip(accounts_with_more_than_one_transaction, counts[indices_more_than_one]):\n",
    "    print(f\"Account {account} has {count} transactions.\")"
   ]
  }
 ],
 "metadata": {
  "kernelspec": {
   "display_name": "Python 3",
   "language": "python",
   "name": "python3"
  },
  "language_info": {
   "codemirror_mode": {
    "name": "ipython",
    "version": 3
   },
   "file_extension": ".py",
   "mimetype": "text/x-python",
   "name": "python",
   "nbconvert_exporter": "python",
   "pygments_lexer": "ipython3",
   "version": "3.9.13"
  }
 },
 "nbformat": 4,
 "nbformat_minor": 2
}
