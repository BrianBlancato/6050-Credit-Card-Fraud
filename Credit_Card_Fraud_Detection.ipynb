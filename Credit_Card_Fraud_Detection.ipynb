{
 "cells": [
  {
   "cell_type": "code",
   "execution_count": 1,
   "metadata": {},
   "outputs": [
    {
     "name": "stdout",
     "output_type": "stream",
     "text": [
      "WARNING:tensorflow:From d:\\DS_6050\\project_env\\lib\\site-packages\\keras\\src\\losses.py:2976: The name tf.losses.sparse_softmax_cross_entropy is deprecated. Please use tf.compat.v1.losses.sparse_softmax_cross_entropy instead.\n",
      "\n"
     ]
    }
   ],
   "source": [
    "import pandas as pd\n",
    "import numpy as np\n",
    "import matplotlib.pyplot as plt\n",
    "import tensorflow as tf\n",
    "\n",
    "%matplotlib inline"
   ]
  },
  {
   "cell_type": "code",
   "execution_count": 2,
   "metadata": {},
   "outputs": [
    {
     "data": {
      "text/html": [
       "<div>\n",
       "<style scoped>\n",
       "    .dataframe tbody tr th:only-of-type {\n",
       "        vertical-align: middle;\n",
       "    }\n",
       "\n",
       "    .dataframe tbody tr th {\n",
       "        vertical-align: top;\n",
       "    }\n",
       "\n",
       "    .dataframe thead th {\n",
       "        text-align: right;\n",
       "    }\n",
       "</style>\n",
       "<table border=\"1\" class=\"dataframe\">\n",
       "  <thead>\n",
       "    <tr style=\"text-align: right;\">\n",
       "      <th></th>\n",
       "      <th>accountNumber</th>\n",
       "      <th>customerId</th>\n",
       "      <th>creditLimit</th>\n",
       "      <th>availableMoney</th>\n",
       "      <th>transactionDateTime</th>\n",
       "      <th>transactionAmount</th>\n",
       "      <th>merchantName</th>\n",
       "      <th>acqCountry</th>\n",
       "      <th>merchantCountryCode</th>\n",
       "      <th>posEntryMode</th>\n",
       "      <th>...</th>\n",
       "      <th>echoBuffer</th>\n",
       "      <th>currentBalance</th>\n",
       "      <th>merchantCity</th>\n",
       "      <th>merchantState</th>\n",
       "      <th>merchantZip</th>\n",
       "      <th>cardPresent</th>\n",
       "      <th>posOnPremises</th>\n",
       "      <th>recurringAuthInd</th>\n",
       "      <th>expirationDateKeyInMatch</th>\n",
       "      <th>isFraud</th>\n",
       "    </tr>\n",
       "  </thead>\n",
       "  <tbody>\n",
       "    <tr>\n",
       "      <th>0</th>\n",
       "      <td>737265056</td>\n",
       "      <td>737265056</td>\n",
       "      <td>5000</td>\n",
       "      <td>5000.0</td>\n",
       "      <td>2016-08-13T14:27:32</td>\n",
       "      <td>98.55</td>\n",
       "      <td>Uber</td>\n",
       "      <td>US</td>\n",
       "      <td>US</td>\n",
       "      <td>02</td>\n",
       "      <td>...</td>\n",
       "      <td></td>\n",
       "      <td>0.0</td>\n",
       "      <td></td>\n",
       "      <td></td>\n",
       "      <td></td>\n",
       "      <td>False</td>\n",
       "      <td></td>\n",
       "      <td></td>\n",
       "      <td>False</td>\n",
       "      <td>False</td>\n",
       "    </tr>\n",
       "    <tr>\n",
       "      <th>1</th>\n",
       "      <td>737265056</td>\n",
       "      <td>737265056</td>\n",
       "      <td>5000</td>\n",
       "      <td>5000.0</td>\n",
       "      <td>2016-10-11T05:05:54</td>\n",
       "      <td>74.51</td>\n",
       "      <td>AMC #191138</td>\n",
       "      <td>US</td>\n",
       "      <td>US</td>\n",
       "      <td>09</td>\n",
       "      <td>...</td>\n",
       "      <td></td>\n",
       "      <td>0.0</td>\n",
       "      <td></td>\n",
       "      <td></td>\n",
       "      <td></td>\n",
       "      <td>True</td>\n",
       "      <td></td>\n",
       "      <td></td>\n",
       "      <td>False</td>\n",
       "      <td>False</td>\n",
       "    </tr>\n",
       "    <tr>\n",
       "      <th>2</th>\n",
       "      <td>737265056</td>\n",
       "      <td>737265056</td>\n",
       "      <td>5000</td>\n",
       "      <td>5000.0</td>\n",
       "      <td>2016-11-08T09:18:39</td>\n",
       "      <td>7.47</td>\n",
       "      <td>Play Store</td>\n",
       "      <td>US</td>\n",
       "      <td>US</td>\n",
       "      <td>09</td>\n",
       "      <td>...</td>\n",
       "      <td></td>\n",
       "      <td>0.0</td>\n",
       "      <td></td>\n",
       "      <td></td>\n",
       "      <td></td>\n",
       "      <td>False</td>\n",
       "      <td></td>\n",
       "      <td></td>\n",
       "      <td>False</td>\n",
       "      <td>False</td>\n",
       "    </tr>\n",
       "    <tr>\n",
       "      <th>3</th>\n",
       "      <td>737265056</td>\n",
       "      <td>737265056</td>\n",
       "      <td>5000</td>\n",
       "      <td>5000.0</td>\n",
       "      <td>2016-12-10T02:14:50</td>\n",
       "      <td>7.47</td>\n",
       "      <td>Play Store</td>\n",
       "      <td>US</td>\n",
       "      <td>US</td>\n",
       "      <td>09</td>\n",
       "      <td>...</td>\n",
       "      <td></td>\n",
       "      <td>0.0</td>\n",
       "      <td></td>\n",
       "      <td></td>\n",
       "      <td></td>\n",
       "      <td>False</td>\n",
       "      <td></td>\n",
       "      <td></td>\n",
       "      <td>False</td>\n",
       "      <td>False</td>\n",
       "    </tr>\n",
       "    <tr>\n",
       "      <th>4</th>\n",
       "      <td>830329091</td>\n",
       "      <td>830329091</td>\n",
       "      <td>5000</td>\n",
       "      <td>5000.0</td>\n",
       "      <td>2016-03-24T21:04:46</td>\n",
       "      <td>71.18</td>\n",
       "      <td>Tim Hortons #947751</td>\n",
       "      <td>US</td>\n",
       "      <td>US</td>\n",
       "      <td>02</td>\n",
       "      <td>...</td>\n",
       "      <td></td>\n",
       "      <td>0.0</td>\n",
       "      <td></td>\n",
       "      <td></td>\n",
       "      <td></td>\n",
       "      <td>True</td>\n",
       "      <td></td>\n",
       "      <td></td>\n",
       "      <td>False</td>\n",
       "      <td>False</td>\n",
       "    </tr>\n",
       "  </tbody>\n",
       "</table>\n",
       "<p>5 rows × 29 columns</p>\n",
       "</div>"
      ],
      "text/plain": [
       "   accountNumber  customerId  creditLimit  availableMoney  \\\n",
       "0      737265056   737265056         5000          5000.0   \n",
       "1      737265056   737265056         5000          5000.0   \n",
       "2      737265056   737265056         5000          5000.0   \n",
       "3      737265056   737265056         5000          5000.0   \n",
       "4      830329091   830329091         5000          5000.0   \n",
       "\n",
       "   transactionDateTime  transactionAmount         merchantName acqCountry  \\\n",
       "0  2016-08-13T14:27:32              98.55                 Uber         US   \n",
       "1  2016-10-11T05:05:54              74.51          AMC #191138         US   \n",
       "2  2016-11-08T09:18:39               7.47           Play Store         US   \n",
       "3  2016-12-10T02:14:50               7.47           Play Store         US   \n",
       "4  2016-03-24T21:04:46              71.18  Tim Hortons #947751         US   \n",
       "\n",
       "  merchantCountryCode posEntryMode  ... echoBuffer currentBalance  \\\n",
       "0                  US           02  ...                       0.0   \n",
       "1                  US           09  ...                       0.0   \n",
       "2                  US           09  ...                       0.0   \n",
       "3                  US           09  ...                       0.0   \n",
       "4                  US           02  ...                       0.0   \n",
       "\n",
       "  merchantCity merchantState merchantZip  cardPresent  posOnPremises  \\\n",
       "0                                               False                  \n",
       "1                                                True                  \n",
       "2                                               False                  \n",
       "3                                               False                  \n",
       "4                                                True                  \n",
       "\n",
       "   recurringAuthInd expirationDateKeyInMatch isFraud  \n",
       "0                                      False   False  \n",
       "1                                      False   False  \n",
       "2                                      False   False  \n",
       "3                                      False   False  \n",
       "4                                      False   False  \n",
       "\n",
       "[5 rows x 29 columns]"
      ]
     },
     "execution_count": 2,
     "metadata": {},
     "output_type": "execute_result"
    }
   ],
   "source": [
    "df = pd.read_json('transactions.txt', lines=True)\n",
    "\n",
    "df.head()"
   ]
  },
  {
   "cell_type": "markdown",
   "metadata": {},
   "source": [
    "## Data Cleaning"
   ]
  },
  {
   "cell_type": "code",
   "execution_count": 3,
   "metadata": {},
   "outputs": [
    {
     "name": "stderr",
     "output_type": "stream",
     "text": [
      "C:\\Users\\brian\\AppData\\Local\\Temp\\ipykernel_34736\\2814523631.py:3: FutureWarning: Downcasting behavior in `replace` is deprecated and will be removed in a future version. To retain the old behavior, explicitly call `result.infer_objects(copy=False)`. To opt-in to the future behavior, set `pd.set_option('future.no_silent_downcasting', True)`\n",
      "  df = df.replace('', np.nan)\n"
     ]
    }
   ],
   "source": [
    "# Replacing white space with nan\n",
    "\n",
    "df = df.replace('', np.nan)"
   ]
  },
  {
   "cell_type": "code",
   "execution_count": 4,
   "metadata": {},
   "outputs": [
    {
     "name": "stdout",
     "output_type": "stream",
     "text": [
      "Empty columns that were removed:\n",
      "['echoBuffer', 'merchantCity', 'merchantState', 'merchantZip', 'posOnPremises', 'recurringAuthInd']\n"
     ]
    }
   ],
   "source": [
    "# Checking which columns are empty and removing\n",
    "\n",
    "nan_col = df.columns[df.isna().all()].tolist()\n",
    "df.drop(columns=nan_col, inplace=True)\n",
    "\n",
    "print(\"Empty columns that were removed:\")\n",
    "print(nan_col)"
   ]
  },
  {
   "cell_type": "code",
   "execution_count": 5,
   "metadata": {},
   "outputs": [
    {
     "data": {
      "text/plain": [
       "True"
      ]
     },
     "execution_count": 5,
     "metadata": {},
     "output_type": "execute_result"
    }
   ],
   "source": [
    "# Account Number and Customer Id columns appear to be equal\n",
    "\n",
    "df['accountNumber'].equals(df['customerId'])"
   ]
  },
  {
   "cell_type": "code",
   "execution_count": 6,
   "metadata": {},
   "outputs": [],
   "source": [
    "# Removing customerId as it is a duplicate of accountNumber\n",
    "\n",
    "df.drop(columns=['customerId'], inplace=True)"
   ]
  },
  {
   "cell_type": "code",
   "execution_count": 7,
   "metadata": {},
   "outputs": [],
   "source": [
    "# Dropping merchantName as merchantCategory will be used\n",
    "df.drop(columns=['merchantName'], inplace=True)"
   ]
  },
  {
   "cell_type": "code",
   "execution_count": 8,
   "metadata": {},
   "outputs": [],
   "source": [
    "# Need to remove remaining unneeded columns\n",
    "#df.drop(columns=['cardCVV'], inplace=True)\n",
    "#df.drop(columns=['enteredCVV'], inplace=True)\n",
    "df.drop(columns=['cardLast4Digits'], inplace=True)"
   ]
  },
  {
   "cell_type": "code",
   "execution_count": 9,
   "metadata": {},
   "outputs": [],
   "source": [
    "# Filling NaN with purchase to keep data\n",
    "\n",
    "df['transactionType'] = df['transactionType'].fillna('PURCHASE')"
   ]
  },
  {
   "cell_type": "code",
   "execution_count": 10,
   "metadata": {},
   "outputs": [
    {
     "data": {
      "text/plain": [
       "9003"
      ]
     },
     "execution_count": 10,
     "metadata": {},
     "output_type": "execute_result"
    }
   ],
   "source": [
    "# Total amount of rows with NaN values\n",
    "df.isnull().any(axis=1).sum()"
   ]
  },
  {
   "cell_type": "code",
   "execution_count": 11,
   "metadata": {},
   "outputs": [],
   "source": [
    "# Dropping all rows with NaN value\n",
    "df = df.dropna()"
   ]
  },
  {
   "cell_type": "code",
   "execution_count": 12,
   "metadata": {},
   "outputs": [],
   "source": [
    "pd.pandas.set_option('display.max_columns', None)"
   ]
  },
  {
   "cell_type": "code",
   "execution_count": 13,
   "metadata": {},
   "outputs": [],
   "source": [
    "# Changing transactionDatetime. All transactions occurred in 2016, year is unneeded.\n",
    "\n",
    "df['transactionDateTime'] = pd.to_datetime(df['transactionDateTime'])\n",
    "df['Month'] = df['transactionDateTime'].dt.month\n",
    "df['day'] = df['transactionDateTime'].dt.day\n",
    "df['hour'] = df['transactionDateTime'].dt.hour\n",
    "df['minute'] = df['transactionDateTime'].dt.minute\n",
    "\n",
    "# Cyclic encoding for hour and minute\n",
    "df['hourSin'] = np.sin(2 * np.pi * df['hour'] / 24)\n",
    "df['hourCos'] = np.cos(2 * np.pi * df['hour'] / 24)\n",
    "df['minuteSin'] = np.sin(2 * np.pi * df['minute'] / 24)\n",
    "df['minuteCos'] = np.cos(2 * np.pi * df['minute'] / 24)\n",
    "\n",
    "# Do not need columns\n",
    "df.drop(columns=['transactionDateTime'], inplace=True)\n",
    "df.drop(columns=['hour'], inplace=True)\n",
    "df.drop(columns=['minute'], inplace=True)"
   ]
  },
  {
   "cell_type": "code",
   "execution_count": 14,
   "metadata": {},
   "outputs": [
    {
     "name": "stderr",
     "output_type": "stream",
     "text": [
      "C:\\Users\\brian\\AppData\\Local\\Temp\\ipykernel_34736\\3371426977.py:3: UserWarning: Could not infer format, so each element will be parsed individually, falling back to `dateutil`. To ensure parsing is consistent and as-expected, please specify a format.\n",
      "  df['expYear'] = pd.to_datetime(df['currentExpDate']).dt.year\n",
      "C:\\Users\\brian\\AppData\\Local\\Temp\\ipykernel_34736\\3371426977.py:4: UserWarning: Could not infer format, so each element will be parsed individually, falling back to `dateutil`. To ensure parsing is consistent and as-expected, please specify a format.\n",
      "  df['expMonth'] = pd.to_datetime(df['currentExpDate']).dt.month\n"
     ]
    }
   ],
   "source": [
    "# Reformatting other date columns\n",
    "\n",
    "df['expYear'] = pd.to_datetime(df['currentExpDate']).dt.year\n",
    "df['expMonth'] = pd.to_datetime(df['currentExpDate']).dt.month\n",
    "\n",
    "df['accountOpenYear'] = pd.to_datetime(df['accountOpenDate']).dt.year\n",
    "df['accountOpenMonth'] = pd.to_datetime(df['accountOpenDate']).dt.month\n",
    "df['accountOpenDay'] = pd.to_datetime(df['accountOpenDate']).dt.day\n",
    "\n",
    "df['lastAddressChangeYear'] = pd.to_datetime(df['dateOfLastAddressChange']).dt.year\n",
    "df['lastAddressChangeMonth'] = pd.to_datetime(df['dateOfLastAddressChange']).dt.month\n",
    "df['lastAddressChangeDay'] = pd.to_datetime(df['dateOfLastAddressChange']).dt.day\n",
    "\n",
    "# removing unneeded columns\n",
    "df.drop(columns=['currentExpDate'], inplace=True)\n",
    "df.drop(columns=['accountOpenDate'], inplace=True)\n",
    "df.drop(columns=['dateOfLastAddressChange'], inplace=True)"
   ]
  },
  {
   "cell_type": "markdown",
   "metadata": {},
   "source": [
    "## Encoding"
   ]
  },
  {
   "cell_type": "code",
   "execution_count": 15,
   "metadata": {},
   "outputs": [],
   "source": [
    "# Categorical columns that need to be endocded\n",
    "\n",
    "columns_to_encode = ['acqCountry', 'merchantCountryCode', 'posEntryMode', 'posConditionCode', 'transactionType', 'merchantCategoryCode']\n",
    "df = pd.get_dummies(df, columns=columns_to_encode, prefix=columns_to_encode)\n",
    "\n",
    "# Convert boolean columns to integers\n",
    "df['cardPresent'] = df['cardPresent'].astype(int)\n",
    "df['expirationDateKeyInMatch'] = df['expirationDateKeyInMatch'].astype(int)"
   ]
  },
  {
   "cell_type": "code",
   "execution_count": 16,
   "metadata": {},
   "outputs": [
    {
     "name": "stdout",
     "output_type": "stream",
     "text": [
      "<class 'pandas.core.frame.DataFrame'>\n",
      "Index: 777360 entries, 0 to 786362\n",
      "Data columns (total 62 columns):\n",
      " #   Column                                     Non-Null Count   Dtype  \n",
      "---  ------                                     --------------   -----  \n",
      " 0   accountNumber                              777360 non-null  int64  \n",
      " 1   creditLimit                                777360 non-null  int64  \n",
      " 2   availableMoney                             777360 non-null  float64\n",
      " 3   transactionAmount                          777360 non-null  float64\n",
      " 4   cardCVV                                    777360 non-null  int64  \n",
      " 5   enteredCVV                                 777360 non-null  int64  \n",
      " 6   currentBalance                             777360 non-null  float64\n",
      " 7   cardPresent                                777360 non-null  int32  \n",
      " 8   expirationDateKeyInMatch                   777360 non-null  int32  \n",
      " 9   isFraud                                    777360 non-null  bool   \n",
      " 10  Month                                      777360 non-null  int32  \n",
      " 11  day                                        777360 non-null  int32  \n",
      " 12  hourSin                                    777360 non-null  float64\n",
      " 13  hourCos                                    777360 non-null  float64\n",
      " 14  minuteSin                                  777360 non-null  float64\n",
      " 15  minuteCos                                  777360 non-null  float64\n",
      " 16  expYear                                    777360 non-null  int32  \n",
      " 17  expMonth                                   777360 non-null  int32  \n",
      " 18  accountOpenYear                            777360 non-null  int32  \n",
      " 19  accountOpenMonth                           777360 non-null  int32  \n",
      " 20  accountOpenDay                             777360 non-null  int32  \n",
      " 21  lastAddressChangeYear                      777360 non-null  int32  \n",
      " 22  lastAddressChangeMonth                     777360 non-null  int32  \n",
      " 23  lastAddressChangeDay                       777360 non-null  int32  \n",
      " 24  acqCountry_CAN                             777360 non-null  bool   \n",
      " 25  acqCountry_MEX                             777360 non-null  bool   \n",
      " 26  acqCountry_PR                              777360 non-null  bool   \n",
      " 27  acqCountry_US                              777360 non-null  bool   \n",
      " 28  merchantCountryCode_CAN                    777360 non-null  bool   \n",
      " 29  merchantCountryCode_MEX                    777360 non-null  bool   \n",
      " 30  merchantCountryCode_PR                     777360 non-null  bool   \n",
      " 31  merchantCountryCode_US                     777360 non-null  bool   \n",
      " 32  posEntryMode_02                            777360 non-null  bool   \n",
      " 33  posEntryMode_05                            777360 non-null  bool   \n",
      " 34  posEntryMode_09                            777360 non-null  bool   \n",
      " 35  posEntryMode_80                            777360 non-null  bool   \n",
      " 36  posEntryMode_90                            777360 non-null  bool   \n",
      " 37  posConditionCode_01                        777360 non-null  bool   \n",
      " 38  posConditionCode_08                        777360 non-null  bool   \n",
      " 39  posConditionCode_99                        777360 non-null  bool   \n",
      " 40  transactionType_ADDRESS_VERIFICATION       777360 non-null  bool   \n",
      " 41  transactionType_PURCHASE                   777360 non-null  bool   \n",
      " 42  transactionType_REVERSAL                   777360 non-null  bool   \n",
      " 43  merchantCategoryCode_airline               777360 non-null  bool   \n",
      " 44  merchantCategoryCode_auto                  777360 non-null  bool   \n",
      " 45  merchantCategoryCode_cable/phone           777360 non-null  bool   \n",
      " 46  merchantCategoryCode_entertainment         777360 non-null  bool   \n",
      " 47  merchantCategoryCode_fastfood              777360 non-null  bool   \n",
      " 48  merchantCategoryCode_food                  777360 non-null  bool   \n",
      " 49  merchantCategoryCode_food_delivery         777360 non-null  bool   \n",
      " 50  merchantCategoryCode_fuel                  777360 non-null  bool   \n",
      " 51  merchantCategoryCode_furniture             777360 non-null  bool   \n",
      " 52  merchantCategoryCode_gym                   777360 non-null  bool   \n",
      " 53  merchantCategoryCode_health                777360 non-null  bool   \n",
      " 54  merchantCategoryCode_hotels                777360 non-null  bool   \n",
      " 55  merchantCategoryCode_mobileapps            777360 non-null  bool   \n",
      " 56  merchantCategoryCode_online_gifts          777360 non-null  bool   \n",
      " 57  merchantCategoryCode_online_retail         777360 non-null  bool   \n",
      " 58  merchantCategoryCode_online_subscriptions  777360 non-null  bool   \n",
      " 59  merchantCategoryCode_personal care         777360 non-null  bool   \n",
      " 60  merchantCategoryCode_rideshare             777360 non-null  bool   \n",
      " 61  merchantCategoryCode_subscriptions         777360 non-null  bool   \n",
      "dtypes: bool(39), float64(7), int32(12), int64(4)\n",
      "memory usage: 135.7 MB\n"
     ]
    }
   ],
   "source": [
    "df.info()"
   ]
  },
  {
   "cell_type": "code",
   "execution_count": 17,
   "metadata": {},
   "outputs": [],
   "source": [
    "# Breaking apart features and labels\n",
    "\n",
    "features = df.iloc[:, :-1]\n",
    "labels = df['isFraud']"
   ]
  },
  {
   "cell_type": "markdown",
   "metadata": {},
   "source": [
    "## Splitting dataset into train, test and val"
   ]
  },
  {
   "cell_type": "code",
   "execution_count": 18,
   "metadata": {},
   "outputs": [],
   "source": [
    "from sklearn.model_selection import train_test_split\n",
    "from imblearn.over_sampling import SMOTE\n",
    "\n",
    "np.random.seed(33)\n",
    "tf.random.set_seed(33)\n",
    "\n",
    "X = df.drop('isFraud', axis = 1)\n",
    "Y = df['isFraud']\n",
    "\n",
    "x_train, x_temp, y_train, y_temp = train_test_split(X, Y, test_size=0.3, random_state=33, stratify=Y)\n",
    "x_val, x_test, y_val, y_test = train_test_split(x_temp, y_temp, test_size=0.5, random_state=33, stratify=y_temp)\n"
   ]
  },
  {
   "cell_type": "code",
   "execution_count": 19,
   "metadata": {},
   "outputs": [],
   "source": [
    "np.random.seed(33)\n",
    "tf.random.set_seed(33)\n",
    "\n",
    "#standardize/normalize numerical features\n",
    "from sklearn.preprocessing import StandardScaler\n",
    "from sklearn.compose import ColumnTransformer\n",
    "\n",
    "numerical_features = features.select_dtypes(include=['float64', 'int64'])\n",
    "numerical_columns = numerical_features.columns\n",
    "ct = ColumnTransformer([(\"only numeric\", StandardScaler(), numerical_columns)], remainder='passthrough')\n",
    "\n",
    "x_train_scaled = ct.fit_transform(x_train)\n",
    "x_train_scaled = x_train_scaled.astype('float32')\n",
    "x_test_scaled = ct.transform(x_test)\n",
    "x_test_scaled = x_test_scaled.astype('float32')\n",
    "x_val_scaled = ct.transform(x_val)\n",
    "x_val_scaled = x_val_scaled.astype('float32')"
   ]
  },
  {
   "cell_type": "markdown",
   "metadata": {},
   "source": [
    "## Testing Function"
   ]
  },
  {
   "cell_type": "code",
   "execution_count": 20,
   "metadata": {},
   "outputs": [],
   "source": [
    "# Function to test the model threshold to procude the best f1 score and produce results\n",
    "from sklearn.metrics import accuracy_score, precision_score, recall_score, f1_score, roc_curve, roc_auc_score, confusion_matrix, ConfusionMatrixDisplay\n",
    "\n",
    "def test_metrics(model, x_test, y_test):\n",
    "    y_pred = model.predict(x_test)\n",
    "\n",
    "    # Find the best threshold for F1 score\n",
    "    thresholds = np.linspace(0, 1, 1001)\n",
    "    f1_scores = []\n",
    "    for thresh in thresholds:\n",
    "        y_pred_binary = (y_pred >= thresh).astype(int)\n",
    "        f1 = f1_score(y_test, y_pred_binary)\n",
    "        f1_scores.append(f1)\n",
    "    \n",
    "    # Get the best threshold\n",
    "    max_f1_index = np.argmax(f1_scores) \n",
    "    best_threshold = thresholds[max_f1_index]\n",
    "    best_f1 = f1_scores[max_f1_index]\n",
    "\n",
    "    # Use the best threshold to get final predictions\n",
    "    y_pred_binary = (y_pred >= best_threshold).astype(int)\n",
    "    accuracy = accuracy_score(y_test, y_pred_binary)\n",
    "    precision = precision_score(y_test, y_pred_binary)\n",
    "    recall = recall_score(y_test, y_pred_binary)\n",
    "    auc = roc_auc_score(y_test, y_pred)\n",
    "    cm = confusion_matrix(y_test, y_pred_binary)\n",
    "\n",
    "    # Print metrics\n",
    "    print(f\"Best Threshold: {best_threshold}\")\n",
    "    print(f\"Accuracy: {accuracy}\")\n",
    "    print(f\"Precision: {precision}\")\n",
    "    print(f\"Recall: {recall}\")\n",
    "    print(f\"F1-Score: {best_f1}\")\n",
    "    print(f\"AUC: {auc}\")\n",
    "    print(\"Confusion Matrix:\")\n",
    "    print(cm)\n",
    "    ConfusionMatrixDisplay.from_predictions(y_test, y_pred_binary)\n",
    "\n",
    "    metrics = {\n",
    "        'Best Threshold': best_threshold,\n",
    "        'Accuracy': accuracy,\n",
    "        'Precision': precision,\n",
    "        'Recall': recall,\n",
    "        'F1-Score': best_f1,\n",
    "        'AUC': auc,\n",
    "        'Confusion Matrix': cm\n",
    "    }\n",
    "    return metrics\n",
    "    "
   ]
  },
  {
   "cell_type": "markdown",
   "metadata": {},
   "source": [
    "## Model Creation  \n",
    "## Neural Network"
   ]
  },
  {
   "cell_type": "code",
   "execution_count": 21,
   "metadata": {},
   "outputs": [
    {
     "name": "stdout",
     "output_type": "stream",
     "text": [
      "WARNING:tensorflow:From d:\\DS_6050\\project_env\\lib\\site-packages\\keras\\src\\backend.py:873: The name tf.get_default_graph is deprecated. Please use tf.compat.v1.get_default_graph instead.\n",
      "\n"
     ]
    }
   ],
   "source": [
    "import tensorflow as tf\n",
    "from tensorflow.keras.models import Sequential\n",
    "from tensorflow.keras.layers import Dense\n",
    "\n",
    "\n",
    "model_1 = Sequential([\n",
    "    tf.keras.layers.Dense(64, activation='relu', input_shape=(x_train_scaled.shape[1],)),\n",
    "    tf.keras.layers.Dense(32, activation='relu'),\n",
    "    tf.keras.layers.Dense(1, activation='sigmoid')\n",
    "])"
   ]
  },
  {
   "cell_type": "code",
   "execution_count": 22,
   "metadata": {},
   "outputs": [
    {
     "name": "stdout",
     "output_type": "stream",
     "text": [
      "WARNING:tensorflow:From d:\\DS_6050\\project_env\\lib\\site-packages\\keras\\src\\optimizers\\__init__.py:309: The name tf.train.Optimizer is deprecated. Please use tf.compat.v1.train.Optimizer instead.\n",
      "\n"
     ]
    }
   ],
   "source": [
    "model_1.compile(\n",
    "    optimizer = 'adam',\n",
    "    loss='binary_crossentropy',\n",
    "    metrics=[tf.keras.metrics.BinaryAccuracy(), tf.keras.metrics.Recall()]\n",
    ")"
   ]
  },
  {
   "cell_type": "code",
   "execution_count": 23,
   "metadata": {},
   "outputs": [
    {
     "name": "stdout",
     "output_type": "stream",
     "text": [
      "Epoch 1/10\n",
      "WARNING:tensorflow:From d:\\DS_6050\\project_env\\lib\\site-packages\\keras\\src\\utils\\tf_utils.py:492: The name tf.ragged.RaggedTensorValue is deprecated. Please use tf.compat.v1.ragged.RaggedTensorValue instead.\n",
      "\n",
      "17005/17005 [==============================] - 19s 1ms/step - loss: 0.3465 - binary_accuracy: 0.9814 - recall: 0.0051 - val_loss: 0.0878 - val_binary_accuracy: 0.9846 - val_recall: 0.0000e+00\n",
      "Epoch 2/10\n",
      "17005/17005 [==============================] - 18s 1ms/step - loss: 0.0788 - binary_accuracy: 0.9846 - recall: 0.0000e+00 - val_loss: 0.0748 - val_binary_accuracy: 0.9846 - val_recall: 0.0000e+00\n",
      "Epoch 3/10\n",
      "17005/17005 [==============================] - 20s 1ms/step - loss: 0.0769 - binary_accuracy: 0.9846 - recall: 0.0000e+00 - val_loss: 0.0749 - val_binary_accuracy: 0.9846 - val_recall: 0.0000e+00\n",
      "Epoch 4/10\n",
      "17005/17005 [==============================] - 18s 1ms/step - loss: 0.0761 - binary_accuracy: 0.9846 - recall: 0.0000e+00 - val_loss: 0.0748 - val_binary_accuracy: 0.9846 - val_recall: 0.0000e+00\n",
      "Epoch 5/10\n",
      "17005/17005 [==============================] - 18s 1ms/step - loss: 0.0759 - binary_accuracy: 0.9846 - recall: 0.0000e+00 - val_loss: 0.0758 - val_binary_accuracy: 0.9846 - val_recall: 0.0000e+00\n",
      "Epoch 6/10\n",
      "17005/17005 [==============================] - 18s 1ms/step - loss: 0.0756 - binary_accuracy: 0.9846 - recall: 0.0000e+00 - val_loss: 0.0741 - val_binary_accuracy: 0.9846 - val_recall: 0.0000e+00\n",
      "Epoch 7/10\n",
      "17005/17005 [==============================] - 17s 1ms/step - loss: 0.0753 - binary_accuracy: 0.9846 - recall: 0.0000e+00 - val_loss: 0.0764 - val_binary_accuracy: 0.9846 - val_recall: 0.0000e+00\n",
      "Epoch 8/10\n",
      "17005/17005 [==============================] - 17s 1ms/step - loss: 0.0751 - binary_accuracy: 0.9846 - recall: 0.0000e+00 - val_loss: 0.0761 - val_binary_accuracy: 0.9846 - val_recall: 0.0000e+00\n",
      "Epoch 9/10\n",
      "17005/17005 [==============================] - 18s 1ms/step - loss: 0.0749 - binary_accuracy: 0.9846 - recall: 0.0000e+00 - val_loss: 0.0761 - val_binary_accuracy: 0.9846 - val_recall: 0.0000e+00\n",
      "Epoch 10/10\n",
      "17005/17005 [==============================] - 18s 1ms/step - loss: 0.0750 - binary_accuracy: 0.9846 - recall: 0.0000e+00 - val_loss: 0.0741 - val_binary_accuracy: 0.9846 - val_recall: 0.0000e+00\n"
     ]
    }
   ],
   "source": [
    "\n",
    "history = model_1.fit(x_train_scaled, y_train, \n",
    "                    validation_data=(x_val_scaled, y_val),\n",
    "                    epochs=10,\n",
    "                    batch_size=32)"
   ]
  },
  {
   "cell_type": "code",
   "execution_count": 24,
   "metadata": {},
   "outputs": [
    {
     "name": "stdout",
     "output_type": "stream",
     "text": [
      "3644/3644 [==============================] - 2s 594us/step\n",
      "Best Threshold: 0.054\n",
      "Accuracy: 0.9514253370381806\n",
      "Precision: 0.07157101706182141\n",
      "Recall: 0.17974401780745689\n",
      "F1-Score: 0.10237717908082408\n",
      "AUC: 0.7450086140307604\n",
      "Confusion Matrix:\n",
      "[[110617   4190]\n",
      " [  1474    323]]\n"
     ]
    },
    {
     "data": {
      "image/png": "[encoded data removed]",
      "text/plain": [
       "<Figure size 640x480 with 2 Axes>"
      ]
     },
     "metadata": {},
     "output_type": "display_data"
    }
   ],
   "source": [
    "m1_test_results = test_metrics(model_1, x_test_scaled, y_test)"
   ]
  },
  {
   "cell_type": "markdown",
   "metadata": {},
   "source": [
    "## Model Creation with SMOTE"
   ]
  },
  {
   "cell_type": "code",
   "execution_count": 25,
   "metadata": {},
   "outputs": [],
   "source": [
    "np.random.seed(33)\n",
    "tf.random.set_seed(33)\n",
    "# Applying SMOTE to address the class imbalance\n",
    "smote = SMOTE(sampling_strategy='auto', random_state=33)\n",
    "x_train_resampled, y_train_resampled = smote.fit_resample(x_train, y_train)"
   ]
  },
  {
   "cell_type": "code",
   "execution_count": 26,
   "metadata": {},
   "outputs": [],
   "source": [
    "np.random.seed(33)\n",
    "tf.random.set_seed(33)\n",
    "\n",
    "#standardize/normalize numerical features\n",
    "\n",
    "numerical_features = features.select_dtypes(include=['float64', 'int64'])\n",
    "numerical_columns = numerical_features.columns \n",
    "ct = ColumnTransformer([(\"only numeric\", StandardScaler(), numerical_columns)], remainder='passthrough')\n",
    "\n",
    "x_train_scaled = ct.fit_transform(x_train_resampled)\n",
    "x_train_scaled = x_train_scaled.astype('float32')\n",
    "x_test_scaled = ct.transform(x_test)\n",
    "x_test_scaled = x_test_scaled.astype('float32')\n",
    "x_val_scaled = ct.transform(x_val)\n",
    "x_val_scaled = x_val_scaled.astype('float32')"
   ]
  },
  {
   "cell_type": "code",
   "execution_count": 27,
   "metadata": {},
   "outputs": [],
   "source": [
    "np.random.seed(33)\n",
    "tf.random.set_seed(33)\n",
    "\n",
    "model_2 = Sequential([\n",
    "    Dense(64, activation='relu', input_shape=(x_train_scaled.shape[1],)),\n",
    "    Dense(32, activation='relu'),\n",
    "    Dense(1, activation='sigmoid')\n",
    "])"
   ]
  },
  {
   "cell_type": "code",
   "execution_count": 28,
   "metadata": {},
   "outputs": [],
   "source": [
    "model_2.compile(\n",
    "    optimizer = 'adam',\n",
    "    loss='binary_crossentropy',\n",
    "    metrics=[tf.keras.metrics.BinaryAccuracy(), tf.keras.metrics.Recall()]\n",
    ")"
   ]
  },
  {
   "cell_type": "code",
   "execution_count": 29,
   "metadata": {},
   "outputs": [
    {
     "name": "stdout",
     "output_type": "stream",
     "text": [
      "Epoch 1/10\n",
      "33486/33486 [==============================] - 36s 1ms/step - loss: 0.4562 - binary_accuracy: 0.8247 - recall_1: 0.8077 - val_loss: 0.5115 - val_binary_accuracy: 0.7371 - val_recall_1: 0.5899\n",
      "Epoch 2/10\n",
      "33486/33486 [==============================] - 31s 933us/step - loss: 0.2613 - binary_accuracy: 0.8927 - recall_1: 0.8408 - val_loss: 0.2156 - val_binary_accuracy: 0.9521 - val_recall_1: 0.1697\n",
      "Epoch 3/10\n",
      "33486/33486 [==============================] - 31s 931us/step - loss: 0.2434 - binary_accuracy: 0.9012 - recall_1: 0.8336 - val_loss: 0.1358 - val_binary_accuracy: 0.9841 - val_recall_1: 0.0050\n",
      "Epoch 4/10\n",
      "33486/33486 [==============================] - 31s 918us/step - loss: 0.2367 - binary_accuracy: 0.9036 - recall_1: 0.8431 - val_loss: 0.2744 - val_binary_accuracy: 0.9549 - val_recall_1: 0.1736\n",
      "Epoch 5/10\n",
      "33486/33486 [==============================] - 31s 936us/step - loss: 0.2785 - binary_accuracy: 0.8684 - recall_1: 0.7784 - val_loss: 0.1939 - val_binary_accuracy: 0.9741 - val_recall_1: 0.0751\n",
      "Epoch 6/10\n",
      "33486/33486 [==============================] - 31s 921us/step - loss: 0.2227 - binary_accuracy: 0.9104 - recall_1: 0.8458 - val_loss: 0.1958 - val_binary_accuracy: 0.9680 - val_recall_1: 0.1074\n",
      "Epoch 7/10\n",
      "33486/33486 [==============================] - 31s 934us/step - loss: 0.2204 - binary_accuracy: 0.9113 - recall_1: 0.8490 - val_loss: 0.2104 - val_binary_accuracy: 0.9607 - val_recall_1: 0.1447\n",
      "Epoch 8/10\n",
      "33486/33486 [==============================] - 31s 914us/step - loss: 0.2177 - binary_accuracy: 0.9122 - recall_1: 0.8489 - val_loss: 0.1401 - val_binary_accuracy: 0.9837 - val_recall_1: 0.0100\n",
      "Epoch 9/10\n",
      "33486/33486 [==============================] - 31s 932us/step - loss: 0.2151 - binary_accuracy: 0.9132 - recall_1: 0.8506 - val_loss: 0.0887 - val_binary_accuracy: 0.9846 - val_recall_1: 5.5648e-04\n",
      "Epoch 10/10\n",
      "33486/33486 [==============================] - 31s 932us/step - loss: 0.2136 - binary_accuracy: 0.9137 - recall_1: 0.8532 - val_loss: 0.1744 - val_binary_accuracy: 0.9742 - val_recall_1: 0.0735\n"
     ]
    }
   ],
   "source": [
    "np.random.seed(33)\n",
    "tf.random.set_seed(33)\n",
    "\n",
    "history = model_2.fit(x_train_scaled, y_train_resampled, \n",
    "                    validation_data=(x_val_scaled, y_val),\n",
    "                    epochs=10,\n",
    "                    batch_size=32)"
   ]
  },
  {
   "cell_type": "code",
   "execution_count": 30,
   "metadata": {},
   "outputs": [
    {
     "name": "stdout",
     "output_type": "stream",
     "text": [
      "3644/3644 [==============================] - 2s 587us/step\n",
      "Best Threshold: 0.432\n",
      "Accuracy: 0.9605502384137765\n",
      "Precision: 0.07824255191092386\n",
      "Recall: 0.14468558708959378\n",
      "F1-Score: 0.1015625\n",
      "AUC: 0.7203993618692162\n",
      "Confusion Matrix:\n",
      "[[111744   3063]\n",
      " [  1537    260]]\n"
     ]
    },
    {
     "data": {
      "image/png": "[encoded data removed]",
      "text/plain": [
       "<Figure size 640x480 with 2 Axes>"
      ]
     },
     "metadata": {},
     "output_type": "display_data"
    }
   ],
   "source": [
    "m2_test_results = test_metrics(model_2, x_test_scaled, y_test)"
   ]
  },
  {
   "cell_type": "markdown",
   "metadata": {},
   "source": [
    "## Model 3\n",
    "Adding an additional dense layer"
   ]
  },
  {
   "cell_type": "code",
   "execution_count": 31,
   "metadata": {},
   "outputs": [],
   "source": [
    "\n",
    "model_3 = Sequential([\n",
    "    tf.keras.layers.Dense(64, activation='relu', input_shape=(x_train_scaled.shape[1],)),\n",
    "    tf.keras.layers.Dense(32, activation='relu'),\n",
    "    tf.keras.layers.Dense(32, activation='relu'),\n",
    "    tf.keras.layers.Dense(1, activation='sigmoid')\n",
    "])"
   ]
  },
  {
   "cell_type": "code",
   "execution_count": 32,
   "metadata": {},
   "outputs": [],
   "source": [
    "model_3.compile(\n",
    "    optimizer = 'adam',\n",
    "    loss='binary_crossentropy',\n",
    "    metrics=[tf.keras.metrics.BinaryAccuracy(), tf.keras.metrics.Recall(), tf.keras.metrics.Precision()]\n",
    ")"
   ]
  },
  {
   "cell_type": "code",
   "execution_count": 33,
   "metadata": {},
   "outputs": [
    {
     "name": "stdout",
     "output_type": "stream",
     "text": [
      "Epoch 1/10\n",
      "33486/33486 [==============================] - 36s 1ms/step - loss: 0.3982 - binary_accuracy: 0.8272 - recall_2: 0.7944 - precision: 0.8502 - val_loss: 0.2230 - val_binary_accuracy: 0.9575 - val_recall_2: 0.1575 - val_precision: 0.0760\n",
      "Epoch 2/10\n",
      "33486/33486 [==============================] - 33s 981us/step - loss: 0.2607 - binary_accuracy: 0.8933 - recall_2: 0.8291 - precision: 0.9512 - val_loss: 0.2141 - val_binary_accuracy: 0.9583 - val_recall_2: 0.1497 - val_precision: 0.0746\n",
      "Epoch 3/10\n",
      "33486/33486 [==============================] - 33s 998us/step - loss: 0.2425 - binary_accuracy: 0.9018 - recall_2: 0.8366 - precision: 0.9622 - val_loss: 0.0976 - val_binary_accuracy: 0.9846 - val_recall_2: 0.0000e+00 - val_precision: 0.0000e+00\n",
      "Epoch 4/10\n",
      "33486/33486 [==============================] - 33s 985us/step - loss: 0.2384 - binary_accuracy: 0.9041 - recall_2: 0.8379 - precision: 0.9658 - val_loss: 0.1949 - val_binary_accuracy: 0.9706 - val_recall_2: 0.0818 - val_precision: 0.0762\n",
      "Epoch 5/10\n",
      "33486/33486 [==============================] - 33s 975us/step - loss: 0.2279 - binary_accuracy: 0.9081 - recall_2: 0.8440 - precision: 0.9680 - val_loss: 0.2569 - val_binary_accuracy: 0.9479 - val_recall_2: 0.1809 - val_precision: 0.0659\n",
      "Epoch 6/10\n",
      "33486/33486 [==============================] - 33s 980us/step - loss: 0.2232 - binary_accuracy: 0.9097 - recall_2: 0.8433 - precision: 0.9725 - val_loss: 0.2704 - val_binary_accuracy: 0.9302 - val_recall_2: 0.2337 - val_precision: 0.0585\n",
      "Epoch 7/10\n",
      "33486/33486 [==============================] - 33s 978us/step - loss: 0.2208 - binary_accuracy: 0.9108 - recall_2: 0.8467 - precision: 0.9712 - val_loss: 0.1540 - val_binary_accuracy: 0.9808 - val_recall_2: 0.0328 - val_precision: 0.1059\n",
      "Epoch 8/10\n",
      "33486/33486 [==============================] - 33s 976us/step - loss: 0.2172 - binary_accuracy: 0.9122 - recall_2: 0.8479 - precision: 0.9731 - val_loss: 0.1346 - val_binary_accuracy: 0.9837 - val_recall_2: 0.0067 - val_precision: 0.0984\n",
      "Epoch 9/10\n",
      "33486/33486 [==============================] - 33s 982us/step - loss: 0.2150 - binary_accuracy: 0.9131 - recall_2: 0.8496 - precision: 0.9732 - val_loss: 0.0874 - val_binary_accuracy: 0.9846 - val_recall_2: 0.0000e+00 - val_precision: 0.0000e+00\n",
      "Epoch 10/10\n",
      "33486/33486 [==============================] - 33s 977us/step - loss: 0.2136 - binary_accuracy: 0.9135 - recall_2: 0.8515 - precision: 0.9720 - val_loss: 0.1300 - val_binary_accuracy: 0.9830 - val_recall_2: 0.0173 - val_precision: 0.1235\n"
     ]
    }
   ],
   "source": [
    "\n",
    "history = model_3.fit(x_train_scaled, y_train_resampled, \n",
    "                    validation_data=(x_val_scaled, y_val),\n",
    "                    epochs=10,\n",
    "                    batch_size=32)"
   ]
  },
  {
   "cell_type": "code",
   "execution_count": 34,
   "metadata": {},
   "outputs": [
    {
     "name": "stdout",
     "output_type": "stream",
     "text": [
      "3644/3644 [==============================] - 2s 585us/step\n",
      "Best Threshold: 0.296\n",
      "Accuracy: 0.9563651332715859\n",
      "Precision: 0.07137275332117739\n",
      "Recall: 0.15247634947134112\n",
      "F1-Score: 0.09723207948899928\n",
      "AUC: 0.7195189871750067\n",
      "Confusion Matrix:\n",
      "[[111242   3565]\n",
      " [  1523    274]]\n"
     ]
    },
    {
     "data": {
      "image/png": "[encoded data removed]",
      "text/plain": [
       "<Figure size 640x480 with 2 Axes>"
      ]
     },
     "metadata": {},
     "output_type": "display_data"
    }
   ],
   "source": [
    "m3_test_results = test_metrics(model_3, x_test_scaled, y_test)"
   ]
  },
  {
   "cell_type": "markdown",
   "metadata": {},
   "source": [
    "## Model 4\n",
    "Testing model architecture with bias in fully connected layers"
   ]
  },
  {
   "cell_type": "code",
   "execution_count": 35,
   "metadata": {},
   "outputs": [],
   "source": [
    "model_4 = Sequential([\n",
    "    tf.keras.layers.Dense(64, activation='relu', input_shape=(x_train_scaled.shape[1],), use_bias=True),\n",
    "    tf.keras.layers.Dense(32, activation='relu',  use_bias=True),\n",
    "    tf.keras.layers.Dense(32, activation='relu',  use_bias=True),\n",
    "    tf.keras.layers.Dense(1, activation='sigmoid',  use_bias=True)\n",
    "])"
   ]
  },
  {
   "cell_type": "code",
   "execution_count": 36,
   "metadata": {},
   "outputs": [],
   "source": [
    "model_4.compile(\n",
    "    optimizer = 'adam',\n",
    "    loss='binary_crossentropy',\n",
    "    metrics=[tf.keras.metrics.BinaryAccuracy(), tf.keras.metrics.Recall(), tf.keras.metrics.Precision()]\n",
    ")"
   ]
  },
  {
   "cell_type": "code",
   "execution_count": 72,
   "metadata": {},
   "outputs": [
    {
     "name": "stdout",
     "output_type": "stream",
     "text": [
      "Epoch 1/10\n",
      "33486/33486 [==============================] - 39s 1ms/step - loss: 0.6932 - binary_accuracy: 0.4995 - recall_3: 0.5024 - precision_1: 0.4995 - val_loss: 0.6895 - val_binary_accuracy: 0.9846 - val_recall_3: 0.0000e+00 - val_precision_1: 0.0000e+00\n",
      "Epoch 2/10\n",
      "33486/33486 [==============================] - 37s 1ms/step - loss: 0.6932 - binary_accuracy: 0.4994 - recall_3: 0.5265 - precision_1: 0.4995 - val_loss: 0.6905 - val_binary_accuracy: 0.9846 - val_recall_3: 0.0000e+00 - val_precision_1: 0.0000e+00\n",
      "Epoch 3/10\n",
      "33486/33486 [==============================] - 37s 1ms/step - loss: 0.6932 - binary_accuracy: 0.4998 - recall_3: 0.4784 - precision_1: 0.4998 - val_loss: 0.7048 - val_binary_accuracy: 0.0154 - val_recall_3: 1.0000 - val_precision_1: 0.0154\n",
      "Epoch 4/10\n",
      "33486/33486 [==============================] - 37s 1ms/step - loss: 0.6932 - binary_accuracy: 0.4992 - recall_3: 0.5338 - precision_1: 0.4993 - val_loss: 0.7024 - val_binary_accuracy: 0.0154 - val_recall_3: 1.0000 - val_precision_1: 0.0154\n",
      "Epoch 5/10\n",
      "33486/33486 [==============================] - 37s 1ms/step - loss: 0.6932 - binary_accuracy: 0.5002 - recall_3: 0.5230 - precision_1: 0.5002 - val_loss: 0.6959 - val_binary_accuracy: 0.0154 - val_recall_3: 1.0000 - val_precision_1: 0.0154\n",
      "Epoch 6/10\n",
      "33486/33486 [==============================] - 38s 1ms/step - loss: 0.6932 - binary_accuracy: 0.5001 - recall_3: 0.5260 - precision_1: 0.5001 - val_loss: 0.6909 - val_binary_accuracy: 0.9846 - val_recall_3: 0.0000e+00 - val_precision_1: 0.0000e+00\n",
      "Epoch 7/10\n",
      "33486/33486 [==============================] - 37s 1ms/step - loss: 0.6932 - binary_accuracy: 0.5000 - recall_3: 0.4554 - precision_1: 0.5000 - val_loss: 0.7008 - val_binary_accuracy: 0.0154 - val_recall_3: 1.0000 - val_precision_1: 0.0154\n",
      "Epoch 8/10\n",
      "33486/33486 [==============================] - 37s 1ms/step - loss: 0.6932 - binary_accuracy: 0.5008 - recall_3: 0.4949 - precision_1: 0.5008 - val_loss: 0.6949 - val_binary_accuracy: 0.0154 - val_recall_3: 1.0000 - val_precision_1: 0.0154\n",
      "Epoch 9/10\n",
      "33486/33486 [==============================] - 37s 1ms/step - loss: 0.6932 - binary_accuracy: 0.5003 - recall_3: 0.4703 - precision_1: 0.5003 - val_loss: 0.6927 - val_binary_accuracy: 0.9846 - val_recall_3: 0.0000e+00 - val_precision_1: 0.0000e+00\n",
      "Epoch 10/10\n",
      "33486/33486 [==============================] - 38s 1ms/step - loss: 0.6932 - binary_accuracy: 0.4996 - recall_3: 0.5524 - precision_1: 0.4996 - val_loss: 0.6855 - val_binary_accuracy: 0.9846 - val_recall_3: 0.0000e+00 - val_precision_1: 0.0000e+00\n"
     ]
    }
   ],
   "source": [
    "history = model_4.fit(x_train_scaled, y_train_resampled, \n",
    "                    validation_data=(x_val_scaled, y_val),\n",
    "                    epochs=10,\n",
    "                    batch_size=32)"
   ]
  },
  {
   "cell_type": "code",
   "execution_count": 73,
   "metadata": {},
   "outputs": [
    {
     "name": "stdout",
     "output_type": "stream",
     "text": [
      "3644/3644 [==============================] - 3s 729us/step\n",
      "Best Threshold: 0.0\n",
      "Accuracy: 0.015411135124009469\n",
      "Precision: 0.015411135124009469\n",
      "Recall: 1.0\n",
      "F1-Score: 0.030354473357488535\n",
      "AUC: 0.5\n",
      "Confusion Matrix:\n",
      "[[     0 114807]\n",
      " [     0   1797]]\n"
     ]
    },
    {
     "data": {
      "image/png": "[encoded data removed]",
      "text/plain": [
       "<Figure size 640x480 with 2 Axes>"
      ]
     },
     "metadata": {},
     "output_type": "display_data"
    }
   ],
   "source": [
    "m4_test_results = test_metrics(model_4, x_test_scaled, y_test)"
   ]
  },
  {
   "cell_type": "markdown",
   "metadata": {},
   "source": [
    "## Model 5\n",
    "Adding drop out layers"
   ]
  },
  {
   "cell_type": "code",
   "execution_count": 39,
   "metadata": {},
   "outputs": [],
   "source": [
    "model_5 = Sequential([\n",
    "    tf.keras.layers.Dense(64, activation='relu', input_shape=(x_train_scaled.shape[1],),  use_bias=True),\n",
    "    tf.keras.layers.Dropout(0.2),\n",
    "    tf.keras.layers.Dense(32, activation='relu',  use_bias=True),\n",
    "    tf.keras.layers.Dropout(0.2),\n",
    "    tf.keras.layers.Dense(1, activation='sigmoid',  use_bias=True)\n",
    "])"
   ]
  },
  {
   "cell_type": "code",
   "execution_count": 40,
   "metadata": {},
   "outputs": [],
   "source": [
    "model_5.compile(\n",
    "    optimizer = 'adam',\n",
    "    loss='binary_crossentropy',\n",
    "    metrics=[tf.keras.metrics.BinaryAccuracy(), tf.keras.metrics.Recall(), tf.keras.metrics.Precision()]\n",
    ")"
   ]
  },
  {
   "cell_type": "code",
   "execution_count": 41,
   "metadata": {},
   "outputs": [
    {
     "name": "stdout",
     "output_type": "stream",
     "text": [
      "Epoch 1/10\n",
      "33486/33486 [==============================] - 36s 1ms/step - loss: 0.9023 - binary_accuracy: 0.4994 - recall_4: 0.5132 - precision_2: 0.4994 - val_loss: 0.6895 - val_binary_accuracy: 0.9846 - val_recall_4: 0.0000e+00 - val_precision_2: 0.0000e+00\n",
      "Epoch 2/10\n",
      "33486/33486 [==============================] - 36s 1ms/step - loss: 0.6935 - binary_accuracy: 0.4995 - recall_4: 0.5237 - precision_2: 0.4995 - val_loss: 0.6905 - val_binary_accuracy: 0.9846 - val_recall_4: 0.0000e+00 - val_precision_2: 0.0000e+00\n",
      "Epoch 3/10\n",
      "33486/33486 [==============================] - 38s 1ms/step - loss: 0.6934 - binary_accuracy: 0.4998 - recall_4: 0.4777 - precision_2: 0.4998 - val_loss: 0.7048 - val_binary_accuracy: 0.0154 - val_recall_4: 1.0000 - val_precision_2: 0.0154\n",
      "Epoch 4/10\n",
      "33486/33486 [==============================] - 40s 1ms/step - loss: 0.6932 - binary_accuracy: 0.4993 - recall_4: 0.5338 - precision_2: 0.4993 - val_loss: 0.7024 - val_binary_accuracy: 0.0154 - val_recall_4: 1.0000 - val_precision_2: 0.0154\n",
      "Epoch 5/10\n",
      "33486/33486 [==============================] - 39s 1ms/step - loss: 0.6932 - binary_accuracy: 0.5002 - recall_4: 0.5230 - precision_2: 0.5002 - val_loss: 0.6959 - val_binary_accuracy: 0.0154 - val_recall_4: 1.0000 - val_precision_2: 0.0154\n",
      "Epoch 6/10\n",
      "33486/33486 [==============================] - 38s 1ms/step - loss: 0.6932 - binary_accuracy: 0.5001 - recall_4: 0.5260 - precision_2: 0.5001 - val_loss: 0.6909 - val_binary_accuracy: 0.9846 - val_recall_4: 0.0000e+00 - val_precision_2: 0.0000e+00\n",
      "Epoch 7/10\n",
      "33486/33486 [==============================] - 37s 1ms/step - loss: 0.6932 - binary_accuracy: 0.5000 - recall_4: 0.4554 - precision_2: 0.5000 - val_loss: 0.7008 - val_binary_accuracy: 0.0154 - val_recall_4: 1.0000 - val_precision_2: 0.0154\n",
      "Epoch 8/10\n",
      "33486/33486 [==============================] - 38s 1ms/step - loss: 0.6932 - binary_accuracy: 0.5008 - recall_4: 0.4949 - precision_2: 0.5008 - val_loss: 0.6949 - val_binary_accuracy: 0.0154 - val_recall_4: 1.0000 - val_precision_2: 0.0154\n",
      "Epoch 9/10\n",
      "33486/33486 [==============================] - 40s 1ms/step - loss: 0.6932 - binary_accuracy: 0.5003 - recall_4: 0.4703 - precision_2: 0.5003 - val_loss: 0.6927 - val_binary_accuracy: 0.9846 - val_recall_4: 0.0000e+00 - val_precision_2: 0.0000e+00\n",
      "Epoch 10/10\n",
      "33486/33486 [==============================] - 40s 1ms/step - loss: 0.6932 - binary_accuracy: 0.4996 - recall_4: 0.5524 - precision_2: 0.4996 - val_loss: 0.6855 - val_binary_accuracy: 0.9846 - val_recall_4: 0.0000e+00 - val_precision_2: 0.0000e+00\n"
     ]
    }
   ],
   "source": [
    "np.random.seed(33)\n",
    "tf.random.set_seed(33)\n",
    "\n",
    "history = model_5.fit(x_train_scaled, y_train_resampled, \n",
    "                    validation_data=(x_val_scaled, y_val),\n",
    "                    epochs=10,\n",
    "                    batch_size=32)"
   ]
  },
  {
   "cell_type": "code",
   "execution_count": 71,
   "metadata": {},
   "outputs": [
    {
     "name": "stdout",
     "output_type": "stream",
     "text": [
      "3644/3644 [==============================] - 3s 717us/step\n",
      "Best Threshold: 0.0\n",
      "Accuracy: 0.015411135124009469\n",
      "Precision: 0.015411135124009469\n",
      "Recall: 1.0\n",
      "F1-Score: 0.030354473357488535\n",
      "AUC: 0.5\n",
      "Confusion Matrix:\n",
      "[[     0 114807]\n",
      " [     0   1797]]\n"
     ]
    },
    {
     "data": {
      "image/png": "[encoded data removed]",
      "text/plain": [
       "<Figure size 640x480 with 2 Axes>"
      ]
     },
     "metadata": {},
     "output_type": "display_data"
    }
   ],
   "source": [
    "m5_test_results = test_metrics(model_5, x_test_scaled, y_test)"
   ]
  },
  {
   "cell_type": "markdown",
   "metadata": {},
   "source": [
    "## Model 6\n",
    "Switching to Leaky Relu as the activation function"
   ]
  },
  {
   "cell_type": "code",
   "execution_count": 43,
   "metadata": {},
   "outputs": [],
   "source": [
    "model_6 = Sequential([\n",
    "    tf.keras.layers.Dense(64, input_shape=(x_train_scaled.shape[1],),  use_bias=True),\n",
    "    tf.keras.layers.LeakyReLU(alpha=0.1),\n",
    "    tf.keras.layers.Dropout(0.2),\n",
    "    tf.keras.layers.Dense(32,  use_bias=True),\n",
    "    tf.keras.layers.LeakyReLU(alpha=0.1),\n",
    "    tf.keras.layers.Dropout(0.2),\n",
    "    tf.keras.layers.Dense(1, activation='sigmoid',  use_bias=True)\n",
    "])"
   ]
  },
  {
   "cell_type": "code",
   "execution_count": 44,
   "metadata": {},
   "outputs": [],
   "source": [
    "model_6.compile(\n",
    "    optimizer = 'adam',\n",
    "    loss='binary_crossentropy',\n",
    "    metrics=[tf.keras.metrics.BinaryAccuracy(), tf.keras.metrics.Recall(), tf.keras.metrics.Precision()]\n",
    ")"
   ]
  },
  {
   "cell_type": "code",
   "execution_count": 45,
   "metadata": {},
   "outputs": [
    {
     "name": "stdout",
     "output_type": "stream",
     "text": [
      "Epoch 1/10\n",
      "33486/33486 [==============================] - 38s 1ms/step - loss: 0.6193 - binary_accuracy: 0.7685 - recall_5: 0.7402 - precision_3: 0.7846 - val_loss: 0.2376 - val_binary_accuracy: 0.9759 - val_recall_5: 0.0634 - val_precision_3: 0.0919\n",
      "Epoch 2/10\n",
      "33486/33486 [==============================] - 38s 1ms/step - loss: 0.2936 - binary_accuracy: 0.8750 - recall_5: 0.8160 - precision_3: 0.9252 - val_loss: 0.3750 - val_binary_accuracy: 0.8498 - val_recall_5: 0.4218 - val_precision_3: 0.0440\n",
      "Epoch 3/10\n",
      "33486/33486 [==============================] - 39s 1ms/step - loss: 0.2675 - binary_accuracy: 0.8881 - recall_5: 0.8271 - precision_3: 0.9421 - val_loss: 0.0763 - val_binary_accuracy: 0.9846 - val_recall_5: 0.0000e+00 - val_precision_3: 0.0000e+00\n",
      "Epoch 4/10\n",
      "33486/33486 [==============================] - 40s 1ms/step - loss: 0.2526 - binary_accuracy: 0.8952 - recall_5: 0.8336 - precision_3: 0.9508 - val_loss: 0.1818 - val_binary_accuracy: 0.9834 - val_recall_5: 0.0128 - val_precision_3: 0.1285\n",
      "Epoch 5/10\n",
      "33486/33486 [==============================] - 41s 1ms/step - loss: 0.2388 - binary_accuracy: 0.9011 - recall_5: 0.8402 - precision_3: 0.9567 - val_loss: 0.2338 - val_binary_accuracy: 0.9429 - val_recall_5: 0.2076 - val_precision_3: 0.0665\n",
      "Epoch 6/10\n",
      "33486/33486 [==============================] - 36s 1ms/step - loss: 0.2317 - binary_accuracy: 0.9044 - recall_5: 0.8446 - precision_3: 0.9594 - val_loss: 0.1184 - val_binary_accuracy: 0.9761 - val_recall_5: 0.0662 - val_precision_3: 0.0969\n",
      "Epoch 7/10\n",
      "33486/33486 [==============================] - 37s 1ms/step - loss: 0.2247 - binary_accuracy: 0.9070 - recall_5: 0.8490 - precision_3: 0.9605 - val_loss: 0.1410 - val_binary_accuracy: 0.9756 - val_recall_5: 0.0556 - val_precision_3: 0.0805\n",
      "Epoch 8/10\n",
      "33486/33486 [==============================] - 36s 1ms/step - loss: 0.2203 - binary_accuracy: 0.9092 - recall_5: 0.8528 - precision_3: 0.9613 - val_loss: 0.1217 - val_binary_accuracy: 0.9834 - val_recall_5: 0.0111 - val_precision_3: 0.1149\n",
      "Epoch 9/10\n",
      "33486/33486 [==============================] - 36s 1ms/step - loss: 0.2165 - binary_accuracy: 0.9110 - recall_5: 0.8561 - precision_3: 0.9618 - val_loss: 0.1242 - val_binary_accuracy: 0.9790 - val_recall_5: 0.0434 - val_precision_3: 0.0971\n",
      "Epoch 10/10\n",
      "33486/33486 [==============================] - 37s 1ms/step - loss: 0.2125 - binary_accuracy: 0.9128 - recall_5: 0.8586 - precision_3: 0.9631 - val_loss: 0.1653 - val_binary_accuracy: 0.9784 - val_recall_5: 0.0473 - val_precision_3: 0.0949\n"
     ]
    }
   ],
   "source": [
    "history = model_6.fit(x_train_scaled, y_train_resampled, \n",
    "                    validation_data=(x_val_scaled, y_val),\n",
    "                    epochs=10,\n",
    "                    batch_size=32)"
   ]
  },
  {
   "cell_type": "code",
   "execution_count": 46,
   "metadata": {},
   "outputs": [
    {
     "name": "stdout",
     "output_type": "stream",
     "text": [
      "3644/3644 [==============================] - 2s 619us/step\n",
      "Best Threshold: 0.35000000000000003\n",
      "Accuracy: 0.9383554595039622\n",
      "Precision: 0.06220561961994478\n",
      "Recall: 0.21313299944351696\n",
      "F1-Score: 0.09630374654262007\n",
      "AUC: 0.7178832982671036\n",
      "Confusion Matrix:\n",
      "[[109033   5774]\n",
      " [  1414    383]]\n"
     ]
    },
    {
     "data": {
      "image/png": "[encoded data removed]",
      "text/plain": [
       "<Figure size 640x480 with 2 Axes>"
      ]
     },
     "metadata": {},
     "output_type": "display_data"
    }
   ],
   "source": [
    "m6_test_results = test_metrics(model_6, x_test_scaled, y_test)"
   ]
  },
  {
   "cell_type": "markdown",
   "metadata": {},
   "source": [
    "## Model 7\n",
    "Adding another Dense layer"
   ]
  },
  {
   "cell_type": "code",
   "execution_count": 47,
   "metadata": {},
   "outputs": [],
   "source": [
    "model_7 = Sequential([\n",
    "    tf.keras.layers.Dense(64, input_shape=(x_train_scaled.shape[1],),  use_bias=True),\n",
    "    tf.keras.layers.LeakyReLU(alpha=0.1),\n",
    "    tf.keras.layers.Dropout(0.2),\n",
    "    tf.keras.layers.Dense(32,  use_bias=True),\n",
    "    tf.keras.layers.LeakyReLU(alpha=0.1),\n",
    "    tf.keras.layers.Dropout(0.2),\n",
    "    tf.keras.layers.Dense(32,  use_bias=True),\n",
    "    tf.keras.layers.LeakyReLU(alpha=0.1),\n",
    "    tf.keras.layers.Dropout(0.2),\n",
    "    tf.keras.layers.Dense(1, activation='sigmoid',  use_bias=True)\n",
    "])"
   ]
  },
  {
   "cell_type": "code",
   "execution_count": 48,
   "metadata": {},
   "outputs": [],
   "source": [
    "model_7.compile(\n",
    "    optimizer = 'adam',\n",
    "    loss='binary_crossentropy',\n",
    "    metrics=[tf.keras.metrics.BinaryAccuracy(), tf.keras.metrics.Recall(), tf.keras.metrics.Precision()]\n",
    ")"
   ]
  },
  {
   "cell_type": "code",
   "execution_count": 49,
   "metadata": {},
   "outputs": [
    {
     "name": "stdout",
     "output_type": "stream",
     "text": [
      "Epoch 1/10\n",
      "33486/33486 [==============================] - 40s 1ms/step - loss: 0.6390 - binary_accuracy: 0.6799 - recall_6: 0.6546 - precision_4: 0.6894 - val_loss: 0.2690 - val_binary_accuracy: 0.9165 - val_recall_6: 0.2866 - val_precision_4: 0.0574\n",
      "Epoch 2/10\n",
      "33486/33486 [==============================] - 40s 1ms/step - loss: 0.2993 - binary_accuracy: 0.8720 - recall_6: 0.8049 - precision_4: 0.9297 - val_loss: 0.1726 - val_binary_accuracy: 0.9826 - val_recall_6: 0.0200 - val_precision_4: 0.1180\n",
      "Epoch 3/10\n",
      "33486/33486 [==============================] - 39s 1ms/step - loss: 0.2728 - binary_accuracy: 0.8854 - recall_6: 0.8196 - precision_4: 0.9438 - val_loss: 0.1988 - val_binary_accuracy: 0.9833 - val_recall_6: 0.0122 - val_precision_4: 0.1164\n",
      "Epoch 4/10\n",
      "33486/33486 [==============================] - 40s 1ms/step - loss: 0.2581 - binary_accuracy: 0.8922 - recall_6: 0.8279 - precision_4: 0.9501 - val_loss: 0.2029 - val_binary_accuracy: 0.9769 - val_recall_6: 0.0573 - val_precision_4: 0.0938\n",
      "Epoch 5/10\n",
      "33486/33486 [==============================] - 40s 1ms/step - loss: 0.2484 - binary_accuracy: 0.8963 - recall_6: 0.8325 - precision_4: 0.9541 - val_loss: 0.1974 - val_binary_accuracy: 0.9803 - val_recall_6: 0.0390 - val_precision_4: 0.1092\n",
      "Epoch 6/10\n",
      "33486/33486 [==============================] - 40s 1ms/step - loss: 0.2387 - binary_accuracy: 0.9002 - recall_6: 0.8379 - precision_4: 0.9572 - val_loss: 0.2022 - val_binary_accuracy: 0.9774 - val_recall_6: 0.0562 - val_precision_4: 0.0975\n",
      "Epoch 7/10\n",
      "33486/33486 [==============================] - 40s 1ms/step - loss: 0.2323 - binary_accuracy: 0.9030 - recall_6: 0.8414 - precision_4: 0.9596 - val_loss: 0.2283 - val_binary_accuracy: 0.9296 - val_recall_6: 0.2454 - val_precision_4: 0.0604\n",
      "Epoch 8/10\n",
      "33486/33486 [==============================] - 40s 1ms/step - loss: 0.2282 - binary_accuracy: 0.9047 - recall_6: 0.8439 - precision_4: 0.9606 - val_loss: 0.1934 - val_binary_accuracy: 0.9785 - val_recall_6: 0.0584 - val_precision_4: 0.1148\n",
      "Epoch 9/10\n",
      "33486/33486 [==============================] - 39s 1ms/step - loss: 0.2219 - binary_accuracy: 0.9074 - recall_6: 0.8491 - precision_4: 0.9613 - val_loss: 0.1091 - val_binary_accuracy: 0.9838 - val_recall_6: 0.0078 - val_precision_4: 0.1138\n",
      "Epoch 10/10\n",
      "33486/33486 [==============================] - 40s 1ms/step - loss: 0.2179 - binary_accuracy: 0.9088 - recall_6: 0.8513 - precision_4: 0.9620 - val_loss: 0.1747 - val_binary_accuracy: 0.9822 - val_recall_6: 0.0228 - val_precision_4: 0.1136\n"
     ]
    }
   ],
   "source": [
    "history = model_7.fit(x_train_scaled, y_train_resampled, \n",
    "                    validation_data=(x_val_scaled, y_val),\n",
    "                    epochs=10,\n",
    "                    batch_size=32)"
   ]
  },
  {
   "cell_type": "code",
   "execution_count": 50,
   "metadata": {},
   "outputs": [
    {
     "name": "stdout",
     "output_type": "stream",
     "text": [
      "3644/3644 [==============================] - 2s 633us/step\n",
      "Best Threshold: 0.341\n",
      "Accuracy: 0.9460052828376385\n",
      "Precision: 0.06682072020026959\n",
      "Recall: 0.1930996104618809\n",
      "F1-Score: 0.09928469241773963\n",
      "AUC: 0.7200087350875216\n",
      "Confusion Matrix:\n",
      "[[109961   4846]\n",
      " [  1450    347]]\n"
     ]
    },
    {
     "data": {
      "image/png": "[encoded data removed]",
      "text/plain": [
       "<Figure size 640x480 with 2 Axes>"
      ]
     },
     "metadata": {},
     "output_type": "display_data"
    }
   ],
   "source": [
    "m7_test_results = test_metrics(model_7, x_test_scaled, y_test)"
   ]
  },
  {
   "cell_type": "markdown",
   "metadata": {},
   "source": [
    "# Model 8\n",
    "Adding more filters to the Dense layers"
   ]
  },
  {
   "cell_type": "code",
   "execution_count": 51,
   "metadata": {},
   "outputs": [],
   "source": [
    "model_8 = Sequential([\n",
    "    tf.keras.layers.Dense(64, input_shape=(x_train_scaled.shape[1],),  use_bias=True),\n",
    "    tf.keras.layers.LeakyReLU(alpha=0.1),\n",
    "    tf.keras.layers.Dropout(0.2),\n",
    "    tf.keras.layers.Dense(32,  use_bias=True),\n",
    "    tf.keras.layers.LeakyReLU(alpha=0.1),\n",
    "    tf.keras.layers.Dropout(0.2),\n",
    "    tf.keras.layers.Dense(32,  use_bias=True),\n",
    "    tf.keras.layers.LeakyReLU(alpha=0.1),\n",
    "    tf.keras.layers.Dropout(0.2),\n",
    "    tf.keras.layers.Dense(1, activation='sigmoid',  use_bias=True)\n",
    "])"
   ]
  },
  {
   "cell_type": "code",
   "execution_count": 52,
   "metadata": {},
   "outputs": [],
   "source": [
    "model_8.compile(\n",
    "    optimizer = 'adam',\n",
    "    loss='binary_crossentropy',\n",
    "    metrics=[tf.keras.metrics.Recall(thresholds = 0.4), tf.keras.metrics.Precision()]\n",
    ")"
   ]
  },
  {
   "cell_type": "code",
   "execution_count": 53,
   "metadata": {},
   "outputs": [
    {
     "name": "stdout",
     "output_type": "stream",
     "text": [
      "Epoch 1/10\n",
      "33486/33486 [==============================] - 40s 1ms/step - loss: 0.6020 - recall_7: 0.8724 - precision_5: 0.7024 - val_loss: 0.1738 - val_recall_7: 0.1408 - val_precision_5: 0.0911\n",
      "Epoch 2/10\n",
      "33486/33486 [==============================] - 39s 1ms/step - loss: 0.2984 - recall_7: 0.8408 - precision_5: 0.9278 - val_loss: 0.0957 - val_recall_7: 0.0022 - val_precision_5: 0.1667\n",
      "Epoch 3/10\n",
      "33486/33486 [==============================] - 39s 1ms/step - loss: 0.2705 - recall_7: 0.8451 - precision_5: 0.9458 - val_loss: 0.2044 - val_recall_7: 0.1308 - val_precision_5: 0.0962\n",
      "Epoch 4/10\n",
      "33486/33486 [==============================] - 39s 1ms/step - loss: 0.2566 - recall_7: 0.8509 - precision_5: 0.9524 - val_loss: 0.3031 - val_recall_7: 0.3272 - val_precision_5: 0.0574\n",
      "Epoch 5/10\n",
      "33486/33486 [==============================] - 38s 1ms/step - loss: 0.2458 - recall_7: 0.8576 - precision_5: 0.9552 - val_loss: 0.1441 - val_recall_7: 0.0902 - val_precision_5: 0.1035\n",
      "Epoch 6/10\n",
      "33486/33486 [==============================] - 39s 1ms/step - loss: 0.2361 - recall_7: 0.8635 - precision_5: 0.9582 - val_loss: 0.1321 - val_recall_7: 0.1347 - val_precision_5: 0.1226\n",
      "Epoch 7/10\n",
      "33486/33486 [==============================] - 39s 1ms/step - loss: 0.2310 - recall_7: 0.8671 - precision_5: 0.9595 - val_loss: 0.1296 - val_recall_7: 0.0234 - val_precision_5: 0.1207\n",
      "Epoch 8/10\n",
      "33486/33486 [==============================] - 39s 1ms/step - loss: 0.2267 - recall_7: 0.8697 - precision_5: 0.9607 - val_loss: 0.1825 - val_recall_7: 0.1269 - val_precision_5: 0.1544\n",
      "Epoch 9/10\n",
      "33486/33486 [==============================] - 39s 1ms/step - loss: 0.2221 - recall_7: 0.8717 - precision_5: 0.9624 - val_loss: 0.1376 - val_recall_7: 0.0273 - val_precision_5: 0.1250\n",
      "Epoch 10/10\n",
      "33486/33486 [==============================] - 39s 1ms/step - loss: 0.2194 - recall_7: 0.8743 - precision_5: 0.9621 - val_loss: 0.1171 - val_recall_7: 0.0473 - val_precision_5: 0.1200\n"
     ]
    }
   ],
   "source": [
    "np.random.seed(33)\n",
    "tf.random.set_seed(33)\n",
    "\n",
    "history = model_8.fit(x_train_scaled, y_train_resampled, \n",
    "                    validation_data=(x_val_scaled, y_val),\n",
    "                    epochs=10,\n",
    "                    batch_size=32,\n",
    "                    )"
   ]
  },
  {
   "cell_type": "code",
   "execution_count": 54,
   "metadata": {},
   "outputs": [
    {
     "name": "stdout",
     "output_type": "stream",
     "text": [
      "3644/3644 [==============================] - 2s 639us/step\n",
      "Best Threshold: 0.28600000000000003\n",
      "Accuracy: 0.9619138279990395\n",
      "Precision: 0.08138062064597847\n",
      "Recall: 0.14301613800779076\n",
      "F1-Score: 0.10373360242179616\n",
      "AUC: 0.7239291976882798\n",
      "Confusion Matrix:\n",
      "[[111906   2901]\n",
      " [  1540    257]]\n"
     ]
    },
    {
     "data": {
      "image/png": "[encoded data removed]",
      "text/plain": [
       "<Figure size 640x480 with 2 Axes>"
      ]
     },
     "metadata": {},
     "output_type": "display_data"
    }
   ],
   "source": [
    "m8_test_results = test_metrics(model_8, x_test_scaled, y_test)"
   ]
  },
  {
   "cell_type": "markdown",
   "metadata": {},
   "source": [
    "## Results ordering"
   ]
  },
  {
   "cell_type": "code",
   "execution_count": 55,
   "metadata": {},
   "outputs": [],
   "source": [
    "all_results = {\n",
    "    'model_1': m1_test_results,\n",
    "    'model_2': m2_test_results,\n",
    "    'model_3': m3_test_results,\n",
    "    'model_4': m4_test_results,\n",
    "    'model_5': m5_test_results,\n",
    "    'model_6': m6_test_results,\n",
    "    'model_7': m7_test_results,\n",
    "    'model_8': m8_test_results,\n",
    "}"
   ]
  },
  {
   "cell_type": "code",
   "execution_count": 56,
   "metadata": {},
   "outputs": [
    {
     "data": {
      "text/html": [
       "<div>\n",
       "<style scoped>\n",
       "    .dataframe tbody tr th:only-of-type {\n",
       "        vertical-align: middle;\n",
       "    }\n",
       "\n",
       "    .dataframe tbody tr th {\n",
       "        vertical-align: top;\n",
       "    }\n",
       "\n",
       "    .dataframe thead th {\n",
       "        text-align: right;\n",
       "    }\n",
       "</style>\n",
       "<table border=\"1\" class=\"dataframe\">\n",
       "  <thead>\n",
       "    <tr style=\"text-align: right;\">\n",
       "      <th></th>\n",
       "      <th>Best Threshold</th>\n",
       "      <th>Accuracy</th>\n",
       "      <th>Precision</th>\n",
       "      <th>Recall</th>\n",
       "      <th>F1-Score</th>\n",
       "      <th>AUC</th>\n",
       "      <th>Confusion Matrix</th>\n",
       "    </tr>\n",
       "  </thead>\n",
       "  <tbody>\n",
       "    <tr>\n",
       "      <th>model_8</th>\n",
       "      <td>0.286</td>\n",
       "      <td>0.961914</td>\n",
       "      <td>0.081381</td>\n",
       "      <td>0.143016</td>\n",
       "      <td>0.103734</td>\n",
       "      <td>0.723929</td>\n",
       "      <td>[[111906, 2901], [1540, 257]]</td>\n",
       "    </tr>\n",
       "    <tr>\n",
       "      <th>model_1</th>\n",
       "      <td>0.054</td>\n",
       "      <td>0.951425</td>\n",
       "      <td>0.071571</td>\n",
       "      <td>0.179744</td>\n",
       "      <td>0.102377</td>\n",
       "      <td>0.745009</td>\n",
       "      <td>[[110617, 4190], [1474, 323]]</td>\n",
       "    </tr>\n",
       "    <tr>\n",
       "      <th>model_2</th>\n",
       "      <td>0.432</td>\n",
       "      <td>0.960550</td>\n",
       "      <td>0.078243</td>\n",
       "      <td>0.144686</td>\n",
       "      <td>0.101562</td>\n",
       "      <td>0.720399</td>\n",
       "      <td>[[111744, 3063], [1537, 260]]</td>\n",
       "    </tr>\n",
       "    <tr>\n",
       "      <th>model_7</th>\n",
       "      <td>0.341</td>\n",
       "      <td>0.946005</td>\n",
       "      <td>0.066821</td>\n",
       "      <td>0.193100</td>\n",
       "      <td>0.099285</td>\n",
       "      <td>0.720009</td>\n",
       "      <td>[[109961, 4846], [1450, 347]]</td>\n",
       "    </tr>\n",
       "    <tr>\n",
       "      <th>model_3</th>\n",
       "      <td>0.296</td>\n",
       "      <td>0.956365</td>\n",
       "      <td>0.071373</td>\n",
       "      <td>0.152476</td>\n",
       "      <td>0.097232</td>\n",
       "      <td>0.719519</td>\n",
       "      <td>[[111242, 3565], [1523, 274]]</td>\n",
       "    </tr>\n",
       "    <tr>\n",
       "      <th>model_6</th>\n",
       "      <td>0.350</td>\n",
       "      <td>0.938355</td>\n",
       "      <td>0.062206</td>\n",
       "      <td>0.213133</td>\n",
       "      <td>0.096304</td>\n",
       "      <td>0.717883</td>\n",
       "      <td>[[109033, 5774], [1414, 383]]</td>\n",
       "    </tr>\n",
       "    <tr>\n",
       "      <th>model_4</th>\n",
       "      <td>0.000</td>\n",
       "      <td>0.015411</td>\n",
       "      <td>0.015411</td>\n",
       "      <td>1.000000</td>\n",
       "      <td>0.030354</td>\n",
       "      <td>0.500000</td>\n",
       "      <td>[[0, 114807], [0, 1797]]</td>\n",
       "    </tr>\n",
       "    <tr>\n",
       "      <th>model_5</th>\n",
       "      <td>0.000</td>\n",
       "      <td>0.015411</td>\n",
       "      <td>0.015411</td>\n",
       "      <td>1.000000</td>\n",
       "      <td>0.030354</td>\n",
       "      <td>0.500000</td>\n",
       "      <td>[[0, 114807], [0, 1797]]</td>\n",
       "    </tr>\n",
       "  </tbody>\n",
       "</table>\n",
       "</div>"
      ],
      "text/plain": [
       "         Best Threshold  Accuracy  Precision    Recall  F1-Score       AUC  \\\n",
       "model_8           0.286  0.961914   0.081381  0.143016  0.103734  0.723929   \n",
       "model_1           0.054  0.951425   0.071571  0.179744  0.102377  0.745009   \n",
       "model_2           0.432  0.960550   0.078243  0.144686  0.101562  0.720399   \n",
       "model_7           0.341  0.946005   0.066821  0.193100  0.099285  0.720009   \n",
       "model_3           0.296  0.956365   0.071373  0.152476  0.097232  0.719519   \n",
       "model_6           0.350  0.938355   0.062206  0.213133  0.096304  0.717883   \n",
       "model_4           0.000  0.015411   0.015411  1.000000  0.030354  0.500000   \n",
       "model_5           0.000  0.015411   0.015411  1.000000  0.030354  0.500000   \n",
       "\n",
       "                      Confusion Matrix  \n",
       "model_8  [[111906, 2901], [1540, 257]]  \n",
       "model_1  [[110617, 4190], [1474, 323]]  \n",
       "model_2  [[111744, 3063], [1537, 260]]  \n",
       "model_7  [[109961, 4846], [1450, 347]]  \n",
       "model_3  [[111242, 3565], [1523, 274]]  \n",
       "model_6  [[109033, 5774], [1414, 383]]  \n",
       "model_4       [[0, 114807], [0, 1797]]  \n",
       "model_5       [[0, 114807], [0, 1797]]  "
      ]
     },
     "execution_count": 56,
     "metadata": {},
     "output_type": "execute_result"
    }
   ],
   "source": [
    "results_df = pd.DataFrame.from_dict(all_results, orient='index')\n",
    "sorted_df = results_df.sort_values(by='F1-Score', ascending=False)\n",
    "sorted_df"
   ]
  },
  {
   "cell_type": "markdown",
   "metadata": {},
   "source": [
    "## RNN Model"
   ]
  },
  {
   "cell_type": "markdown",
   "metadata": {},
   "source": [
    "### Analysis: \n",
    "\n",
    "**After running the initial RNN model, we tested multiple variations of:** \n",
    "- modifying the metrics to with permutations of recall, precision, F1 score and accuracy -> including recall is best\n",
    "- different thresholds for recall and precision -> recall below 0.4 causes every true positive to be caught with low precision\n",
    "- decreasing the dropout rate -> 0.2 is best\n",
    "- enhance the optimizer to include a learning rate (between 1e-3 and 1e-6) -> smaller is better\n",
    "- decreasing the number of epochs because the model appears to be overtraining -> decreasing results after 3 epochs\n",
    "- batch sizes of 16, 32, and 64 -> 32 is best\n",
    "- using SMOTE and non-SMOTE training variables -> SMOTE is clearly better\n",
    "- Implemented a customer F1 score function to work with binary problems due to keras.metrics.F1Score producing errors.\n",
    "\n",
    "From modifying these hyperparameters, computing time was not a significant consideration since we used a GPU. \n",
    "We prioritized the best results we could achieve over computing time.\n"
   ]
  },
  {
   "cell_type": "markdown",
   "metadata": {},
   "source": [
    "## RNN Model 1  "
   ]
  },
  {
   "cell_type": "code",
   "execution_count": 194,
   "metadata": {
    "id": "X26MKgPntQuU"
   },
   "outputs": [],
   "source": [
    "embedding_dim = 32\n",
    "max_features = 500000\n",
    "\n",
    "model_r1 = tf.keras.Sequential([\n",
    "    tf.keras.layers.Embedding(max_features, embedding_dim),\n",
    "    tf.keras.layers.Dropout(0.2),\n",
    "    tf.keras.layers.GlobalAveragePooling1D(),\n",
    "    tf.keras.layers.Dropout(0.2),\n",
    "    tf.keras.layers.Dense(1, activation = 'sigmoid')\n",
    "])"
   ]
  },
  {
   "cell_type": "code",
   "execution_count": 195,
   "metadata": {
    "id": "Lbwb-zcrquNo"
   },
   "outputs": [],
   "source": [
    "model_r1.compile(\n",
    "    optimizer = 'adam',\n",
    "    loss='binary_crossentropy',\n",
    "    metrics=[tf.keras.metrics.BinaryAccuracy(), tf.keras.metrics.Recall(), tf.keras.metrics.Precision()]\n",
    ")"
   ]
  },
  {
   "cell_type": "code",
   "execution_count": 189,
   "metadata": {
    "colab": {
     "base_uri": "https://localhost:8080/"
    },
    "id": "UTvfwt-f-zQb",
    "outputId": "b5e8aa4a-02f7-4f5d-a397-9c0643720345"
   },
   "outputs": [
    {
     "name": "stdout",
     "output_type": "stream",
     "text": [
      "(544152, 61)\n",
      "(1071532, 61)\n",
      "(1071532,)\n",
      "(116604, 61)\n",
      "(116604,)\n"
     ]
    }
   ],
   "source": [
    "print(x_train_scaled.shape)\n",
    "print(x_train_resampled.shape)\n",
    "print(y_train_resampled.shape)\n",
    "print(x_val_scaled.shape)\n",
    "print(y_val.shape)"
   ]
  },
  {
   "cell_type": "code",
   "execution_count": 196,
   "metadata": {
    "colab": {
     "base_uri": "https://localhost:8080/"
    },
    "id": "h9lOTG82quLH",
    "outputId": "4297edef-2ef6-4c3f-8ae6-f58bfe0f7c30"
   },
   "outputs": [
    {
     "name": "stdout",
     "output_type": "stream",
     "text": [
      "Epoch 1/10\n",
      "33486/33486 [==============================] - 217s 6ms/step - loss: 0.4673 - binary_accuracy: 0.7776 - recall_14: 0.7694 - precision_10: 0.7822 - val_loss: 1.4195 - val_binary_accuracy: 0.3267 - val_recall_14: 0.6984 - val_precision_10: 0.0158\n",
      "Epoch 2/10\n",
      "33486/33486 [==============================] - 212s 6ms/step - loss: 0.4427 - binary_accuracy: 0.7912 - recall_14: 0.7836 - precision_10: 0.7958 - val_loss: 1.0081 - val_binary_accuracy: 0.5007 - val_recall_14: 0.5181 - val_precision_10: 0.0160\n",
      "Epoch 3/10\n",
      "33486/33486 [==============================] - 212s 6ms/step - loss: 0.4373 - binary_accuracy: 0.7944 - recall_14: 0.7867 - precision_10: 0.7991 - val_loss: 0.8007 - val_binary_accuracy: 0.6017 - val_recall_14: 0.4101 - val_precision_10: 0.0160\n",
      "Epoch 4/10\n",
      "33486/33486 [==============================] - 212s 6ms/step - loss: 0.4338 - binary_accuracy: 0.7971 - recall_14: 0.7896 - precision_10: 0.8016 - val_loss: 0.6942 - val_binary_accuracy: 0.6605 - val_recall_14: 0.3467 - val_precision_10: 0.0160\n",
      "Epoch 5/10\n",
      "33486/33486 [==============================] - 212s 6ms/step - loss: 0.4313 - binary_accuracy: 0.7985 - recall_14: 0.7912 - precision_10: 0.8029 - val_loss: 0.5479 - val_binary_accuracy: 0.7424 - val_recall_14: 0.2755 - val_precision_10: 0.0169\n",
      "Epoch 6/10\n",
      "33486/33486 [==============================] - 212s 6ms/step - loss: 0.4293 - binary_accuracy: 0.7996 - recall_14: 0.7925 - precision_10: 0.8038 - val_loss: 0.4743 - val_binary_accuracy: 0.7855 - val_recall_14: 0.2321 - val_precision_10: 0.0173\n",
      "Epoch 7/10\n",
      "33486/33486 [==============================] - 212s 6ms/step - loss: 0.4276 - binary_accuracy: 0.8005 - recall_14: 0.7938 - precision_10: 0.8046 - val_loss: 0.4347 - val_binary_accuracy: 0.8080 - val_recall_14: 0.2109 - val_precision_10: 0.0178\n",
      "Epoch 8/10\n",
      "33486/33486 [==============================] - 211s 6ms/step - loss: 0.4264 - binary_accuracy: 0.8016 - recall_14: 0.7945 - precision_10: 0.8059 - val_loss: 0.3007 - val_binary_accuracy: 0.8819 - val_recall_14: 0.1224 - val_precision_10: 0.0177\n",
      "Epoch 9/10\n",
      "33486/33486 [==============================] - 212s 6ms/step - loss: 0.4252 - binary_accuracy: 0.8024 - recall_14: 0.7958 - precision_10: 0.8065 - val_loss: 0.3133 - val_binary_accuracy: 0.8753 - val_recall_14: 0.1330 - val_precision_10: 0.0181\n",
      "Epoch 10/10\n",
      "33486/33486 [==============================] - 213s 6ms/step - loss: 0.4243 - binary_accuracy: 0.8029 - recall_14: 0.7963 - precision_10: 0.8069 - val_loss: 0.2918 - val_binary_accuracy: 0.8868 - val_recall_14: 0.1196 - val_precision_10: 0.0182\n"
     ]
    }
   ],
   "source": [
    "#np.random.seed(33)\n",
    "#tf.random.set_seed(33)\n",
    "\n",
    "history = model_r1.fit(x_train_resampled, y_train_resampled,\n",
    "                    validation_data=(x_val_scaled, y_val),\n",
    "                    epochs=10,\n",
    "                    batch_size=32)"
   ]
  },
  {
   "cell_type": "code",
   "execution_count": 198,
   "metadata": {
    "colab": {
     "base_uri": "https://localhost:8080/",
     "height": 981
    },
    "id": "Sko65Ti0quIi",
    "outputId": "cf47f646-fdb8-4639-e198-d6387bdead17"
   },
   "outputs": [
    {
     "name": "stdout",
     "output_type": "stream",
     "text": [
      "3644/3644 [==============================] - 4s 1ms/step\n",
      "Best Threshold: 0.10101010101010102\n",
      "Accuracy: 0.5281379712531302\n",
      "Precision: 0.01642680622183457\n",
      "Recall: 0.5030606566499721\n",
      "F1-Score: 0.031814742473033134\n",
      "AUC: 0.5186243706799428\n",
      "Confusion Matrix:\n",
      "[[60679 54128]\n",
      " [  893   904]]\n"
     ]
    },
    {
     "data": {
      "image/png": "[encoded data removed]",
      "text/plain": [
       "<Figure size 1000x1000 with 2 Axes>"
      ]
     },
     "metadata": {},
     "output_type": "display_data"
    }
   ],
   "source": [
    "#import matplotlib.pyplot as plt\n",
    "plt.rcParams[\"figure.figsize\"] = (10,10)\n",
    "\n",
    "RNN1_test_results = test_metrics(model_r1, x_test_scaled, y_test)"
   ]
  },
  {
   "cell_type": "markdown",
   "metadata": {},
   "source": [
    "## RNN Model 2"
   ]
  },
  {
   "cell_type": "code",
   "execution_count": 55,
   "metadata": {
    "id": "m07ZSHcSNrR9"
   },
   "outputs": [],
   "source": [
    "embedding_dim = 32\n",
    "max_features = 500000\n",
    "\n",
    "model_r1 = tf.keras.Sequential([\n",
    "    tf.keras.layers.Embedding(max_features, embedding_dim),\n",
    "    tf.keras.layers.Dropout(0.2),\n",
    "    tf.keras.layers.GlobalAveragePooling1D(),\n",
    "    tf.keras.layers.Dropout(0.2),\n",
    "    tf.keras.layers.Dense(1, activation = 'sigmoid')\n",
    "])"
   ]
  },
  {
   "cell_type": "code",
   "execution_count": 64,
   "metadata": {
    "id": "y2irc6yzNrUe"
   },
   "outputs": [],
   "source": [
    "model_r1.compile(\n",
    "    #optimizer = 'adam',\n",
    "    optimizer = tf.keras.optimizers.Adam(learning_rate=1e-5),\n",
    "    loss='binary_crossentropy',\n",
    "    metrics=[tf.keras.metrics.Recall(thresholds = 0.4), tf.keras.metrics.Precision()] #####\n",
    ")"
   ]
  },
  {
   "cell_type": "code",
   "execution_count": 60,
   "metadata": {
    "colab": {
     "base_uri": "https://localhost:8080/"
    },
    "id": "xayc3o8dNrW0",
    "outputId": "10f0cad9-73ca-421a-a858-e4962fa722ac"
   },
   "outputs": [
    {
     "name": "stdout",
     "output_type": "stream",
     "text": [
      "(1071532, 61)\n",
      "(1071532, 61)\n",
      "(1071532,)\n",
      "(116604, 61)\n",
      "(116604,)\n"
     ]
    }
   ],
   "source": [
    "print(x_train_scaled.shape)\n",
    "print(x_train_resampled.shape)\n",
    "print(y_train_resampled.shape)\n",
    "print(x_val_scaled.shape)\n",
    "print(y_val.shape)"
   ]
  },
  {
   "cell_type": "markdown",
   "metadata": {
    "id": "RCdWn3Kfu1wI"
   },
   "source": [
    "#### recall threshold of 0.4, learning rate = 1e-5"
   ]
  },
  {
   "cell_type": "code",
   "execution_count": 65,
   "metadata": {
    "colab": {
     "base_uri": "https://localhost:8080/"
    },
    "id": "9vs9ZX1su1dI",
    "outputId": "c1265c7a-3400-4da3-b0c0-e4f7951948bd"
   },
   "outputs": [
    {
     "name": "stdout",
     "output_type": "stream",
     "text": [
      "Epoch 1/3\n",
      "33486/33486 [==============================] - 126s 4ms/step - loss: 0.5484 - recall_3: 0.8864 - precision_3: 0.7378 - val_loss: 0.8125 - val_recall_3: 0.7312 - val_precision_3: 0.0154\n",
      "Epoch 2/3\n",
      "33486/33486 [==============================] - 122s 4ms/step - loss: 0.5303 - recall_3: 0.8730 - precision_3: 0.7459 - val_loss: 0.8608 - val_recall_3: 0.7145 - val_precision_3: 0.0153\n",
      "Epoch 3/3\n",
      "33486/33486 [==============================] - 121s 4ms/step - loss: 0.5163 - recall_3: 0.8652 - precision_3: 0.7531 - val_loss: 0.9253 - val_recall_3: 0.7173 - val_precision_3: 0.0153\n"
     ]
    }
   ],
   "source": [
    "#np.random.seed(33)\n",
    "#tf.random.set_seed(33)\n",
    "\n",
    "history = model_r1.fit(x_train_resampled, y_train_resampled,\n",
    "                    validation_data=(x_val_scaled, y_val),\n",
    "                    epochs=3,\n",
    "                    batch_size=32)"
   ]
  },
  {
   "cell_type": "code",
   "execution_count": 66,
   "metadata": {
    "colab": {
     "base_uri": "https://localhost:8080/",
     "height": 981
    },
    "id": "HlVkeFnRu1Hf",
    "outputId": "1d2a0ea8-cc75-4997-8224-701dd4f7b92f"
   },
   "outputs": [
    {
     "name": "stdout",
     "output_type": "stream",
     "text": [
      "3644/3644 [==============================] - 4s 1ms/step\n",
      "Best Threshold: 0.36363636363636365\n",
      "Accuracy: 0.25716956536653973\n",
      "Precision: 0.016209988364399627\n",
      "Recall: 0.7907623817473567\n",
      "F1-Score: 0.031768743223152505\n",
      "AUC: 0.5167600311183009\n",
      "Confusion Matrix:\n",
      "[[28566 86241]\n",
      " [  376  1421]]\n"
     ]
    },
    {
     "data": {
      "image/png": "[encoded data removed]",
      "text/plain": [
       "<Figure size 1000x1000 with 2 Axes>"
      ]
     },
     "metadata": {},
     "output_type": "display_data"
    }
   ],
   "source": [
    "plt.rcParams[\"figure.figsize\"] = (10,10)\n",
    "\n",
    "RNN1_test_results = test_metrics(model_r1, x_test_scaled, y_test)"
   ]
  },
  {
   "cell_type": "markdown",
   "metadata": {},
   "source": [
    "## RNN Model 3"
   ]
  },
  {
   "cell_type": "markdown",
   "metadata": {
    "id": "QOQ78QqGu2MB"
   },
   "source": [
    "#### recall threshold of 0.45, learning rate = 1e-5"
   ]
  },
  {
   "cell_type": "code",
   "execution_count": 61,
   "metadata": {
    "colab": {
     "base_uri": "https://localhost:8080/"
    },
    "id": "imAB0vL8Z-FY",
    "outputId": "7bf7eec7-8804-4f0e-b6b9-54b3801c9200"
   },
   "outputs": [
    {
     "name": "stdout",
     "output_type": "stream",
     "text": [
      "Epoch 1/3\n",
      "33486/33486 [==============================] - 126s 4ms/step - loss: 0.6367 - recall_1: 0.9268 - precision_1: 0.7128 - val_loss: 0.7050 - val_recall_1: 0.7540 - val_precision_1: 0.0157\n",
      "Epoch 2/3\n",
      "33486/33486 [==============================] - 122s 4ms/step - loss: 0.6024 - recall_1: 0.8691 - precision_1: 0.7200 - val_loss: 0.7284 - val_recall_1: 0.6750 - val_precision_1: 0.0157\n",
      "Epoch 3/3\n",
      "33486/33486 [==============================] - 121s 4ms/step - loss: 0.5722 - recall_1: 0.8390 - precision_1: 0.7289 - val_loss: 0.7762 - val_recall_1: 0.6600 - val_precision_1: 0.0155\n"
     ]
    }
   ],
   "source": [
    "#np.random.seed(33)\n",
    "#tf.random.set_seed(33)\n",
    "\n",
    "history = model_r1.fit(x_train_resampled, y_train_resampled,\n",
    "                    validation_data=(x_val_scaled, y_val),\n",
    "                    epochs=3,\n",
    "                    batch_size=32)"
   ]
  },
  {
   "cell_type": "code",
   "execution_count": 62,
   "metadata": {
    "colab": {
     "base_uri": "https://localhost:8080/",
     "height": 983
    },
    "id": "5SxydTuQrvP8",
    "outputId": "4bbbf53a-ad43-4600-ec2d-0db880fa4fcf"
   },
   "outputs": [
    {
     "name": "stdout",
     "output_type": "stream",
     "text": [
      "3644/3644 [==============================] - 5s 1ms/step\n",
      "Best Threshold: 0.42424242424242425\n",
      "Accuracy: 0.3073822510377002\n",
      "Precision: 0.01623476076701587\n",
      "Recall: 0.7373400111296605\n",
      "F1-Score: 0.03177000911139884\n",
      "AUC: 0.5192023288616202\n",
      "Confusion Matrix:\n",
      "[[34517 80290]\n",
      " [  472  1325]]\n"
     ]
    },
    {
     "data": {
      "image/png": "[encoded data removed]",
      "text/plain": [
       "<Figure size 1000x1000 with 2 Axes>"
      ]
     },
     "metadata": {},
     "output_type": "display_data"
    }
   ],
   "source": [
    "plt.rcParams[\"figure.figsize\"] = (10,10)\n",
    "\n",
    "RNN1_test_results = test_metrics(model_r1, x_test_scaled, y_test)"
   ]
  },
  {
   "cell_type": "markdown",
   "metadata": {
    "id": "tqxFHH4KUxlp"
   },
   "source": [
    "#### Custom F1 function"
   ]
  },
  {
   "cell_type": "code",
   "execution_count": 26,
   "metadata": {
    "id": "GwirjZrvUw-D"
   },
   "outputs": [],
   "source": [
    "#### reference: https://datascience.stackexchange.com/questions/45165/how-to-get-accuracy-f1-precision-and-recall-for-a-keras-model\n",
    "\n",
    "def recall_m(y_true, y_pred):\n",
    "    true_positives = K.sum(K.round(K.clip(y_true * y_pred, 0, 1)))\n",
    "    possible_positives = K.sum(K.round(K.clip(y_true, 0, 1)))\n",
    "    recall = true_positives / (possible_positives + K.epsilon())\n",
    "    return recall\n",
    "\n",
    "def precision_m(y_true, y_pred):\n",
    "    true_positives = K.sum(K.round(K.clip(y_true * y_pred, 0, 1)))\n",
    "    predicted_positives = K.sum(K.round(K.clip(y_pred, 0, 1)))\n",
    "    precision = true_positives / (predicted_positives + K.epsilon())\n",
    "    return precision\n",
    "\n",
    "def f1_m(y_true, y_pred):\n",
    "    precision = precision_m(y_true, y_pred)\n",
    "    recall = recall_m(y_true, y_pred)\n",
    "    return 2*((precision*recall)/(precision+recall+K.epsilon()))"
   ]
  },
  {
   "cell_type": "markdown",
   "metadata": {},
   "source": [
    "## RNN Model 4"
   ]
  },
  {
   "cell_type": "code",
   "execution_count": 24,
   "metadata": {
    "id": "SA0QXAQDZ94n"
   },
   "outputs": [],
   "source": [
    "from keras import backend as K"
   ]
  },
  {
   "cell_type": "code",
   "execution_count": 25,
   "metadata": {
    "id": "jUG0QFKkZ926"
   },
   "outputs": [],
   "source": [
    "embedding_dim = 32\n",
    "max_features = 500000\n",
    "\n",
    "model_r1 = tf.keras.Sequential([\n",
    "    tf.keras.layers.Embedding(max_features, embedding_dim),\n",
    "    tf.keras.layers.Dropout(0.2),\n",
    "    tf.keras.layers.GlobalAveragePooling1D(),\n",
    "    tf.keras.layers.Dropout(0.2),\n",
    "    tf.keras.layers.Dense(1, activation = 'sigmoid')\n",
    "])"
   ]
  },
  {
   "cell_type": "code",
   "execution_count": 47,
   "metadata": {
    "id": "s0EaFZC9ja1G"
   },
   "outputs": [],
   "source": [
    "metric_list = [f1_m, recall_m] # we use F1 and recall \n",
    "\n",
    "model_r1.compile(\n",
    "    #optimizer = 'adam',\n",
    "    optimizer = tf.keras.optimizers.Adam(learning_rate=1e-5),\n",
    "    loss='binary_crossentropy',\n",
    "    metrics = metric_list\n",
    "    #metrics=[tf.keras.metrics.Recall(thresholds = 0.5), tf.keras.metrics.Precision(thresholds = 0.5)] #####\n",
    "    #metrics=[tf.keras.metrics.BinaryAccuracy(), tf.keras.metrics.Recall(thresholds = 0.4), tf.keras.metrics.Precision()]\n",
    "    #metrics=[tf.keras.metrics.F1Score(threshold=0.5)]\n",
    ")"
   ]
  },
  {
   "cell_type": "markdown",
   "metadata": {
    "id": "OnBkdHQqmQZv"
   },
   "source": [
    "##### using 6 epochs"
   ]
  },
  {
   "cell_type": "code",
   "execution_count": 53,
   "metadata": {
    "colab": {
     "base_uri": "https://localhost:8080/"
    },
    "id": "UcBOAU3qmO3w",
    "outputId": "a39d77d2-face-46af-ac0f-fb5075e88bf0"
   },
   "outputs": [
    {
     "name": "stdout",
     "output_type": "stream",
     "text": [
      "Epoch 1/6\n",
      "33486/33486 [==============================] - 124s 4ms/step - loss: 0.4205 - f1_m: 0.7990 - recall_m: 0.7985 - val_loss: 0.3170 - val_f1_m: 0.0252 - val_recall_m: 0.0529\n",
      "Epoch 2/6\n",
      "33486/33486 [==============================] - 122s 4ms/step - loss: 0.4204 - f1_m: 0.7987 - recall_m: 0.7981 - val_loss: 0.3170 - val_f1_m: 0.0247 - val_recall_m: 0.0520\n",
      "Epoch 3/6\n",
      "33486/33486 [==============================] - 123s 4ms/step - loss: 0.4201 - f1_m: 0.7991 - recall_m: 0.7986 - val_loss: 0.3220 - val_f1_m: 0.0253 - val_recall_m: 0.0537\n",
      "Epoch 4/6\n",
      "33486/33486 [==============================] - 122s 4ms/step - loss: 0.4203 - f1_m: 0.7990 - recall_m: 0.7987 - val_loss: 0.3186 - val_f1_m: 0.0248 - val_recall_m: 0.0526\n",
      "Epoch 5/6\n",
      "33486/33486 [==============================] - 122s 4ms/step - loss: 0.4204 - f1_m: 0.7985 - recall_m: 0.7975 - val_loss: 0.3185 - val_f1_m: 0.0247 - val_recall_m: 0.0523\n",
      "Epoch 6/6\n",
      "33486/33486 [==============================] - 122s 4ms/step - loss: 0.4203 - f1_m: 0.7987 - recall_m: 0.7983 - val_loss: 0.3114 - val_f1_m: 0.0246 - val_recall_m: 0.0511\n"
     ]
    }
   ],
   "source": [
    "#np.random.seed(33)\n",
    "#tf.random.set_seed(33)\n",
    "\n",
    "history = model_r1.fit(x_train_resampled, y_train_resampled,\n",
    "                    validation_data=(x_val_scaled, y_val),\n",
    "                    epochs=6,\n",
    "                    batch_size=32)"
   ]
  },
  {
   "cell_type": "markdown",
   "metadata": {
    "id": "cTh5Vxwnmioa"
   },
   "source": [
    "##### Results (6 epochs)"
   ]
  },
  {
   "cell_type": "code",
   "execution_count": 54,
   "metadata": {
    "colab": {
     "base_uri": "https://localhost:8080/",
     "height": 981
    },
    "id": "sxbr9PXymiaY",
    "outputId": "38bf9235-888e-4a18-a4f9-bcba6ff14497"
   },
   "outputs": [
    {
     "name": "stdout",
     "output_type": "stream",
     "text": [
      "3644/3644 [==============================] - 4s 1ms/step\n",
      "Best Threshold: 0.10101010101010102\n",
      "Accuracy: 0.5080100168090288\n",
      "Precision: 0.01637860512070736\n",
      "Recall: 0.523650528658876\n",
      "F1-Score: 0.03176371308016878\n",
      "AUC: 0.518328226337551\n",
      "Confusion Matrix:\n",
      "[[58295 56512]\n",
      " [  856   941]]\n"
     ]
    },
    {
     "data": {
      "image/png": "[encoded data removed]",
      "text/plain": [
       "<Figure size 1000x1000 with 2 Axes>"
      ]
     },
     "metadata": {},
     "output_type": "display_data"
    }
   ],
   "source": [
    "plt.rcParams[\"figure.figsize\"] = (10,10)\n",
    "\n",
    "RNN1_test_results = test_metrics(model_r1, x_test_scaled, y_test)"
   ]
  },
  {
   "cell_type": "markdown",
   "metadata": {},
   "source": [
    "## RNN Model 5"
   ]
  },
  {
   "cell_type": "markdown",
   "metadata": {
    "id": "r6O43mhMmRSu"
   },
   "source": [
    "##### using 3 epochs"
   ]
  },
  {
   "cell_type": "code",
   "execution_count": 51,
   "metadata": {
    "colab": {
     "base_uri": "https://localhost:8080/"
    },
    "id": "1EdI9SCMUv9F",
    "outputId": "fa925793-df4a-456a-b9b8-f4a82ff74183"
   },
   "outputs": [
    {
     "name": "stdout",
     "output_type": "stream",
     "text": [
      "Epoch 1/3\n",
      "33486/33486 [==============================] - 128s 4ms/step - loss: 0.4025 - f1_m: 0.8110 - recall_m: 0.8101 - val_loss: 0.3196 - val_f1_m: 0.0251 - val_recall_m: 0.0531\n",
      "Epoch 2/3\n",
      "33486/33486 [==============================] - 121s 4ms/step - loss: 0.4067 - f1_m: 0.8083 - recall_m: 0.8078 - val_loss: 0.3177 - val_f1_m: 0.0253 - val_recall_m: 0.0530\n",
      "Epoch 3/3\n",
      "33486/33486 [==============================] - 122s 4ms/step - loss: 0.4061 - f1_m: 0.8086 - recall_m: 0.8077 - val_loss: 0.3241 - val_f1_m: 0.0252 - val_recall_m: 0.0537\n"
     ]
    }
   ],
   "source": [
    "#np.random.seed(33)\n",
    "#tf.random.set_seed(33)\n",
    "\n",
    "history = model_r1.fit(x_train_resampled, y_train_resampled,\n",
    "                    validation_data=(x_val_scaled, y_val),\n",
    "                    epochs=3,\n",
    "                    batch_size=32)"
   ]
  },
  {
   "cell_type": "markdown",
   "metadata": {
    "id": "v8b1_doCkNk1"
   },
   "source": [
    "##### results (3 epochs): using F1 & recall, batch = 32, learning_rate=1e-5, 3 epochs"
   ]
  },
  {
   "cell_type": "code",
   "execution_count": 52,
   "metadata": {
    "colab": {
     "base_uri": "https://localhost:8080/",
     "height": 981
    },
    "id": "KI_GRZLwkNb9",
    "outputId": "c85c6425-0540-41aa-9b58-c14d0e798fe3"
   },
   "outputs": [
    {
     "name": "stdout",
     "output_type": "stream",
     "text": [
      "3644/3644 [==============================] - 5s 1ms/step\n",
      "Best Threshold: 0.10101010101010102\n",
      "Accuracy: 0.49325923638983227\n",
      "Precision: 0.01634389720904317\n",
      "Recall: 0.5386755703951029\n",
      "F1-Score: 0.03172522286313581\n",
      "AUC: 0.5185021821165898\n",
      "Confusion Matrix:\n",
      "[[56548 58259]\n",
      " [  829   968]]\n"
     ]
    },
    {
     "data": {
      "image/png": "[encoded data removed]",
      "text/plain": [
       "<Figure size 1000x1000 with 2 Axes>"
      ]
     },
     "metadata": {},
     "output_type": "display_data"
    }
   ],
   "source": [
    "plt.rcParams[\"figure.figsize\"] = (10,10)\n",
    "\n",
    "RNN1_test_results = test_metrics(model_r1, x_test_scaled, y_test)"
   ]
  },
  {
   "cell_type": "markdown",
   "metadata": {},
   "source": [
    "## LSTM Attempts"
   ]
  },
  {
   "cell_type": "code",
   "execution_count": 57,
   "metadata": {},
   "outputs": [],
   "source": [
    "x_train_reshaped = np.expand_dims(x_train_scaled, axis=1)\n",
    "x_val_reshaped = np.expand_dims(x_val_scaled, axis=1)\n",
    "x_test_reshaped = np.expand_dims(x_test_scaled, axis = 1)"
   ]
  },
  {
   "cell_type": "code",
   "execution_count": 58,
   "metadata": {},
   "outputs": [
    {
     "data": {
      "text/plain": [
       "(1071532, 61)"
      ]
     },
     "execution_count": 58,
     "metadata": {},
     "output_type": "execute_result"
    }
   ],
   "source": [
    "x_train_scaled.shape"
   ]
  },
  {
   "cell_type": "code",
   "execution_count": 59,
   "metadata": {},
   "outputs": [
    {
     "data": {
      "text/plain": [
       "(1071532, 1, 61)"
      ]
     },
     "execution_count": 59,
     "metadata": {},
     "output_type": "execute_result"
    }
   ],
   "source": [
    "x_train_reshaped.shape"
   ]
  },
  {
   "cell_type": "code",
   "execution_count": 60,
   "metadata": {},
   "outputs": [
    {
     "data": {
      "text/plain": [
       "(116604, 1, 61)"
      ]
     },
     "execution_count": 60,
     "metadata": {},
     "output_type": "execute_result"
    }
   ],
   "source": [
    "x_val_reshaped.shape"
   ]
  },
  {
   "cell_type": "markdown",
   "metadata": {},
   "source": [
    "## LSTM Model 1"
   ]
  },
  {
   "cell_type": "code",
   "execution_count": 61,
   "metadata": {},
   "outputs": [],
   "source": [
    "num_features = x_train_scaled.shape[1]\n",
    "\n",
    "model_r1 = tf.keras.Sequential([\n",
    "    tf.keras.layers.InputLayer(input_shape=(None, num_features)),\n",
    "    tf.keras.layers.LSTM(50, return_sequences=True),\n",
    "    tf.keras.layers.Dropout(0.5),\n",
    "    tf.keras.layers.LSTM(50),\n",
    "    tf.keras.layers.Dense(1, activation='sigmoid')\n",
    "])\n"
   ]
  },
  {
   "cell_type": "code",
   "execution_count": 62,
   "metadata": {},
   "outputs": [],
   "source": [
    "model_r1.compile(\n",
    "    optimizer = tf.keras.optimizers.Adam(learning_rate=1e-3),\n",
    "    loss='binary_crossentropy',\n",
    "    metrics=[tf.keras.metrics.BinaryAccuracy(), tf.keras.metrics.Recall(), tf.keras.metrics.Precision()]\n",
    ")"
   ]
  },
  {
   "cell_type": "code",
   "execution_count": 63,
   "metadata": {},
   "outputs": [
    {
     "name": "stdout",
     "output_type": "stream",
     "text": [
      "Epoch 1/10\n",
      "33486/33486 [==============================] - 84s 2ms/step - loss: 0.6932 - binary_accuracy: 0.5004 - recall_8: 0.5232 - precision_6: 0.5004 - val_loss: 0.6896 - val_binary_accuracy: 0.9846 - val_recall_8: 0.0000e+00 - val_precision_6: 0.0000e+00\n",
      "Epoch 2/10\n",
      "33486/33486 [==============================] - 81s 2ms/step - loss: 0.6932 - binary_accuracy: 0.4996 - recall_8: 0.5266 - precision_6: 0.4996 - val_loss: 0.6896 - val_binary_accuracy: 0.9846 - val_recall_8: 0.0000e+00 - val_precision_6: 0.0000e+00\n",
      "Epoch 3/10\n",
      "33486/33486 [==============================] - 80s 2ms/step - loss: 0.6932 - binary_accuracy: 0.4996 - recall_8: 0.4775 - precision_6: 0.4996 - val_loss: 0.7042 - val_binary_accuracy: 0.0154 - val_recall_8: 1.0000 - val_precision_6: 0.0154\n",
      "Epoch 4/10\n",
      "33486/33486 [==============================] - 80s 2ms/step - loss: 0.6932 - binary_accuracy: 0.4994 - recall_8: 0.5222 - precision_6: 0.4994 - val_loss: 0.7028 - val_binary_accuracy: 0.0154 - val_recall_8: 1.0000 - val_precision_6: 0.0154\n",
      "Epoch 5/10\n",
      "33486/33486 [==============================] - 79s 2ms/step - loss: 0.6932 - binary_accuracy: 0.5002 - recall_8: 0.5180 - precision_6: 0.5002 - val_loss: 0.6959 - val_binary_accuracy: 0.0154 - val_recall_8: 1.0000 - val_precision_6: 0.0154\n",
      "Epoch 6/10\n",
      "33486/33486 [==============================] - 80s 2ms/step - loss: 0.6932 - binary_accuracy: 0.4999 - recall_8: 0.5144 - precision_6: 0.4999 - val_loss: 0.6909 - val_binary_accuracy: 0.9846 - val_recall_8: 0.0000e+00 - val_precision_6: 0.0000e+00\n",
      "Epoch 7/10\n",
      "33486/33486 [==============================] - 80s 2ms/step - loss: 0.6932 - binary_accuracy: 0.4998 - recall_8: 0.4566 - precision_6: 0.4998 - val_loss: 0.6997 - val_binary_accuracy: 0.0154 - val_recall_8: 1.0000 - val_precision_6: 0.0154\n",
      "Epoch 8/10\n",
      "33486/33486 [==============================] - 80s 2ms/step - loss: 0.6932 - binary_accuracy: 0.5007 - recall_8: 0.4913 - precision_6: 0.5008 - val_loss: 0.6946 - val_binary_accuracy: 0.0154 - val_recall_8: 1.0000 - val_precision_6: 0.0154\n",
      "Epoch 9/10\n",
      "33486/33486 [==============================] - 80s 2ms/step - loss: 0.6932 - binary_accuracy: 0.5004 - recall_8: 0.4709 - precision_6: 0.5004 - val_loss: 0.6925 - val_binary_accuracy: 0.9846 - val_recall_8: 0.0000e+00 - val_precision_6: 0.0000e+00\n",
      "Epoch 10/10\n",
      "33486/33486 [==============================] - 90s 3ms/step - loss: 0.6932 - binary_accuracy: 0.4995 - recall_8: 0.5467 - precision_6: 0.4996 - val_loss: 0.6855 - val_binary_accuracy: 0.9846 - val_recall_8: 0.0000e+00 - val_precision_6: 0.0000e+00\n"
     ]
    }
   ],
   "source": [
    "np.random.seed(33)\n",
    "tf.random.set_seed(33)\n",
    "\n",
    "\n",
    "history = model_r1.fit(x_train_reshaped, y_train_resampled, \n",
    "                    validation_data=(x_val_reshaped, y_val),\n",
    "                    epochs=10,\n",
    "                    batch_size=32,\n",
    "                    )"
   ]
  },
  {
   "cell_type": "code",
   "execution_count": 70,
   "metadata": {},
   "outputs": [
    {
     "name": "stdout",
     "output_type": "stream",
     "text": [
      "3644/3644 [==============================] - 5s 1ms/step\n",
      "Best Threshold: 0.0\n",
      "Accuracy: 0.015411135124009469\n",
      "Precision: 0.015411135124009469\n",
      "Recall: 1.0\n",
      "F1-Score: 0.030354473357488535\n",
      "AUC: 0.5\n",
      "Confusion Matrix:\n",
      "[[     0 114807]\n",
      " [     0   1797]]\n"
     ]
    },
    {
     "data": {
      "image/png": "[encoded data removed]",
      "text/plain": [
       "<Figure size 640x480 with 2 Axes>"
      ]
     },
     "metadata": {},
     "output_type": "display_data"
    }
   ],
   "source": [
    "r1_test_results = test_metrics(model_r1, x_test_reshaped, y_test)"
   ]
  },
  {
   "cell_type": "markdown",
   "metadata": {},
   "source": [
    "## LSTM Model 2  \n",
    "Adding dense layer and Global Average Pooling"
   ]
  },
  {
   "cell_type": "code",
   "execution_count": 65,
   "metadata": {},
   "outputs": [],
   "source": [
    "num_features = x_train_scaled.shape[1]\n",
    "\n",
    "model_r2 = tf.keras.Sequential([\n",
    "    tf.keras.layers.InputLayer(input_shape=(None, num_features)),\n",
    "    tf.keras.layers.LSTM(50, return_sequences=True),\n",
    "    tf.keras.layers.Dropout(0.2),\n",
    "    tf.keras.layers.LSTM(50, return_sequences=True),\n",
    "    tf.keras.layers.GlobalAveragePooling1D(),\n",
    "    tf.keras.layers.Dense(64, activation='relu'), \n",
    "    tf.keras.layers.Dropout(0.2),\n",
    "    tf.keras.layers.Dense(1, activation='sigmoid')\n",
    "])\n"
   ]
  },
  {
   "cell_type": "code",
   "execution_count": 66,
   "metadata": {},
   "outputs": [],
   "source": [
    "model_r2.compile(\n",
    "    optimizer = 'adam',\n",
    "    loss='binary_crossentropy',\n",
    "    metrics=[tf.keras.metrics.BinaryAccuracy(), tf.keras.metrics.Recall(), tf.keras.metrics.Precision()]\n",
    ")"
   ]
  },
  {
   "cell_type": "code",
   "execution_count": 67,
   "metadata": {},
   "outputs": [
    {
     "name": "stdout",
     "output_type": "stream",
     "text": [
      "Epoch 1/3\n",
      "33486/33486 [==============================] - 97s 3ms/step - loss: 0.6932 - binary_accuracy: 0.5002 - recall_9: 0.5206 - precision_7: 0.5002 - val_loss: 0.6895 - val_binary_accuracy: 0.9846 - val_recall_9: 0.0000e+00 - val_precision_7: 0.0000e+00\n",
      "Epoch 2/3\n",
      "33486/33486 [==============================] - 93s 3ms/step - loss: 0.6932 - binary_accuracy: 0.4994 - recall_9: 0.5265 - precision_7: 0.4995 - val_loss: 0.6905 - val_binary_accuracy: 0.9846 - val_recall_9: 0.0000e+00 - val_precision_7: 0.0000e+00\n",
      "Epoch 3/3\n",
      "33486/33486 [==============================] - 92s 3ms/step - loss: 0.6932 - binary_accuracy: 0.4997 - recall_9: 0.4865 - precision_7: 0.4997 - val_loss: 0.7048 - val_binary_accuracy: 0.0154 - val_recall_9: 1.0000 - val_precision_7: 0.0154\n"
     ]
    }
   ],
   "source": [
    "np.random.seed(33)\n",
    "tf.random.set_seed(33)\n",
    "\n",
    "history = model_r2.fit(x_train_reshaped, y_train_resampled, \n",
    "                    validation_data=(x_val_reshaped, y_val),\n",
    "                    epochs=3,\n",
    "                    batch_size=32\n",
    "                    )"
   ]
  },
  {
   "cell_type": "code",
   "execution_count": 69,
   "metadata": {},
   "outputs": [
    {
     "name": "stdout",
     "output_type": "stream",
     "text": [
      "3644/3644 [==============================] - 4s 1ms/step\n",
      "Best Threshold: 0.0\n",
      "Accuracy: 0.015411135124009469\n",
      "Precision: 0.015411135124009469\n",
      "Recall: 1.0\n",
      "F1-Score: 0.030354473357488535\n",
      "AUC: 0.5\n",
      "Confusion Matrix:\n",
      "[[     0 114807]\n",
      " [     0   1797]]\n"
     ]
    },
    {
     "data": {
      "image/png": "[encoded data removed]",
      "text/plain": [
       "<Figure size 640x480 with 2 Axes>"
      ]
     },
     "metadata": {},
     "output_type": "display_data"
    }
   ],
   "source": [
    "r2_test_results = test_metrics(model_r2, x_test_reshaped, y_test)"
   ]
  }
 ],
 "metadata": {
  "kernelspec": {
   "display_name": "Python 3 (ipykernel)",
   "language": "python",
   "name": "python3"
  },
  "language_info": {
   "codemirror_mode": {
    "name": "ipython",
    "version": 3
   },
   "file_extension": ".py",
   "mimetype": "text/x-python",
   "name": "python",
   "nbconvert_exporter": "python",
   "pygments_lexer": "ipython3",
   "version": "3.11.5"
  }
 },
 "nbformat": 4,
 "nbformat_minor": 4
}
