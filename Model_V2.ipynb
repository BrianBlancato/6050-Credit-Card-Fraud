{
 "cells": [
  {
   "cell_type": "code",
   "execution_count": 1,
   "metadata": {},
   "outputs": [],
   "source": [
    "import pandas as pd\n",
    "import numpy as np\n",
    "import matplotlib.pyplot as plt\n",
    "import tensorflow as tf\n",
    "\n",
    "%matplotlib inline"
   ]
  },
  {
   "cell_type": "code",
   "execution_count": 2,
   "metadata": {},
   "outputs": [
    {
     "data": {
      "text/html": [
       "<div>\n",
       "<style scoped>\n",
       "    .dataframe tbody tr th:only-of-type {\n",
       "        vertical-align: middle;\n",
       "    }\n",
       "\n",
       "    .dataframe tbody tr th {\n",
       "        vertical-align: top;\n",
       "    }\n",
       "\n",
       "    .dataframe thead th {\n",
       "        text-align: right;\n",
       "    }\n",
       "</style>\n",
       "<table border=\"1\" class=\"dataframe\">\n",
       "  <thead>\n",
       "    <tr style=\"text-align: right;\">\n",
       "      <th></th>\n",
       "      <th>accountNumber</th>\n",
       "      <th>customerId</th>\n",
       "      <th>creditLimit</th>\n",
       "      <th>availableMoney</th>\n",
       "      <th>transactionDateTime</th>\n",
       "      <th>transactionAmount</th>\n",
       "      <th>merchantName</th>\n",
       "      <th>acqCountry</th>\n",
       "      <th>merchantCountryCode</th>\n",
       "      <th>posEntryMode</th>\n",
       "      <th>...</th>\n",
       "      <th>echoBuffer</th>\n",
       "      <th>currentBalance</th>\n",
       "      <th>merchantCity</th>\n",
       "      <th>merchantState</th>\n",
       "      <th>merchantZip</th>\n",
       "      <th>cardPresent</th>\n",
       "      <th>posOnPremises</th>\n",
       "      <th>recurringAuthInd</th>\n",
       "      <th>expirationDateKeyInMatch</th>\n",
       "      <th>isFraud</th>\n",
       "    </tr>\n",
       "  </thead>\n",
       "  <tbody>\n",
       "    <tr>\n",
       "      <th>0</th>\n",
       "      <td>737265056</td>\n",
       "      <td>737265056</td>\n",
       "      <td>5000</td>\n",
       "      <td>5000.0</td>\n",
       "      <td>2016-08-13T14:27:32</td>\n",
       "      <td>98.55</td>\n",
       "      <td>Uber</td>\n",
       "      <td>US</td>\n",
       "      <td>US</td>\n",
       "      <td>02</td>\n",
       "      <td>...</td>\n",
       "      <td></td>\n",
       "      <td>0.0</td>\n",
       "      <td></td>\n",
       "      <td></td>\n",
       "      <td></td>\n",
       "      <td>False</td>\n",
       "      <td></td>\n",
       "      <td></td>\n",
       "      <td>False</td>\n",
       "      <td>False</td>\n",
       "    </tr>\n",
       "    <tr>\n",
       "      <th>1</th>\n",
       "      <td>737265056</td>\n",
       "      <td>737265056</td>\n",
       "      <td>5000</td>\n",
       "      <td>5000.0</td>\n",
       "      <td>2016-10-11T05:05:54</td>\n",
       "      <td>74.51</td>\n",
       "      <td>AMC #191138</td>\n",
       "      <td>US</td>\n",
       "      <td>US</td>\n",
       "      <td>09</td>\n",
       "      <td>...</td>\n",
       "      <td></td>\n",
       "      <td>0.0</td>\n",
       "      <td></td>\n",
       "      <td></td>\n",
       "      <td></td>\n",
       "      <td>True</td>\n",
       "      <td></td>\n",
       "      <td></td>\n",
       "      <td>False</td>\n",
       "      <td>False</td>\n",
       "    </tr>\n",
       "    <tr>\n",
       "      <th>2</th>\n",
       "      <td>737265056</td>\n",
       "      <td>737265056</td>\n",
       "      <td>5000</td>\n",
       "      <td>5000.0</td>\n",
       "      <td>2016-11-08T09:18:39</td>\n",
       "      <td>7.47</td>\n",
       "      <td>Play Store</td>\n",
       "      <td>US</td>\n",
       "      <td>US</td>\n",
       "      <td>09</td>\n",
       "      <td>...</td>\n",
       "      <td></td>\n",
       "      <td>0.0</td>\n",
       "      <td></td>\n",
       "      <td></td>\n",
       "      <td></td>\n",
       "      <td>False</td>\n",
       "      <td></td>\n",
       "      <td></td>\n",
       "      <td>False</td>\n",
       "      <td>False</td>\n",
       "    </tr>\n",
       "    <tr>\n",
       "      <th>3</th>\n",
       "      <td>737265056</td>\n",
       "      <td>737265056</td>\n",
       "      <td>5000</td>\n",
       "      <td>5000.0</td>\n",
       "      <td>2016-12-10T02:14:50</td>\n",
       "      <td>7.47</td>\n",
       "      <td>Play Store</td>\n",
       "      <td>US</td>\n",
       "      <td>US</td>\n",
       "      <td>09</td>\n",
       "      <td>...</td>\n",
       "      <td></td>\n",
       "      <td>0.0</td>\n",
       "      <td></td>\n",
       "      <td></td>\n",
       "      <td></td>\n",
       "      <td>False</td>\n",
       "      <td></td>\n",
       "      <td></td>\n",
       "      <td>False</td>\n",
       "      <td>False</td>\n",
       "    </tr>\n",
       "    <tr>\n",
       "      <th>4</th>\n",
       "      <td>830329091</td>\n",
       "      <td>830329091</td>\n",
       "      <td>5000</td>\n",
       "      <td>5000.0</td>\n",
       "      <td>2016-03-24T21:04:46</td>\n",
       "      <td>71.18</td>\n",
       "      <td>Tim Hortons #947751</td>\n",
       "      <td>US</td>\n",
       "      <td>US</td>\n",
       "      <td>02</td>\n",
       "      <td>...</td>\n",
       "      <td></td>\n",
       "      <td>0.0</td>\n",
       "      <td></td>\n",
       "      <td></td>\n",
       "      <td></td>\n",
       "      <td>True</td>\n",
       "      <td></td>\n",
       "      <td></td>\n",
       "      <td>False</td>\n",
       "      <td>False</td>\n",
       "    </tr>\n",
       "  </tbody>\n",
       "</table>\n",
       "<p>5 rows × 29 columns</p>\n",
       "</div>"
      ],
      "text/plain": [
       "   accountNumber  customerId  creditLimit  availableMoney  \\\n",
       "0      737265056   737265056         5000          5000.0   \n",
       "1      737265056   737265056         5000          5000.0   \n",
       "2      737265056   737265056         5000          5000.0   \n",
       "3      737265056   737265056         5000          5000.0   \n",
       "4      830329091   830329091         5000          5000.0   \n",
       "\n",
       "   transactionDateTime  transactionAmount         merchantName acqCountry  \\\n",
       "0  2016-08-13T14:27:32              98.55                 Uber         US   \n",
       "1  2016-10-11T05:05:54              74.51          AMC #191138         US   \n",
       "2  2016-11-08T09:18:39               7.47           Play Store         US   \n",
       "3  2016-12-10T02:14:50               7.47           Play Store         US   \n",
       "4  2016-03-24T21:04:46              71.18  Tim Hortons #947751         US   \n",
       "\n",
       "  merchantCountryCode posEntryMode  ... echoBuffer currentBalance  \\\n",
       "0                  US           02  ...                       0.0   \n",
       "1                  US           09  ...                       0.0   \n",
       "2                  US           09  ...                       0.0   \n",
       "3                  US           09  ...                       0.0   \n",
       "4                  US           02  ...                       0.0   \n",
       "\n",
       "  merchantCity merchantState merchantZip  cardPresent  posOnPremises  \\\n",
       "0                                               False                  \n",
       "1                                                True                  \n",
       "2                                               False                  \n",
       "3                                               False                  \n",
       "4                                                True                  \n",
       "\n",
       "   recurringAuthInd expirationDateKeyInMatch isFraud  \n",
       "0                                      False   False  \n",
       "1                                      False   False  \n",
       "2                                      False   False  \n",
       "3                                      False   False  \n",
       "4                                      False   False  \n",
       "\n",
       "[5 rows x 29 columns]"
      ]
     },
     "execution_count": 2,
     "metadata": {},
     "output_type": "execute_result"
    }
   ],
   "source": [
    "df = pd.read_json('transactions.txt', lines=True)\n",
    "\n",
    "df.head()"
   ]
  },
  {
   "cell_type": "markdown",
   "metadata": {},
   "source": [
    "## Data Cleaning"
   ]
  },
  {
   "cell_type": "code",
   "execution_count": 3,
   "metadata": {},
   "outputs": [],
   "source": [
    "# Replacing white space with nan\n",
    "\n",
    "df = df.replace('', np.nan)"
   ]
  },
  {
   "cell_type": "code",
   "execution_count": 4,
   "metadata": {},
   "outputs": [
    {
     "name": "stdout",
     "output_type": "stream",
     "text": [
      "Empty columns that were removed:\n",
      "['echoBuffer', 'merchantCity', 'merchantState', 'merchantZip', 'posOnPremises', 'recurringAuthInd']\n"
     ]
    }
   ],
   "source": [
    "# Checking which columns are empty and removing\n",
    "\n",
    "nan_col = df.columns[df.isna().all()].tolist()\n",
    "df.drop(columns=nan_col, inplace=True)\n",
    "\n",
    "print(\"Empty columns that were removed:\")\n",
    "print(nan_col)"
   ]
  },
  {
   "cell_type": "code",
   "execution_count": 5,
   "metadata": {},
   "outputs": [
    {
     "data": {
      "text/plain": [
       "True"
      ]
     },
     "execution_count": 5,
     "metadata": {},
     "output_type": "execute_result"
    }
   ],
   "source": [
    "# Account Number and Customer Id columns appear to be equal\n",
    "\n",
    "df['accountNumber'].equals(df['customerId'])"
   ]
  },
  {
   "cell_type": "code",
   "execution_count": 6,
   "metadata": {},
   "outputs": [],
   "source": [
    "# Removing customerId as it is a duplicate of accountNumber\n",
    "\n",
    "df.drop(columns=['customerId'], inplace=True)"
   ]
  },
  {
   "cell_type": "code",
   "execution_count": 7,
   "metadata": {},
   "outputs": [],
   "source": [
    "# Dropping merchantName as merchantCategory will be used\n",
    "df.drop(columns=['merchantName'], inplace=True)"
   ]
  },
  {
   "cell_type": "code",
   "execution_count": 8,
   "metadata": {},
   "outputs": [],
   "source": [
    "# Need to remove remaining unneeded columns\n",
    "#df.drop(columns=['cardCVV'], inplace=True)\n",
    "#df.drop(columns=['enteredCVV'], inplace=True)\n",
    "df.drop(columns=['cardLast4Digits'], inplace=True)"
   ]
  },
  {
   "cell_type": "code",
   "execution_count": 9,
   "metadata": {},
   "outputs": [],
   "source": [
    "# Filling NaN with purchase to keep data\n",
    "\n",
    "df['transactionType'] = df['transactionType'].fillna('PURCHASE')"
   ]
  },
  {
   "cell_type": "code",
   "execution_count": 10,
   "metadata": {},
   "outputs": [
    {
     "data": {
      "text/plain": [
       "9003"
      ]
     },
     "execution_count": 10,
     "metadata": {},
     "output_type": "execute_result"
    }
   ],
   "source": [
    "# Total amount of rows with NaN values\n",
    "df.isnull().any(axis=1).sum()"
   ]
  },
  {
   "cell_type": "code",
   "execution_count": 11,
   "metadata": {},
   "outputs": [],
   "source": [
    "# Dropping all rows with NaN value\n",
    "df = df.dropna()"
   ]
  },
  {
   "cell_type": "code",
   "execution_count": 12,
   "metadata": {},
   "outputs": [],
   "source": [
    "pd.pandas.set_option('display.max_columns', None)"
   ]
  },
  {
   "cell_type": "code",
   "execution_count": 13,
   "metadata": {},
   "outputs": [],
   "source": [
    "# Changing transactionDatetime. All transactions occurred in 2016, year is unneeded.\n",
    "\n",
    "df['transactionDateTime'] = pd.to_datetime(df['transactionDateTime'])\n",
    "df['Month'] = df['transactionDateTime'].dt.month\n",
    "df['day'] = df['transactionDateTime'].dt.day\n",
    "df['hour'] = df['transactionDateTime'].dt.hour\n",
    "df['minute'] = df['transactionDateTime'].dt.minute\n",
    "\n",
    "# Cyclic encoding for hour and minute\n",
    "df['hourSin'] = np.sin(2 * np.pi * df['hour'] / 24)\n",
    "df['hourCos'] = np.cos(2 * np.pi * df['hour'] / 24)\n",
    "df['minuteSin'] = np.sin(2 * np.pi * df['minute'] / 24)\n",
    "df['minuteCos'] = np.cos(2 * np.pi * df['minute'] / 24)\n",
    "\n",
    "# Do not need columns\n",
    "df.drop(columns=['transactionDateTime'], inplace=True)\n",
    "df.drop(columns=['hour'], inplace=True)\n",
    "df.drop(columns=['minute'], inplace=True)"
   ]
  },
  {
   "cell_type": "code",
   "execution_count": 14,
   "metadata": {},
   "outputs": [],
   "source": [
    "# Reformatting other date columns\n",
    "\n",
    "df['expYear'] = pd.to_datetime(df['currentExpDate']).dt.year\n",
    "df['expMonth'] = pd.to_datetime(df['currentExpDate']).dt.month\n",
    "\n",
    "df['accountOpenYear'] = pd.to_datetime(df['accountOpenDate']).dt.year\n",
    "df['accountOpenMonth'] = pd.to_datetime(df['accountOpenDate']).dt.month\n",
    "df['accountOpenDay'] = pd.to_datetime(df['accountOpenDate']).dt.day\n",
    "\n",
    "df['lastAddressChangeYear'] = pd.to_datetime(df['dateOfLastAddressChange']).dt.year\n",
    "df['lastAddressChangeMonth'] = pd.to_datetime(df['dateOfLastAddressChange']).dt.month\n",
    "df['lastAddressChangeDay'] = pd.to_datetime(df['dateOfLastAddressChange']).dt.day\n",
    "\n",
    "# removing unneeded columns\n",
    "df.drop(columns=['currentExpDate'], inplace=True)\n",
    "df.drop(columns=['accountOpenDate'], inplace=True)\n",
    "df.drop(columns=['dateOfLastAddressChange'], inplace=True)"
   ]
  },
  {
   "cell_type": "markdown",
   "metadata": {},
   "source": [
    "## Encoding"
   ]
  },
  {
   "cell_type": "code",
   "execution_count": 15,
   "metadata": {},
   "outputs": [],
   "source": [
    "# Categorical columns that need to be endocded\n",
    "\n",
    "columns_to_encode = ['acqCountry', 'merchantCountryCode', 'posEntryMode', 'posConditionCode', 'transactionType', 'merchantCategoryCode']\n",
    "df = pd.get_dummies(df, columns=columns_to_encode, prefix=columns_to_encode)\n",
    "\n",
    "# Convert boolean columns to integers\n",
    "df['cardPresent'] = df['cardPresent'].astype(int)\n",
    "df['expirationDateKeyInMatch'] = df['expirationDateKeyInMatch'].astype(int)"
   ]
  },
  {
   "cell_type": "code",
   "execution_count": 16,
   "metadata": {},
   "outputs": [
    {
     "name": "stdout",
     "output_type": "stream",
     "text": [
      "<class 'pandas.core.frame.DataFrame'>\n",
      "Int64Index: 777360 entries, 0 to 786362\n",
      "Data columns (total 62 columns):\n",
      " #   Column                                     Non-Null Count   Dtype  \n",
      "---  ------                                     --------------   -----  \n",
      " 0   accountNumber                              777360 non-null  int64  \n",
      " 1   creditLimit                                777360 non-null  int64  \n",
      " 2   availableMoney                             777360 non-null  float64\n",
      " 3   transactionAmount                          777360 non-null  float64\n",
      " 4   cardCVV                                    777360 non-null  int64  \n",
      " 5   enteredCVV                                 777360 non-null  int64  \n",
      " 6   currentBalance                             777360 non-null  float64\n",
      " 7   cardPresent                                777360 non-null  int32  \n",
      " 8   expirationDateKeyInMatch                   777360 non-null  int32  \n",
      " 9   isFraud                                    777360 non-null  bool   \n",
      " 10  Month                                      777360 non-null  int64  \n",
      " 11  day                                        777360 non-null  int64  \n",
      " 12  hourSin                                    777360 non-null  float64\n",
      " 13  hourCos                                    777360 non-null  float64\n",
      " 14  minuteSin                                  777360 non-null  float64\n",
      " 15  minuteCos                                  777360 non-null  float64\n",
      " 16  expYear                                    777360 non-null  int64  \n",
      " 17  expMonth                                   777360 non-null  int64  \n",
      " 18  accountOpenYear                            777360 non-null  int64  \n",
      " 19  accountOpenMonth                           777360 non-null  int64  \n",
      " 20  accountOpenDay                             777360 non-null  int64  \n",
      " 21  lastAddressChangeYear                      777360 non-null  int64  \n",
      " 22  lastAddressChangeMonth                     777360 non-null  int64  \n",
      " 23  lastAddressChangeDay                       777360 non-null  int64  \n",
      " 24  acqCountry_CAN                             777360 non-null  uint8  \n",
      " 25  acqCountry_MEX                             777360 non-null  uint8  \n",
      " 26  acqCountry_PR                              777360 non-null  uint8  \n",
      " 27  acqCountry_US                              777360 non-null  uint8  \n",
      " 28  merchantCountryCode_CAN                    777360 non-null  uint8  \n",
      " 29  merchantCountryCode_MEX                    777360 non-null  uint8  \n",
      " 30  merchantCountryCode_PR                     777360 non-null  uint8  \n",
      " 31  merchantCountryCode_US                     777360 non-null  uint8  \n",
      " 32  posEntryMode_02                            777360 non-null  uint8  \n",
      " 33  posEntryMode_05                            777360 non-null  uint8  \n",
      " 34  posEntryMode_09                            777360 non-null  uint8  \n",
      " 35  posEntryMode_80                            777360 non-null  uint8  \n",
      " 36  posEntryMode_90                            777360 non-null  uint8  \n",
      " 37  posConditionCode_01                        777360 non-null  uint8  \n",
      " 38  posConditionCode_08                        777360 non-null  uint8  \n",
      " 39  posConditionCode_99                        777360 non-null  uint8  \n",
      " 40  transactionType_ADDRESS_VERIFICATION       777360 non-null  uint8  \n",
      " 41  transactionType_PURCHASE                   777360 non-null  uint8  \n",
      " 42  transactionType_REVERSAL                   777360 non-null  uint8  \n",
      " 43  merchantCategoryCode_airline               777360 non-null  uint8  \n",
      " 44  merchantCategoryCode_auto                  777360 non-null  uint8  \n",
      " 45  merchantCategoryCode_cable/phone           777360 non-null  uint8  \n",
      " 46  merchantCategoryCode_entertainment         777360 non-null  uint8  \n",
      " 47  merchantCategoryCode_fastfood              777360 non-null  uint8  \n",
      " 48  merchantCategoryCode_food                  777360 non-null  uint8  \n",
      " 49  merchantCategoryCode_food_delivery         777360 non-null  uint8  \n",
      " 50  merchantCategoryCode_fuel                  777360 non-null  uint8  \n",
      " 51  merchantCategoryCode_furniture             777360 non-null  uint8  \n",
      " 52  merchantCategoryCode_gym                   777360 non-null  uint8  \n",
      " 53  merchantCategoryCode_health                777360 non-null  uint8  \n",
      " 54  merchantCategoryCode_hotels                777360 non-null  uint8  \n",
      " 55  merchantCategoryCode_mobileapps            777360 non-null  uint8  \n",
      " 56  merchantCategoryCode_online_gifts          777360 non-null  uint8  \n",
      " 57  merchantCategoryCode_online_retail         777360 non-null  uint8  \n",
      " 58  merchantCategoryCode_online_subscriptions  777360 non-null  uint8  \n",
      " 59  merchantCategoryCode_personal care         777360 non-null  uint8  \n",
      " 60  merchantCategoryCode_rideshare             777360 non-null  uint8  \n",
      " 61  merchantCategoryCode_subscriptions         777360 non-null  uint8  \n",
      "dtypes: bool(1), float64(7), int32(2), int64(14), uint8(38)\n",
      "memory usage: 165.3 MB\n"
     ]
    }
   ],
   "source": [
    "df.info()"
   ]
  },
  {
   "cell_type": "code",
   "execution_count": 17,
   "metadata": {},
   "outputs": [],
   "source": [
    "# Breaking apart features and labels\n",
    "\n",
    "features = df.iloc[:, :-1]\n",
    "labels = df['isFraud']"
   ]
  },
  {
   "cell_type": "markdown",
   "metadata": {},
   "source": [
    "## Splitting dataset into train, test and val"
   ]
  },
  {
   "cell_type": "code",
   "execution_count": 100,
   "metadata": {},
   "outputs": [],
   "source": [
    "from sklearn.model_selection import train_test_split\n",
    "from imblearn.over_sampling import SMOTE\n",
    "\n",
    "np.random.seed(33)\n",
    "tf.random.set_seed(33)\n",
    "\n",
    "X = df.drop('isFraud', axis = 1)\n",
    "Y = df['isFraud']\n",
    "\n",
    "x_train, x_temp, y_train, y_temp = train_test_split(X, Y, test_size=0.3, random_state=33, stratify=Y)\n",
    "x_val, x_test, y_val, y_test = train_test_split(x_temp, y_temp, test_size=0.5, random_state=33, stratify=y_temp)\n"
   ]
  },
  {
   "cell_type": "code",
   "execution_count": 101,
   "metadata": {},
   "outputs": [],
   "source": [
    "np.random.seed(33)\n",
    "tf.random.set_seed(33)\n",
    "\n",
    "#standardize/normalize numerical features\n",
    "from sklearn.preprocessing import StandardScaler\n",
    "from sklearn.compose import ColumnTransformer\n",
    "\n",
    "#use DataFrame.select_dtypes() to select float64 or int64 feature types automatically.\n",
    "numerical_features = features.select_dtypes(include=['float64', 'int64'])\n",
    "numerical_columns = numerical_features.columns\n",
    "ct = ColumnTransformer([(\"only numeric\", StandardScaler(), numerical_columns)], remainder='passthrough')\n",
    "\n",
    "#Fit instance ct of ColumnTransformer to the training data and at the same time transform it by using the ColumnTransformer.fit_transform()\n",
    "x_train_scaled = ct.fit_transform(x_train)\n",
    "x_test_scaled = ct.transform(x_test) \n",
    "x_val_scaled = ct.transform(x_val)"
   ]
  },
  {
   "cell_type": "markdown",
   "metadata": {},
   "source": [
    "## Testing Function"
   ]
  },
  {
   "cell_type": "code",
   "execution_count": 20,
   "metadata": {},
   "outputs": [
    {
     "data": {
      "text/plain": [
       "'\\nfrom sklearn.metrics import accuracy_score, precision_score, recall_score, f1_score, roc_curve, roc_auc_score, confusion_matrix, ConfusionMatrixDisplay\\n\\ndef test_metrics(model, x_test, y_test):\\n\\n    #predict probabilities\\n    y_pred = model.predict(x_test)\\n\\n    #Convert probs intobinary predictions\\n    threshold = 0.5\\n    y_pred_binary = (y_pred >= threshold).astype(int)\\n\\n    #Calculate metrics\\n    accuracy = accuracy_score(y_test, y_pred_binary)\\n    precision = precision_score(y_test, y_pred_binary)\\n    recall = recall_score(y_test, y_pred_binary)\\n    f1 = f1_score(y_test, y_pred_binary)\\n\\n    # ROC and AUC\\n    fpr, tpr, _ = roc_curve(y_test, y_pred)\\n    auc = roc_auc_score(y_test, y_pred)\\n\\n    #Confusion Matrix\\n    cm = confusion_matrix(y_test, y_pred_binary)\\n\\n    #Print metrics\\n    print(\"Accuracy:\", accuracy)\\n    print(\"Precision:\", precision)\\n    print(\"Recall:\", recall)\\n    print(\"F1-Score:\", f1)\\n    print(\"AUC:\", auc)\\n    print(\"Confusion Matrix:\")\\n    print(cm)\\n    ConfusionMatrixDisplay.from_predictions(y_test, y_pred_binary)\\n'"
      ]
     },
     "execution_count": 20,
     "metadata": {},
     "output_type": "execute_result"
    }
   ],
   "source": [
    "# Function to test the model and produce results\n",
    "'''\n",
    "from sklearn.metrics import accuracy_score, precision_score, recall_score, f1_score, roc_curve, roc_auc_score, confusion_matrix, ConfusionMatrixDisplay\n",
    "\n",
    "def test_metrics(model, x_test, y_test):\n",
    "\n",
    "    #predict probabilities\n",
    "    y_pred = model.predict(x_test)\n",
    "\n",
    "    #Convert probs intobinary predictions\n",
    "    threshold = 0.5\n",
    "    y_pred_binary = (y_pred >= threshold).astype(int)\n",
    "\n",
    "    #Calculate metrics\n",
    "    accuracy = accuracy_score(y_test, y_pred_binary)\n",
    "    precision = precision_score(y_test, y_pred_binary)\n",
    "    recall = recall_score(y_test, y_pred_binary)\n",
    "    f1 = f1_score(y_test, y_pred_binary)\n",
    "\n",
    "    # ROC and AUC\n",
    "    fpr, tpr, _ = roc_curve(y_test, y_pred)\n",
    "    auc = roc_auc_score(y_test, y_pred)\n",
    "\n",
    "    #Confusion Matrix\n",
    "    cm = confusion_matrix(y_test, y_pred_binary)\n",
    "\n",
    "    #Print metrics\n",
    "    print(\"Accuracy:\", accuracy)\n",
    "    print(\"Precision:\", precision)\n",
    "    print(\"Recall:\", recall)\n",
    "    print(\"F1-Score:\", f1)\n",
    "    print(\"AUC:\", auc)\n",
    "    print(\"Confusion Matrix:\")\n",
    "    print(cm)\n",
    "    ConfusionMatrixDisplay.from_predictions(y_test, y_pred_binary)\n",
    "'''"
   ]
  },
  {
   "cell_type": "code",
   "execution_count": 21,
   "metadata": {},
   "outputs": [],
   "source": [
    "# Function to test the model threshold to procude the best f1 score and produce results\n",
    "from sklearn.metrics import accuracy_score, precision_score, recall_score, f1_score, roc_curve, roc_auc_score, confusion_matrix, ConfusionMatrixDisplay\n",
    "\n",
    "def test_metrics(model, x_test, y_test):\n",
    "    y_pred = model.predict(x_test)\n",
    "\n",
    "    # Find the best threshold for F1 score\n",
    "    thresholds = np.linspace(0, 1, 100)\n",
    "    f1_scores = []\n",
    "    for thresh in thresholds:\n",
    "        y_pred_binary = (y_pred >= thresh).astype(int)\n",
    "        f1 = f1_score(y_test, y_pred_binary)\n",
    "        f1_scores.append(f1)\n",
    "    \n",
    "    # Get the best threshold\n",
    "    max_f1_index = np.argmax(f1_scores) \n",
    "    best_threshold = thresholds[max_f1_index]\n",
    "    best_f1 = f1_scores[max_f1_index]\n",
    "\n",
    "    # Use the best threshold to get final predictions\n",
    "    y_pred_binary = (y_pred >= best_threshold).astype(int)\n",
    "    accuracy = accuracy_score(y_test, y_pred_binary)\n",
    "    precision = precision_score(y_test, y_pred_binary)\n",
    "    recall = recall_score(y_test, y_pred_binary)\n",
    "    auc = roc_auc_score(y_test, y_pred)\n",
    "    cm = confusion_matrix(y_test, y_pred_binary)\n",
    "\n",
    "    # Print metrics\n",
    "    print(f\"Best Threshold: {best_threshold}\")\n",
    "    print(f\"Accuracy: {accuracy}\")\n",
    "    print(f\"Precision: {precision}\")\n",
    "    print(f\"Recall: {recall}\")\n",
    "    print(f\"F1-Score: {best_f1}\")\n",
    "    print(f\"AUC: {auc}\")\n",
    "    print(\"Confusion Matrix:\")\n",
    "    print(cm)\n",
    "    ConfusionMatrixDisplay.from_predictions(y_test, y_pred_binary)\n",
    "\n",
    "    metrics = {\n",
    "        'Best Threshold': best_threshold,\n",
    "        'Accuracy': accuracy,\n",
    "        'Precision': precision,\n",
    "        'Recall': recall,\n",
    "        'F1-Score': best_f1,\n",
    "        'AUC': auc,\n",
    "        'Confusion Matrix': cm\n",
    "    }\n",
    "    return metrics\n",
    "    "
   ]
  },
  {
   "cell_type": "markdown",
   "metadata": {},
   "source": [
    "## Model Creation"
   ]
  },
  {
   "cell_type": "code",
   "execution_count": 22,
   "metadata": {},
   "outputs": [],
   "source": [
    "import tensorflow as tf\n",
    "from tensorflow.keras.models import Sequential\n",
    "from tensorflow.keras.layers import Dense\n",
    "\n",
    "np.random.seed(33)\n",
    "tf.random.set_seed(33)\n",
    "\n",
    "model_1 = Sequential([\n",
    "    tf.keras.layers.Dense(64, activation='relu', input_shape=(x_train_scaled.shape[1],)),\n",
    "    tf.keras.layers.Dense(32, activation='relu'),\n",
    "    tf.keras.layers.Dense(1, activation='sigmoid')\n",
    "])"
   ]
  },
  {
   "cell_type": "code",
   "execution_count": 23,
   "metadata": {},
   "outputs": [],
   "source": [
    "model_1.compile(\n",
    "    optimizer = 'adam',\n",
    "    loss='binary_crossentropy',\n",
    "    metrics=[tf.keras.metrics.BinaryAccuracy(), tf.keras.metrics.Recall()]\n",
    ")"
   ]
  },
  {
   "cell_type": "code",
   "execution_count": 24,
   "metadata": {},
   "outputs": [
    {
     "name": "stdout",
     "output_type": "stream",
     "text": [
      "Epoch 1/10\n",
      "17005/17005 [==============================] - 16s 912us/step - loss: 0.0745 - binary_accuracy: 0.9843 - recall: 2.3849e-04 - val_loss: 0.0721 - val_binary_accuracy: 0.9846 - val_recall: 0.0000e+00\n",
      "Epoch 2/10\n",
      "17005/17005 [==============================] - 15s 911us/step - loss: 0.0717 - binary_accuracy: 0.9846 - recall: 0.0000e+00 - val_loss: 0.0720 - val_binary_accuracy: 0.9846 - val_recall: 0.0000e+00\n",
      "Epoch 3/10\n",
      "17005/17005 [==============================] - 15s 883us/step - loss: 0.0708 - binary_accuracy: 0.9846 - recall: 0.0000e+00 - val_loss: 0.0710 - val_binary_accuracy: 0.9846 - val_recall: 0.0000e+00\n",
      "Epoch 4/10\n",
      "17005/17005 [==============================] - 16s 914us/step - loss: 0.0704 - binary_accuracy: 0.9846 - recall: 0.0000e+00 - val_loss: 0.0711 - val_binary_accuracy: 0.9846 - val_recall: 0.0000e+00\n",
      "Epoch 5/10\n",
      "17005/17005 [==============================] - 15s 903us/step - loss: 0.0699 - binary_accuracy: 0.9846 - recall: 0.0000e+00 - val_loss: 0.0707 - val_binary_accuracy: 0.9846 - val_recall: 0.0000e+00\n",
      "Epoch 6/10\n",
      "17005/17005 [==============================] - 15s 887us/step - loss: 0.0697 - binary_accuracy: 0.9846 - recall: 0.0000e+00 - val_loss: 0.0704 - val_binary_accuracy: 0.9846 - val_recall: 0.0000e+00\n",
      "Epoch 7/10\n",
      "17005/17005 [==============================] - 15s 904us/step - loss: 0.0693 - binary_accuracy: 0.9846 - recall: 0.0000e+00 - val_loss: 0.0706 - val_binary_accuracy: 0.9846 - val_recall: 0.0000e+00\n",
      "Epoch 8/10\n",
      "17005/17005 [==============================] - 15s 894us/step - loss: 0.0689 - binary_accuracy: 0.9846 - recall: 0.0000e+00 - val_loss: 0.0702 - val_binary_accuracy: 0.9846 - val_recall: 0.0000e+00\n",
      "Epoch 9/10\n",
      "17005/17005 [==============================] - 15s 896us/step - loss: 0.0688 - binary_accuracy: 0.9846 - recall: 0.0000e+00 - val_loss: 0.0702 - val_binary_accuracy: 0.9846 - val_recall: 0.0000e+00\n",
      "Epoch 10/10\n",
      "17005/17005 [==============================] - 15s 889us/step - loss: 0.0686 - binary_accuracy: 0.9846 - recall: 1.1925e-04 - val_loss: 0.0697 - val_binary_accuracy: 0.9846 - val_recall: 0.0000e+00\n"
     ]
    }
   ],
   "source": [
    "np.random.seed(33)\n",
    "tf.random.set_seed(33)\n",
    "\n",
    "history = model_1.fit(x_train_scaled, y_train, \n",
    "                    validation_data=(x_val_scaled, y_val),\n",
    "                    epochs=10,\n",
    "                    batch_size=32)"
   ]
  },
  {
   "cell_type": "code",
   "execution_count": 25,
   "metadata": {},
   "outputs": [
    {
     "name": "stdout",
     "output_type": "stream",
     "text": [
      "3644/3644 [==============================] - 2s 506us/step\n",
      "Best Threshold: 0.08080808080808081\n",
      "Accuracy: 0.9601900449384241\n",
      "Precision: 0.09691130631907056\n",
      "Recall: 0.19031719532554256\n",
      "F1-Score: 0.1284265865565152\n",
      "AUC: 0.7937235028379559\n",
      "Confusion Matrix:\n",
      "[[111620   3187]\n",
      " [  1455    342]]\n"
     ]
    },
    {
     "data": {
      "image/png": "[encoded data removed]",
      "text/plain": [
       "<Figure size 640x480 with 2 Axes>"
      ]
     },
     "metadata": {},
     "output_type": "display_data"
    }
   ],
   "source": [
    "m1_test_results = test_metrics(model_1, x_test_scaled, y_test)"
   ]
  },
  {
   "cell_type": "markdown",
   "metadata": {},
   "source": [
    "## Testing\n",
    "Model 1 has been the best perfroming so I will test architecture for this one."
   ]
  },
  {
   "cell_type": "code",
   "execution_count": 102,
   "metadata": {},
   "outputs": [],
   "source": [
    "np.random.seed(33)\n",
    "tf.random.set_seed(33)\n",
    "\n",
    "model_14 = Sequential([\n",
    "    tf.keras.layers.Dense(64, input_shape=(x_train_scaled.shape[1],),  use_bias=True),\n",
    "    tf.keras.layers.LeakyReLU(alpha=0.1),\n",
    "    tf.keras.layers.Dropout(0.2),\n",
    "    tf.keras.layers.Dense(32,  use_bias=True),\n",
    "    tf.keras.layers.LeakyReLU(alpha=0.1),\n",
    "    tf.keras.layers.Dropout(0.2),\n",
    "    tf.keras.layers.Dense(32,  use_bias=True),\n",
    "    tf.keras.layers.LeakyReLU(alpha=0.1),\n",
    "    tf.keras.layers.Dropout(0.2),\n",
    "    tf.keras.layers.Dense(1, activation='sigmoid',  use_bias=True)\n",
    "])"
   ]
  },
  {
   "cell_type": "code",
   "execution_count": 103,
   "metadata": {},
   "outputs": [],
   "source": [
    "model_14.compile(\n",
    "    optimizer = 'adam',\n",
    "    loss='binary_crossentropy',\n",
    "    metrics=[tf.keras.metrics.BinaryAccuracy(), tf.keras.metrics.Recall(), tf.keras.metrics.Precision()]\n",
    ")"
   ]
  },
  {
   "cell_type": "code",
   "execution_count": 104,
   "metadata": {},
   "outputs": [
    {
     "name": "stdout",
     "output_type": "stream",
     "text": [
      "Epoch 1/10\n",
      "17005/17005 [==============================] - 21s 1ms/step - loss: 0.0774 - binary_accuracy: 0.9844 - recall_15: 0.0000e+00 - precision_13: 0.0000e+00 - val_loss: 0.0725 - val_binary_accuracy: 0.9846 - val_recall_15: 0.0000e+00 - val_precision_13: 0.0000e+00\n",
      "Epoch 2/10\n",
      "17005/17005 [==============================] - 20s 1ms/step - loss: 0.0737 - binary_accuracy: 0.9846 - recall_15: 1.1925e-04 - precision_13: 0.3333 - val_loss: 0.0729 - val_binary_accuracy: 0.9846 - val_recall_15: 0.0000e+00 - val_precision_13: 0.0000e+00\n",
      "Epoch 3/10\n",
      "17005/17005 [==============================] - 21s 1ms/step - loss: 0.0725 - binary_accuracy: 0.9846 - recall_15: 3.5774e-04 - precision_13: 0.5000 - val_loss: 0.0712 - val_binary_accuracy: 0.9846 - val_recall_15: 0.0000e+00 - val_precision_13: 0.0000e+00\n",
      "Epoch 4/10\n",
      "17005/17005 [==============================] - 21s 1ms/step - loss: 0.0718 - binary_accuracy: 0.9846 - recall_15: 8.3472e-04 - precision_13: 0.2800 - val_loss: 0.0715 - val_binary_accuracy: 0.9846 - val_recall_15: 0.0000e+00 - val_precision_13: 0.0000e+00\n",
      "Epoch 5/10\n",
      "17005/17005 [==============================] - 21s 1ms/step - loss: 0.0715 - binary_accuracy: 0.9846 - recall_15: 0.0013 - precision_13: 0.2683 - val_loss: 0.0711 - val_binary_accuracy: 0.9846 - val_recall_15: 0.0017 - val_precision_13: 0.5000\n",
      "Epoch 6/10\n",
      "17005/17005 [==============================] - 21s 1ms/step - loss: 0.0714 - binary_accuracy: 0.9846 - recall_15: 0.0017 - precision_13: 0.3590 - val_loss: 0.0710 - val_binary_accuracy: 0.9846 - val_recall_15: 0.0000e+00 - val_precision_13: 0.0000e+00\n",
      "Epoch 7/10\n",
      "17005/17005 [==============================] - 21s 1ms/step - loss: 0.0712 - binary_accuracy: 0.9845 - recall_15: 0.0018 - precision_13: 0.2586 - val_loss: 0.0704 - val_binary_accuracy: 0.9846 - val_recall_15: 0.0000e+00 - val_precision_13: 0.0000e+00\n",
      "Epoch 8/10\n",
      "17005/17005 [==============================] - 22s 1ms/step - loss: 0.0708 - binary_accuracy: 0.9846 - recall_15: 0.0029 - precision_13: 0.3692 - val_loss: 0.0705 - val_binary_accuracy: 0.9846 - val_recall_15: 0.0011 - val_precision_13: 1.0000\n",
      "Epoch 9/10\n",
      "17005/17005 [==============================] - 20s 1ms/step - loss: 0.0708 - binary_accuracy: 0.9846 - recall_15: 0.0035 - precision_13: 0.4394 - val_loss: 0.0702 - val_binary_accuracy: 0.9846 - val_recall_15: 0.0000e+00 - val_precision_13: 0.0000e+00\n",
      "Epoch 10/10\n",
      "17005/17005 [==============================] - 20s 1ms/step - loss: 0.0707 - binary_accuracy: 0.9846 - recall_15: 0.0036 - precision_13: 0.3704 - val_loss: 0.0703 - val_binary_accuracy: 0.9846 - val_recall_15: 0.0000e+00 - val_precision_13: 0.0000e+00\n"
     ]
    }
   ],
   "source": [
    "np.random.seed(33)\n",
    "tf.random.set_seed(33)\n",
    "\n",
    "history = model_14.fit(x_train_scaled, y_train, \n",
    "                    validation_data=(x_val_scaled, y_val),\n",
    "                    epochs=10,\n",
    "                    batch_size=32)"
   ]
  },
  {
   "cell_type": "code",
   "execution_count": 105,
   "metadata": {},
   "outputs": [
    {
     "name": "stdout",
     "output_type": "stream",
     "text": [
      "3644/3644 [==============================] - 2s 570us/step\n",
      "Best Threshold: 0.08080808080808081\n",
      "Accuracy: 0.9644866385372715\n",
      "Precision: 0.10565275908479138\n",
      "Recall: 0.17473567056204786\n",
      "F1-Score: 0.13168379115118473\n",
      "AUC: 0.7913182661556041\n",
      "Confusion Matrix:\n",
      "[[112149   2658]\n",
      " [  1483    314]]\n"
     ]
    },
    {
     "data": {
      "image/png": "[encoded data removed]",
      "text/plain": [
       "<Figure size 640x480 with 2 Axes>"
      ]
     },
     "metadata": {},
     "output_type": "display_data"
    }
   ],
   "source": [
    "m14_test_results = test_metrics(model_14, x_test_scaled, y_test)"
   ]
  },
  {
   "cell_type": "markdown",
   "metadata": {},
   "source": [
    "## Model Creation with SMOTE"
   ]
  },
  {
   "cell_type": "code",
   "execution_count": 83,
   "metadata": {},
   "outputs": [],
   "source": [
    "np.random.seed(33)\n",
    "tf.random.set_seed(33)\n",
    "# Applying SMOTE to address the class imbalance\n",
    "smote = SMOTE(sampling_strategy='auto', random_state=33)\n",
    "x_train_resampled, y_train_resampled = smote.fit_resample(x_train, y_train)"
   ]
  },
  {
   "cell_type": "code",
   "execution_count": 84,
   "metadata": {},
   "outputs": [],
   "source": [
    "np.random.seed(33)\n",
    "tf.random.set_seed(33)\n",
    "\n",
    "#standardize/normalize numerical features\n",
    "\n",
    "#use DataFrame.select_dtypes() to select float64 or int64 feature types automatically.\n",
    "numerical_features = features.select_dtypes(include=['float64', 'int64'])\n",
    "numerical_columns = numerical_features.columns # Get a list of the column names\n",
    "ct = ColumnTransformer([(\"only numeric\", StandardScaler(), numerical_columns)], remainder='passthrough')\n",
    "\n",
    "#Fit instance ct of ColumnTransformer to the training data and at the same time transform it by using the ColumnTransformer.fit_transform()\n",
    "x_train_scaled = ct.fit_transform(x_train_resampled)\n",
    "x_test_scaled = ct.transform(x_test)\n",
    "x_val_scaled = ct.transform(x_val)"
   ]
  },
  {
   "cell_type": "code",
   "execution_count": 28,
   "metadata": {},
   "outputs": [],
   "source": [
    "np.random.seed(33)\n",
    "tf.random.set_seed(33)\n",
    "\n",
    "model_2 = Sequential([\n",
    "    Dense(64, activation='relu', input_shape=(x_train_scaled.shape[1],)),\n",
    "    Dense(32, activation='relu'),\n",
    "    Dense(1, activation='sigmoid')\n",
    "])"
   ]
  },
  {
   "cell_type": "code",
   "execution_count": 29,
   "metadata": {},
   "outputs": [],
   "source": [
    "model_2.compile(\n",
    "    optimizer = 'adam',\n",
    "    loss='binary_crossentropy',\n",
    "    metrics=[tf.keras.metrics.BinaryAccuracy(), tf.keras.metrics.Recall()]\n",
    ")"
   ]
  },
  {
   "cell_type": "code",
   "execution_count": 30,
   "metadata": {},
   "outputs": [
    {
     "name": "stdout",
     "output_type": "stream",
     "text": [
      "Epoch 1/10\n",
      "33486/33486 [==============================] - 29s 854us/step - loss: 0.1110 - binary_accuracy: 0.9590 - recall_1: 0.9391 - val_loss: 0.1035 - val_binary_accuracy: 0.9724 - val_recall_1: 0.0646\n",
      "Epoch 2/10\n",
      "33486/33486 [==============================] - 28s 836us/step - loss: 0.0800 - binary_accuracy: 0.9727 - recall_1: 0.9565 - val_loss: 0.0932 - val_binary_accuracy: 0.9758 - val_recall_1: 0.0523\n",
      "Epoch 3/10\n",
      "33486/33486 [==============================] - 28s 842us/step - loss: 0.0731 - binary_accuracy: 0.9756 - recall_1: 0.9608 - val_loss: 0.1229 - val_binary_accuracy: 0.9620 - val_recall_1: 0.1002\n",
      "Epoch 4/10\n",
      "33486/33486 [==============================] - 28s 840us/step - loss: 0.0696 - binary_accuracy: 0.9769 - recall_1: 0.9630 - val_loss: 0.0911 - val_binary_accuracy: 0.9775 - val_recall_1: 0.0306\n",
      "Epoch 5/10\n",
      "33486/33486 [==============================] - 28s 838us/step - loss: 0.0667 - binary_accuracy: 0.9782 - recall_1: 0.9648 - val_loss: 0.0828 - val_binary_accuracy: 0.9812 - val_recall_1: 0.0312\n",
      "Epoch 6/10\n",
      "33486/33486 [==============================] - 28s 842us/step - loss: 0.0650 - binary_accuracy: 0.9789 - recall_1: 0.9659 - val_loss: 0.0810 - val_binary_accuracy: 0.9819 - val_recall_1: 0.0211\n",
      "Epoch 7/10\n",
      "33486/33486 [==============================] - 28s 841us/step - loss: 0.0634 - binary_accuracy: 0.9798 - recall_1: 0.9671 - val_loss: 0.0941 - val_binary_accuracy: 0.9758 - val_recall_1: 0.0529\n",
      "Epoch 8/10\n",
      "33486/33486 [==============================] - 28s 835us/step - loss: 0.0619 - binary_accuracy: 0.9802 - recall_1: 0.9677 - val_loss: 0.0868 - val_binary_accuracy: 0.9788 - val_recall_1: 0.0401\n",
      "Epoch 9/10\n",
      "33486/33486 [==============================] - 28s 843us/step - loss: 0.0607 - binary_accuracy: 0.9808 - recall_1: 0.9687 - val_loss: 0.0856 - val_binary_accuracy: 0.9790 - val_recall_1: 0.0395\n",
      "Epoch 10/10\n",
      "33486/33486 [==============================] - 28s 834us/step - loss: 0.0597 - binary_accuracy: 0.9812 - recall_1: 0.9692 - val_loss: 0.0933 - val_binary_accuracy: 0.9760 - val_recall_1: 0.0518\n"
     ]
    }
   ],
   "source": [
    "np.random.seed(33)\n",
    "tf.random.set_seed(33)\n",
    "\n",
    "history = model_2.fit(x_train_scaled, y_train_resampled, \n",
    "                    validation_data=(x_val_scaled, y_val),\n",
    "                    epochs=10,\n",
    "                    batch_size=32)"
   ]
  },
  {
   "cell_type": "code",
   "execution_count": 31,
   "metadata": {},
   "outputs": [
    {
     "name": "stdout",
     "output_type": "stream",
     "text": [
      "3644/3644 [==============================] - 2s 472us/step\n",
      "Best Threshold: 0.15151515151515152\n",
      "Accuracy: 0.9363572433192686\n",
      "Precision: 0.0580006287331028\n",
      "Recall: 0.20534223706176963\n",
      "F1-Score: 0.09045226130653267\n",
      "AUC: 0.7446511342625927\n",
      "Confusion Matrix:\n",
      "[[108814   5993]\n",
      " [  1428    369]]\n"
     ]
    },
    {
     "data": {
      "image/png": "[encoded data removed]",
      "text/plain": [
       "<Figure size 640x480 with 2 Axes>"
      ]
     },
     "metadata": {},
     "output_type": "display_data"
    }
   ],
   "source": [
    "m2_test_results = test_metrics(model_2, x_test_scaled, y_test)"
   ]
  },
  {
   "cell_type": "markdown",
   "metadata": {},
   "source": [
    "## Model 3\n",
    "Using precision as a metric and SMOTE since it improved True positive rate"
   ]
  },
  {
   "cell_type": "code",
   "execution_count": 32,
   "metadata": {},
   "outputs": [],
   "source": [
    "np.random.seed(33)\n",
    "tf.random.set_seed(33)\n",
    "\n",
    "model_3 = Sequential([\n",
    "    Dense(64, activation='relu', input_shape=(x_train_scaled.shape[1],)),\n",
    "    Dense(32, activation='relu'),\n",
    "    Dense(1, activation='sigmoid')\n",
    "])"
   ]
  },
  {
   "cell_type": "code",
   "execution_count": 33,
   "metadata": {},
   "outputs": [],
   "source": [
    "model_3.compile(\n",
    "    optimizer = 'adam',\n",
    "    loss='binary_crossentropy',\n",
    "    metrics=[tf.keras.metrics.BinaryAccuracy(), tf.keras.metrics.Recall(), tf.keras.metrics.Precision()]\n",
    ")"
   ]
  },
  {
   "cell_type": "code",
   "execution_count": 34,
   "metadata": {},
   "outputs": [
    {
     "name": "stdout",
     "output_type": "stream",
     "text": [
      "Epoch 1/10\n",
      "33486/33486 [==============================] - 30s 881us/step - loss: 0.1127 - binary_accuracy: 0.9585 - recall_2: 0.9384 - precision: 0.9776 - val_loss: 0.1146 - val_binary_accuracy: 0.9667 - val_recall_2: 0.0829 - val_precision: 0.0625\n",
      "Epoch 2/10\n",
      "33486/33486 [==============================] - 29s 867us/step - loss: 0.0790 - binary_accuracy: 0.9732 - recall_2: 0.9572 - precision: 0.9888 - val_loss: 0.1121 - val_binary_accuracy: 0.9665 - val_recall_2: 0.0890 - val_precision: 0.0660\n",
      "Epoch 3/10\n",
      "33486/33486 [==============================] - 29s 864us/step - loss: 0.0723 - binary_accuracy: 0.9760 - recall_2: 0.9611 - precision: 0.9907 - val_loss: 0.1202 - val_binary_accuracy: 0.9634 - val_recall_2: 0.0902 - val_precision: 0.0580\n",
      "Epoch 4/10\n",
      "33486/33486 [==============================] - 29s 871us/step - loss: 0.0683 - binary_accuracy: 0.9776 - recall_2: 0.9636 - precision: 0.9913 - val_loss: 0.1055 - val_binary_accuracy: 0.9707 - val_recall_2: 0.0545 - val_precision: 0.0539\n",
      "Epoch 5/10\n",
      "33486/33486 [==============================] - 29s 875us/step - loss: 0.0656 - binary_accuracy: 0.9787 - recall_2: 0.9653 - precision: 0.9919 - val_loss: 0.0864 - val_binary_accuracy: 0.9800 - val_recall_2: 0.0384 - val_precision: 0.1024\n",
      "Epoch 6/10\n",
      "33486/33486 [==============================] - 29s 870us/step - loss: 0.0635 - binary_accuracy: 0.9797 - recall_2: 0.9669 - precision: 0.9922 - val_loss: 0.0866 - val_binary_accuracy: 0.9792 - val_recall_2: 0.0395 - val_precision: 0.0924\n",
      "Epoch 7/10\n",
      "33486/33486 [==============================] - 29s 867us/step - loss: 0.0620 - binary_accuracy: 0.9803 - recall_2: 0.9679 - precision: 0.9926 - val_loss: 0.0846 - val_binary_accuracy: 0.9805 - val_recall_2: 0.0289 - val_precision: 0.0897\n",
      "Epoch 8/10\n",
      "33486/33486 [==============================] - 30s 884us/step - loss: 0.0606 - binary_accuracy: 0.9809 - recall_2: 0.9687 - precision: 0.9928 - val_loss: 0.0839 - val_binary_accuracy: 0.9804 - val_recall_2: 0.0295 - val_precision: 0.0886\n",
      "Epoch 9/10\n",
      "33486/33486 [==============================] - 29s 855us/step - loss: 0.0595 - binary_accuracy: 0.9814 - recall_2: 0.9696 - precision: 0.9931 - val_loss: 0.0993 - val_binary_accuracy: 0.9724 - val_recall_2: 0.0668 - val_precision: 0.0722\n",
      "Epoch 10/10\n",
      "33486/33486 [==============================] - 29s 878us/step - loss: 0.0585 - binary_accuracy: 0.9817 - recall_2: 0.9700 - precision: 0.9933 - val_loss: 0.0877 - val_binary_accuracy: 0.9791 - val_recall_2: 0.0412 - val_precision: 0.0938\n"
     ]
    }
   ],
   "source": [
    "np.random.seed(33)\n",
    "tf.random.set_seed(33)\n",
    "\n",
    "history = model_3.fit(x_train_scaled, y_train_resampled, \n",
    "                    validation_data=(x_val_scaled, y_val),\n",
    "                    epochs=10,\n",
    "                    batch_size=32)"
   ]
  },
  {
   "cell_type": "code",
   "execution_count": 35,
   "metadata": {},
   "outputs": [
    {
     "name": "stdout",
     "output_type": "stream",
     "text": [
      "3644/3644 [==============================] - 2s 507us/step\n",
      "Best Threshold: 0.14141414141414144\n",
      "Accuracy: 0.9391701828410689\n",
      "Precision: 0.06057085960836376\n",
      "Recall: 0.20311630495269895\n",
      "F1-Score: 0.09331458519749457\n",
      "AUC: 0.7464442260430209\n",
      "Confusion Matrix:\n",
      "[[109146   5661]\n",
      " [  1432    365]]\n"
     ]
    },
    {
     "data": {
      "image/png": "[encoded data removed]",
      "text/plain": [
       "<Figure size 640x480 with 2 Axes>"
      ]
     },
     "metadata": {},
     "output_type": "display_data"
    }
   ],
   "source": [
    "m3_test_results = test_metrics(model_3, x_test_scaled, y_test)"
   ]
  },
  {
   "cell_type": "markdown",
   "metadata": {},
   "source": [
    "## Model 4\n",
    "Model architecture changes.  \n",
    "With SMOTE  \n",
    "Adding two more hidden layers.  \n",
    "Adding dropout layers  \n",
    "Adding regularization to hidden layers."
   ]
  },
  {
   "cell_type": "code",
   "execution_count": 36,
   "metadata": {},
   "outputs": [],
   "source": [
    "from tensorflow.keras import regularizers\n",
    "from tensorflow.keras.layers import Dropout\n",
    "\n",
    "np.random.seed(33)\n",
    "tf.random.set_seed(33)\n",
    "\n",
    "model_4 = Sequential([\n",
    "    tf.keras.layers.Dense(128, activation='relu', kernel_regularizer=regularizers.l2(0.1), input_shape=(x_train_scaled.shape[1],)),\n",
    "    tf.keras.layers.Dropout(0.5),\n",
    "    tf.keras.layers.Dense(64, activation='relu', kernel_regularizer=regularizers.l2(0.1)),\n",
    "    tf.keras.layers.Dropout(0.5),\n",
    "    tf.keras.layers.Dense(32, activation='relu', kernel_regularizer=regularizers.l2(0.1)),\n",
    "    tf.keras.layers.Dropout(0.5),\n",
    "    tf.keras.layers.Dense(16, activation='relu', kernel_regularizer=regularizers.l2(0.1)),\n",
    "    tf.keras.layers.Dropout(0.5),\n",
    "    tf.keras.layers.Dense(1, activation='sigmoid')\n",
    "])"
   ]
  },
  {
   "cell_type": "code",
   "execution_count": 37,
   "metadata": {},
   "outputs": [],
   "source": [
    "model_4.compile(\n",
    "    optimizer = 'adam',\n",
    "    loss='binary_crossentropy',\n",
    "    metrics=[tf.keras.metrics.BinaryAccuracy(), tf.keras.metrics.Recall(), tf.keras.metrics.Precision()]\n",
    ")"
   ]
  },
  {
   "cell_type": "code",
   "execution_count": 38,
   "metadata": {},
   "outputs": [
    {
     "name": "stdout",
     "output_type": "stream",
     "text": [
      "Epoch 1/10\n",
      "33486/33486 [==============================] - 43s 1ms/step - loss: 0.7389 - binary_accuracy: 0.4995 - recall_3: 0.5073 - precision_1: 0.4995 - val_loss: 0.6895 - val_binary_accuracy: 0.9846 - val_recall_3: 0.0000e+00 - val_precision_1: 0.0000e+00\n",
      "Epoch 2/10\n",
      "33486/33486 [==============================] - 43s 1ms/step - loss: 0.6932 - binary_accuracy: 0.4994 - recall_3: 0.5265 - precision_1: 0.4995 - val_loss: 0.6905 - val_binary_accuracy: 0.9846 - val_recall_3: 0.0000e+00 - val_precision_1: 0.0000e+00\n",
      "Epoch 3/10\n",
      "33486/33486 [==============================] - 43s 1ms/step - loss: 0.6932 - binary_accuracy: 0.4998 - recall_3: 0.4784 - precision_1: 0.4998 - val_loss: 0.7048 - val_binary_accuracy: 0.0154 - val_recall_3: 1.0000 - val_precision_1: 0.0154\n",
      "Epoch 4/10\n",
      "33486/33486 [==============================] - 42s 1ms/step - loss: 0.6932 - binary_accuracy: 0.4992 - recall_3: 0.5338 - precision_1: 0.4993 - val_loss: 0.7024 - val_binary_accuracy: 0.0154 - val_recall_3: 1.0000 - val_precision_1: 0.0154\n",
      "Epoch 5/10\n",
      "33486/33486 [==============================] - 43s 1ms/step - loss: 0.6932 - binary_accuracy: 0.5002 - recall_3: 0.5230 - precision_1: 0.5002 - val_loss: 0.6959 - val_binary_accuracy: 0.0154 - val_recall_3: 1.0000 - val_precision_1: 0.0154\n",
      "Epoch 6/10\n",
      "33486/33486 [==============================] - 43s 1ms/step - loss: 0.6932 - binary_accuracy: 0.5001 - recall_3: 0.5260 - precision_1: 0.5001 - val_loss: 0.6909 - val_binary_accuracy: 0.9846 - val_recall_3: 0.0000e+00 - val_precision_1: 0.0000e+00\n",
      "Epoch 7/10\n",
      "33486/33486 [==============================] - 43s 1ms/step - loss: 0.6932 - binary_accuracy: 0.5000 - recall_3: 0.4554 - precision_1: 0.5000 - val_loss: 0.7008 - val_binary_accuracy: 0.0154 - val_recall_3: 1.0000 - val_precision_1: 0.0154\n",
      "Epoch 8/10\n",
      "33486/33486 [==============================] - 43s 1ms/step - loss: 0.6932 - binary_accuracy: 0.5008 - recall_3: 0.4949 - precision_1: 0.5008 - val_loss: 0.6949 - val_binary_accuracy: 0.0154 - val_recall_3: 1.0000 - val_precision_1: 0.0154\n",
      "Epoch 9/10\n",
      "33486/33486 [==============================] - 43s 1ms/step - loss: 0.6932 - binary_accuracy: 0.5003 - recall_3: 0.4703 - precision_1: 0.5003 - val_loss: 0.6927 - val_binary_accuracy: 0.9846 - val_recall_3: 0.0000e+00 - val_precision_1: 0.0000e+00\n",
      "Epoch 10/10\n",
      "33486/33486 [==============================] - 42s 1ms/step - loss: 0.6932 - binary_accuracy: 0.4996 - recall_3: 0.5524 - precision_1: 0.4996 - val_loss: 0.6855 - val_binary_accuracy: 0.9846 - val_recall_3: 0.0000e+00 - val_precision_1: 0.0000e+00\n"
     ]
    }
   ],
   "source": [
    "np.random.seed(33)\n",
    "tf.random.set_seed(33)\n",
    "\n",
    "history = model_4.fit(x_train_scaled, y_train_resampled, \n",
    "                    validation_data=(x_val_scaled, y_val),\n",
    "                    epochs=10,\n",
    "                    batch_size=32)"
   ]
  },
  {
   "cell_type": "code",
   "execution_count": 39,
   "metadata": {},
   "outputs": [
    {
     "name": "stdout",
     "output_type": "stream",
     "text": [
      "3644/3644 [==============================] - 2s 541us/step\n",
      "Best Threshold: 0.0\n",
      "Accuracy: 0.015411135124009469\n",
      "Precision: 0.015411135124009469\n",
      "Recall: 1.0\n",
      "F1-Score: 0.030354473357488535\n",
      "AUC: 0.5\n",
      "Confusion Matrix:\n",
      "[[     0 114807]\n",
      " [     0   1797]]\n"
     ]
    },
    {
     "data": {
      "image/png": "[encoded data removed]",
      "text/plain": [
       "<Figure size 640x480 with 2 Axes>"
      ]
     },
     "metadata": {},
     "output_type": "display_data"
    }
   ],
   "source": [
    "m4_test_results = test_metrics(model_4, x_test_scaled, y_test)"
   ]
  },
  {
   "cell_type": "markdown",
   "metadata": {},
   "source": [
    "## Model 5\n",
    "Previous model had too many changes.  \n",
    "Reverting back to Model 3 arcitechture with only adding dropout layers.\n"
   ]
  },
  {
   "cell_type": "code",
   "execution_count": 40,
   "metadata": {},
   "outputs": [],
   "source": [
    "np.random.seed(33)\n",
    "tf.random.set_seed(33)\n",
    "\n",
    "model_5 = Sequential([\n",
    "    tf.keras.layers.Dense(64, activation='relu', input_shape=(x_train_scaled.shape[1],)),\n",
    "    tf.keras.layers.Dropout(0.2),\n",
    "    tf.keras.layers.Dense(32, activation='relu'),\n",
    "    tf.keras.layers.Dropout(0.2),\n",
    "    tf.keras.layers.Dense(1, activation='sigmoid')\n",
    "])"
   ]
  },
  {
   "cell_type": "code",
   "execution_count": 41,
   "metadata": {},
   "outputs": [],
   "source": [
    "model_5.compile(\n",
    "    optimizer = 'adam',\n",
    "    loss='binary_crossentropy',\n",
    "    metrics=[tf.keras.metrics.BinaryAccuracy(), tf.keras.metrics.Recall(), tf.keras.metrics.Precision()]\n",
    ")"
   ]
  },
  {
   "cell_type": "code",
   "execution_count": 42,
   "metadata": {},
   "outputs": [
    {
     "name": "stdout",
     "output_type": "stream",
     "text": [
      "Epoch 1/10\n",
      "33486/33486 [==============================] - 33s 975us/step - loss: 0.1445 - binary_accuracy: 0.9438 - recall_4: 0.9191 - precision_2: 0.9669 - val_loss: 0.1108 - val_binary_accuracy: 0.9745 - val_recall_4: 0.0540 - val_precision_2: 0.0709\n",
      "Epoch 2/10\n",
      "33486/33486 [==============================] - 32s 951us/step - loss: 0.1095 - binary_accuracy: 0.9602 - recall_4: 0.9382 - precision_2: 0.9814 - val_loss: 0.0915 - val_binary_accuracy: 0.9810 - val_recall_4: 0.0228 - val_precision_2: 0.0815\n",
      "Epoch 3/10\n",
      "33486/33486 [==============================] - 32s 965us/step - loss: 0.1034 - binary_accuracy: 0.9631 - recall_4: 0.9416 - precision_2: 0.9838 - val_loss: 0.1012 - val_binary_accuracy: 0.9819 - val_recall_4: 0.0206 - val_precision_2: 0.0959\n",
      "Epoch 4/10\n",
      "33486/33486 [==============================] - 32s 970us/step - loss: 0.0999 - binary_accuracy: 0.9646 - recall_4: 0.9439 - precision_2: 0.9848 - val_loss: 0.0957 - val_binary_accuracy: 0.9830 - val_recall_4: 0.0150 - val_precision_2: 0.1139\n",
      "Epoch 5/10\n",
      "33486/33486 [==============================] - 32s 949us/step - loss: 0.0974 - binary_accuracy: 0.9657 - recall_4: 0.9458 - precision_2: 0.9851 - val_loss: 0.0890 - val_binary_accuracy: 0.9831 - val_recall_4: 0.0156 - val_precision_2: 0.1239\n",
      "Epoch 6/10\n",
      "33486/33486 [==============================] - 33s 978us/step - loss: 0.0958 - binary_accuracy: 0.9666 - recall_4: 0.9470 - precision_2: 0.9857 - val_loss: 0.0934 - val_binary_accuracy: 0.9833 - val_recall_4: 0.0139 - val_precision_2: 0.1256\n",
      "Epoch 7/10\n",
      "33486/33486 [==============================] - 32s 954us/step - loss: 0.0950 - binary_accuracy: 0.9670 - recall_4: 0.9474 - precision_2: 0.9860 - val_loss: 0.0964 - val_binary_accuracy: 0.9824 - val_recall_4: 0.0156 - val_precision_2: 0.0895\n",
      "Epoch 8/10\n",
      "33486/33486 [==============================] - 32s 969us/step - loss: 0.0937 - binary_accuracy: 0.9676 - recall_4: 0.9483 - precision_2: 0.9864 - val_loss: 0.1034 - val_binary_accuracy: 0.9798 - val_recall_4: 0.0278 - val_precision_2: 0.0758\n",
      "Epoch 9/10\n",
      "33486/33486 [==============================] - 32s 968us/step - loss: 0.0926 - binary_accuracy: 0.9680 - recall_4: 0.9489 - precision_2: 0.9866 - val_loss: 0.0947 - val_binary_accuracy: 0.9825 - val_recall_4: 0.0134 - val_precision_2: 0.0825\n",
      "Epoch 10/10\n",
      "33486/33486 [==============================] - 32s 970us/step - loss: 0.0920 - binary_accuracy: 0.9683 - recall_4: 0.9493 - precision_2: 0.9868 - val_loss: 0.0989 - val_binary_accuracy: 0.9813 - val_recall_4: 0.0223 - val_precision_2: 0.0855\n"
     ]
    }
   ],
   "source": [
    "np.random.seed(33)\n",
    "tf.random.set_seed(33)\n",
    "\n",
    "history = model_5.fit(x_train_scaled, y_train_resampled, \n",
    "                    validation_data=(x_val_scaled, y_val),\n",
    "                    epochs=10,\n",
    "                    batch_size=32)"
   ]
  },
  {
   "cell_type": "code",
   "execution_count": 43,
   "metadata": {},
   "outputs": [
    {
     "name": "stdout",
     "output_type": "stream",
     "text": [
      "3644/3644 [==============================] - 2s 591us/step\n",
      "Best Threshold: 0.19191919191919193\n",
      "Accuracy: 0.9280384892456519\n",
      "Precision: 0.062151394422310755\n",
      "Recall: 0.2604340567612688\n",
      "F1-Score: 0.10035381151495658\n",
      "AUC: 0.7316650567692713\n",
      "Confusion Matrix:\n",
      "[[107745   7062]\n",
      " [  1329    468]]\n"
     ]
    },
    {
     "data": {
      "image/png": "[encoded data removed]",
      "text/plain": [
       "<Figure size 640x480 with 2 Axes>"
      ]
     },
     "metadata": {},
     "output_type": "display_data"
    }
   ],
   "source": [
    "m5_test_results = test_metrics(model_5, x_test_scaled, y_test)"
   ]
  },
  {
   "cell_type": "markdown",
   "metadata": {},
   "source": [
    "## Model 6\n",
    "Adding an additional layer to model 3 arcitechture"
   ]
  },
  {
   "cell_type": "code",
   "execution_count": 44,
   "metadata": {},
   "outputs": [],
   "source": [
    "np.random.seed(33)\n",
    "tf.random.set_seed(33)\n",
    "\n",
    "model_6 = Sequential([\n",
    "    tf.keras.layers.Dense(64, activation='relu', input_shape=(x_train_scaled.shape[1],)),\n",
    "    tf.keras.layers.Dense(32, activation='relu'),\n",
    "    tf.keras.layers.Dense(32, activation='relu'),\n",
    "    tf.keras.layers.Dense(1, activation='sigmoid')\n",
    "])"
   ]
  },
  {
   "cell_type": "code",
   "execution_count": 45,
   "metadata": {},
   "outputs": [],
   "source": [
    "model_6.compile(\n",
    "    optimizer = 'adam',\n",
    "    loss='binary_crossentropy',\n",
    "    metrics=[tf.keras.metrics.BinaryAccuracy(), tf.keras.metrics.Recall(), tf.keras.metrics.Precision()]\n",
    ")"
   ]
  },
  {
   "cell_type": "code",
   "execution_count": 46,
   "metadata": {},
   "outputs": [
    {
     "name": "stdout",
     "output_type": "stream",
     "text": [
      "Epoch 1/10\n",
      "33486/33486 [==============================] - 31s 918us/step - loss: 0.1088 - binary_accuracy: 0.9600 - recall_5: 0.9389 - precision_3: 0.9803 - val_loss: 0.1250 - val_binary_accuracy: 0.9611 - val_recall_5: 0.0952 - val_precision_3: 0.0555\n",
      "Epoch 2/10\n",
      "33486/33486 [==============================] - 31s 916us/step - loss: 0.0789 - binary_accuracy: 0.9730 - recall_5: 0.9563 - precision_3: 0.9894 - val_loss: 0.1026 - val_binary_accuracy: 0.9717 - val_recall_5: 0.0662 - val_precision_3: 0.0685\n",
      "Epoch 3/10\n",
      "33486/33486 [==============================] - 30s 907us/step - loss: 0.0722 - binary_accuracy: 0.9759 - recall_5: 0.9606 - precision_3: 0.9910 - val_loss: 0.1024 - val_binary_accuracy: 0.9712 - val_recall_5: 0.0501 - val_precision_3: 0.0517\n",
      "Epoch 4/10\n",
      "33486/33486 [==============================] - 31s 918us/step - loss: 0.0687 - binary_accuracy: 0.9774 - recall_5: 0.9627 - precision_3: 0.9918 - val_loss: 0.0884 - val_binary_accuracy: 0.9789 - val_recall_5: 0.0295 - val_precision_3: 0.0694\n",
      "Epoch 5/10\n",
      "33486/33486 [==============================] - 31s 925us/step - loss: 0.0660 - binary_accuracy: 0.9785 - recall_5: 0.9647 - precision_3: 0.9921 - val_loss: 0.0843 - val_binary_accuracy: 0.9800 - val_recall_5: 0.0345 - val_precision_3: 0.0935\n",
      "Epoch 6/10\n",
      "33486/33486 [==============================] - 30s 887us/step - loss: 0.0639 - binary_accuracy: 0.9794 - recall_5: 0.9660 - precision_3: 0.9926 - val_loss: 0.0831 - val_binary_accuracy: 0.9805 - val_recall_5: 0.0289 - val_precision_3: 0.0898\n",
      "Epoch 7/10\n",
      "33486/33486 [==============================] - 31s 911us/step - loss: 0.0621 - binary_accuracy: 0.9801 - recall_5: 0.9670 - precision_3: 0.9930 - val_loss: 0.1109 - val_binary_accuracy: 0.9679 - val_recall_5: 0.0818 - val_precision_3: 0.0657\n",
      "Epoch 8/10\n",
      "33486/33486 [==============================] - 30s 906us/step - loss: 0.0607 - binary_accuracy: 0.9805 - recall_5: 0.9678 - precision_3: 0.9931 - val_loss: 0.0861 - val_binary_accuracy: 0.9790 - val_recall_5: 0.0412 - val_precision_3: 0.0931\n",
      "Epoch 9/10\n",
      "33486/33486 [==============================] - 30s 900us/step - loss: 0.0594 - binary_accuracy: 0.9814 - recall_5: 0.9691 - precision_3: 0.9934 - val_loss: 0.0821 - val_binary_accuracy: 0.9805 - val_recall_5: 0.0256 - val_precision_3: 0.0806\n",
      "Epoch 10/10\n",
      "33486/33486 [==============================] - 31s 919us/step - loss: 0.0582 - binary_accuracy: 0.9817 - recall_5: 0.9696 - precision_3: 0.9936 - val_loss: 0.0893 - val_binary_accuracy: 0.9775 - val_recall_5: 0.0562 - val_precision_3: 0.0984\n"
     ]
    }
   ],
   "source": [
    "np.random.seed(33)\n",
    "tf.random.set_seed(33)\n",
    "\n",
    "history = model_6.fit(x_train_scaled, y_train_resampled, \n",
    "                    validation_data=(x_val_scaled, y_val),\n",
    "                    epochs=10,\n",
    "                    batch_size=32)"
   ]
  },
  {
   "cell_type": "code",
   "execution_count": 47,
   "metadata": {},
   "outputs": [
    {
     "name": "stdout",
     "output_type": "stream",
     "text": [
      "3644/3644 [==============================] - 2s 520us/step\n",
      "Best Threshold: 0.14141414141414144\n",
      "Accuracy: 0.9402764913725087\n",
      "Precision: 0.06055451607416227\n",
      "Recall: 0.19810795770728992\n",
      "F1-Score: 0.09275664408546118\n",
      "AUC: 0.759184629805685\n",
      "Confusion Matrix:\n",
      "[[109284   5523]\n",
      " [  1441    356]]\n"
     ]
    },
    {
     "data": {
      "image/png": "[encoded data removed]",
      "text/plain": [
       "<Figure size 640x480 with 2 Axes>"
      ]
     },
     "metadata": {},
     "output_type": "display_data"
    }
   ],
   "source": [
    "m6_test_results = test_metrics(model_6, x_test_scaled, y_test)"
   ]
  },
  {
   "cell_type": "markdown",
   "metadata": {},
   "source": [
    "## Model 7\n",
    "Attempt leakly Relu activation"
   ]
  },
  {
   "cell_type": "code",
   "execution_count": 48,
   "metadata": {},
   "outputs": [],
   "source": [
    "np.random.seed(33)\n",
    "tf.random.set_seed(33)\n",
    "\n",
    "model_7 = Sequential([\n",
    "    tf.keras.layers.Dense(64, input_shape=(x_train_scaled.shape[1],)),\n",
    "    tf.keras.layers.LeakyReLU(alpha=0.1),\n",
    "    tf.keras.layers.Dense(32),\n",
    "    tf.keras.layers.LeakyReLU(alpha=0.1),\n",
    "    tf.keras.layers.Dense(1, activation='sigmoid')\n",
    "])"
   ]
  },
  {
   "cell_type": "code",
   "execution_count": 49,
   "metadata": {},
   "outputs": [],
   "source": [
    "model_7.compile(\n",
    "    optimizer = 'adam',\n",
    "    loss='binary_crossentropy',\n",
    "    metrics=[tf.keras.metrics.BinaryAccuracy(), tf.keras.metrics.Recall(), tf.keras.metrics.Precision()]\n",
    ")"
   ]
  },
  {
   "cell_type": "code",
   "execution_count": 50,
   "metadata": {},
   "outputs": [
    {
     "name": "stdout",
     "output_type": "stream",
     "text": [
      "Epoch 1/10\n",
      "33486/33486 [==============================] - 30s 880us/step - loss: 0.1163 - binary_accuracy: 0.9568 - recall_6: 0.9365 - precision_4: 0.9762 - val_loss: 0.1057 - val_binary_accuracy: 0.9729 - val_recall_6: 0.0623 - val_precision_4: 0.0704\n",
      "Epoch 2/10\n",
      "33486/33486 [==============================] - 29s 872us/step - loss: 0.0825 - binary_accuracy: 0.9719 - recall_6: 0.9550 - precision_4: 0.9883 - val_loss: 0.0965 - val_binary_accuracy: 0.9753 - val_recall_6: 0.0529 - val_precision_4: 0.0749\n",
      "Epoch 3/10\n",
      "33486/33486 [==============================] - 29s 867us/step - loss: 0.0748 - binary_accuracy: 0.9751 - recall_6: 0.9596 - precision_4: 0.9902 - val_loss: 0.1105 - val_binary_accuracy: 0.9678 - val_recall_6: 0.0846 - val_precision_4: 0.0673\n",
      "Epoch 4/10\n",
      "33486/33486 [==============================] - 29s 870us/step - loss: 0.0706 - binary_accuracy: 0.9767 - recall_6: 0.9623 - precision_4: 0.9909 - val_loss: 0.0964 - val_binary_accuracy: 0.9760 - val_recall_6: 0.0467 - val_precision_4: 0.0722\n",
      "Epoch 5/10\n",
      "33486/33486 [==============================] - 29s 866us/step - loss: 0.0678 - binary_accuracy: 0.9779 - recall_6: 0.9641 - precision_4: 0.9915 - val_loss: 0.0827 - val_binary_accuracy: 0.9818 - val_recall_6: 0.0267 - val_precision_4: 0.1143\n",
      "Epoch 6/10\n",
      "33486/33486 [==============================] - 29s 866us/step - loss: 0.0655 - binary_accuracy: 0.9790 - recall_6: 0.9659 - precision_4: 0.9919 - val_loss: 0.0848 - val_binary_accuracy: 0.9814 - val_recall_6: 0.0345 - val_precision_4: 0.1242\n",
      "Epoch 7/10\n",
      "33486/33486 [==============================] - 29s 864us/step - loss: 0.0637 - binary_accuracy: 0.9797 - recall_6: 0.9668 - precision_4: 0.9924 - val_loss: 0.0944 - val_binary_accuracy: 0.9769 - val_recall_6: 0.0456 - val_precision_4: 0.0774\n",
      "Epoch 8/10\n",
      "33486/33486 [==============================] - 29s 864us/step - loss: 0.0624 - binary_accuracy: 0.9802 - recall_6: 0.9676 - precision_4: 0.9927 - val_loss: 0.0872 - val_binary_accuracy: 0.9798 - val_recall_6: 0.0395 - val_precision_4: 0.1011\n",
      "Epoch 9/10\n",
      "33486/33486 [==============================] - 29s 870us/step - loss: 0.0611 - binary_accuracy: 0.9807 - recall_6: 0.9685 - precision_4: 0.9927 - val_loss: 0.0984 - val_binary_accuracy: 0.9744 - val_recall_6: 0.0573 - val_precision_4: 0.0736\n",
      "Epoch 10/10\n",
      "33486/33486 [==============================] - 30s 892us/step - loss: 0.0600 - binary_accuracy: 0.9810 - recall_6: 0.9689 - precision_4: 0.9930 - val_loss: 0.0916 - val_binary_accuracy: 0.9780 - val_recall_6: 0.0512 - val_precision_4: 0.0960\n"
     ]
    }
   ],
   "source": [
    "np.random.seed(33)\n",
    "tf.random.set_seed(33)\n",
    "\n",
    "history = model_7.fit(x_train_scaled, y_train_resampled, \n",
    "                    validation_data=(x_val_scaled, y_val),\n",
    "                    epochs=10,\n",
    "                    batch_size=32)"
   ]
  },
  {
   "cell_type": "code",
   "execution_count": 51,
   "metadata": {},
   "outputs": [
    {
     "name": "stdout",
     "output_type": "stream",
     "text": [
      "3644/3644 [==============================] - 2s 490us/step\n",
      "Best Threshold: 0.11111111111111112\n",
      "Accuracy: 0.9180216802168022\n",
      "Precision: 0.05329189686924494\n",
      "Recall: 0.2576516416249304\n",
      "F1-Score: 0.08831664282308059\n",
      "AUC: 0.7333165036564062\n",
      "Confusion Matrix:\n",
      "[[106582   8225]\n",
      " [  1334    463]]\n"
     ]
    },
    {
     "data": {
      "image/png": "[encoded data removed]",
      "text/plain": [
       "<Figure size 640x480 with 2 Axes>"
      ]
     },
     "metadata": {},
     "output_type": "display_data"
    }
   ],
   "source": [
    "m7_test_results  = test_metrics(model_7, x_test_scaled, y_test)"
   ]
  },
  {
   "cell_type": "markdown",
   "metadata": {},
   "source": [
    "## Model 8\n",
    "Testing basic model architecture with biasas in fully connected layers"
   ]
  },
  {
   "cell_type": "code",
   "execution_count": 52,
   "metadata": {},
   "outputs": [],
   "source": [
    "np.random.seed(33)\n",
    "tf.random.set_seed(33)\n",
    "\n",
    "model_8 = Sequential([\n",
    "    tf.keras.layers.Dense(64, activation='relu', input_shape=(x_train_scaled.shape[1],), use_bias=True),\n",
    "    tf.keras.layers.Dense(32, activation='relu',  use_bias=True),\n",
    "    tf.keras.layers.Dense(32, activation='relu',  use_bias=True),\n",
    "    tf.keras.layers.Dense(1, activation='sigmoid',  use_bias=True)\n",
    "])"
   ]
  },
  {
   "cell_type": "code",
   "execution_count": 53,
   "metadata": {},
   "outputs": [],
   "source": [
    "model_8.compile(\n",
    "    optimizer = 'adam',\n",
    "    loss='binary_crossentropy',\n",
    "    metrics=[tf.keras.metrics.BinaryAccuracy(), tf.keras.metrics.Recall(), tf.keras.metrics.Precision()]\n",
    ")"
   ]
  },
  {
   "cell_type": "code",
   "execution_count": 54,
   "metadata": {},
   "outputs": [
    {
     "name": "stdout",
     "output_type": "stream",
     "text": [
      "Epoch 1/10\n",
      "33486/33486 [==============================] - 32s 940us/step - loss: 0.1098 - binary_accuracy: 0.9597 - recall_7: 0.9390 - precision_5: 0.9796 - val_loss: 0.1062 - val_binary_accuracy: 0.9729 - val_recall_7: 0.0590 - val_precision_5: 0.0674\n",
      "Epoch 2/10\n",
      "33486/33486 [==============================] - 31s 913us/step - loss: 0.0791 - binary_accuracy: 0.9733 - recall_7: 0.9566 - precision_5: 0.9896 - val_loss: 0.1192 - val_binary_accuracy: 0.9647 - val_recall_7: 0.0985 - val_precision_5: 0.0662\n",
      "Epoch 3/10\n",
      "33486/33486 [==============================] - 31s 911us/step - loss: 0.0726 - binary_accuracy: 0.9758 - recall_7: 0.9606 - precision_5: 0.9906 - val_loss: 0.1026 - val_binary_accuracy: 0.9717 - val_recall_7: 0.0623 - val_precision_5: 0.0649\n",
      "Epoch 4/10\n",
      "33486/33486 [==============================] - 31s 922us/step - loss: 0.0684 - binary_accuracy: 0.9775 - recall_7: 0.9634 - precision_5: 0.9914 - val_loss: 0.0986 - val_binary_accuracy: 0.9745 - val_recall_7: 0.0406 - val_precision_5: 0.0550\n",
      "Epoch 5/10\n",
      "33486/33486 [==============================] - 30s 908us/step - loss: 0.0657 - binary_accuracy: 0.9786 - recall_7: 0.9652 - precision_5: 0.9918 - val_loss: 0.0816 - val_binary_accuracy: 0.9812 - val_recall_7: 0.0195 - val_precision_5: 0.0749\n",
      "Epoch 6/10\n",
      "33486/33486 [==============================] - 32s 945us/step - loss: 0.0635 - binary_accuracy: 0.9796 - recall_7: 0.9665 - precision_5: 0.9925 - val_loss: 0.0799 - val_binary_accuracy: 0.9820 - val_recall_7: 0.0273 - val_precision_5: 0.1231\n",
      "Epoch 7/10\n",
      "33486/33486 [==============================] - 32s 951us/step - loss: 0.0618 - binary_accuracy: 0.9803 - recall_7: 0.9679 - precision_5: 0.9925 - val_loss: 0.0876 - val_binary_accuracy: 0.9782 - val_recall_7: 0.0356 - val_precision_5: 0.0730\n",
      "Epoch 8/10\n",
      "33486/33486 [==============================] - 31s 918us/step - loss: 0.0604 - binary_accuracy: 0.9808 - recall_7: 0.9685 - precision_5: 0.9929 - val_loss: 0.0953 - val_binary_accuracy: 0.9743 - val_recall_7: 0.0607 - val_precision_5: 0.0767\n",
      "Epoch 9/10\n",
      "33486/33486 [==============================] - 31s 927us/step - loss: 0.0593 - binary_accuracy: 0.9813 - recall_7: 0.9693 - precision_5: 0.9931 - val_loss: 0.0871 - val_binary_accuracy: 0.9785 - val_recall_7: 0.0345 - val_precision_5: 0.0741\n",
      "Epoch 10/10\n",
      "33486/33486 [==============================] - 31s 929us/step - loss: 0.0582 - binary_accuracy: 0.9817 - recall_7: 0.9699 - precision_5: 0.9933 - val_loss: 0.0898 - val_binary_accuracy: 0.9769 - val_recall_7: 0.0523 - val_precision_5: 0.0868\n"
     ]
    }
   ],
   "source": [
    "np.random.seed(33)\n",
    "tf.random.set_seed(33)\n",
    "\n",
    "history = model_8.fit(x_train_scaled, y_train_resampled, \n",
    "                    validation_data=(x_val_scaled, y_val),\n",
    "                    epochs=10,\n",
    "                    batch_size=32)"
   ]
  },
  {
   "cell_type": "code",
   "execution_count": 55,
   "metadata": {},
   "outputs": [
    {
     "name": "stdout",
     "output_type": "stream",
     "text": [
      "3644/3644 [==============================] - 2s 525us/step\n",
      "Best Threshold: 0.15151515151515152\n",
      "Accuracy: 0.9412284312716545\n",
      "Precision: 0.06338514680483592\n",
      "Recall: 0.2042292710072343\n",
      "F1-Score: 0.09674443126400421\n",
      "AUC: 0.7591527115364631\n",
      "Confusion Matrix:\n",
      "[[109384   5423]\n",
      " [  1430    367]]\n"
     ]
    },
    {
     "data": {
      "image/png": "[encoded data removed]",
      "text/plain": [
       "<Figure size 640x480 with 2 Axes>"
      ]
     },
     "metadata": {},
     "output_type": "display_data"
    }
   ],
   "source": [
    "m8_test_results = test_metrics(model_8, x_test_scaled, y_test)"
   ]
  },
  {
   "cell_type": "markdown",
   "metadata": {},
   "source": [
    "## Model 9\n",
    "Using Model 5 architecture with bias"
   ]
  },
  {
   "cell_type": "code",
   "execution_count": 56,
   "metadata": {},
   "outputs": [],
   "source": [
    "np.random.seed(33)\n",
    "tf.random.set_seed(33)\n",
    "\n",
    "model_9 = Sequential([\n",
    "    tf.keras.layers.Dense(64, activation='relu', input_shape=(x_train_scaled.shape[1],),  use_bias=True),\n",
    "    tf.keras.layers.Dropout(0.2),\n",
    "    tf.keras.layers.Dense(32, activation='relu',  use_bias=True),\n",
    "    tf.keras.layers.Dropout(0.2),\n",
    "    tf.keras.layers.Dense(1, activation='sigmoid',  use_bias=True)\n",
    "])"
   ]
  },
  {
   "cell_type": "code",
   "execution_count": 57,
   "metadata": {},
   "outputs": [],
   "source": [
    "model_9.compile(\n",
    "    optimizer = 'adam',\n",
    "    loss='binary_crossentropy',\n",
    "    metrics=[tf.keras.metrics.BinaryAccuracy(), tf.keras.metrics.Recall(), tf.keras.metrics.Precision()]\n",
    ")"
   ]
  },
  {
   "cell_type": "code",
   "execution_count": 58,
   "metadata": {},
   "outputs": [
    {
     "name": "stdout",
     "output_type": "stream",
     "text": [
      "Epoch 1/10\n",
      "33486/33486 [==============================] - 34s 1ms/step - loss: 0.1453 - binary_accuracy: 0.9435 - recall_8: 0.9190 - precision_6: 0.9663 - val_loss: 0.1075 - val_binary_accuracy: 0.9759 - val_recall_8: 0.0584 - val_precision_6: 0.0860\n",
      "Epoch 2/10\n",
      "33486/33486 [==============================] - 33s 996us/step - loss: 0.1104 - binary_accuracy: 0.9597 - recall_8: 0.9381 - precision_6: 0.9804 - val_loss: 0.0920 - val_binary_accuracy: 0.9810 - val_recall_8: 0.0278 - val_precision_6: 0.0963\n",
      "Epoch 3/10\n",
      "33486/33486 [==============================] - 33s 986us/step - loss: 0.1035 - binary_accuracy: 0.9629 - recall_8: 0.9418 - precision_6: 0.9832 - val_loss: 0.0990 - val_binary_accuracy: 0.9807 - val_recall_8: 0.0289 - val_precision_6: 0.0935\n",
      "Epoch 4/10\n",
      "33486/33486 [==============================] - 33s 979us/step - loss: 0.0996 - binary_accuracy: 0.9649 - recall_8: 0.9447 - precision_6: 0.9844 - val_loss: 0.1016 - val_binary_accuracy: 0.9815 - val_recall_8: 0.0217 - val_precision_6: 0.0886\n",
      "Epoch 5/10\n",
      "33486/33486 [==============================] - 34s 1ms/step - loss: 0.0975 - binary_accuracy: 0.9659 - recall_8: 0.9459 - precision_6: 0.9853 - val_loss: 0.0924 - val_binary_accuracy: 0.9829 - val_recall_8: 0.0173 - val_precision_6: 0.1211\n",
      "Epoch 6/10\n",
      "33486/33486 [==============================] - 33s 976us/step - loss: 0.0955 - binary_accuracy: 0.9667 - recall_8: 0.9473 - precision_6: 0.9855 - val_loss: 0.0984 - val_binary_accuracy: 0.9829 - val_recall_8: 0.0139 - val_precision_6: 0.0996\n",
      "Epoch 7/10\n",
      "33486/33486 [==============================] - 33s 999us/step - loss: 0.0940 - binary_accuracy: 0.9674 - recall_8: 0.9485 - precision_6: 0.9858 - val_loss: 0.1024 - val_binary_accuracy: 0.9809 - val_recall_8: 0.0362 - val_precision_6: 0.1152\n",
      "Epoch 8/10\n",
      "33486/33486 [==============================] - 33s 994us/step - loss: 0.0929 - binary_accuracy: 0.9678 - recall_8: 0.9490 - precision_6: 0.9861 - val_loss: 0.1007 - val_binary_accuracy: 0.9798 - val_recall_8: 0.0367 - val_precision_6: 0.0962\n",
      "Epoch 9/10\n",
      "33486/33486 [==============================] - 33s 990us/step - loss: 0.0921 - binary_accuracy: 0.9682 - recall_8: 0.9496 - precision_6: 0.9863 - val_loss: 0.0974 - val_binary_accuracy: 0.9816 - val_recall_8: 0.0228 - val_precision_6: 0.0943\n",
      "Epoch 10/10\n",
      "33486/33486 [==============================] - 33s 999us/step - loss: 0.0914 - binary_accuracy: 0.9685 - recall_8: 0.9499 - precision_6: 0.9866 - val_loss: 0.1038 - val_binary_accuracy: 0.9811 - val_recall_8: 0.0345 - val_precision_6: 0.1176\n"
     ]
    }
   ],
   "source": [
    "np.random.seed(33)\n",
    "tf.random.set_seed(33)\n",
    "\n",
    "history = model_9.fit(x_train_scaled, y_train_resampled, \n",
    "                    validation_data=(x_val_scaled, y_val),\n",
    "                    epochs=10,\n",
    "                    batch_size=32)"
   ]
  },
  {
   "cell_type": "code",
   "execution_count": 59,
   "metadata": {},
   "outputs": [
    {
     "name": "stdout",
     "output_type": "stream",
     "text": [
      "3644/3644 [==============================] - 2s 525us/step\n",
      "Best Threshold: 0.21212121212121213\n",
      "Accuracy: 0.9337501286405269\n",
      "Precision: 0.06437389770723104\n",
      "Recall: 0.24373956594323873\n",
      "F1-Score: 0.10184862225322637\n",
      "AUC: 0.7327596958722611\n",
      "Confusion Matrix:\n",
      "[[108441   6366]\n",
      " [  1359    438]]\n"
     ]
    },
    {
     "data": {
      "image/png": "[encoded data removed]",
      "text/plain": [
       "<Figure size 640x480 with 2 Axes>"
      ]
     },
     "metadata": {},
     "output_type": "display_data"
    }
   ],
   "source": [
    "m9_test_results = test_metrics(model_9, x_test_scaled, y_test)"
   ]
  },
  {
   "cell_type": "markdown",
   "metadata": {},
   "source": [
    "## Model 10\n",
    "Same structure as 9 but with leaky relu instead"
   ]
  },
  {
   "cell_type": "code",
   "execution_count": 60,
   "metadata": {},
   "outputs": [],
   "source": [
    "np.random.seed(33)\n",
    "tf.random.set_seed(33)\n",
    "\n",
    "model_10 = Sequential([\n",
    "    tf.keras.layers.Dense(64, input_shape=(x_train_scaled.shape[1],),  use_bias=True),\n",
    "    tf.keras.layers.LeakyReLU(alpha=0.1),\n",
    "    tf.keras.layers.Dropout(0.2),\n",
    "    tf.keras.layers.Dense(32,  use_bias=True),\n",
    "    tf.keras.layers.LeakyReLU(alpha=0.1),\n",
    "    tf.keras.layers.Dropout(0.2),\n",
    "    tf.keras.layers.Dense(1, activation='sigmoid',  use_bias=True)\n",
    "])"
   ]
  },
  {
   "cell_type": "code",
   "execution_count": 61,
   "metadata": {},
   "outputs": [],
   "source": [
    "model_10.compile(\n",
    "    optimizer = 'adam',\n",
    "    loss='binary_crossentropy',\n",
    "    metrics=[tf.keras.metrics.BinaryAccuracy(), tf.keras.metrics.Recall(), tf.keras.metrics.Precision()]\n",
    ")"
   ]
  },
  {
   "cell_type": "code",
   "execution_count": 62,
   "metadata": {},
   "outputs": [
    {
     "name": "stdout",
     "output_type": "stream",
     "text": [
      "Epoch 1/10\n",
      "33486/33486 [==============================] - 34s 990us/step - loss: 0.1556 - binary_accuracy: 0.9382 - recall_9: 0.9105 - precision_7: 0.9639 - val_loss: 0.1192 - val_binary_accuracy: 0.9704 - val_recall_9: 0.0785 - val_precision_7: 0.0728\n",
      "Epoch 2/10\n",
      "33486/33486 [==============================] - 33s 986us/step - loss: 0.1258 - binary_accuracy: 0.9520 - recall_9: 0.9284 - precision_7: 0.9744 - val_loss: 0.0900 - val_binary_accuracy: 0.9818 - val_recall_9: 0.0245 - val_precision_7: 0.1076\n",
      "Epoch 3/10\n",
      "33486/33486 [==============================] - 33s 984us/step - loss: 0.1201 - binary_accuracy: 0.9547 - recall_9: 0.9324 - precision_7: 0.9760 - val_loss: 0.1102 - val_binary_accuracy: 0.9758 - val_recall_9: 0.0512 - val_precision_7: 0.0763\n",
      "Epoch 4/10\n",
      "33486/33486 [==============================] - 34s 1ms/step - loss: 0.1173 - binary_accuracy: 0.9562 - recall_9: 0.9343 - precision_7: 0.9770 - val_loss: 0.1153 - val_binary_accuracy: 0.9795 - val_recall_9: 0.0523 - val_precision_7: 0.1196\n",
      "Epoch 5/10\n",
      "33486/33486 [==============================] - 33s 991us/step - loss: 0.1155 - binary_accuracy: 0.9572 - recall_9: 0.9358 - precision_7: 0.9777 - val_loss: 0.1032 - val_binary_accuracy: 0.9814 - val_recall_9: 0.0306 - val_precision_7: 0.1141\n",
      "Epoch 6/10\n",
      "33486/33486 [==============================] - 34s 1ms/step - loss: 0.1138 - binary_accuracy: 0.9579 - recall_9: 0.9369 - precision_7: 0.9779 - val_loss: 0.1128 - val_binary_accuracy: 0.9802 - val_recall_9: 0.0423 - val_precision_7: 0.1155\n",
      "Epoch 7/10\n",
      "33486/33486 [==============================] - 34s 1ms/step - loss: 0.1127 - binary_accuracy: 0.9585 - recall_9: 0.9378 - precision_7: 0.9782 - val_loss: 0.1199 - val_binary_accuracy: 0.9775 - val_recall_9: 0.0579 - val_precision_7: 0.1000\n",
      "Epoch 8/10\n",
      "33486/33486 [==============================] - 34s 1ms/step - loss: 0.1118 - binary_accuracy: 0.9587 - recall_9: 0.9383 - precision_7: 0.9782 - val_loss: 0.1130 - val_binary_accuracy: 0.9769 - val_recall_9: 0.0534 - val_precision_7: 0.0880\n",
      "Epoch 9/10\n",
      "33486/33486 [==============================] - 34s 1ms/step - loss: 0.1112 - binary_accuracy: 0.9592 - recall_9: 0.9388 - precision_7: 0.9787 - val_loss: 0.1099 - val_binary_accuracy: 0.9783 - val_recall_9: 0.0434 - val_precision_7: 0.0878\n",
      "Epoch 10/10\n",
      "33486/33486 [==============================] - 34s 1ms/step - loss: 0.1107 - binary_accuracy: 0.9594 - recall_9: 0.9393 - precision_7: 0.9787 - val_loss: 0.1275 - val_binary_accuracy: 0.9725 - val_recall_9: 0.0840 - val_precision_7: 0.0884\n"
     ]
    }
   ],
   "source": [
    "np.random.seed(33)\n",
    "tf.random.set_seed(33)\n",
    "\n",
    "history = model_10.fit(x_train_scaled, y_train_resampled, \n",
    "                    validation_data=(x_val_scaled, y_val),\n",
    "                    epochs=10,\n",
    "                    batch_size=32)"
   ]
  },
  {
   "cell_type": "code",
   "execution_count": 63,
   "metadata": {},
   "outputs": [
    {
     "name": "stdout",
     "output_type": "stream",
     "text": [
      "3644/3644 [==============================] - 2s 516us/step\n",
      "Best Threshold: 0.3535353535353536\n",
      "Accuracy: 0.9470772872285685\n",
      "Precision: 0.06863905325443787\n",
      "Recall: 0.19365609348914858\n",
      "F1-Score: 0.10135430318916558\n",
      "AUC: 0.7447071766359781\n",
      "Confusion Matrix:\n",
      "[[110085   4722]\n",
      " [  1449    348]]\n"
     ]
    },
    {
     "data": {
      "image/png": "[encoded data removed]",
      "text/plain": [
       "<Figure size 640x480 with 2 Axes>"
      ]
     },
     "metadata": {},
     "output_type": "display_data"
    }
   ],
   "source": [
    "m10_test_results = test_metrics(model_10, x_test_scaled, y_test)"
   ]
  },
  {
   "cell_type": "markdown",
   "metadata": {},
   "source": [
    "## Model 11\n",
    "Adding another Dense layer"
   ]
  },
  {
   "cell_type": "code",
   "execution_count": 64,
   "metadata": {},
   "outputs": [],
   "source": [
    "np.random.seed(33)\n",
    "tf.random.set_seed(33)\n",
    "\n",
    "model_11 = Sequential([\n",
    "    tf.keras.layers.Dense(64, input_shape=(x_train_scaled.shape[1],),  use_bias=True),\n",
    "    tf.keras.layers.LeakyReLU(alpha=0.1),\n",
    "    tf.keras.layers.Dropout(0.2),\n",
    "    tf.keras.layers.Dense(32,  use_bias=True),\n",
    "    tf.keras.layers.LeakyReLU(alpha=0.1),\n",
    "    tf.keras.layers.Dropout(0.2),\n",
    "    tf.keras.layers.Dense(32,  use_bias=True),\n",
    "    tf.keras.layers.LeakyReLU(alpha=0.1),\n",
    "    tf.keras.layers.Dropout(0.2),\n",
    "    tf.keras.layers.Dense(1, activation='sigmoid',  use_bias=True)\n",
    "])"
   ]
  },
  {
   "cell_type": "code",
   "execution_count": 65,
   "metadata": {},
   "outputs": [],
   "source": [
    "model_11.compile(\n",
    "    optimizer = 'adam',\n",
    "    loss='binary_crossentropy',\n",
    "    metrics=[tf.keras.metrics.BinaryAccuracy(), tf.keras.metrics.Recall(), tf.keras.metrics.Precision()]\n",
    ")"
   ]
  },
  {
   "cell_type": "code",
   "execution_count": 66,
   "metadata": {},
   "outputs": [
    {
     "name": "stdout",
     "output_type": "stream",
     "text": [
      "Epoch 1/10\n",
      "33486/33486 [==============================] - 38s 1ms/step - loss: 0.1579 - binary_accuracy: 0.9373 - recall_10: 0.9075 - precision_8: 0.9650 - val_loss: 0.1141 - val_binary_accuracy: 0.9760 - val_recall_10: 0.0573 - val_precision_8: 0.0849\n",
      "Epoch 2/10\n",
      "33486/33486 [==============================] - 35s 1ms/step - loss: 0.1239 - binary_accuracy: 0.9536 - recall_10: 0.9290 - precision_8: 0.9770 - val_loss: 0.0998 - val_binary_accuracy: 0.9790 - val_recall_10: 0.0395 - val_precision_8: 0.0901\n",
      "Epoch 3/10\n",
      "33486/33486 [==============================] - 36s 1ms/step - loss: 0.1169 - binary_accuracy: 0.9568 - recall_10: 0.9332 - precision_8: 0.9793 - val_loss: 0.1096 - val_binary_accuracy: 0.9752 - val_recall_10: 0.0529 - val_precision_8: 0.0739\n",
      "Epoch 4/10\n",
      "33486/33486 [==============================] - 36s 1ms/step - loss: 0.1141 - binary_accuracy: 0.9581 - recall_10: 0.9355 - precision_8: 0.9799 - val_loss: 0.1151 - val_binary_accuracy: 0.9801 - val_recall_10: 0.0312 - val_precision_8: 0.0883\n",
      "Epoch 5/10\n",
      "33486/33486 [==============================] - 36s 1ms/step - loss: 0.1110 - binary_accuracy: 0.9594 - recall_10: 0.9371 - precision_8: 0.9807 - val_loss: 0.0994 - val_binary_accuracy: 0.9824 - val_recall_10: 0.0200 - val_precision_8: 0.1111\n",
      "Epoch 6/10\n",
      "33486/33486 [==============================] - 36s 1ms/step - loss: 0.1093 - binary_accuracy: 0.9602 - recall_10: 0.9382 - precision_8: 0.9813 - val_loss: 0.0972 - val_binary_accuracy: 0.9824 - val_recall_10: 0.0217 - val_precision_8: 0.1185\n",
      "Epoch 7/10\n",
      "33486/33486 [==============================] - 36s 1ms/step - loss: 0.1080 - binary_accuracy: 0.9608 - recall_10: 0.9392 - precision_8: 0.9816 - val_loss: 0.1204 - val_binary_accuracy: 0.9767 - val_recall_10: 0.0440 - val_precision_8: 0.0731\n",
      "Epoch 8/10\n",
      "33486/33486 [==============================] - 36s 1ms/step - loss: 0.1073 - binary_accuracy: 0.9612 - recall_10: 0.9396 - precision_8: 0.9821 - val_loss: 0.1072 - val_binary_accuracy: 0.9793 - val_recall_10: 0.0367 - val_precision_8: 0.0878\n",
      "Epoch 9/10\n",
      "33486/33486 [==============================] - 36s 1ms/step - loss: 0.1064 - binary_accuracy: 0.9615 - recall_10: 0.9403 - precision_8: 0.9820 - val_loss: 0.1127 - val_binary_accuracy: 0.9790 - val_recall_10: 0.0473 - val_precision_8: 0.1039\n",
      "Epoch 10/10\n",
      "33486/33486 [==============================] - 36s 1ms/step - loss: 0.1055 - binary_accuracy: 0.9621 - recall_10: 0.9410 - precision_8: 0.9824 - val_loss: 0.1181 - val_binary_accuracy: 0.9760 - val_recall_10: 0.0556 - val_precision_8: 0.0835\n"
     ]
    }
   ],
   "source": [
    "np.random.seed(33)\n",
    "tf.random.set_seed(33)\n",
    "\n",
    "history = model_11.fit(x_train_scaled, y_train_resampled, \n",
    "                    validation_data=(x_val_scaled, y_val),\n",
    "                    epochs=10,\n",
    "                    batch_size=32)"
   ]
  },
  {
   "cell_type": "code",
   "execution_count": 67,
   "metadata": {},
   "outputs": [
    {
     "name": "stdout",
     "output_type": "stream",
     "text": [
      "3644/3644 [==============================] - 2s 534us/step\n",
      "Best Threshold: 0.29292929292929293\n",
      "Accuracy: 0.9401221227402148\n",
      "Precision: 0.06639906338852651\n",
      "Recall: 0.22092376182526433\n",
      "F1-Score: 0.10210905349794239\n",
      "AUC: 0.7384983801345073\n",
      "Confusion Matrix:\n",
      "[[109225   5582]\n",
      " [  1400    397]]\n"
     ]
    },
    {
     "data": {
      "image/png": "[encoded data removed]",
      "text/plain": [
       "<Figure size 640x480 with 2 Axes>"
      ]
     },
     "metadata": {},
     "output_type": "display_data"
    }
   ],
   "source": [
    "m11_test_results = test_metrics(model_11, x_test_scaled, y_test)"
   ]
  },
  {
   "cell_type": "markdown",
   "metadata": {},
   "source": [
    "## Model 12\n",
    "Adding L2 regularization"
   ]
  },
  {
   "cell_type": "code",
   "execution_count": 85,
   "metadata": {},
   "outputs": [],
   "source": [
    "np.random.seed(33)\n",
    "tf.random.set_seed(33)\n",
    "\n",
    "model_12 = Sequential([\n",
    "    tf.keras.layers.Dense(64, kernel_regularizer=regularizers.l2(0.1), input_shape=(x_train_scaled.shape[1],),  use_bias=True),\n",
    "    tf.keras.layers.LeakyReLU(alpha=0.1),\n",
    "    tf.keras.layers.Dropout(0.2),\n",
    "    tf.keras.layers.Dense(32,  kernel_regularizer=regularizers.l2(0.1), use_bias=True),\n",
    "    tf.keras.layers.LeakyReLU(alpha=0.1),\n",
    "    tf.keras.layers.Dropout(0.2),\n",
    "    tf.keras.layers.Dense(32,  kernel_regularizer=regularizers.l2(0.1), use_bias=True),\n",
    "    tf.keras.layers.LeakyReLU(alpha=0.1),\n",
    "    tf.keras.layers.Dropout(0.2),\n",
    "    tf.keras.layers.Dense(1, activation='sigmoid',  use_bias=True)\n",
    "])"
   ]
  },
  {
   "cell_type": "code",
   "execution_count": 86,
   "metadata": {},
   "outputs": [],
   "source": [
    "model_12.compile(\n",
    "    optimizer = 'adam',\n",
    "    loss='binary_crossentropy',\n",
    "    metrics=[tf.keras.metrics.BinaryAccuracy(), tf.keras.metrics.Recall(), tf.keras.metrics.Precision()]\n",
    ")"
   ]
  },
  {
   "cell_type": "code",
   "execution_count": 87,
   "metadata": {},
   "outputs": [
    {
     "name": "stdout",
     "output_type": "stream",
     "text": [
      "Epoch 1/10\n",
      "33486/33486 [==============================] - 41s 1ms/step - loss: 0.7231 - binary_accuracy: 0.5003 - recall_13: 0.5193 - precision_11: 0.5003 - val_loss: 0.6883 - val_binary_accuracy: 0.9846 - val_recall_13: 0.0000e+00 - val_precision_11: 0.0000e+00\n",
      "Epoch 2/10\n",
      "33486/33486 [==============================] - 40s 1ms/step - loss: 0.6932 - binary_accuracy: 0.4995 - recall_13: 0.5227 - precision_11: 0.4995 - val_loss: 0.6903 - val_binary_accuracy: 0.9846 - val_recall_13: 0.0000e+00 - val_precision_11: 0.0000e+00\n",
      "Epoch 3/10\n",
      "33486/33486 [==============================] - 39s 1ms/step - loss: 0.6932 - binary_accuracy: 0.4995 - recall_13: 0.4678 - precision_11: 0.4995 - val_loss: 0.7046 - val_binary_accuracy: 0.0154 - val_recall_13: 1.0000 - val_precision_11: 0.0154\n",
      "Epoch 4/10\n",
      "33486/33486 [==============================] - 39s 1ms/step - loss: 0.6932 - binary_accuracy: 0.4994 - recall_13: 0.5246 - precision_11: 0.4994 - val_loss: 0.7068 - val_binary_accuracy: 0.0154 - val_recall_13: 1.0000 - val_precision_11: 0.0154\n",
      "Epoch 5/10\n",
      "33486/33486 [==============================] - 37s 1ms/step - loss: 0.6932 - binary_accuracy: 0.5001 - recall_13: 0.5212 - precision_11: 0.5001 - val_loss: 0.6967 - val_binary_accuracy: 0.0154 - val_recall_13: 1.0000 - val_precision_11: 0.0154\n",
      "Epoch 6/10\n",
      "33486/33486 [==============================] - 38s 1ms/step - loss: 0.6932 - binary_accuracy: 0.5000 - recall_13: 0.5226 - precision_11: 0.5000 - val_loss: 0.6923 - val_binary_accuracy: 0.9846 - val_recall_13: 0.0000e+00 - val_precision_11: 0.0000e+00\n",
      "Epoch 7/10\n",
      "33486/33486 [==============================] - 38s 1ms/step - loss: 0.6932 - binary_accuracy: 0.5001 - recall_13: 0.4615 - precision_11: 0.5001 - val_loss: 0.7012 - val_binary_accuracy: 0.0154 - val_recall_13: 1.0000 - val_precision_11: 0.0154\n",
      "Epoch 8/10\n",
      "33486/33486 [==============================] - 38s 1ms/step - loss: 0.6932 - binary_accuracy: 0.5006 - recall_13: 0.4918 - precision_11: 0.5006 - val_loss: 0.6950 - val_binary_accuracy: 0.0154 - val_recall_13: 1.0000 - val_precision_11: 0.0154\n",
      "Epoch 9/10\n",
      "33486/33486 [==============================] - 37s 1ms/step - loss: 0.6932 - binary_accuracy: 0.5001 - recall_13: 0.4893 - precision_11: 0.5001 - val_loss: 0.6907 - val_binary_accuracy: 0.9846 - val_recall_13: 0.0000e+00 - val_precision_11: 0.0000e+00\n",
      "Epoch 10/10\n",
      "33486/33486 [==============================] - 38s 1ms/step - loss: 0.6932 - binary_accuracy: 0.4996 - recall_13: 0.5425 - precision_11: 0.4996 - val_loss: 0.6886 - val_binary_accuracy: 0.9846 - val_recall_13: 0.0000e+00 - val_precision_11: 0.0000e+00\n"
     ]
    }
   ],
   "source": [
    "np.random.seed(33)\n",
    "tf.random.set_seed(33)\n",
    "\n",
    "history = model_12.fit(x_train_scaled, y_train_resampled, \n",
    "                    validation_data=(x_val_scaled, y_val),\n",
    "                    epochs=10,\n",
    "                    batch_size=32)"
   ]
  },
  {
   "cell_type": "code",
   "execution_count": 88,
   "metadata": {},
   "outputs": [
    {
     "name": "stdout",
     "output_type": "stream",
     "text": [
      "3644/3644 [==============================] - 2s 565us/step\n",
      "Best Threshold: 0.0\n",
      "Accuracy: 0.015411135124009469\n",
      "Precision: 0.015411135124009469\n",
      "Recall: 1.0\n",
      "F1-Score: 0.030354473357488535\n",
      "AUC: 0.5\n",
      "Confusion Matrix:\n",
      "[[     0 114807]\n",
      " [     0   1797]]\n"
     ]
    },
    {
     "data": {
      "image/png": "[encoded data removed]",
      "text/plain": [
       "<Figure size 640x480 with 2 Axes>"
      ]
     },
     "metadata": {},
     "output_type": "display_data"
    }
   ],
   "source": [
    "m12_test_results = test_metrics(model_12, x_test_scaled, y_test)"
   ]
  },
  {
   "cell_type": "markdown",
   "metadata": {},
   "source": [
    "## Model 13\n",
    "Adding More Dense Layers with Leaky Relu and removing L2 regularization"
   ]
  },
  {
   "cell_type": "code",
   "execution_count": 93,
   "metadata": {},
   "outputs": [],
   "source": [
    "np.random.seed(33)\n",
    "tf.random.set_seed(33)\n",
    "\n",
    "model_13 = Sequential([\n",
    "    tf.keras.layers.Dense(64, input_shape=(x_train_scaled.shape[1],),  use_bias=True),\n",
    "    tf.keras.layers.LeakyReLU(alpha=0.1),\n",
    "    tf.keras.layers.Dropout(0.2),\n",
    "    tf.keras.layers.Dense(32, use_bias=True),\n",
    "    tf.keras.layers.LeakyReLU(alpha=0.1),\n",
    "    tf.keras.layers.Dropout(0.2),\n",
    "    tf.keras.layers.Dense(32, use_bias=True),\n",
    "    tf.keras.layers.LeakyReLU(alpha=0.1),\n",
    "    tf.keras.layers.Dropout(0.2),\n",
    "    tf.keras.layers.Dense(32, use_bias=True),\n",
    "    tf.keras.layers.LeakyReLU(alpha=0.1),\n",
    "    tf.keras.layers.Dropout(0.2),\n",
    "    tf.keras.layers.Dense(1, activation='sigmoid',  use_bias=True)\n",
    "])"
   ]
  },
  {
   "cell_type": "code",
   "execution_count": 94,
   "metadata": {},
   "outputs": [],
   "source": [
    "model_13.compile(\n",
    "    optimizer = 'adam',\n",
    "    loss='binary_crossentropy',\n",
    "    metrics=[tf.keras.metrics.BinaryAccuracy(), tf.keras.metrics.Recall(), tf.keras.metrics.Precision()]\n",
    ")"
   ]
  },
  {
   "cell_type": "code",
   "execution_count": 95,
   "metadata": {},
   "outputs": [
    {
     "name": "stdout",
     "output_type": "stream",
     "text": [
      "Epoch 1/10\n",
      "33486/33486 [==============================] - 41s 1ms/step - loss: 0.1609 - binary_accuracy: 0.9366 - recall_14: 0.9071 - precision_12: 0.9640 - val_loss: 0.1214 - val_binary_accuracy: 0.9741 - val_recall_14: 0.0751 - val_precision_12: 0.0904\n",
      "Epoch 2/10\n",
      "33486/33486 [==============================] - 39s 1ms/step - loss: 0.1256 - binary_accuracy: 0.9534 - recall_14: 0.9296 - precision_12: 0.9759 - val_loss: 0.1093 - val_binary_accuracy: 0.9725 - val_recall_14: 0.0812 - val_precision_12: 0.0860\n",
      "Epoch 3/10\n",
      "33486/33486 [==============================] - 38s 1ms/step - loss: 0.1190 - binary_accuracy: 0.9563 - recall_14: 0.9332 - precision_12: 0.9785 - val_loss: 0.1371 - val_binary_accuracy: 0.9565 - val_recall_14: 0.1369 - val_precision_12: 0.0653\n",
      "Epoch 4/10\n",
      "33486/33486 [==============================] - 39s 1ms/step - loss: 0.1144 - binary_accuracy: 0.9583 - recall_14: 0.9364 - precision_12: 0.9792 - val_loss: 0.1376 - val_binary_accuracy: 0.9623 - val_recall_14: 0.1258 - val_precision_12: 0.0740\n",
      "Epoch 5/10\n",
      "33486/33486 [==============================] - 38s 1ms/step - loss: 0.1123 - binary_accuracy: 0.9593 - recall_14: 0.9375 - precision_12: 0.9802 - val_loss: 0.1205 - val_binary_accuracy: 0.9660 - val_recall_14: 0.1024 - val_precision_12: 0.0726\n",
      "Epoch 6/10\n",
      "33486/33486 [==============================] - 39s 1ms/step - loss: 0.1102 - binary_accuracy: 0.9602 - recall_14: 0.9388 - precision_12: 0.9808 - val_loss: 0.1322 - val_binary_accuracy: 0.9630 - val_recall_14: 0.1135 - val_precision_12: 0.0697\n",
      "Epoch 7/10\n",
      "33486/33486 [==============================] - 39s 1ms/step - loss: 0.1085 - binary_accuracy: 0.9612 - recall_14: 0.9402 - precision_12: 0.9814 - val_loss: 0.1223 - val_binary_accuracy: 0.9642 - val_recall_14: 0.0968 - val_precision_12: 0.0638\n",
      "Epoch 8/10\n",
      "33486/33486 [==============================] - 42s 1ms/step - loss: 0.1080 - binary_accuracy: 0.9614 - recall_14: 0.9409 - precision_12: 0.9812 - val_loss: 0.1382 - val_binary_accuracy: 0.9545 - val_recall_14: 0.1480 - val_precision_12: 0.0659\n",
      "Epoch 9/10\n",
      "33486/33486 [==============================] - 41s 1ms/step - loss: 0.1063 - binary_accuracy: 0.9621 - recall_14: 0.9419 - precision_12: 0.9816 - val_loss: 0.1295 - val_binary_accuracy: 0.9633 - val_recall_14: 0.1068 - val_precision_12: 0.0670\n",
      "Epoch 10/10\n",
      "33486/33486 [==============================] - 42s 1ms/step - loss: 0.1060 - binary_accuracy: 0.9621 - recall_14: 0.9417 - precision_12: 0.9817 - val_loss: 0.1519 - val_binary_accuracy: 0.9506 - val_recall_14: 0.1681 - val_precision_12: 0.0661\n"
     ]
    }
   ],
   "source": [
    "np.random.seed(33)\n",
    "tf.random.set_seed(33)\n",
    "\n",
    "history = model_13.fit(x_train_scaled, y_train_resampled, \n",
    "                    validation_data=(x_val_scaled, y_val),\n",
    "                    epochs=10,\n",
    "                    batch_size=32)"
   ]
  },
  {
   "cell_type": "code",
   "execution_count": 96,
   "metadata": {},
   "outputs": [
    {
     "name": "stdout",
     "output_type": "stream",
     "text": [
      "3644/3644 [==============================] - 2s 566us/step\n",
      "Best Threshold: 0.5454545454545455\n",
      "Accuracy: 0.9560649720421255\n",
      "Precision: 0.0724935732647815\n",
      "Recall: 0.15692821368948248\n",
      "F1-Score: 0.09917355371900827\n",
      "AUC: 0.7314954706667253\n",
      "Confusion Matrix:\n",
      "[[111199   3608]\n",
      " [  1515    282]]\n"
     ]
    },
    {
     "data": {
      "image/png": "[encoded data removed]",
      "text/plain": [
       "<Figure size 640x480 with 2 Axes>"
      ]
     },
     "metadata": {},
     "output_type": "display_data"
    }
   ],
   "source": [
    "m13_test_results = test_metrics(model_13, x_test_scaled, y_test)"
   ]
  },
  {
   "cell_type": "markdown",
   "metadata": {},
   "source": [
    "## Results ordering"
   ]
  },
  {
   "cell_type": "code",
   "execution_count": 106,
   "metadata": {},
   "outputs": [],
   "source": [
    "all_results = {\n",
    "    'model_1': m1_test_results,\n",
    "    'model_2': m2_test_results,\n",
    "    'model_3': m3_test_results,\n",
    "    'model_4': m4_test_results,\n",
    "    'model_5': m5_test_results,\n",
    "    'model_6': m6_test_results,\n",
    "    'model_7': m7_test_results,\n",
    "    'model_8': m8_test_results,\n",
    "    'model_9': m9_test_results,\n",
    "    'model_10': m10_test_results,\n",
    "    'model_11': m11_test_results,\n",
    "    'model_12': m12_test_results,\n",
    "    'model_13': m13_test_results,\n",
    "    'model_14': m14_test_results,\n",
    "}"
   ]
  },
  {
   "cell_type": "code",
   "execution_count": 107,
   "metadata": {},
   "outputs": [
    {
     "data": {
      "text/html": [
       "<div>\n",
       "<style scoped>\n",
       "    .dataframe tbody tr th:only-of-type {\n",
       "        vertical-align: middle;\n",
       "    }\n",
       "\n",
       "    .dataframe tbody tr th {\n",
       "        vertical-align: top;\n",
       "    }\n",
       "\n",
       "    .dataframe thead th {\n",
       "        text-align: right;\n",
       "    }\n",
       "</style>\n",
       "<table border=\"1\" class=\"dataframe\">\n",
       "  <thead>\n",
       "    <tr style=\"text-align: right;\">\n",
       "      <th></th>\n",
       "      <th>Best Threshold</th>\n",
       "      <th>Accuracy</th>\n",
       "      <th>Precision</th>\n",
       "      <th>Recall</th>\n",
       "      <th>F1-Score</th>\n",
       "      <th>AUC</th>\n",
       "      <th>Confusion Matrix</th>\n",
       "    </tr>\n",
       "  </thead>\n",
       "  <tbody>\n",
       "    <tr>\n",
       "      <th>model_1</th>\n",
       "      <td>0.080808</td>\n",
       "      <td>0.960190</td>\n",
       "      <td>0.096911</td>\n",
       "      <td>0.190317</td>\n",
       "      <td>0.128427</td>\n",
       "      <td>0.793724</td>\n",
       "      <td>[[111620, 3187], [1455, 342]]</td>\n",
       "    </tr>\n",
       "    <tr>\n",
       "      <th>model_2</th>\n",
       "      <td>0.151515</td>\n",
       "      <td>0.936357</td>\n",
       "      <td>0.058001</td>\n",
       "      <td>0.205342</td>\n",
       "      <td>0.090452</td>\n",
       "      <td>0.744651</td>\n",
       "      <td>[[108814, 5993], [1428, 369]]</td>\n",
       "    </tr>\n",
       "    <tr>\n",
       "      <th>model_3</th>\n",
       "      <td>0.141414</td>\n",
       "      <td>0.939170</td>\n",
       "      <td>0.060571</td>\n",
       "      <td>0.203116</td>\n",
       "      <td>0.093315</td>\n",
       "      <td>0.746444</td>\n",
       "      <td>[[109146, 5661], [1432, 365]]</td>\n",
       "    </tr>\n",
       "    <tr>\n",
       "      <th>model_4</th>\n",
       "      <td>0.000000</td>\n",
       "      <td>0.015411</td>\n",
       "      <td>0.015411</td>\n",
       "      <td>1.000000</td>\n",
       "      <td>0.030354</td>\n",
       "      <td>0.500000</td>\n",
       "      <td>[[0, 114807], [0, 1797]]</td>\n",
       "    </tr>\n",
       "    <tr>\n",
       "      <th>model_5</th>\n",
       "      <td>0.191919</td>\n",
       "      <td>0.928038</td>\n",
       "      <td>0.062151</td>\n",
       "      <td>0.260434</td>\n",
       "      <td>0.100354</td>\n",
       "      <td>0.731665</td>\n",
       "      <td>[[107745, 7062], [1329, 468]]</td>\n",
       "    </tr>\n",
       "    <tr>\n",
       "      <th>model_6</th>\n",
       "      <td>0.141414</td>\n",
       "      <td>0.940276</td>\n",
       "      <td>0.060555</td>\n",
       "      <td>0.198108</td>\n",
       "      <td>0.092757</td>\n",
       "      <td>0.759185</td>\n",
       "      <td>[[109284, 5523], [1441, 356]]</td>\n",
       "    </tr>\n",
       "    <tr>\n",
       "      <th>model_7</th>\n",
       "      <td>0.111111</td>\n",
       "      <td>0.918022</td>\n",
       "      <td>0.053292</td>\n",
       "      <td>0.257652</td>\n",
       "      <td>0.088317</td>\n",
       "      <td>0.733317</td>\n",
       "      <td>[[106582, 8225], [1334, 463]]</td>\n",
       "    </tr>\n",
       "    <tr>\n",
       "      <th>model_8</th>\n",
       "      <td>0.151515</td>\n",
       "      <td>0.941228</td>\n",
       "      <td>0.063385</td>\n",
       "      <td>0.204229</td>\n",
       "      <td>0.096744</td>\n",
       "      <td>0.759153</td>\n",
       "      <td>[[109384, 5423], [1430, 367]]</td>\n",
       "    </tr>\n",
       "    <tr>\n",
       "      <th>model_9</th>\n",
       "      <td>0.212121</td>\n",
       "      <td>0.933750</td>\n",
       "      <td>0.064374</td>\n",
       "      <td>0.243740</td>\n",
       "      <td>0.101849</td>\n",
       "      <td>0.732760</td>\n",
       "      <td>[[108441, 6366], [1359, 438]]</td>\n",
       "    </tr>\n",
       "    <tr>\n",
       "      <th>model_10</th>\n",
       "      <td>0.353535</td>\n",
       "      <td>0.947077</td>\n",
       "      <td>0.068639</td>\n",
       "      <td>0.193656</td>\n",
       "      <td>0.101354</td>\n",
       "      <td>0.744707</td>\n",
       "      <td>[[110085, 4722], [1449, 348]]</td>\n",
       "    </tr>\n",
       "    <tr>\n",
       "      <th>model_11</th>\n",
       "      <td>0.292929</td>\n",
       "      <td>0.940122</td>\n",
       "      <td>0.066399</td>\n",
       "      <td>0.220924</td>\n",
       "      <td>0.102109</td>\n",
       "      <td>0.738498</td>\n",
       "      <td>[[109225, 5582], [1400, 397]]</td>\n",
       "    </tr>\n",
       "    <tr>\n",
       "      <th>model_12</th>\n",
       "      <td>0.000000</td>\n",
       "      <td>0.015411</td>\n",
       "      <td>0.015411</td>\n",
       "      <td>1.000000</td>\n",
       "      <td>0.030354</td>\n",
       "      <td>0.500000</td>\n",
       "      <td>[[0, 114807], [0, 1797]]</td>\n",
       "    </tr>\n",
       "    <tr>\n",
       "      <th>model_13</th>\n",
       "      <td>0.545455</td>\n",
       "      <td>0.956065</td>\n",
       "      <td>0.072494</td>\n",
       "      <td>0.156928</td>\n",
       "      <td>0.099174</td>\n",
       "      <td>0.731495</td>\n",
       "      <td>[[111199, 3608], [1515, 282]]</td>\n",
       "    </tr>\n",
       "    <tr>\n",
       "      <th>model_14</th>\n",
       "      <td>0.080808</td>\n",
       "      <td>0.964487</td>\n",
       "      <td>0.105653</td>\n",
       "      <td>0.174736</td>\n",
       "      <td>0.131684</td>\n",
       "      <td>0.791318</td>\n",
       "      <td>[[112149, 2658], [1483, 314]]</td>\n",
       "    </tr>\n",
       "  </tbody>\n",
       "</table>\n",
       "</div>"
      ],
      "text/plain": [
       "          Best Threshold  Accuracy  Precision    Recall  F1-Score       AUC  \\\n",
       "model_1         0.080808  0.960190   0.096911  0.190317  0.128427  0.793724   \n",
       "model_2         0.151515  0.936357   0.058001  0.205342  0.090452  0.744651   \n",
       "model_3         0.141414  0.939170   0.060571  0.203116  0.093315  0.746444   \n",
       "model_4         0.000000  0.015411   0.015411  1.000000  0.030354  0.500000   \n",
       "model_5         0.191919  0.928038   0.062151  0.260434  0.100354  0.731665   \n",
       "model_6         0.141414  0.940276   0.060555  0.198108  0.092757  0.759185   \n",
       "model_7         0.111111  0.918022   0.053292  0.257652  0.088317  0.733317   \n",
       "model_8         0.151515  0.941228   0.063385  0.204229  0.096744  0.759153   \n",
       "model_9         0.212121  0.933750   0.064374  0.243740  0.101849  0.732760   \n",
       "model_10        0.353535  0.947077   0.068639  0.193656  0.101354  0.744707   \n",
       "model_11        0.292929  0.940122   0.066399  0.220924  0.102109  0.738498   \n",
       "model_12        0.000000  0.015411   0.015411  1.000000  0.030354  0.500000   \n",
       "model_13        0.545455  0.956065   0.072494  0.156928  0.099174  0.731495   \n",
       "model_14        0.080808  0.964487   0.105653  0.174736  0.131684  0.791318   \n",
       "\n",
       "                       Confusion Matrix  \n",
       "model_1   [[111620, 3187], [1455, 342]]  \n",
       "model_2   [[108814, 5993], [1428, 369]]  \n",
       "model_3   [[109146, 5661], [1432, 365]]  \n",
       "model_4        [[0, 114807], [0, 1797]]  \n",
       "model_5   [[107745, 7062], [1329, 468]]  \n",
       "model_6   [[109284, 5523], [1441, 356]]  \n",
       "model_7   [[106582, 8225], [1334, 463]]  \n",
       "model_8   [[109384, 5423], [1430, 367]]  \n",
       "model_9   [[108441, 6366], [1359, 438]]  \n",
       "model_10  [[110085, 4722], [1449, 348]]  \n",
       "model_11  [[109225, 5582], [1400, 397]]  \n",
       "model_12       [[0, 114807], [0, 1797]]  \n",
       "model_13  [[111199, 3608], [1515, 282]]  \n",
       "model_14  [[112149, 2658], [1483, 314]]  "
      ]
     },
     "execution_count": 107,
     "metadata": {},
     "output_type": "execute_result"
    }
   ],
   "source": [
    "results_df = pd.DataFrame.from_dict(all_results, orient='index')\n",
    "results_df"
   ]
  },
  {
   "cell_type": "code",
   "execution_count": 108,
   "metadata": {},
   "outputs": [
    {
     "data": {
      "text/html": [
       "<div>\n",
       "<style scoped>\n",
       "    .dataframe tbody tr th:only-of-type {\n",
       "        vertical-align: middle;\n",
       "    }\n",
       "\n",
       "    .dataframe tbody tr th {\n",
       "        vertical-align: top;\n",
       "    }\n",
       "\n",
       "    .dataframe thead th {\n",
       "        text-align: right;\n",
       "    }\n",
       "</style>\n",
       "<table border=\"1\" class=\"dataframe\">\n",
       "  <thead>\n",
       "    <tr style=\"text-align: right;\">\n",
       "      <th></th>\n",
       "      <th>Best Threshold</th>\n",
       "      <th>Accuracy</th>\n",
       "      <th>Precision</th>\n",
       "      <th>Recall</th>\n",
       "      <th>F1-Score</th>\n",
       "      <th>AUC</th>\n",
       "      <th>Confusion Matrix</th>\n",
       "    </tr>\n",
       "  </thead>\n",
       "  <tbody>\n",
       "    <tr>\n",
       "      <th>model_14</th>\n",
       "      <td>0.080808</td>\n",
       "      <td>0.964487</td>\n",
       "      <td>0.105653</td>\n",
       "      <td>0.174736</td>\n",
       "      <td>0.131684</td>\n",
       "      <td>0.791318</td>\n",
       "      <td>[[112149, 2658], [1483, 314]]</td>\n",
       "    </tr>\n",
       "    <tr>\n",
       "      <th>model_1</th>\n",
       "      <td>0.080808</td>\n",
       "      <td>0.960190</td>\n",
       "      <td>0.096911</td>\n",
       "      <td>0.190317</td>\n",
       "      <td>0.128427</td>\n",
       "      <td>0.793724</td>\n",
       "      <td>[[111620, 3187], [1455, 342]]</td>\n",
       "    </tr>\n",
       "    <tr>\n",
       "      <th>model_11</th>\n",
       "      <td>0.292929</td>\n",
       "      <td>0.940122</td>\n",
       "      <td>0.066399</td>\n",
       "      <td>0.220924</td>\n",
       "      <td>0.102109</td>\n",
       "      <td>0.738498</td>\n",
       "      <td>[[109225, 5582], [1400, 397]]</td>\n",
       "    </tr>\n",
       "    <tr>\n",
       "      <th>model_9</th>\n",
       "      <td>0.212121</td>\n",
       "      <td>0.933750</td>\n",
       "      <td>0.064374</td>\n",
       "      <td>0.243740</td>\n",
       "      <td>0.101849</td>\n",
       "      <td>0.732760</td>\n",
       "      <td>[[108441, 6366], [1359, 438]]</td>\n",
       "    </tr>\n",
       "    <tr>\n",
       "      <th>model_10</th>\n",
       "      <td>0.353535</td>\n",
       "      <td>0.947077</td>\n",
       "      <td>0.068639</td>\n",
       "      <td>0.193656</td>\n",
       "      <td>0.101354</td>\n",
       "      <td>0.744707</td>\n",
       "      <td>[[110085, 4722], [1449, 348]]</td>\n",
       "    </tr>\n",
       "    <tr>\n",
       "      <th>model_5</th>\n",
       "      <td>0.191919</td>\n",
       "      <td>0.928038</td>\n",
       "      <td>0.062151</td>\n",
       "      <td>0.260434</td>\n",
       "      <td>0.100354</td>\n",
       "      <td>0.731665</td>\n",
       "      <td>[[107745, 7062], [1329, 468]]</td>\n",
       "    </tr>\n",
       "    <tr>\n",
       "      <th>model_13</th>\n",
       "      <td>0.545455</td>\n",
       "      <td>0.956065</td>\n",
       "      <td>0.072494</td>\n",
       "      <td>0.156928</td>\n",
       "      <td>0.099174</td>\n",
       "      <td>0.731495</td>\n",
       "      <td>[[111199, 3608], [1515, 282]]</td>\n",
       "    </tr>\n",
       "    <tr>\n",
       "      <th>model_8</th>\n",
       "      <td>0.151515</td>\n",
       "      <td>0.941228</td>\n",
       "      <td>0.063385</td>\n",
       "      <td>0.204229</td>\n",
       "      <td>0.096744</td>\n",
       "      <td>0.759153</td>\n",
       "      <td>[[109384, 5423], [1430, 367]]</td>\n",
       "    </tr>\n",
       "    <tr>\n",
       "      <th>model_3</th>\n",
       "      <td>0.141414</td>\n",
       "      <td>0.939170</td>\n",
       "      <td>0.060571</td>\n",
       "      <td>0.203116</td>\n",
       "      <td>0.093315</td>\n",
       "      <td>0.746444</td>\n",
       "      <td>[[109146, 5661], [1432, 365]]</td>\n",
       "    </tr>\n",
       "    <tr>\n",
       "      <th>model_6</th>\n",
       "      <td>0.141414</td>\n",
       "      <td>0.940276</td>\n",
       "      <td>0.060555</td>\n",
       "      <td>0.198108</td>\n",
       "      <td>0.092757</td>\n",
       "      <td>0.759185</td>\n",
       "      <td>[[109284, 5523], [1441, 356]]</td>\n",
       "    </tr>\n",
       "    <tr>\n",
       "      <th>model_2</th>\n",
       "      <td>0.151515</td>\n",
       "      <td>0.936357</td>\n",
       "      <td>0.058001</td>\n",
       "      <td>0.205342</td>\n",
       "      <td>0.090452</td>\n",
       "      <td>0.744651</td>\n",
       "      <td>[[108814, 5993], [1428, 369]]</td>\n",
       "    </tr>\n",
       "    <tr>\n",
       "      <th>model_7</th>\n",
       "      <td>0.111111</td>\n",
       "      <td>0.918022</td>\n",
       "      <td>0.053292</td>\n",
       "      <td>0.257652</td>\n",
       "      <td>0.088317</td>\n",
       "      <td>0.733317</td>\n",
       "      <td>[[106582, 8225], [1334, 463]]</td>\n",
       "    </tr>\n",
       "    <tr>\n",
       "      <th>model_4</th>\n",
       "      <td>0.000000</td>\n",
       "      <td>0.015411</td>\n",
       "      <td>0.015411</td>\n",
       "      <td>1.000000</td>\n",
       "      <td>0.030354</td>\n",
       "      <td>0.500000</td>\n",
       "      <td>[[0, 114807], [0, 1797]]</td>\n",
       "    </tr>\n",
       "    <tr>\n",
       "      <th>model_12</th>\n",
       "      <td>0.000000</td>\n",
       "      <td>0.015411</td>\n",
       "      <td>0.015411</td>\n",
       "      <td>1.000000</td>\n",
       "      <td>0.030354</td>\n",
       "      <td>0.500000</td>\n",
       "      <td>[[0, 114807], [0, 1797]]</td>\n",
       "    </tr>\n",
       "  </tbody>\n",
       "</table>\n",
       "</div>"
      ],
      "text/plain": [
       "          Best Threshold  Accuracy  Precision    Recall  F1-Score       AUC  \\\n",
       "model_14        0.080808  0.964487   0.105653  0.174736  0.131684  0.791318   \n",
       "model_1         0.080808  0.960190   0.096911  0.190317  0.128427  0.793724   \n",
       "model_11        0.292929  0.940122   0.066399  0.220924  0.102109  0.738498   \n",
       "model_9         0.212121  0.933750   0.064374  0.243740  0.101849  0.732760   \n",
       "model_10        0.353535  0.947077   0.068639  0.193656  0.101354  0.744707   \n",
       "model_5         0.191919  0.928038   0.062151  0.260434  0.100354  0.731665   \n",
       "model_13        0.545455  0.956065   0.072494  0.156928  0.099174  0.731495   \n",
       "model_8         0.151515  0.941228   0.063385  0.204229  0.096744  0.759153   \n",
       "model_3         0.141414  0.939170   0.060571  0.203116  0.093315  0.746444   \n",
       "model_6         0.141414  0.940276   0.060555  0.198108  0.092757  0.759185   \n",
       "model_2         0.151515  0.936357   0.058001  0.205342  0.090452  0.744651   \n",
       "model_7         0.111111  0.918022   0.053292  0.257652  0.088317  0.733317   \n",
       "model_4         0.000000  0.015411   0.015411  1.000000  0.030354  0.500000   \n",
       "model_12        0.000000  0.015411   0.015411  1.000000  0.030354  0.500000   \n",
       "\n",
       "                       Confusion Matrix  \n",
       "model_14  [[112149, 2658], [1483, 314]]  \n",
       "model_1   [[111620, 3187], [1455, 342]]  \n",
       "model_11  [[109225, 5582], [1400, 397]]  \n",
       "model_9   [[108441, 6366], [1359, 438]]  \n",
       "model_10  [[110085, 4722], [1449, 348]]  \n",
       "model_5   [[107745, 7062], [1329, 468]]  \n",
       "model_13  [[111199, 3608], [1515, 282]]  \n",
       "model_8   [[109384, 5423], [1430, 367]]  \n",
       "model_3   [[109146, 5661], [1432, 365]]  \n",
       "model_6   [[109284, 5523], [1441, 356]]  \n",
       "model_2   [[108814, 5993], [1428, 369]]  \n",
       "model_7   [[106582, 8225], [1334, 463]]  \n",
       "model_4        [[0, 114807], [0, 1797]]  \n",
       "model_12       [[0, 114807], [0, 1797]]  "
      ]
     },
     "execution_count": 108,
     "metadata": {},
     "output_type": "execute_result"
    }
   ],
   "source": [
    "sorted_df = results_df.sort_values(by='F1-Score', ascending=False)\n",
    "sorted_df"
   ]
  },
  {
   "cell_type": "markdown",
   "metadata": {},
   "source": [
    "## RNN Model\n",
    "First attempt with a simple architecture."
   ]
  },
  {
   "cell_type": "code",
   "execution_count": 75,
   "metadata": {},
   "outputs": [],
   "source": [
    "\n",
    "embedding_dim = 32\n",
    "max_features = int(np.max(x_train_scaled)) + 1\n",
    "\n",
    "model_r1 = tf.keras.Sequential([\n",
    "    tf.keras.layers.Embedding(max_features, embedding_dim),\n",
    "    tf.keras.layers.Dropout(0.2),\n",
    "    tf.keras.layers.GlobalAveragePooling1D(),\n",
    "    tf.keras.layers.Dropout(0.2),\n",
    "    tf.keras.layers.Dense(1, activation = 'sigmoid')\n",
    "])"
   ]
  },
  {
   "cell_type": "code",
   "execution_count": 76,
   "metadata": {},
   "outputs": [],
   "source": [
    "model_r1.compile(\n",
    "    optimizer = 'adam',\n",
    "    loss='binary_crossentropy',\n",
    "    metrics=[tf.keras.metrics.BinaryAccuracy(), tf.keras.metrics.Recall(), tf.keras.metrics.Precision()]\n",
    ")"
   ]
  },
  {
   "cell_type": "code",
   "execution_count": 77,
   "metadata": {},
   "outputs": [
    {
     "name": "stdout",
     "output_type": "stream",
     "text": [
      "Epoch 1/10\n"
     ]
    },
    {
     "ename": "InvalidArgumentError",
     "evalue": "Graph execution error:\n\nDetected at node 'sequential_11/embedding/embedding_lookup' defined at (most recent call last):\n    File \"c:\\Users\\brian\\AppData\\Local\\Programs\\Python\\Python39\\lib\\runpy.py\", line 197, in _run_module_as_main\n      return _run_code(code, main_globals, None,\n    File \"c:\\Users\\brian\\AppData\\Local\\Programs\\Python\\Python39\\lib\\runpy.py\", line 87, in _run_code\n      exec(code, run_globals)\n    File \"C:\\Users\\brian\\AppData\\Roaming\\Python\\Python39\\site-packages\\ipykernel_launcher.py\", line 17, in <module>\n      app.launch_new_instance()\n    File \"c:\\Users\\brian\\AppData\\Local\\Programs\\Python\\Python39\\lib\\site-packages\\traitlets\\config\\application.py\", line 1043, in launch_instance\n      app.start()\n    File \"C:\\Users\\brian\\AppData\\Roaming\\Python\\Python39\\site-packages\\ipykernel\\kernelapp.py\", line 737, in start\n      self.io_loop.start()\n    File \"c:\\Users\\brian\\AppData\\Local\\Programs\\Python\\Python39\\lib\\site-packages\\tornado\\platform\\asyncio.py\", line 215, in start\n      self.asyncio_loop.run_forever()\n    File \"c:\\Users\\brian\\AppData\\Local\\Programs\\Python\\Python39\\lib\\asyncio\\base_events.py\", line 601, in run_forever\n      self._run_once()\n    File \"c:\\Users\\brian\\AppData\\Local\\Programs\\Python\\Python39\\lib\\asyncio\\base_events.py\", line 1905, in _run_once\n      handle._run()\n    File \"c:\\Users\\brian\\AppData\\Local\\Programs\\Python\\Python39\\lib\\asyncio\\events.py\", line 80, in _run\n      self._context.run(self._callback, *self._args)\n    File \"C:\\Users\\brian\\AppData\\Roaming\\Python\\Python39\\site-packages\\ipykernel\\kernelbase.py\", line 524, in dispatch_queue\n      await self.process_one()\n    File \"C:\\Users\\brian\\AppData\\Roaming\\Python\\Python39\\site-packages\\ipykernel\\kernelbase.py\", line 513, in process_one\n      await dispatch(*args)\n    File \"C:\\Users\\brian\\AppData\\Roaming\\Python\\Python39\\site-packages\\ipykernel\\kernelbase.py\", line 418, in dispatch_shell\n      await result\n    File \"C:\\Users\\brian\\AppData\\Roaming\\Python\\Python39\\site-packages\\ipykernel\\kernelbase.py\", line 758, in execute_request\n      reply_content = await reply_content\n    File \"C:\\Users\\brian\\AppData\\Roaming\\Python\\Python39\\site-packages\\ipykernel\\ipkernel.py\", line 426, in do_execute\n      res = shell.run_cell(\n    File \"C:\\Users\\brian\\AppData\\Roaming\\Python\\Python39\\site-packages\\ipykernel\\zmqshell.py\", line 549, in run_cell\n      return super().run_cell(*args, **kwargs)\n    File \"c:\\Users\\brian\\AppData\\Local\\Programs\\Python\\Python39\\lib\\site-packages\\IPython\\core\\interactiveshell.py\", line 3009, in run_cell\n      result = self._run_cell(\n    File \"c:\\Users\\brian\\AppData\\Local\\Programs\\Python\\Python39\\lib\\site-packages\\IPython\\core\\interactiveshell.py\", line 3064, in _run_cell\n      result = runner(coro)\n    File \"c:\\Users\\brian\\AppData\\Local\\Programs\\Python\\Python39\\lib\\site-packages\\IPython\\core\\async_helpers.py\", line 129, in _pseudo_sync_runner\n      coro.send(None)\n    File \"c:\\Users\\brian\\AppData\\Local\\Programs\\Python\\Python39\\lib\\site-packages\\IPython\\core\\interactiveshell.py\", line 3269, in run_cell_async\n      has_raised = await self.run_ast_nodes(code_ast.body, cell_name,\n    File \"c:\\Users\\brian\\AppData\\Local\\Programs\\Python\\Python39\\lib\\site-packages\\IPython\\core\\interactiveshell.py\", line 3448, in run_ast_nodes\n      if await self.run_code(code, result, async_=asy):\n    File \"c:\\Users\\brian\\AppData\\Local\\Programs\\Python\\Python39\\lib\\site-packages\\IPython\\core\\interactiveshell.py\", line 3508, in run_code\n      exec(code_obj, self.user_global_ns, self.user_ns)\n    File \"C:\\Users\\brian\\AppData\\Local\\Temp\\ipykernel_21116\\3956798898.py\", line 4, in <module>\n      history = model_r1.fit(x_train_scaled, y_train_resampled,\n    File \"c:\\Users\\brian\\AppData\\Local\\Programs\\Python\\Python39\\lib\\site-packages\\keras\\utils\\traceback_utils.py\", line 65, in error_handler\n      return fn(*args, **kwargs)\n    File \"c:\\Users\\brian\\AppData\\Local\\Programs\\Python\\Python39\\lib\\site-packages\\keras\\engine\\training.py\", line 1564, in fit\n      tmp_logs = self.train_function(iterator)\n    File \"c:\\Users\\brian\\AppData\\Local\\Programs\\Python\\Python39\\lib\\site-packages\\keras\\engine\\training.py\", line 1160, in train_function\n      return step_function(self, iterator)\n    File \"c:\\Users\\brian\\AppData\\Local\\Programs\\Python\\Python39\\lib\\site-packages\\keras\\engine\\training.py\", line 1146, in step_function\n      outputs = model.distribute_strategy.run(run_step, args=(data,))\n    File \"c:\\Users\\brian\\AppData\\Local\\Programs\\Python\\Python39\\lib\\site-packages\\keras\\engine\\training.py\", line 1135, in run_step\n      outputs = model.train_step(data)\n    File \"c:\\Users\\brian\\AppData\\Local\\Programs\\Python\\Python39\\lib\\site-packages\\keras\\engine\\training.py\", line 993, in train_step\n      y_pred = self(x, training=True)\n    File \"c:\\Users\\brian\\AppData\\Local\\Programs\\Python\\Python39\\lib\\site-packages\\keras\\utils\\traceback_utils.py\", line 65, in error_handler\n      return fn(*args, **kwargs)\n    File \"c:\\Users\\brian\\AppData\\Local\\Programs\\Python\\Python39\\lib\\site-packages\\keras\\engine\\training.py\", line 557, in __call__\n      return super().__call__(*args, **kwargs)\n    File \"c:\\Users\\brian\\AppData\\Local\\Programs\\Python\\Python39\\lib\\site-packages\\keras\\utils\\traceback_utils.py\", line 65, in error_handler\n      return fn(*args, **kwargs)\n    File \"c:\\Users\\brian\\AppData\\Local\\Programs\\Python\\Python39\\lib\\site-packages\\keras\\engine\\base_layer.py\", line 1097, in __call__\n      outputs = call_fn(inputs, *args, **kwargs)\n    File \"c:\\Users\\brian\\AppData\\Local\\Programs\\Python\\Python39\\lib\\site-packages\\keras\\utils\\traceback_utils.py\", line 96, in error_handler\n      return fn(*args, **kwargs)\n    File \"c:\\Users\\brian\\AppData\\Local\\Programs\\Python\\Python39\\lib\\site-packages\\keras\\engine\\sequential.py\", line 410, in call\n      return super().call(inputs, training=training, mask=mask)\n    File \"c:\\Users\\brian\\AppData\\Local\\Programs\\Python\\Python39\\lib\\site-packages\\keras\\engine\\functional.py\", line 510, in call\n      return self._run_internal_graph(inputs, training=training, mask=mask)\n    File \"c:\\Users\\brian\\AppData\\Local\\Programs\\Python\\Python39\\lib\\site-packages\\keras\\engine\\functional.py\", line 667, in _run_internal_graph\n      outputs = node.layer(*args, **kwargs)\n    File \"c:\\Users\\brian\\AppData\\Local\\Programs\\Python\\Python39\\lib\\site-packages\\keras\\utils\\traceback_utils.py\", line 65, in error_handler\n      return fn(*args, **kwargs)\n    File \"c:\\Users\\brian\\AppData\\Local\\Programs\\Python\\Python39\\lib\\site-packages\\keras\\engine\\base_layer.py\", line 1097, in __call__\n      outputs = call_fn(inputs, *args, **kwargs)\n    File \"c:\\Users\\brian\\AppData\\Local\\Programs\\Python\\Python39\\lib\\site-packages\\keras\\utils\\traceback_utils.py\", line 96, in error_handler\n      return fn(*args, **kwargs)\n    File \"c:\\Users\\brian\\AppData\\Local\\Programs\\Python\\Python39\\lib\\site-packages\\keras\\layers\\core\\embedding.py\", line 208, in call\n      out = tf.nn.embedding_lookup(self.embeddings, inputs)\nNode: 'sequential_11/embedding/embedding_lookup'\nindices[11,7] = -1 is not in [0, 12)\n\t [[{{node sequential_11/embedding/embedding_lookup}}]] [Op:__inference_train_function_23278997]",
     "output_type": "error",
     "traceback": [
      "\u001b[1;31m---------------------------------------------------------------------------\u001b[0m",
      "\u001b[1;31mInvalidArgumentError\u001b[0m                      Traceback (most recent call last)",
      "Cell \u001b[1;32mIn[77], line 4\u001b[0m\n\u001b[0;32m      1\u001b[0m np\u001b[38;5;241m.\u001b[39mrandom\u001b[38;5;241m.\u001b[39mseed(\u001b[38;5;241m33\u001b[39m)\n\u001b[0;32m      2\u001b[0m tf\u001b[38;5;241m.\u001b[39mrandom\u001b[38;5;241m.\u001b[39mset_seed(\u001b[38;5;241m33\u001b[39m)\n\u001b[1;32m----> 4\u001b[0m history \u001b[38;5;241m=\u001b[39m \u001b[43mmodel_r1\u001b[49m\u001b[38;5;241;43m.\u001b[39;49m\u001b[43mfit\u001b[49m\u001b[43m(\u001b[49m\u001b[43mx_train_scaled\u001b[49m\u001b[43m,\u001b[49m\u001b[43m \u001b[49m\u001b[43my_train_resampled\u001b[49m\u001b[43m,\u001b[49m\u001b[43m \u001b[49m\n\u001b[0;32m      5\u001b[0m \u001b[43m                    \u001b[49m\u001b[43mvalidation_data\u001b[49m\u001b[38;5;241;43m=\u001b[39;49m\u001b[43m(\u001b[49m\u001b[43mx_val_scaled\u001b[49m\u001b[43m,\u001b[49m\u001b[43m \u001b[49m\u001b[43my_val\u001b[49m\u001b[43m)\u001b[49m\u001b[43m,\u001b[49m\n\u001b[0;32m      6\u001b[0m \u001b[43m                    \u001b[49m\u001b[43mepochs\u001b[49m\u001b[38;5;241;43m=\u001b[39;49m\u001b[38;5;241;43m10\u001b[39;49m\u001b[43m,\u001b[49m\n\u001b[0;32m      7\u001b[0m \u001b[43m                    \u001b[49m\u001b[43mbatch_size\u001b[49m\u001b[38;5;241;43m=\u001b[39;49m\u001b[38;5;241;43m32\u001b[39;49m\u001b[43m)\u001b[49m\n",
      "File \u001b[1;32mc:\\Users\\brian\\AppData\\Local\\Programs\\Python\\Python39\\lib\\site-packages\\keras\\utils\\traceback_utils.py:70\u001b[0m, in \u001b[0;36mfilter_traceback.<locals>.error_handler\u001b[1;34m(*args, **kwargs)\u001b[0m\n\u001b[0;32m     67\u001b[0m     filtered_tb \u001b[38;5;241m=\u001b[39m _process_traceback_frames(e\u001b[38;5;241m.\u001b[39m__traceback__)\n\u001b[0;32m     68\u001b[0m     \u001b[38;5;66;03m# To get the full stack trace, call:\u001b[39;00m\n\u001b[0;32m     69\u001b[0m     \u001b[38;5;66;03m# `tf.debugging.disable_traceback_filtering()`\u001b[39;00m\n\u001b[1;32m---> 70\u001b[0m     \u001b[38;5;28;01mraise\u001b[39;00m e\u001b[38;5;241m.\u001b[39mwith_traceback(filtered_tb) \u001b[38;5;28;01mfrom\u001b[39;00m \u001b[38;5;28mNone\u001b[39m\n\u001b[0;32m     71\u001b[0m \u001b[38;5;28;01mfinally\u001b[39;00m:\n\u001b[0;32m     72\u001b[0m     \u001b[38;5;28;01mdel\u001b[39;00m filtered_tb\n",
      "File \u001b[1;32mc:\\Users\\brian\\AppData\\Local\\Programs\\Python\\Python39\\lib\\site-packages\\tensorflow\\python\\eager\\execute.py:54\u001b[0m, in \u001b[0;36mquick_execute\u001b[1;34m(op_name, num_outputs, inputs, attrs, ctx, name)\u001b[0m\n\u001b[0;32m     52\u001b[0m \u001b[38;5;28;01mtry\u001b[39;00m:\n\u001b[0;32m     53\u001b[0m   ctx\u001b[38;5;241m.\u001b[39mensure_initialized()\n\u001b[1;32m---> 54\u001b[0m   tensors \u001b[38;5;241m=\u001b[39m pywrap_tfe\u001b[38;5;241m.\u001b[39mTFE_Py_Execute(ctx\u001b[38;5;241m.\u001b[39m_handle, device_name, op_name,\n\u001b[0;32m     55\u001b[0m                                       inputs, attrs, num_outputs)\n\u001b[0;32m     56\u001b[0m \u001b[38;5;28;01mexcept\u001b[39;00m core\u001b[38;5;241m.\u001b[39m_NotOkStatusException \u001b[38;5;28;01mas\u001b[39;00m e:\n\u001b[0;32m     57\u001b[0m   \u001b[38;5;28;01mif\u001b[39;00m name \u001b[38;5;129;01mis\u001b[39;00m \u001b[38;5;129;01mnot\u001b[39;00m \u001b[38;5;28;01mNone\u001b[39;00m:\n",
      "\u001b[1;31mInvalidArgumentError\u001b[0m: Graph execution error:\n\nDetected at node 'sequential_11/embedding/embedding_lookup' defined at (most recent call last):\n    File \"c:\\Users\\brian\\AppData\\Local\\Programs\\Python\\Python39\\lib\\runpy.py\", line 197, in _run_module_as_main\n      return _run_code(code, main_globals, None,\n    File \"c:\\Users\\brian\\AppData\\Local\\Programs\\Python\\Python39\\lib\\runpy.py\", line 87, in _run_code\n      exec(code, run_globals)\n    File \"C:\\Users\\brian\\AppData\\Roaming\\Python\\Python39\\site-packages\\ipykernel_launcher.py\", line 17, in <module>\n      app.launch_new_instance()\n    File \"c:\\Users\\brian\\AppData\\Local\\Programs\\Python\\Python39\\lib\\site-packages\\traitlets\\config\\application.py\", line 1043, in launch_instance\n      app.start()\n    File \"C:\\Users\\brian\\AppData\\Roaming\\Python\\Python39\\site-packages\\ipykernel\\kernelapp.py\", line 737, in start\n      self.io_loop.start()\n    File \"c:\\Users\\brian\\AppData\\Local\\Programs\\Python\\Python39\\lib\\site-packages\\tornado\\platform\\asyncio.py\", line 215, in start\n      self.asyncio_loop.run_forever()\n    File \"c:\\Users\\brian\\AppData\\Local\\Programs\\Python\\Python39\\lib\\asyncio\\base_events.py\", line 601, in run_forever\n      self._run_once()\n    File \"c:\\Users\\brian\\AppData\\Local\\Programs\\Python\\Python39\\lib\\asyncio\\base_events.py\", line 1905, in _run_once\n      handle._run()\n    File \"c:\\Users\\brian\\AppData\\Local\\Programs\\Python\\Python39\\lib\\asyncio\\events.py\", line 80, in _run\n      self._context.run(self._callback, *self._args)\n    File \"C:\\Users\\brian\\AppData\\Roaming\\Python\\Python39\\site-packages\\ipykernel\\kernelbase.py\", line 524, in dispatch_queue\n      await self.process_one()\n    File \"C:\\Users\\brian\\AppData\\Roaming\\Python\\Python39\\site-packages\\ipykernel\\kernelbase.py\", line 513, in process_one\n      await dispatch(*args)\n    File \"C:\\Users\\brian\\AppData\\Roaming\\Python\\Python39\\site-packages\\ipykernel\\kernelbase.py\", line 418, in dispatch_shell\n      await result\n    File \"C:\\Users\\brian\\AppData\\Roaming\\Python\\Python39\\site-packages\\ipykernel\\kernelbase.py\", line 758, in execute_request\n      reply_content = await reply_content\n    File \"C:\\Users\\brian\\AppData\\Roaming\\Python\\Python39\\site-packages\\ipykernel\\ipkernel.py\", line 426, in do_execute\n      res = shell.run_cell(\n    File \"C:\\Users\\brian\\AppData\\Roaming\\Python\\Python39\\site-packages\\ipykernel\\zmqshell.py\", line 549, in run_cell\n      return super().run_cell(*args, **kwargs)\n    File \"c:\\Users\\brian\\AppData\\Local\\Programs\\Python\\Python39\\lib\\site-packages\\IPython\\core\\interactiveshell.py\", line 3009, in run_cell\n      result = self._run_cell(\n    File \"c:\\Users\\brian\\AppData\\Local\\Programs\\Python\\Python39\\lib\\site-packages\\IPython\\core\\interactiveshell.py\", line 3064, in _run_cell\n      result = runner(coro)\n    File \"c:\\Users\\brian\\AppData\\Local\\Programs\\Python\\Python39\\lib\\site-packages\\IPython\\core\\async_helpers.py\", line 129, in _pseudo_sync_runner\n      coro.send(None)\n    File \"c:\\Users\\brian\\AppData\\Local\\Programs\\Python\\Python39\\lib\\site-packages\\IPython\\core\\interactiveshell.py\", line 3269, in run_cell_async\n      has_raised = await self.run_ast_nodes(code_ast.body, cell_name,\n    File \"c:\\Users\\brian\\AppData\\Local\\Programs\\Python\\Python39\\lib\\site-packages\\IPython\\core\\interactiveshell.py\", line 3448, in run_ast_nodes\n      if await self.run_code(code, result, async_=asy):\n    File \"c:\\Users\\brian\\AppData\\Local\\Programs\\Python\\Python39\\lib\\site-packages\\IPython\\core\\interactiveshell.py\", line 3508, in run_code\n      exec(code_obj, self.user_global_ns, self.user_ns)\n    File \"C:\\Users\\brian\\AppData\\Local\\Temp\\ipykernel_21116\\3956798898.py\", line 4, in <module>\n      history = model_r1.fit(x_train_scaled, y_train_resampled,\n    File \"c:\\Users\\brian\\AppData\\Local\\Programs\\Python\\Python39\\lib\\site-packages\\keras\\utils\\traceback_utils.py\", line 65, in error_handler\n      return fn(*args, **kwargs)\n    File \"c:\\Users\\brian\\AppData\\Local\\Programs\\Python\\Python39\\lib\\site-packages\\keras\\engine\\training.py\", line 1564, in fit\n      tmp_logs = self.train_function(iterator)\n    File \"c:\\Users\\brian\\AppData\\Local\\Programs\\Python\\Python39\\lib\\site-packages\\keras\\engine\\training.py\", line 1160, in train_function\n      return step_function(self, iterator)\n    File \"c:\\Users\\brian\\AppData\\Local\\Programs\\Python\\Python39\\lib\\site-packages\\keras\\engine\\training.py\", line 1146, in step_function\n      outputs = model.distribute_strategy.run(run_step, args=(data,))\n    File \"c:\\Users\\brian\\AppData\\Local\\Programs\\Python\\Python39\\lib\\site-packages\\keras\\engine\\training.py\", line 1135, in run_step\n      outputs = model.train_step(data)\n    File \"c:\\Users\\brian\\AppData\\Local\\Programs\\Python\\Python39\\lib\\site-packages\\keras\\engine\\training.py\", line 993, in train_step\n      y_pred = self(x, training=True)\n    File \"c:\\Users\\brian\\AppData\\Local\\Programs\\Python\\Python39\\lib\\site-packages\\keras\\utils\\traceback_utils.py\", line 65, in error_handler\n      return fn(*args, **kwargs)\n    File \"c:\\Users\\brian\\AppData\\Local\\Programs\\Python\\Python39\\lib\\site-packages\\keras\\engine\\training.py\", line 557, in __call__\n      return super().__call__(*args, **kwargs)\n    File \"c:\\Users\\brian\\AppData\\Local\\Programs\\Python\\Python39\\lib\\site-packages\\keras\\utils\\traceback_utils.py\", line 65, in error_handler\n      return fn(*args, **kwargs)\n    File \"c:\\Users\\brian\\AppData\\Local\\Programs\\Python\\Python39\\lib\\site-packages\\keras\\engine\\base_layer.py\", line 1097, in __call__\n      outputs = call_fn(inputs, *args, **kwargs)\n    File \"c:\\Users\\brian\\AppData\\Local\\Programs\\Python\\Python39\\lib\\site-packages\\keras\\utils\\traceback_utils.py\", line 96, in error_handler\n      return fn(*args, **kwargs)\n    File \"c:\\Users\\brian\\AppData\\Local\\Programs\\Python\\Python39\\lib\\site-packages\\keras\\engine\\sequential.py\", line 410, in call\n      return super().call(inputs, training=training, mask=mask)\n    File \"c:\\Users\\brian\\AppData\\Local\\Programs\\Python\\Python39\\lib\\site-packages\\keras\\engine\\functional.py\", line 510, in call\n      return self._run_internal_graph(inputs, training=training, mask=mask)\n    File \"c:\\Users\\brian\\AppData\\Local\\Programs\\Python\\Python39\\lib\\site-packages\\keras\\engine\\functional.py\", line 667, in _run_internal_graph\n      outputs = node.layer(*args, **kwargs)\n    File \"c:\\Users\\brian\\AppData\\Local\\Programs\\Python\\Python39\\lib\\site-packages\\keras\\utils\\traceback_utils.py\", line 65, in error_handler\n      return fn(*args, **kwargs)\n    File \"c:\\Users\\brian\\AppData\\Local\\Programs\\Python\\Python39\\lib\\site-packages\\keras\\engine\\base_layer.py\", line 1097, in __call__\n      outputs = call_fn(inputs, *args, **kwargs)\n    File \"c:\\Users\\brian\\AppData\\Local\\Programs\\Python\\Python39\\lib\\site-packages\\keras\\utils\\traceback_utils.py\", line 96, in error_handler\n      return fn(*args, **kwargs)\n    File \"c:\\Users\\brian\\AppData\\Local\\Programs\\Python\\Python39\\lib\\site-packages\\keras\\layers\\core\\embedding.py\", line 208, in call\n      out = tf.nn.embedding_lookup(self.embeddings, inputs)\nNode: 'sequential_11/embedding/embedding_lookup'\nindices[11,7] = -1 is not in [0, 12)\n\t [[{{node sequential_11/embedding/embedding_lookup}}]] [Op:__inference_train_function_23278997]"
     ]
    }
   ],
   "source": [
    "np.random.seed(33)\n",
    "tf.random.set_seed(33)\n",
    "\n",
    "history = model_r1.fit(x_train_scaled, y_train_resampled, \n",
    "                    validation_data=(x_val_scaled, y_val),\n",
    "                    epochs=10,\n",
    "                    batch_size=32)"
   ]
  },
  {
   "cell_type": "code",
   "execution_count": null,
   "metadata": {},
   "outputs": [],
   "source": [
    "test_metrics(model_r1, x_test_scaled, y_test)"
   ]
  },
  {
   "cell_type": "code",
   "execution_count": null,
   "metadata": {},
   "outputs": [],
   "source": [
    "negative_indices = np.any(x_train_scaled < 0 , axis=1)\n",
    "\n",
    "# Print the rows in x_train_scaled where any value is -1\n",
    "for index, has_negative in enumerate(negative_indices):\n",
    "    if has_negative:\n",
    "        print(f\"Row {index} with -1 values:\", x_train_scaled[index])"
   ]
  }
 ],
 "metadata": {
  "kernelspec": {
   "display_name": "Python 3",
   "language": "python",
   "name": "python3"
  },
  "language_info": {
   "codemirror_mode": {
    "name": "ipython",
    "version": 3
   },
   "file_extension": ".py",
   "mimetype": "text/x-python",
   "name": "python",
   "nbconvert_exporter": "python",
   "pygments_lexer": "ipython3",
   "version": "3.9.13"
  }
 },
 "nbformat": 4,
 "nbformat_minor": 2
}
