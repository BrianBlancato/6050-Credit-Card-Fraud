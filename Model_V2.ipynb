{
 "cells": [
  {
   "cell_type": "code",
   "execution_count": 1,
   "metadata": {},
   "outputs": [
    {
     "name": "stdout",
     "output_type": "stream",
     "text": [
      "WARNING:tensorflow:From c:\\Users\\brian\\AppData\\Local\\Programs\\Python\\Python39\\lib\\site-packages\\keras\\src\\losses.py:2976: The name tf.losses.sparse_softmax_cross_entropy is deprecated. Please use tf.compat.v1.losses.sparse_softmax_cross_entropy instead.\n",
      "\n"
     ]
    }
   ],
   "source": [
    "import pandas as pd\n",
    "import numpy as np\n",
    "import matplotlib.pyplot as plt\n",
    "import tensorflow as tf\n",
    "\n",
    "%matplotlib inline"
   ]
  },
  {
   "cell_type": "code",
   "execution_count": 2,
   "metadata": {},
   "outputs": [
    {
     "data": {
      "text/html": [
       "<div>\n",
       "<style scoped>\n",
       "    .dataframe tbody tr th:only-of-type {\n",
       "        vertical-align: middle;\n",
       "    }\n",
       "\n",
       "    .dataframe tbody tr th {\n",
       "        vertical-align: top;\n",
       "    }\n",
       "\n",
       "    .dataframe thead th {\n",
       "        text-align: right;\n",
       "    }\n",
       "</style>\n",
       "<table border=\"1\" class=\"dataframe\">\n",
       "  <thead>\n",
       "    <tr style=\"text-align: right;\">\n",
       "      <th></th>\n",
       "      <th>accountNumber</th>\n",
       "      <th>customerId</th>\n",
       "      <th>creditLimit</th>\n",
       "      <th>availableMoney</th>\n",
       "      <th>transactionDateTime</th>\n",
       "      <th>transactionAmount</th>\n",
       "      <th>merchantName</th>\n",
       "      <th>acqCountry</th>\n",
       "      <th>merchantCountryCode</th>\n",
       "      <th>posEntryMode</th>\n",
       "      <th>...</th>\n",
       "      <th>echoBuffer</th>\n",
       "      <th>currentBalance</th>\n",
       "      <th>merchantCity</th>\n",
       "      <th>merchantState</th>\n",
       "      <th>merchantZip</th>\n",
       "      <th>cardPresent</th>\n",
       "      <th>posOnPremises</th>\n",
       "      <th>recurringAuthInd</th>\n",
       "      <th>expirationDateKeyInMatch</th>\n",
       "      <th>isFraud</th>\n",
       "    </tr>\n",
       "  </thead>\n",
       "  <tbody>\n",
       "    <tr>\n",
       "      <th>0</th>\n",
       "      <td>737265056</td>\n",
       "      <td>737265056</td>\n",
       "      <td>5000</td>\n",
       "      <td>5000.0</td>\n",
       "      <td>2016-08-13T14:27:32</td>\n",
       "      <td>98.55</td>\n",
       "      <td>Uber</td>\n",
       "      <td>US</td>\n",
       "      <td>US</td>\n",
       "      <td>02</td>\n",
       "      <td>...</td>\n",
       "      <td></td>\n",
       "      <td>0.0</td>\n",
       "      <td></td>\n",
       "      <td></td>\n",
       "      <td></td>\n",
       "      <td>False</td>\n",
       "      <td></td>\n",
       "      <td></td>\n",
       "      <td>False</td>\n",
       "      <td>False</td>\n",
       "    </tr>\n",
       "    <tr>\n",
       "      <th>1</th>\n",
       "      <td>737265056</td>\n",
       "      <td>737265056</td>\n",
       "      <td>5000</td>\n",
       "      <td>5000.0</td>\n",
       "      <td>2016-10-11T05:05:54</td>\n",
       "      <td>74.51</td>\n",
       "      <td>AMC #191138</td>\n",
       "      <td>US</td>\n",
       "      <td>US</td>\n",
       "      <td>09</td>\n",
       "      <td>...</td>\n",
       "      <td></td>\n",
       "      <td>0.0</td>\n",
       "      <td></td>\n",
       "      <td></td>\n",
       "      <td></td>\n",
       "      <td>True</td>\n",
       "      <td></td>\n",
       "      <td></td>\n",
       "      <td>False</td>\n",
       "      <td>False</td>\n",
       "    </tr>\n",
       "    <tr>\n",
       "      <th>2</th>\n",
       "      <td>737265056</td>\n",
       "      <td>737265056</td>\n",
       "      <td>5000</td>\n",
       "      <td>5000.0</td>\n",
       "      <td>2016-11-08T09:18:39</td>\n",
       "      <td>7.47</td>\n",
       "      <td>Play Store</td>\n",
       "      <td>US</td>\n",
       "      <td>US</td>\n",
       "      <td>09</td>\n",
       "      <td>...</td>\n",
       "      <td></td>\n",
       "      <td>0.0</td>\n",
       "      <td></td>\n",
       "      <td></td>\n",
       "      <td></td>\n",
       "      <td>False</td>\n",
       "      <td></td>\n",
       "      <td></td>\n",
       "      <td>False</td>\n",
       "      <td>False</td>\n",
       "    </tr>\n",
       "    <tr>\n",
       "      <th>3</th>\n",
       "      <td>737265056</td>\n",
       "      <td>737265056</td>\n",
       "      <td>5000</td>\n",
       "      <td>5000.0</td>\n",
       "      <td>2016-12-10T02:14:50</td>\n",
       "      <td>7.47</td>\n",
       "      <td>Play Store</td>\n",
       "      <td>US</td>\n",
       "      <td>US</td>\n",
       "      <td>09</td>\n",
       "      <td>...</td>\n",
       "      <td></td>\n",
       "      <td>0.0</td>\n",
       "      <td></td>\n",
       "      <td></td>\n",
       "      <td></td>\n",
       "      <td>False</td>\n",
       "      <td></td>\n",
       "      <td></td>\n",
       "      <td>False</td>\n",
       "      <td>False</td>\n",
       "    </tr>\n",
       "    <tr>\n",
       "      <th>4</th>\n",
       "      <td>830329091</td>\n",
       "      <td>830329091</td>\n",
       "      <td>5000</td>\n",
       "      <td>5000.0</td>\n",
       "      <td>2016-03-24T21:04:46</td>\n",
       "      <td>71.18</td>\n",
       "      <td>Tim Hortons #947751</td>\n",
       "      <td>US</td>\n",
       "      <td>US</td>\n",
       "      <td>02</td>\n",
       "      <td>...</td>\n",
       "      <td></td>\n",
       "      <td>0.0</td>\n",
       "      <td></td>\n",
       "      <td></td>\n",
       "      <td></td>\n",
       "      <td>True</td>\n",
       "      <td></td>\n",
       "      <td></td>\n",
       "      <td>False</td>\n",
       "      <td>False</td>\n",
       "    </tr>\n",
       "  </tbody>\n",
       "</table>\n",
       "<p>5 rows × 29 columns</p>\n",
       "</div>"
      ],
      "text/plain": [
       "   accountNumber  customerId  creditLimit  availableMoney  \\\n",
       "0      737265056   737265056         5000          5000.0   \n",
       "1      737265056   737265056         5000          5000.0   \n",
       "2      737265056   737265056         5000          5000.0   \n",
       "3      737265056   737265056         5000          5000.0   \n",
       "4      830329091   830329091         5000          5000.0   \n",
       "\n",
       "   transactionDateTime  transactionAmount         merchantName acqCountry  \\\n",
       "0  2016-08-13T14:27:32              98.55                 Uber         US   \n",
       "1  2016-10-11T05:05:54              74.51          AMC #191138         US   \n",
       "2  2016-11-08T09:18:39               7.47           Play Store         US   \n",
       "3  2016-12-10T02:14:50               7.47           Play Store         US   \n",
       "4  2016-03-24T21:04:46              71.18  Tim Hortons #947751         US   \n",
       "\n",
       "  merchantCountryCode posEntryMode  ... echoBuffer currentBalance  \\\n",
       "0                  US           02  ...                       0.0   \n",
       "1                  US           09  ...                       0.0   \n",
       "2                  US           09  ...                       0.0   \n",
       "3                  US           09  ...                       0.0   \n",
       "4                  US           02  ...                       0.0   \n",
       "\n",
       "  merchantCity merchantState merchantZip  cardPresent  posOnPremises  \\\n",
       "0                                               False                  \n",
       "1                                                True                  \n",
       "2                                               False                  \n",
       "3                                               False                  \n",
       "4                                                True                  \n",
       "\n",
       "   recurringAuthInd expirationDateKeyInMatch isFraud  \n",
       "0                                      False   False  \n",
       "1                                      False   False  \n",
       "2                                      False   False  \n",
       "3                                      False   False  \n",
       "4                                      False   False  \n",
       "\n",
       "[5 rows x 29 columns]"
      ]
     },
     "execution_count": 2,
     "metadata": {},
     "output_type": "execute_result"
    }
   ],
   "source": [
    "df = pd.read_json('transactions.txt', lines=True)\n",
    "\n",
    "df.head()"
   ]
  },
  {
   "cell_type": "markdown",
   "metadata": {},
   "source": [
    "## Data Cleaning"
   ]
  },
  {
   "cell_type": "code",
   "execution_count": 3,
   "metadata": {},
   "outputs": [],
   "source": [
    "# Replacing white space with nan\n",
    "\n",
    "df = df.replace('', np.nan)"
   ]
  },
  {
   "cell_type": "code",
   "execution_count": 4,
   "metadata": {},
   "outputs": [
    {
     "name": "stdout",
     "output_type": "stream",
     "text": [
      "Empty columns that were removed:\n",
      "['echoBuffer', 'merchantCity', 'merchantState', 'merchantZip', 'posOnPremises', 'recurringAuthInd']\n"
     ]
    }
   ],
   "source": [
    "# Checking which columns are empty and removing\n",
    "\n",
    "nan_col = df.columns[df.isna().all()].tolist()\n",
    "df.drop(columns=nan_col, inplace=True)\n",
    "\n",
    "print(\"Empty columns that were removed:\")\n",
    "print(nan_col)"
   ]
  },
  {
   "cell_type": "code",
   "execution_count": 5,
   "metadata": {},
   "outputs": [
    {
     "data": {
      "text/plain": [
       "True"
      ]
     },
     "execution_count": 5,
     "metadata": {},
     "output_type": "execute_result"
    }
   ],
   "source": [
    "# Account Number and Customer Id columns appear to be equal\n",
    "\n",
    "df['accountNumber'].equals(df['customerId'])"
   ]
  },
  {
   "cell_type": "code",
   "execution_count": 6,
   "metadata": {},
   "outputs": [],
   "source": [
    "# Removing customerId as it is a duplicate of accountNumber\n",
    "\n",
    "df.drop(columns=['customerId'], inplace=True)"
   ]
  },
  {
   "cell_type": "code",
   "execution_count": 7,
   "metadata": {},
   "outputs": [],
   "source": [
    "# Dropping merchantName as merchantCategory will be used\n",
    "df.drop(columns=['merchantName'], inplace=True)"
   ]
  },
  {
   "cell_type": "code",
   "execution_count": 8,
   "metadata": {},
   "outputs": [],
   "source": [
    "# Need to remove remaining unneeded columns\n",
    "#df.drop(columns=['cardCVV'], inplace=True)\n",
    "#df.drop(columns=['enteredCVV'], inplace=True)\n",
    "df.drop(columns=['cardLast4Digits'], inplace=True)"
   ]
  },
  {
   "cell_type": "code",
   "execution_count": 9,
   "metadata": {},
   "outputs": [],
   "source": [
    "# Filling NaN with purchase to keep data\n",
    "\n",
    "df['transactionType'] = df['transactionType'].fillna('PURCHASE')"
   ]
  },
  {
   "cell_type": "code",
   "execution_count": 10,
   "metadata": {},
   "outputs": [
    {
     "data": {
      "text/plain": [
       "9003"
      ]
     },
     "execution_count": 10,
     "metadata": {},
     "output_type": "execute_result"
    }
   ],
   "source": [
    "# Total amount of rows with NaN values\n",
    "df.isnull().any(axis=1).sum()"
   ]
  },
  {
   "cell_type": "code",
   "execution_count": 11,
   "metadata": {},
   "outputs": [],
   "source": [
    "# Dropping all rows with NaN value\n",
    "df = df.dropna()"
   ]
  },
  {
   "cell_type": "code",
   "execution_count": 12,
   "metadata": {},
   "outputs": [],
   "source": [
    "pd.pandas.set_option('display.max_columns', None)"
   ]
  },
  {
   "cell_type": "code",
   "execution_count": 13,
   "metadata": {},
   "outputs": [],
   "source": [
    "# Changing transactionDatetime. All transactions occurred in 2016, year is unneeded.\n",
    "\n",
    "df['transactionDateTime'] = pd.to_datetime(df['transactionDateTime'])\n",
    "df['Month'] = df['transactionDateTime'].dt.month\n",
    "df['day'] = df['transactionDateTime'].dt.day\n",
    "df['hour'] = df['transactionDateTime'].dt.hour\n",
    "df['minute'] = df['transactionDateTime'].dt.minute\n",
    "\n",
    "# Cyclic encoding for hour and minute\n",
    "df['hourSin'] = np.sin(2 * np.pi * df['hour'] / 24)\n",
    "df['hourCos'] = np.cos(2 * np.pi * df['hour'] / 24)\n",
    "df['minuteSin'] = np.sin(2 * np.pi * df['minute'] / 24)\n",
    "df['minuteCos'] = np.cos(2 * np.pi * df['minute'] / 24)\n",
    "\n",
    "# Do not need columns\n",
    "df.drop(columns=['transactionDateTime'], inplace=True)\n",
    "df.drop(columns=['hour'], inplace=True)\n",
    "df.drop(columns=['minute'], inplace=True)"
   ]
  },
  {
   "cell_type": "code",
   "execution_count": 14,
   "metadata": {},
   "outputs": [],
   "source": [
    "# Reformatting other date columns\n",
    "\n",
    "df['expYear'] = pd.to_datetime(df['currentExpDate']).dt.year\n",
    "df['expMonth'] = pd.to_datetime(df['currentExpDate']).dt.month\n",
    "\n",
    "df['accountOpenYear'] = pd.to_datetime(df['accountOpenDate']).dt.year\n",
    "df['accountOpenMonth'] = pd.to_datetime(df['accountOpenDate']).dt.month\n",
    "df['accountOpenDay'] = pd.to_datetime(df['accountOpenDate']).dt.day\n",
    "\n",
    "df['lastAddressChangeYear'] = pd.to_datetime(df['dateOfLastAddressChange']).dt.year\n",
    "df['lastAddressChangeMonth'] = pd.to_datetime(df['dateOfLastAddressChange']).dt.month\n",
    "df['lastAddressChangeDay'] = pd.to_datetime(df['dateOfLastAddressChange']).dt.day\n",
    "\n",
    "# removing unneeded columns\n",
    "df.drop(columns=['currentExpDate'], inplace=True)\n",
    "df.drop(columns=['accountOpenDate'], inplace=True)\n",
    "df.drop(columns=['dateOfLastAddressChange'], inplace=True)"
   ]
  },
  {
   "cell_type": "markdown",
   "metadata": {},
   "source": [
    "## Encoding"
   ]
  },
  {
   "cell_type": "code",
   "execution_count": 15,
   "metadata": {},
   "outputs": [],
   "source": [
    "# Categorical columns that need to be endocded\n",
    "\n",
    "columns_to_encode = ['acqCountry', 'merchantCountryCode', 'posEntryMode', 'posConditionCode', 'transactionType', 'merchantCategoryCode']\n",
    "df = pd.get_dummies(df, columns=columns_to_encode, prefix=columns_to_encode)\n",
    "\n",
    "# Convert boolean columns to integers\n",
    "df['cardPresent'] = df['cardPresent'].astype(int)\n",
    "df['expirationDateKeyInMatch'] = df['expirationDateKeyInMatch'].astype(int)"
   ]
  },
  {
   "cell_type": "code",
   "execution_count": 16,
   "metadata": {},
   "outputs": [
    {
     "name": "stdout",
     "output_type": "stream",
     "text": [
      "<class 'pandas.core.frame.DataFrame'>\n",
      "Int64Index: 777360 entries, 0 to 786362\n",
      "Data columns (total 62 columns):\n",
      " #   Column                                     Non-Null Count   Dtype  \n",
      "---  ------                                     --------------   -----  \n",
      " 0   accountNumber                              777360 non-null  int64  \n",
      " 1   creditLimit                                777360 non-null  int64  \n",
      " 2   availableMoney                             777360 non-null  float64\n",
      " 3   transactionAmount                          777360 non-null  float64\n",
      " 4   cardCVV                                    777360 non-null  int64  \n",
      " 5   enteredCVV                                 777360 non-null  int64  \n",
      " 6   currentBalance                             777360 non-null  float64\n",
      " 7   cardPresent                                777360 non-null  int32  \n",
      " 8   expirationDateKeyInMatch                   777360 non-null  int32  \n",
      " 9   isFraud                                    777360 non-null  bool   \n",
      " 10  Month                                      777360 non-null  int64  \n",
      " 11  day                                        777360 non-null  int64  \n",
      " 12  hourSin                                    777360 non-null  float64\n",
      " 13  hourCos                                    777360 non-null  float64\n",
      " 14  minuteSin                                  777360 non-null  float64\n",
      " 15  minuteCos                                  777360 non-null  float64\n",
      " 16  expYear                                    777360 non-null  int64  \n",
      " 17  expMonth                                   777360 non-null  int64  \n",
      " 18  accountOpenYear                            777360 non-null  int64  \n",
      " 19  accountOpenMonth                           777360 non-null  int64  \n",
      " 20  accountOpenDay                             777360 non-null  int64  \n",
      " 21  lastAddressChangeYear                      777360 non-null  int64  \n",
      " 22  lastAddressChangeMonth                     777360 non-null  int64  \n",
      " 23  lastAddressChangeDay                       777360 non-null  int64  \n",
      " 24  acqCountry_CAN                             777360 non-null  uint8  \n",
      " 25  acqCountry_MEX                             777360 non-null  uint8  \n",
      " 26  acqCountry_PR                              777360 non-null  uint8  \n",
      " 27  acqCountry_US                              777360 non-null  uint8  \n",
      " 28  merchantCountryCode_CAN                    777360 non-null  uint8  \n",
      " 29  merchantCountryCode_MEX                    777360 non-null  uint8  \n",
      " 30  merchantCountryCode_PR                     777360 non-null  uint8  \n",
      " 31  merchantCountryCode_US                     777360 non-null  uint8  \n",
      " 32  posEntryMode_02                            777360 non-null  uint8  \n",
      " 33  posEntryMode_05                            777360 non-null  uint8  \n",
      " 34  posEntryMode_09                            777360 non-null  uint8  \n",
      " 35  posEntryMode_80                            777360 non-null  uint8  \n",
      " 36  posEntryMode_90                            777360 non-null  uint8  \n",
      " 37  posConditionCode_01                        777360 non-null  uint8  \n",
      " 38  posConditionCode_08                        777360 non-null  uint8  \n",
      " 39  posConditionCode_99                        777360 non-null  uint8  \n",
      " 40  transactionType_ADDRESS_VERIFICATION       777360 non-null  uint8  \n",
      " 41  transactionType_PURCHASE                   777360 non-null  uint8  \n",
      " 42  transactionType_REVERSAL                   777360 non-null  uint8  \n",
      " 43  merchantCategoryCode_airline               777360 non-null  uint8  \n",
      " 44  merchantCategoryCode_auto                  777360 non-null  uint8  \n",
      " 45  merchantCategoryCode_cable/phone           777360 non-null  uint8  \n",
      " 46  merchantCategoryCode_entertainment         777360 non-null  uint8  \n",
      " 47  merchantCategoryCode_fastfood              777360 non-null  uint8  \n",
      " 48  merchantCategoryCode_food                  777360 non-null  uint8  \n",
      " 49  merchantCategoryCode_food_delivery         777360 non-null  uint8  \n",
      " 50  merchantCategoryCode_fuel                  777360 non-null  uint8  \n",
      " 51  merchantCategoryCode_furniture             777360 non-null  uint8  \n",
      " 52  merchantCategoryCode_gym                   777360 non-null  uint8  \n",
      " 53  merchantCategoryCode_health                777360 non-null  uint8  \n",
      " 54  merchantCategoryCode_hotels                777360 non-null  uint8  \n",
      " 55  merchantCategoryCode_mobileapps            777360 non-null  uint8  \n",
      " 56  merchantCategoryCode_online_gifts          777360 non-null  uint8  \n",
      " 57  merchantCategoryCode_online_retail         777360 non-null  uint8  \n",
      " 58  merchantCategoryCode_online_subscriptions  777360 non-null  uint8  \n",
      " 59  merchantCategoryCode_personal care         777360 non-null  uint8  \n",
      " 60  merchantCategoryCode_rideshare             777360 non-null  uint8  \n",
      " 61  merchantCategoryCode_subscriptions         777360 non-null  uint8  \n",
      "dtypes: bool(1), float64(7), int32(2), int64(14), uint8(38)\n",
      "memory usage: 165.3 MB\n"
     ]
    }
   ],
   "source": [
    "df.info()"
   ]
  },
  {
   "cell_type": "code",
   "execution_count": 17,
   "metadata": {},
   "outputs": [],
   "source": [
    "# Breaking apart features and labels\n",
    "\n",
    "features = df.iloc[:, :-1]\n",
    "labels = df['isFraud']"
   ]
  },
  {
   "cell_type": "markdown",
   "metadata": {},
   "source": [
    "## Splitting dataset into train, test and val"
   ]
  },
  {
   "cell_type": "code",
   "execution_count": 18,
   "metadata": {},
   "outputs": [],
   "source": [
    "from sklearn.model_selection import train_test_split\n",
    "from imblearn.over_sampling import SMOTE\n",
    "\n",
    "np.random.seed(33)\n",
    "tf.random.set_seed(33)\n",
    "\n",
    "X = df.drop('isFraud', axis = 1)\n",
    "Y = df['isFraud']\n",
    "\n",
    "x_train, x_temp, y_train, y_temp = train_test_split(X, Y, test_size=0.3, random_state=33, stratify=Y)\n",
    "x_val, x_test, y_val, y_test = train_test_split(x_temp, y_temp, test_size=0.5, random_state=33, stratify=y_temp)\n"
   ]
  },
  {
   "cell_type": "code",
   "execution_count": 19,
   "metadata": {},
   "outputs": [],
   "source": [
    "np.random.seed(33)\n",
    "tf.random.set_seed(33)\n",
    "\n",
    "#standardize/normalize your numerical features\n",
    "from sklearn.preprocessing import StandardScaler\n",
    "from sklearn.compose import ColumnTransformer\n",
    "\n",
    "#use DataFrame.select_dtypes() to select float64 or int64 feature types automatically.\n",
    "numerical_features = features.select_dtypes(include=['float64', 'int64'])\n",
    "numerical_columns = numerical_features.columns # Get a list of the column names\n",
    "ct = ColumnTransformer([(\"only numeric\", StandardScaler(), numerical_columns)], remainder='passthrough')\n",
    "\n",
    "#Fit your instance ct of ColumnTransformer to the training data and at the same time transform it by using the ColumnTransformer.fit_transform()\n",
    "x_train_scaled = ct.fit_transform(x_train)\n",
    "x_test_scaled = ct.fit_transform(x_test) #Transform your test data instance features_test\n",
    "x_val_scaled = ct.fit_transform(x_val)"
   ]
  },
  {
   "cell_type": "markdown",
   "metadata": {},
   "source": [
    "## Model Creation"
   ]
  },
  {
   "cell_type": "code",
   "execution_count": 20,
   "metadata": {},
   "outputs": [
    {
     "name": "stdout",
     "output_type": "stream",
     "text": [
      "WARNING:tensorflow:From c:\\Users\\brian\\AppData\\Local\\Programs\\Python\\Python39\\lib\\site-packages\\keras\\src\\backend.py:873: The name tf.get_default_graph is deprecated. Please use tf.compat.v1.get_default_graph instead.\n",
      "\n"
     ]
    }
   ],
   "source": [
    "import tensorflow as tf\n",
    "from tensorflow.keras.models import Sequential\n",
    "from tensorflow.keras.layers import Dense\n",
    "\n",
    "np.random.seed(33)\n",
    "tf.random.set_seed(33)\n",
    "\n",
    "model = Sequential([\n",
    "    Dense(64, activation='relu', input_shape=(x_train_scaled.shape[1],)),\n",
    "    Dense(32, activation='relu'),\n",
    "    Dense(1, activation='sigmoid')\n",
    "])"
   ]
  },
  {
   "cell_type": "code",
   "execution_count": 21,
   "metadata": {},
   "outputs": [
    {
     "name": "stdout",
     "output_type": "stream",
     "text": [
      "WARNING:tensorflow:From c:\\Users\\brian\\AppData\\Local\\Programs\\Python\\Python39\\lib\\site-packages\\keras\\src\\optimizers\\__init__.py:309: The name tf.train.Optimizer is deprecated. Please use tf.compat.v1.train.Optimizer instead.\n",
      "\n"
     ]
    }
   ],
   "source": [
    "model.compile(\n",
    "    optimizer = 'adam',\n",
    "    loss='binary_crossentropy',\n",
    "    metrics=[tf.keras.metrics.BinaryAccuracy(), tf.keras.metrics.Recall()]\n",
    ")"
   ]
  },
  {
   "cell_type": "code",
   "execution_count": 22,
   "metadata": {},
   "outputs": [
    {
     "name": "stdout",
     "output_type": "stream",
     "text": [
      "Epoch 1/10\n",
      "WARNING:tensorflow:From c:\\Users\\brian\\AppData\\Local\\Programs\\Python\\Python39\\lib\\site-packages\\keras\\src\\utils\\tf_utils.py:492: The name tf.ragged.RaggedTensorValue is deprecated. Please use tf.compat.v1.ragged.RaggedTensorValue instead.\n",
      "\n",
      "17005/17005 [==============================] - 19s 1ms/step - loss: 0.0740 - binary_accuracy: 0.9846 - recall: 0.0000e+00 - val_loss: 0.0718 - val_binary_accuracy: 0.9846 - val_recall: 5.5648e-04\n",
      "Epoch 2/10\n",
      "17005/17005 [==============================] - 17s 1ms/step - loss: 0.0711 - binary_accuracy: 0.9846 - recall: 0.0027 - val_loss: 0.0711 - val_binary_accuracy: 0.9845 - val_recall: 0.0050\n",
      "Epoch 3/10\n",
      "17005/17005 [==============================] - 18s 1ms/step - loss: 0.0701 - binary_accuracy: 0.9846 - recall: 0.0072 - val_loss: 0.0700 - val_binary_accuracy: 0.9846 - val_recall: 0.0056\n",
      "Epoch 4/10\n",
      "17005/17005 [==============================] - 18s 1ms/step - loss: 0.0695 - binary_accuracy: 0.9845 - recall: 0.0063 - val_loss: 0.0703 - val_binary_accuracy: 0.9846 - val_recall: 0.0089\n",
      "Epoch 5/10\n",
      "17005/17005 [==============================] - 18s 1ms/step - loss: 0.0691 - binary_accuracy: 0.9846 - recall: 0.0083 - val_loss: 0.0702 - val_binary_accuracy: 0.9844 - val_recall: 0.0167\n",
      "Epoch 6/10\n",
      "17005/17005 [==============================] - 18s 1ms/step - loss: 0.0689 - binary_accuracy: 0.9846 - recall: 0.0095 - val_loss: 0.0698 - val_binary_accuracy: 0.9846 - val_recall: 0.0100\n",
      "Epoch 7/10\n",
      "17005/17005 [==============================] - 18s 1ms/step - loss: 0.0686 - binary_accuracy: 0.9846 - recall: 0.0091 - val_loss: 0.0701 - val_binary_accuracy: 0.9846 - val_recall: 0.0028\n",
      "Epoch 8/10\n",
      "17005/17005 [==============================] - 17s 1ms/step - loss: 0.0683 - binary_accuracy: 0.9846 - recall: 0.0116 - val_loss: 0.0694 - val_binary_accuracy: 0.9846 - val_recall: 0.0045\n",
      "Epoch 9/10\n",
      "17005/17005 [==============================] - 17s 1ms/step - loss: 0.0681 - binary_accuracy: 0.9846 - recall: 0.0113 - val_loss: 0.0695 - val_binary_accuracy: 0.9846 - val_recall: 0.0072\n",
      "Epoch 10/10\n",
      "17005/17005 [==============================] - 18s 1ms/step - loss: 0.0678 - binary_accuracy: 0.9846 - recall: 0.0119 - val_loss: 0.0695 - val_binary_accuracy: 0.9846 - val_recall: 0.0089\n"
     ]
    }
   ],
   "source": [
    "np.random.seed(33)\n",
    "tf.random.set_seed(33)\n",
    "\n",
    "history = model.fit(x_train_scaled, y_train, \n",
    "                    validation_data=(x_val_scaled, y_val),\n",
    "                    epochs=10,\n",
    "                    batch_size=32)"
   ]
  },
  {
   "cell_type": "code",
   "execution_count": 23,
   "metadata": {},
   "outputs": [
    {
     "name": "stdout",
     "output_type": "stream",
     "text": [
      "3644/3644 [==============================] - 3s 717us/step - loss: 0.0698 - binary_accuracy: 0.9845 - recall: 0.0067\n",
      "Test Accuracy: [0.06978819519281387, 0.98451167345047, 0.006677796132862568]\n"
     ]
    }
   ],
   "source": [
    "accuracy = model.evaluate(x_test_scaled, y_test)\n",
    "print(\"Test Accuracy:\", accuracy)"
   ]
  },
  {
   "cell_type": "code",
   "execution_count": 24,
   "metadata": {},
   "outputs": [
    {
     "name": "stdout",
     "output_type": "stream",
     "text": [
      "3644/3644 [==============================] - 2s 586us/step\n",
      "              precision    recall  f1-score   support\n",
      "\n",
      "       False       0.98      1.00      0.99    114807\n",
      "        True       0.36      0.01      0.01      1797\n",
      "\n",
      "    accuracy                           0.98    116604\n",
      "   macro avg       0.67      0.50      0.50    116604\n",
      "weighted avg       0.98      0.98      0.98    116604\n",
      "\n"
     ]
    }
   ],
   "source": [
    "# Detailed report of model to look at all metrics\n",
    "from sklearn.metrics import classification_report\n",
    "\n",
    "y_pred = model.predict(x_test_scaled)\n",
    "y_pred = (y_pred >= 0.5).astype(int)\n",
    "report = classification_report(y_test, y_pred)\n",
    "print(report)"
   ]
  },
  {
   "cell_type": "code",
   "execution_count": 25,
   "metadata": {},
   "outputs": [
    {
     "name": "stdout",
     "output_type": "stream",
     "text": [
      "AUC: 0.5032474403256693\n",
      "Confusion Matrix:\n",
      "[[114786     21]\n",
      " [  1785     12]]\n"
     ]
    }
   ],
   "source": [
    "from sklearn.metrics import roc_curve, roc_auc_score, precision_recall_curve, confusion_matrix\n",
    "\n",
    "# ROC Curve and AUC\n",
    "fpr, tpr, _ = roc_curve(y_test, y_pred)\n",
    "auc = roc_auc_score(y_test, y_pred)\n",
    "\n",
    "# Precision-Recall Curve\n",
    "precision, recall, _ = precision_recall_curve(y_test, y_pred)\n",
    "\n",
    "# Confusion Matrix\n",
    "threshold = 0.5 \n",
    "y_pred_binary = (y_pred >= threshold).astype(int)\n",
    "cm = confusion_matrix(y_test, y_pred_binary)\n",
    "\n",
    "\n",
    "# Print metrics\n",
    "print(\"AUC:\", auc)\n",
    "print(\"Confusion Matrix:\")\n",
    "print(cm)"
   ]
  },
  {
   "cell_type": "code",
   "execution_count": 26,
   "metadata": {},
   "outputs": [
    {
     "data": {
      "text/plain": [
       "<sklearn.metrics._plot.confusion_matrix.ConfusionMatrixDisplay at 0x2a9e9cccb20>"
      ]
     },
     "execution_count": 26,
     "metadata": {},
     "output_type": "execute_result"
    },
    {
     "data": {
      "image/png": "[encoded data removed]",
      "text/plain": [
       "<Figure size 640x480 with 2 Axes>"
      ]
     },
     "metadata": {},
     "output_type": "display_data"
    }
   ],
   "source": [
    "from sklearn.metrics import ConfusionMatrixDisplay\n",
    "ConfusionMatrixDisplay.from_predictions(y_test, y_pred_binary)"
   ]
  },
  {
   "cell_type": "markdown",
   "metadata": {},
   "source": [
    "## Model Creation with SMOTE"
   ]
  },
  {
   "cell_type": "code",
   "execution_count": 27,
   "metadata": {},
   "outputs": [],
   "source": [
    "np.random.seed(33)\n",
    "tf.random.set_seed(33)\n",
    "# Applying SMOTE to address the class imbalance\n",
    "smote = SMOTE(sampling_strategy='auto', random_state=33)\n",
    "x_train_resampled, y_train_resampled = smote.fit_resample(x_train, y_train)"
   ]
  },
  {
   "cell_type": "code",
   "execution_count": 28,
   "metadata": {},
   "outputs": [],
   "source": [
    "np.random.seed(33)\n",
    "tf.random.set_seed(33)\n",
    "\n",
    "#standardize/normalize your numerical features\n",
    "\n",
    "#use DataFrame.select_dtypes() to select float64 or int64 feature types automatically.\n",
    "numerical_features = features.select_dtypes(include=['float64', 'int64'])\n",
    "numerical_columns = numerical_features.columns # Get a list of the column names\n",
    "ct = ColumnTransformer([(\"only numeric\", StandardScaler(), numerical_columns)], remainder='passthrough')\n",
    "\n",
    "#Fit your instance ct of ColumnTransformer to the training data and at the same time transform it by using the ColumnTransformer.fit_transform()\n",
    "x_train_scaled = ct.fit_transform(x_train_resampled)\n",
    "x_test_scaled = ct.fit_transform(x_test) #Transform your test data instance features_test\n",
    "x_val_scaled = ct.fit_transform(x_val)"
   ]
  },
  {
   "cell_type": "code",
   "execution_count": 29,
   "metadata": {},
   "outputs": [],
   "source": [
    "np.random.seed(33)\n",
    "tf.random.set_seed(33)\n",
    "\n",
    "model = Sequential([\n",
    "    Dense(64, activation='relu', input_shape=(x_train_scaled.shape[1],)),\n",
    "    Dense(32, activation='relu'),\n",
    "    Dense(1, activation='sigmoid')\n",
    "])"
   ]
  },
  {
   "cell_type": "code",
   "execution_count": 30,
   "metadata": {},
   "outputs": [],
   "source": [
    "model.compile(\n",
    "    optimizer = 'adam',\n",
    "    loss='binary_crossentropy',\n",
    "    metrics=[tf.keras.metrics.BinaryAccuracy(), tf.keras.metrics.Recall()]\n",
    ")"
   ]
  },
  {
   "cell_type": "code",
   "execution_count": 31,
   "metadata": {},
   "outputs": [
    {
     "name": "stdout",
     "output_type": "stream",
     "text": [
      "Epoch 1/10\n",
      "33486/33486 [==============================] - 33s 972us/step - loss: 0.1122 - binary_accuracy: 0.9586 - recall_1: 0.9386 - val_loss: 0.5925 - val_binary_accuracy: 0.7442 - val_recall_1: 0.5337\n",
      "Epoch 2/10\n",
      "33486/33486 [==============================] - 33s 990us/step - loss: 0.0808 - binary_accuracy: 0.9722 - recall_1: 0.9557 - val_loss: 0.4728 - val_binary_accuracy: 0.8022 - val_recall_1: 0.4674\n",
      "Epoch 3/10\n",
      "33486/33486 [==============================] - 33s 975us/step - loss: 0.0739 - binary_accuracy: 0.9751 - recall_1: 0.9600 - val_loss: 0.9014 - val_binary_accuracy: 0.6778 - val_recall_1: 0.5982\n",
      "Epoch 4/10\n",
      "33486/33486 [==============================] - 33s 986us/step - loss: 0.0700 - binary_accuracy: 0.9768 - recall_1: 0.9624 - val_loss: 1.2394 - val_binary_accuracy: 0.5726 - val_recall_1: 0.6489\n",
      "Epoch 5/10\n",
      "33486/33486 [==============================] - 32s 966us/step - loss: 0.0674 - binary_accuracy: 0.9779 - recall_1: 0.9643 - val_loss: 0.7991 - val_binary_accuracy: 0.6983 - val_recall_1: 0.5888\n",
      "Epoch 6/10\n",
      "33486/33486 [==============================] - 32s 969us/step - loss: 0.0654 - binary_accuracy: 0.9788 - recall_1: 0.9656 - val_loss: 1.0762 - val_binary_accuracy: 0.6224 - val_recall_1: 0.6683\n",
      "Epoch 7/10\n",
      "33486/33486 [==============================] - 32s 950us/step - loss: 0.0635 - binary_accuracy: 0.9796 - recall_1: 0.9668 - val_loss: 1.7734 - val_binary_accuracy: 0.4748 - val_recall_1: 0.7752\n",
      "Epoch 8/10\n",
      "33486/33486 [==============================] - 32s 961us/step - loss: 0.0621 - binary_accuracy: 0.9803 - recall_1: 0.9677 - val_loss: 1.2612 - val_binary_accuracy: 0.5663 - val_recall_1: 0.7195\n",
      "Epoch 9/10\n",
      "33486/33486 [==============================] - 32s 948us/step - loss: 0.0609 - binary_accuracy: 0.9808 - recall_1: 0.9684 - val_loss: 1.6878 - val_binary_accuracy: 0.5256 - val_recall_1: 0.7496\n",
      "Epoch 10/10\n",
      "33486/33486 [==============================] - 33s 976us/step - loss: 0.0598 - binary_accuracy: 0.9811 - recall_1: 0.9690 - val_loss: 1.6447 - val_binary_accuracy: 0.4853 - val_recall_1: 0.7624\n"
     ]
    }
   ],
   "source": [
    "np.random.seed(33)\n",
    "tf.random.set_seed(33)\n",
    "\n",
    "history = model.fit(x_train_scaled, y_train_resampled, \n",
    "                    validation_data=(x_val_scaled, y_val),\n",
    "                    epochs=10,\n",
    "                    batch_size=32)"
   ]
  },
  {
   "cell_type": "code",
   "execution_count": 32,
   "metadata": {},
   "outputs": [
    {
     "name": "stdout",
     "output_type": "stream",
     "text": [
      "3644/3644 [==============================] - 3s 767us/step - loss: 1.6833 - binary_accuracy: 0.4831 - recall_1: 0.7429\n",
      "Test Accuracy: [1.6832736730575562, 0.4830966293811798, 0.7429048418998718]\n"
     ]
    }
   ],
   "source": [
    "accuracy = model.evaluate(x_test_scaled, y_test)\n",
    "print(\"Test Accuracy:\", accuracy)"
   ]
  },
  {
   "cell_type": "code",
   "execution_count": 33,
   "metadata": {},
   "outputs": [
    {
     "name": "stdout",
     "output_type": "stream",
     "text": [
      "3644/3644 [==============================] - 2s 622us/step\n",
      "              precision    recall  f1-score   support\n",
      "\n",
      "       False       0.99      0.48      0.65    114807\n",
      "        True       0.02      0.74      0.04      1797\n",
      "\n",
      "    accuracy                           0.48    116604\n",
      "   macro avg       0.51      0.61      0.34    116604\n",
      "weighted avg       0.98      0.48      0.64    116604\n",
      "\n"
     ]
    }
   ],
   "source": [
    "y_pred = model.predict(x_test_scaled)\n",
    "y_pred = (y_pred >= 0.5).astype(int)\n",
    "report = classification_report(y_test, y_pred)\n",
    "print(report)"
   ]
  },
  {
   "cell_type": "code",
   "execution_count": 34,
   "metadata": {},
   "outputs": [
    {
     "name": "stdout",
     "output_type": "stream",
     "text": [
      "AUC: 0.6109674328519957\n",
      "Confusion Matrix:\n",
      "[[54996 59811]\n",
      " [  462  1335]]\n"
     ]
    }
   ],
   "source": [
    "# ROC Curve and AUC\n",
    "fpr, tpr, _ = roc_curve(y_test, y_pred)\n",
    "auc = roc_auc_score(y_test, y_pred)\n",
    "\n",
    "# Precision-Recall Curve\n",
    "precision, recall, _ = precision_recall_curve(y_test, y_pred)\n",
    "\n",
    "# Confusion Matrix\n",
    "threshold = 0.5\n",
    "y_pred_binary = (y_pred >= threshold).astype(int)\n",
    "cm = confusion_matrix(y_test, y_pred_binary)\n",
    "\n",
    "# Print metrics\n",
    "print(\"AUC:\", auc)\n",
    "print(\"Confusion Matrix:\")\n",
    "print(cm)"
   ]
  },
  {
   "cell_type": "code",
   "execution_count": 35,
   "metadata": {},
   "outputs": [
    {
     "data": {
      "text/plain": [
       "<sklearn.metrics._plot.confusion_matrix.ConfusionMatrixDisplay at 0x2a9d8f75f70>"
      ]
     },
     "execution_count": 35,
     "metadata": {},
     "output_type": "execute_result"
    },
    {
     "data": {
      "image/png": "[encoded data removed]",
      "text/plain": [
       "<Figure size 640x480 with 2 Axes>"
      ]
     },
     "metadata": {},
     "output_type": "display_data"
    }
   ],
   "source": [
    "ConfusionMatrixDisplay.from_predictions(y_test, y_pred_binary)"
   ]
  },
  {
   "cell_type": "markdown",
   "metadata": {},
   "source": [
    "## Model 3\n",
    "Using precision as a metric and SMOTE since it improved True positive rate"
   ]
  },
  {
   "cell_type": "code",
   "execution_count": 36,
   "metadata": {},
   "outputs": [],
   "source": [
    "np.random.seed(33)\n",
    "tf.random.set_seed(33)\n",
    "\n",
    "model = Sequential([\n",
    "    Dense(64, activation='relu', input_shape=(x_train_scaled.shape[1],)),\n",
    "    Dense(32, activation='relu'),\n",
    "    Dense(1, activation='sigmoid')\n",
    "])"
   ]
  },
  {
   "cell_type": "code",
   "execution_count": 37,
   "metadata": {},
   "outputs": [],
   "source": [
    "model.compile(\n",
    "    optimizer = 'adam',\n",
    "    loss='binary_crossentropy',\n",
    "    metrics=[tf.keras.metrics.BinaryAccuracy(), tf.keras.metrics.Recall(), tf.keras.metrics.Precision()]\n",
    ")"
   ]
  },
  {
   "cell_type": "code",
   "execution_count": 38,
   "metadata": {},
   "outputs": [
    {
     "name": "stdout",
     "output_type": "stream",
     "text": [
      "Epoch 1/10\n",
      "33486/33486 [==============================] - 35s 1ms/step - loss: 0.1129 - binary_accuracy: 0.9583 - recall_2: 0.9388 - precision: 0.9768 - val_loss: 0.4974 - val_binary_accuracy: 0.7827 - val_recall_2: 0.4680 - val_precision: 0.0333\n",
      "Epoch 2/10\n",
      "33486/33486 [==============================] - 33s 983us/step - loss: 0.0796 - binary_accuracy: 0.9729 - recall_2: 0.9570 - precision: 0.9885 - val_loss: 0.7104 - val_binary_accuracy: 0.7204 - val_recall_2: 0.5793 - val_precision: 0.0317\n",
      "Epoch 3/10\n",
      "33486/33486 [==============================] - 34s 1ms/step - loss: 0.0732 - binary_accuracy: 0.9757 - recall_2: 0.9609 - precision: 0.9901 - val_loss: 0.8920 - val_binary_accuracy: 0.6617 - val_recall_2: 0.6405 - val_precision: 0.0288\n",
      "Epoch 4/10\n",
      "33486/33486 [==============================] - 34s 1ms/step - loss: 0.0691 - binary_accuracy: 0.9771 - recall_2: 0.9633 - precision: 0.9908 - val_loss: 0.8460 - val_binary_accuracy: 0.6878 - val_recall_2: 0.5821 - val_precision: 0.0285\n",
      "Epoch 5/10\n",
      "33486/33486 [==============================] - 34s 1ms/step - loss: 0.0662 - binary_accuracy: 0.9785 - recall_2: 0.9653 - precision: 0.9915 - val_loss: 0.9181 - val_binary_accuracy: 0.6535 - val_recall_2: 0.6372 - val_precision: 0.0280\n",
      "Epoch 6/10\n",
      "33486/33486 [==============================] - 34s 1ms/step - loss: 0.0643 - binary_accuracy: 0.9793 - recall_2: 0.9663 - precision: 0.9920 - val_loss: 0.7558 - val_binary_accuracy: 0.7106 - val_recall_2: 0.5587 - val_precision: 0.0296\n",
      "Epoch 7/10\n",
      "33486/33486 [==============================] - 33s 975us/step - loss: 0.0624 - binary_accuracy: 0.9800 - recall_2: 0.9676 - precision: 0.9923 - val_loss: 1.4346 - val_binary_accuracy: 0.5147 - val_recall_2: 0.7435 - val_precision: 0.0233\n",
      "Epoch 8/10\n",
      "33486/33486 [==============================] - 33s 974us/step - loss: 0.0610 - binary_accuracy: 0.9805 - recall_2: 0.9684 - precision: 0.9925 - val_loss: 1.2282 - val_binary_accuracy: 0.5959 - val_recall_2: 0.7045 - val_precision: 0.0265\n",
      "Epoch 9/10\n",
      "33486/33486 [==============================] - 32s 970us/step - loss: 0.0599 - binary_accuracy: 0.9810 - recall_2: 0.9691 - precision: 0.9928 - val_loss: 1.4232 - val_binary_accuracy: 0.5632 - val_recall_2: 0.7084 - val_precision: 0.0246\n",
      "Epoch 10/10\n",
      "33486/33486 [==============================] - 33s 972us/step - loss: 0.0589 - binary_accuracy: 0.9815 - recall_2: 0.9697 - precision: 0.9931 - val_loss: 1.6492 - val_binary_accuracy: 0.4946 - val_recall_2: 0.7713 - val_precision: 0.0231\n"
     ]
    }
   ],
   "source": [
    "np.random.seed(33)\n",
    "tf.random.set_seed(33)\n",
    "\n",
    "history = model.fit(x_train_scaled, y_train_resampled, \n",
    "                    validation_data=(x_val_scaled, y_val),\n",
    "                    epochs=10,\n",
    "                    batch_size=32)"
   ]
  },
  {
   "cell_type": "code",
   "execution_count": 39,
   "metadata": {},
   "outputs": [
    {
     "name": "stdout",
     "output_type": "stream",
     "text": [
      "3644/3644 [==============================] - 3s 737us/step - loss: 1.6631 - binary_accuracy: 0.4933 - recall_2: 0.7535 - precision: 0.0226\n",
      "Test Accuracy: [1.663106918334961, 0.4933278560638428, 0.7534779906272888, 0.02257005125284195]\n"
     ]
    }
   ],
   "source": [
    "accuracy = model.evaluate(x_test_scaled, y_test)\n",
    "print(\"Test Accuracy:\", accuracy)"
   ]
  },
  {
   "cell_type": "code",
   "execution_count": 40,
   "metadata": {},
   "outputs": [
    {
     "name": "stdout",
     "output_type": "stream",
     "text": [
      "3644/3644 [==============================] - 2s 602us/step\n",
      "              precision    recall  f1-score   support\n",
      "\n",
      "       False       0.99      0.49      0.66    114807\n",
      "        True       0.02      0.75      0.04      1797\n",
      "\n",
      "    accuracy                           0.49    116604\n",
      "   macro avg       0.51      0.62      0.35    116604\n",
      "weighted avg       0.98      0.49      0.65    116604\n",
      "\n"
     ]
    }
   ],
   "source": [
    "# Detailed report of model to look at all metrics\n",
    "\n",
    "y_pred = model.predict(x_test_scaled)\n",
    "y_pred = (y_pred >= 0.5).astype(int)\n",
    "report = classification_report(y_test, y_pred)\n",
    "print(report)"
   ]
  },
  {
   "cell_type": "code",
   "execution_count": 41,
   "metadata": {},
   "outputs": [
    {
     "name": "stdout",
     "output_type": "stream",
     "text": [
      "AUC: 0.6213669502652146\n",
      "Confusion Matrix:\n",
      "[[56170 58637]\n",
      " [  443  1354]]\n"
     ]
    }
   ],
   "source": [
    "# ROC Curve and AUC\n",
    "fpr, tpr, _ = roc_curve(y_test, y_pred)\n",
    "auc = roc_auc_score(y_test, y_pred)\n",
    "\n",
    "# Precision-Recall Curve\n",
    "precision, recall, _ = precision_recall_curve(y_test, y_pred)\n",
    "\n",
    "# Confusion Matrix\n",
    "threshold = 0.5 \n",
    "y_pred_binary = (y_pred >= threshold).astype(int)\n",
    "cm = confusion_matrix(y_test, y_pred_binary)\n",
    "\n",
    "# Print metrics\n",
    "print(\"AUC:\", auc)\n",
    "print(\"Confusion Matrix:\")\n",
    "print(cm)"
   ]
  },
  {
   "cell_type": "code",
   "execution_count": 42,
   "metadata": {},
   "outputs": [
    {
     "data": {
      "text/plain": [
       "<sklearn.metrics._plot.confusion_matrix.ConfusionMatrixDisplay at 0x2a9e39a6340>"
      ]
     },
     "execution_count": 42,
     "metadata": {},
     "output_type": "execute_result"
    },
    {
     "data": {
      "image/png": "[encoded data removed]",
      "text/plain": [
       "<Figure size 640x480 with 2 Axes>"
      ]
     },
     "metadata": {},
     "output_type": "display_data"
    }
   ],
   "source": [
    "ConfusionMatrixDisplay.from_predictions(y_test, y_pred_binary)"
   ]
  },
  {
   "cell_type": "markdown",
   "metadata": {},
   "source": [
    "## Model 4\n",
    "Model architecture changes.  \n",
    "With SMOTE  \n",
    "Adding two more hidden layers.  \n",
    "Adding dropout layers  \n",
    "Adding regularization to hidden layers."
   ]
  },
  {
   "cell_type": "code",
   "execution_count": 43,
   "metadata": {},
   "outputs": [],
   "source": [
    "from tensorflow.keras import regularizers\n",
    "from tensorflow.keras.layers import Dropout\n",
    "\n",
    "np.random.seed(33)\n",
    "tf.random.set_seed(33)\n",
    "\n",
    "model = Sequential([\n",
    "    Dense(128, activation='relu', kernel_regularizer=regularizers.l2(0.1), input_shape=(x_train_scaled.shape[1],)),\n",
    "    Dropout(0.5),\n",
    "    Dense(64, activation='relu', kernel_regularizer=regularizers.l2(0.1)),\n",
    "    Dropout(0.5),\n",
    "    Dense(32, activation='relu', kernel_regularizer=regularizers.l2(0.1)),\n",
    "    Dropout(0.5),\n",
    "    Dense(16, activation='relu', kernel_regularizer=regularizers.l2(0.1)),\n",
    "    Dropout(0.5),\n",
    "    Dense(1, activation='sigmoid')\n",
    "])"
   ]
  },
  {
   "cell_type": "code",
   "execution_count": 44,
   "metadata": {},
   "outputs": [],
   "source": [
    "model.compile(\n",
    "    optimizer = 'adam',\n",
    "    loss='binary_crossentropy',\n",
    "    metrics=[tf.keras.metrics.BinaryAccuracy(), tf.keras.metrics.Recall(), tf.keras.metrics.Precision()]\n",
    ")"
   ]
  },
  {
   "cell_type": "code",
   "execution_count": 45,
   "metadata": {},
   "outputs": [
    {
     "name": "stdout",
     "output_type": "stream",
     "text": [
      "Epoch 1/10\n",
      "33486/33486 [==============================] - 51s 1ms/step - loss: 0.7398 - binary_accuracy: 0.4994 - recall_3: 0.5003 - precision_1: 0.4994 - val_loss: 0.6895 - val_binary_accuracy: 0.9846 - val_recall_3: 0.0000e+00 - val_precision_1: 0.0000e+00\n",
      "Epoch 2/10\n",
      "33486/33486 [==============================] - 51s 2ms/step - loss: 0.6932 - binary_accuracy: 0.4994 - recall_3: 0.5265 - precision_1: 0.4995 - val_loss: 0.6905 - val_binary_accuracy: 0.9846 - val_recall_3: 0.0000e+00 - val_precision_1: 0.0000e+00\n",
      "Epoch 3/10\n",
      "33486/33486 [==============================] - 52s 2ms/step - loss: 0.6932 - binary_accuracy: 0.4998 - recall_3: 0.4784 - precision_1: 0.4998 - val_loss: 0.7048 - val_binary_accuracy: 0.0154 - val_recall_3: 1.0000 - val_precision_1: 0.0154\n",
      "Epoch 4/10\n",
      "33486/33486 [==============================] - 52s 2ms/step - loss: 0.6932 - binary_accuracy: 0.4992 - recall_3: 0.5338 - precision_1: 0.4993 - val_loss: 0.7024 - val_binary_accuracy: 0.0154 - val_recall_3: 1.0000 - val_precision_1: 0.0154\n",
      "Epoch 5/10\n",
      "33486/33486 [==============================] - 49s 1ms/step - loss: 0.6932 - binary_accuracy: 0.5002 - recall_3: 0.5230 - precision_1: 0.5002 - val_loss: 0.6959 - val_binary_accuracy: 0.0154 - val_recall_3: 1.0000 - val_precision_1: 0.0154\n",
      "Epoch 6/10\n",
      "33486/33486 [==============================] - 50s 1ms/step - loss: 0.6932 - binary_accuracy: 0.5001 - recall_3: 0.5260 - precision_1: 0.5001 - val_loss: 0.6909 - val_binary_accuracy: 0.9846 - val_recall_3: 0.0000e+00 - val_precision_1: 0.0000e+00\n",
      "Epoch 7/10\n",
      "33486/33486 [==============================] - 49s 1ms/step - loss: 0.6932 - binary_accuracy: 0.5000 - recall_3: 0.4554 - precision_1: 0.5000 - val_loss: 0.7008 - val_binary_accuracy: 0.0154 - val_recall_3: 1.0000 - val_precision_1: 0.0154\n",
      "Epoch 8/10\n",
      "33486/33486 [==============================] - 51s 2ms/step - loss: 0.6932 - binary_accuracy: 0.5008 - recall_3: 0.4949 - precision_1: 0.5008 - val_loss: 0.6949 - val_binary_accuracy: 0.0154 - val_recall_3: 1.0000 - val_precision_1: 0.0154\n",
      "Epoch 9/10\n",
      "33486/33486 [==============================] - 51s 2ms/step - loss: 0.6932 - binary_accuracy: 0.5003 - recall_3: 0.4703 - precision_1: 0.5003 - val_loss: 0.6927 - val_binary_accuracy: 0.9846 - val_recall_3: 0.0000e+00 - val_precision_1: 0.0000e+00\n",
      "Epoch 10/10\n",
      "33486/33486 [==============================] - 51s 2ms/step - loss: 0.6932 - binary_accuracy: 0.4996 - recall_3: 0.5524 - precision_1: 0.4996 - val_loss: 0.6855 - val_binary_accuracy: 0.9846 - val_recall_3: 0.0000e+00 - val_precision_1: 0.0000e+00\n"
     ]
    }
   ],
   "source": [
    "np.random.seed(33)\n",
    "tf.random.set_seed(33)\n",
    "\n",
    "history = model.fit(x_train_scaled, y_train_resampled, \n",
    "                    validation_data=(x_val_scaled, y_val),\n",
    "                    epochs=10,\n",
    "                    batch_size=32)"
   ]
  },
  {
   "cell_type": "code",
   "execution_count": 46,
   "metadata": {},
   "outputs": [
    {
     "name": "stdout",
     "output_type": "stream",
     "text": [
      "3644/3644 [==============================] - 3s 835us/step - loss: 0.6855 - binary_accuracy: 0.9846 - recall_3: 0.0000e+00 - precision_1: 0.0000e+00\n",
      "Test Accuracy: [0.6855388879776001, 0.9845888614654541, 0.0, 0.0]\n"
     ]
    }
   ],
   "source": [
    "accuracy = model.evaluate(x_test_scaled, y_test)\n",
    "print(\"Test Accuracy:\", accuracy)"
   ]
  },
  {
   "cell_type": "code",
   "execution_count": 47,
   "metadata": {},
   "outputs": [
    {
     "name": "stdout",
     "output_type": "stream",
     "text": [
      "3644/3644 [==============================] - 2s 646us/step\n",
      "              precision    recall  f1-score   support\n",
      "\n",
      "       False       0.98      1.00      0.99    114807\n",
      "        True       0.00      0.00      0.00      1797\n",
      "\n",
      "    accuracy                           0.98    116604\n",
      "   macro avg       0.49      0.50      0.50    116604\n",
      "weighted avg       0.97      0.98      0.98    116604\n",
      "\n"
     ]
    },
    {
     "name": "stderr",
     "output_type": "stream",
     "text": [
      "c:\\Users\\brian\\AppData\\Local\\Programs\\Python\\Python39\\lib\\site-packages\\sklearn\\metrics\\_classification.py:1497: UndefinedMetricWarning: Precision is ill-defined and being set to 0.0 in labels with no predicted samples. Use `zero_division` parameter to control this behavior.\n",
      "  _warn_prf(average, modifier, f\"{metric.capitalize()} is\", len(result))\n",
      "c:\\Users\\brian\\AppData\\Local\\Programs\\Python\\Python39\\lib\\site-packages\\sklearn\\metrics\\_classification.py:1497: UndefinedMetricWarning: Precision is ill-defined and being set to 0.0 in labels with no predicted samples. Use `zero_division` parameter to control this behavior.\n",
      "  _warn_prf(average, modifier, f\"{metric.capitalize()} is\", len(result))\n",
      "c:\\Users\\brian\\AppData\\Local\\Programs\\Python\\Python39\\lib\\site-packages\\sklearn\\metrics\\_classification.py:1497: UndefinedMetricWarning: Precision is ill-defined and being set to 0.0 in labels with no predicted samples. Use `zero_division` parameter to control this behavior.\n",
      "  _warn_prf(average, modifier, f\"{metric.capitalize()} is\", len(result))\n"
     ]
    }
   ],
   "source": [
    "# Detailed report of model to look at all metrics\n",
    "\n",
    "y_pred = model.predict(x_test_scaled)\n",
    "y_pred = (y_pred >= 0.5).astype(int)\n",
    "report = classification_report(y_test, y_pred)\n",
    "print(report)"
   ]
  },
  {
   "cell_type": "code",
   "execution_count": 48,
   "metadata": {},
   "outputs": [
    {
     "name": "stdout",
     "output_type": "stream",
     "text": [
      "AUC: 0.5\n",
      "Confusion Matrix:\n",
      "[[114807      0]\n",
      " [  1797      0]]\n"
     ]
    }
   ],
   "source": [
    "# ROC Curve and AUC\n",
    "fpr, tpr, _ = roc_curve(y_test, y_pred)\n",
    "auc = roc_auc_score(y_test, y_pred)\n",
    "\n",
    "# Precision-Recall Curve\n",
    "precision, recall, _ = precision_recall_curve(y_test, y_pred)\n",
    "\n",
    "# Confusion Matrix\n",
    "threshold = 0.5 \n",
    "y_pred_binary = (y_pred >= threshold).astype(int)\n",
    "cm = confusion_matrix(y_test, y_pred_binary)\n",
    "\n",
    "# Print metrics\n",
    "print(\"AUC:\", auc)\n",
    "print(\"Confusion Matrix:\")\n",
    "print(cm)"
   ]
  },
  {
   "cell_type": "code",
   "execution_count": 49,
   "metadata": {},
   "outputs": [
    {
     "data": {
      "text/plain": [
       "<sklearn.metrics._plot.confusion_matrix.ConfusionMatrixDisplay at 0x2a9d20ecb50>"
      ]
     },
     "execution_count": 49,
     "metadata": {},
     "output_type": "execute_result"
    },
    {
     "data": {
      "image/png": "[encoded data removed]",
      "text/plain": [
       "<Figure size 640x480 with 2 Axes>"
      ]
     },
     "metadata": {},
     "output_type": "display_data"
    }
   ],
   "source": [
    "ConfusionMatrixDisplay.from_predictions(y_test, y_pred_binary)"
   ]
  }
 ],
 "metadata": {
  "kernelspec": {
   "display_name": "Python 3",
   "language": "python",
   "name": "python3"
  },
  "language_info": {
   "codemirror_mode": {
    "name": "ipython",
    "version": 3
   },
   "file_extension": ".py",
   "mimetype": "text/x-python",
   "name": "python",
   "nbconvert_exporter": "python",
   "pygments_lexer": "ipython3",
   "version": "3.9.13"
  }
 },
 "nbformat": 4,
 "nbformat_minor": 2
}
