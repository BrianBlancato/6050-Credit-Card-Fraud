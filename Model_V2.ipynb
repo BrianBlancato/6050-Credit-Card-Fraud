{
 "cells": [
  {
   "cell_type": "code",
   "execution_count": 1,
   "metadata": {},
   "outputs": [],
   "source": [
    "import pandas as pd\n",
    "import numpy as np\n",
    "import matplotlib.pyplot as plt\n",
    "import tensorflow as tf\n",
    "\n",
    "%matplotlib inline"
   ]
  },
  {
   "cell_type": "code",
   "execution_count": 2,
   "metadata": {},
   "outputs": [
    {
     "data": {
      "text/html": [
       "<div>\n",
       "<style scoped>\n",
       "    .dataframe tbody tr th:only-of-type {\n",
       "        vertical-align: middle;\n",
       "    }\n",
       "\n",
       "    .dataframe tbody tr th {\n",
       "        vertical-align: top;\n",
       "    }\n",
       "\n",
       "    .dataframe thead th {\n",
       "        text-align: right;\n",
       "    }\n",
       "</style>\n",
       "<table border=\"1\" class=\"dataframe\">\n",
       "  <thead>\n",
       "    <tr style=\"text-align: right;\">\n",
       "      <th></th>\n",
       "      <th>accountNumber</th>\n",
       "      <th>customerId</th>\n",
       "      <th>creditLimit</th>\n",
       "      <th>availableMoney</th>\n",
       "      <th>transactionDateTime</th>\n",
       "      <th>transactionAmount</th>\n",
       "      <th>merchantName</th>\n",
       "      <th>acqCountry</th>\n",
       "      <th>merchantCountryCode</th>\n",
       "      <th>posEntryMode</th>\n",
       "      <th>...</th>\n",
       "      <th>echoBuffer</th>\n",
       "      <th>currentBalance</th>\n",
       "      <th>merchantCity</th>\n",
       "      <th>merchantState</th>\n",
       "      <th>merchantZip</th>\n",
       "      <th>cardPresent</th>\n",
       "      <th>posOnPremises</th>\n",
       "      <th>recurringAuthInd</th>\n",
       "      <th>expirationDateKeyInMatch</th>\n",
       "      <th>isFraud</th>\n",
       "    </tr>\n",
       "  </thead>\n",
       "  <tbody>\n",
       "    <tr>\n",
       "      <th>0</th>\n",
       "      <td>737265056</td>\n",
       "      <td>737265056</td>\n",
       "      <td>5000</td>\n",
       "      <td>5000.0</td>\n",
       "      <td>2016-08-13T14:27:32</td>\n",
       "      <td>98.55</td>\n",
       "      <td>Uber</td>\n",
       "      <td>US</td>\n",
       "      <td>US</td>\n",
       "      <td>02</td>\n",
       "      <td>...</td>\n",
       "      <td></td>\n",
       "      <td>0.0</td>\n",
       "      <td></td>\n",
       "      <td></td>\n",
       "      <td></td>\n",
       "      <td>False</td>\n",
       "      <td></td>\n",
       "      <td></td>\n",
       "      <td>False</td>\n",
       "      <td>False</td>\n",
       "    </tr>\n",
       "    <tr>\n",
       "      <th>1</th>\n",
       "      <td>737265056</td>\n",
       "      <td>737265056</td>\n",
       "      <td>5000</td>\n",
       "      <td>5000.0</td>\n",
       "      <td>2016-10-11T05:05:54</td>\n",
       "      <td>74.51</td>\n",
       "      <td>AMC #191138</td>\n",
       "      <td>US</td>\n",
       "      <td>US</td>\n",
       "      <td>09</td>\n",
       "      <td>...</td>\n",
       "      <td></td>\n",
       "      <td>0.0</td>\n",
       "      <td></td>\n",
       "      <td></td>\n",
       "      <td></td>\n",
       "      <td>True</td>\n",
       "      <td></td>\n",
       "      <td></td>\n",
       "      <td>False</td>\n",
       "      <td>False</td>\n",
       "    </tr>\n",
       "    <tr>\n",
       "      <th>2</th>\n",
       "      <td>737265056</td>\n",
       "      <td>737265056</td>\n",
       "      <td>5000</td>\n",
       "      <td>5000.0</td>\n",
       "      <td>2016-11-08T09:18:39</td>\n",
       "      <td>7.47</td>\n",
       "      <td>Play Store</td>\n",
       "      <td>US</td>\n",
       "      <td>US</td>\n",
       "      <td>09</td>\n",
       "      <td>...</td>\n",
       "      <td></td>\n",
       "      <td>0.0</td>\n",
       "      <td></td>\n",
       "      <td></td>\n",
       "      <td></td>\n",
       "      <td>False</td>\n",
       "      <td></td>\n",
       "      <td></td>\n",
       "      <td>False</td>\n",
       "      <td>False</td>\n",
       "    </tr>\n",
       "    <tr>\n",
       "      <th>3</th>\n",
       "      <td>737265056</td>\n",
       "      <td>737265056</td>\n",
       "      <td>5000</td>\n",
       "      <td>5000.0</td>\n",
       "      <td>2016-12-10T02:14:50</td>\n",
       "      <td>7.47</td>\n",
       "      <td>Play Store</td>\n",
       "      <td>US</td>\n",
       "      <td>US</td>\n",
       "      <td>09</td>\n",
       "      <td>...</td>\n",
       "      <td></td>\n",
       "      <td>0.0</td>\n",
       "      <td></td>\n",
       "      <td></td>\n",
       "      <td></td>\n",
       "      <td>False</td>\n",
       "      <td></td>\n",
       "      <td></td>\n",
       "      <td>False</td>\n",
       "      <td>False</td>\n",
       "    </tr>\n",
       "    <tr>\n",
       "      <th>4</th>\n",
       "      <td>830329091</td>\n",
       "      <td>830329091</td>\n",
       "      <td>5000</td>\n",
       "      <td>5000.0</td>\n",
       "      <td>2016-03-24T21:04:46</td>\n",
       "      <td>71.18</td>\n",
       "      <td>Tim Hortons #947751</td>\n",
       "      <td>US</td>\n",
       "      <td>US</td>\n",
       "      <td>02</td>\n",
       "      <td>...</td>\n",
       "      <td></td>\n",
       "      <td>0.0</td>\n",
       "      <td></td>\n",
       "      <td></td>\n",
       "      <td></td>\n",
       "      <td>True</td>\n",
       "      <td></td>\n",
       "      <td></td>\n",
       "      <td>False</td>\n",
       "      <td>False</td>\n",
       "    </tr>\n",
       "  </tbody>\n",
       "</table>\n",
       "<p>5 rows × 29 columns</p>\n",
       "</div>"
      ],
      "text/plain": [
       "   accountNumber  customerId  creditLimit  availableMoney  \\\n",
       "0      737265056   737265056         5000          5000.0   \n",
       "1      737265056   737265056         5000          5000.0   \n",
       "2      737265056   737265056         5000          5000.0   \n",
       "3      737265056   737265056         5000          5000.0   \n",
       "4      830329091   830329091         5000          5000.0   \n",
       "\n",
       "   transactionDateTime  transactionAmount         merchantName acqCountry  \\\n",
       "0  2016-08-13T14:27:32              98.55                 Uber         US   \n",
       "1  2016-10-11T05:05:54              74.51          AMC #191138         US   \n",
       "2  2016-11-08T09:18:39               7.47           Play Store         US   \n",
       "3  2016-12-10T02:14:50               7.47           Play Store         US   \n",
       "4  2016-03-24T21:04:46              71.18  Tim Hortons #947751         US   \n",
       "\n",
       "  merchantCountryCode posEntryMode  ... echoBuffer currentBalance  \\\n",
       "0                  US           02  ...                       0.0   \n",
       "1                  US           09  ...                       0.0   \n",
       "2                  US           09  ...                       0.0   \n",
       "3                  US           09  ...                       0.0   \n",
       "4                  US           02  ...                       0.0   \n",
       "\n",
       "  merchantCity merchantState merchantZip  cardPresent  posOnPremises  \\\n",
       "0                                               False                  \n",
       "1                                                True                  \n",
       "2                                               False                  \n",
       "3                                               False                  \n",
       "4                                                True                  \n",
       "\n",
       "   recurringAuthInd expirationDateKeyInMatch isFraud  \n",
       "0                                      False   False  \n",
       "1                                      False   False  \n",
       "2                                      False   False  \n",
       "3                                      False   False  \n",
       "4                                      False   False  \n",
       "\n",
       "[5 rows x 29 columns]"
      ]
     },
     "execution_count": 2,
     "metadata": {},
     "output_type": "execute_result"
    }
   ],
   "source": [
    "df = pd.read_json('transactions.txt', lines=True)\n",
    "\n",
    "df.head()"
   ]
  },
  {
   "cell_type": "markdown",
   "metadata": {},
   "source": [
    "## Data Cleaning"
   ]
  },
  {
   "cell_type": "code",
   "execution_count": 3,
   "metadata": {},
   "outputs": [],
   "source": [
    "# Replacing white space with nan\n",
    "\n",
    "df = df.replace('', np.nan)"
   ]
  },
  {
   "cell_type": "code",
   "execution_count": 4,
   "metadata": {},
   "outputs": [
    {
     "name": "stdout",
     "output_type": "stream",
     "text": [
      "Empty columns that were removed:\n",
      "['echoBuffer', 'merchantCity', 'merchantState', 'merchantZip', 'posOnPremises', 'recurringAuthInd']\n"
     ]
    }
   ],
   "source": [
    "# Checking which columns are empty and removing\n",
    "\n",
    "nan_col = df.columns[df.isna().all()].tolist()\n",
    "df.drop(columns=nan_col, inplace=True)\n",
    "\n",
    "print(\"Empty columns that were removed:\")\n",
    "print(nan_col)"
   ]
  },
  {
   "cell_type": "code",
   "execution_count": 5,
   "metadata": {},
   "outputs": [
    {
     "data": {
      "text/plain": [
       "True"
      ]
     },
     "execution_count": 5,
     "metadata": {},
     "output_type": "execute_result"
    }
   ],
   "source": [
    "# Account Number and Customer Id columns appear to be equal\n",
    "\n",
    "df['accountNumber'].equals(df['customerId'])"
   ]
  },
  {
   "cell_type": "code",
   "execution_count": 6,
   "metadata": {},
   "outputs": [],
   "source": [
    "# Removing customerId as it is a duplicate of accountNumber\n",
    "\n",
    "df.drop(columns=['customerId'], inplace=True)"
   ]
  },
  {
   "cell_type": "code",
   "execution_count": 7,
   "metadata": {},
   "outputs": [],
   "source": [
    "# Dropping merchantName as merchantCategory will be used\n",
    "df.drop(columns=['merchantName'], inplace=True)"
   ]
  },
  {
   "cell_type": "code",
   "execution_count": 8,
   "metadata": {},
   "outputs": [],
   "source": [
    "# Need to remove remaining unneeded columns\n",
    "#df.drop(columns=['cardCVV'], inplace=True)\n",
    "#df.drop(columns=['enteredCVV'], inplace=True)\n",
    "df.drop(columns=['cardLast4Digits'], inplace=True)"
   ]
  },
  {
   "cell_type": "code",
   "execution_count": 9,
   "metadata": {},
   "outputs": [],
   "source": [
    "# Filling NaN with purchase to keep data\n",
    "\n",
    "df['transactionType'] = df['transactionType'].fillna('PURCHASE')"
   ]
  },
  {
   "cell_type": "code",
   "execution_count": 10,
   "metadata": {},
   "outputs": [
    {
     "data": {
      "text/plain": [
       "9003"
      ]
     },
     "execution_count": 10,
     "metadata": {},
     "output_type": "execute_result"
    }
   ],
   "source": [
    "# Total amount of rows with NaN values\n",
    "df.isnull().any(axis=1).sum()"
   ]
  },
  {
   "cell_type": "code",
   "execution_count": 11,
   "metadata": {},
   "outputs": [],
   "source": [
    "# Dropping all rows with NaN value\n",
    "df = df.dropna()"
   ]
  },
  {
   "cell_type": "code",
   "execution_count": 12,
   "metadata": {},
   "outputs": [],
   "source": [
    "pd.pandas.set_option('display.max_columns', None)"
   ]
  },
  {
   "cell_type": "code",
   "execution_count": 13,
   "metadata": {},
   "outputs": [],
   "source": [
    "# Changing transactionDatetime. All transactions occurred in 2016, year is unneeded.\n",
    "\n",
    "df['transactionDateTime'] = pd.to_datetime(df['transactionDateTime'])\n",
    "df['Month'] = df['transactionDateTime'].dt.month\n",
    "df['day'] = df['transactionDateTime'].dt.day\n",
    "df['hour'] = df['transactionDateTime'].dt.hour\n",
    "df['minute'] = df['transactionDateTime'].dt.minute\n",
    "\n",
    "# Cyclic encoding for hour and minute\n",
    "df['hourSin'] = np.sin(2 * np.pi * df['hour'] / 24)\n",
    "df['hourCos'] = np.cos(2 * np.pi * df['hour'] / 24)\n",
    "df['minuteSin'] = np.sin(2 * np.pi * df['minute'] / 24)\n",
    "df['minuteCos'] = np.cos(2 * np.pi * df['minute'] / 24)\n",
    "\n",
    "# Do not need columns\n",
    "df.drop(columns=['transactionDateTime'], inplace=True)\n",
    "df.drop(columns=['hour'], inplace=True)\n",
    "df.drop(columns=['minute'], inplace=True)"
   ]
  },
  {
   "cell_type": "code",
   "execution_count": 14,
   "metadata": {},
   "outputs": [],
   "source": [
    "# Reformatting other date columns\n",
    "\n",
    "df['expYear'] = pd.to_datetime(df['currentExpDate']).dt.year\n",
    "df['expMonth'] = pd.to_datetime(df['currentExpDate']).dt.month\n",
    "\n",
    "df['accountOpenYear'] = pd.to_datetime(df['accountOpenDate']).dt.year\n",
    "df['accountOpenMonth'] = pd.to_datetime(df['accountOpenDate']).dt.month\n",
    "df['accountOpenDay'] = pd.to_datetime(df['accountOpenDate']).dt.day\n",
    "\n",
    "df['lastAddressChangeYear'] = pd.to_datetime(df['dateOfLastAddressChange']).dt.year\n",
    "df['lastAddressChangeMonth'] = pd.to_datetime(df['dateOfLastAddressChange']).dt.month\n",
    "df['lastAddressChangeDay'] = pd.to_datetime(df['dateOfLastAddressChange']).dt.day\n",
    "\n",
    "# removing unneeded columns\n",
    "df.drop(columns=['currentExpDate'], inplace=True)\n",
    "df.drop(columns=['accountOpenDate'], inplace=True)\n",
    "df.drop(columns=['dateOfLastAddressChange'], inplace=True)"
   ]
  },
  {
   "cell_type": "markdown",
   "metadata": {},
   "source": [
    "## Encoding"
   ]
  },
  {
   "cell_type": "code",
   "execution_count": 15,
   "metadata": {},
   "outputs": [],
   "source": [
    "# Categorical columns that need to be endocded\n",
    "\n",
    "columns_to_encode = ['acqCountry', 'merchantCountryCode', 'posEntryMode', 'posConditionCode', 'transactionType', 'merchantCategoryCode']\n",
    "df = pd.get_dummies(df, columns=columns_to_encode, prefix=columns_to_encode)\n",
    "\n",
    "# Convert boolean columns to integers\n",
    "df['cardPresent'] = df['cardPresent'].astype(int)\n",
    "df['expirationDateKeyInMatch'] = df['expirationDateKeyInMatch'].astype(int)"
   ]
  },
  {
   "cell_type": "code",
   "execution_count": 16,
   "metadata": {},
   "outputs": [
    {
     "name": "stdout",
     "output_type": "stream",
     "text": [
      "<class 'pandas.core.frame.DataFrame'>\n",
      "Int64Index: 777360 entries, 0 to 786362\n",
      "Data columns (total 62 columns):\n",
      " #   Column                                     Non-Null Count   Dtype  \n",
      "---  ------                                     --------------   -----  \n",
      " 0   accountNumber                              777360 non-null  int64  \n",
      " 1   creditLimit                                777360 non-null  int64  \n",
      " 2   availableMoney                             777360 non-null  float64\n",
      " 3   transactionAmount                          777360 non-null  float64\n",
      " 4   cardCVV                                    777360 non-null  int64  \n",
      " 5   enteredCVV                                 777360 non-null  int64  \n",
      " 6   currentBalance                             777360 non-null  float64\n",
      " 7   cardPresent                                777360 non-null  int32  \n",
      " 8   expirationDateKeyInMatch                   777360 non-null  int32  \n",
      " 9   isFraud                                    777360 non-null  bool   \n",
      " 10  Month                                      777360 non-null  int64  \n",
      " 11  day                                        777360 non-null  int64  \n",
      " 12  hourSin                                    777360 non-null  float64\n",
      " 13  hourCos                                    777360 non-null  float64\n",
      " 14  minuteSin                                  777360 non-null  float64\n",
      " 15  minuteCos                                  777360 non-null  float64\n",
      " 16  expYear                                    777360 non-null  int64  \n",
      " 17  expMonth                                   777360 non-null  int64  \n",
      " 18  accountOpenYear                            777360 non-null  int64  \n",
      " 19  accountOpenMonth                           777360 non-null  int64  \n",
      " 20  accountOpenDay                             777360 non-null  int64  \n",
      " 21  lastAddressChangeYear                      777360 non-null  int64  \n",
      " 22  lastAddressChangeMonth                     777360 non-null  int64  \n",
      " 23  lastAddressChangeDay                       777360 non-null  int64  \n",
      " 24  acqCountry_CAN                             777360 non-null  uint8  \n",
      " 25  acqCountry_MEX                             777360 non-null  uint8  \n",
      " 26  acqCountry_PR                              777360 non-null  uint8  \n",
      " 27  acqCountry_US                              777360 non-null  uint8  \n",
      " 28  merchantCountryCode_CAN                    777360 non-null  uint8  \n",
      " 29  merchantCountryCode_MEX                    777360 non-null  uint8  \n",
      " 30  merchantCountryCode_PR                     777360 non-null  uint8  \n",
      " 31  merchantCountryCode_US                     777360 non-null  uint8  \n",
      " 32  posEntryMode_02                            777360 non-null  uint8  \n",
      " 33  posEntryMode_05                            777360 non-null  uint8  \n",
      " 34  posEntryMode_09                            777360 non-null  uint8  \n",
      " 35  posEntryMode_80                            777360 non-null  uint8  \n",
      " 36  posEntryMode_90                            777360 non-null  uint8  \n",
      " 37  posConditionCode_01                        777360 non-null  uint8  \n",
      " 38  posConditionCode_08                        777360 non-null  uint8  \n",
      " 39  posConditionCode_99                        777360 non-null  uint8  \n",
      " 40  transactionType_ADDRESS_VERIFICATION       777360 non-null  uint8  \n",
      " 41  transactionType_PURCHASE                   777360 non-null  uint8  \n",
      " 42  transactionType_REVERSAL                   777360 non-null  uint8  \n",
      " 43  merchantCategoryCode_airline               777360 non-null  uint8  \n",
      " 44  merchantCategoryCode_auto                  777360 non-null  uint8  \n",
      " 45  merchantCategoryCode_cable/phone           777360 non-null  uint8  \n",
      " 46  merchantCategoryCode_entertainment         777360 non-null  uint8  \n",
      " 47  merchantCategoryCode_fastfood              777360 non-null  uint8  \n",
      " 48  merchantCategoryCode_food                  777360 non-null  uint8  \n",
      " 49  merchantCategoryCode_food_delivery         777360 non-null  uint8  \n",
      " 50  merchantCategoryCode_fuel                  777360 non-null  uint8  \n",
      " 51  merchantCategoryCode_furniture             777360 non-null  uint8  \n",
      " 52  merchantCategoryCode_gym                   777360 non-null  uint8  \n",
      " 53  merchantCategoryCode_health                777360 non-null  uint8  \n",
      " 54  merchantCategoryCode_hotels                777360 non-null  uint8  \n",
      " 55  merchantCategoryCode_mobileapps            777360 non-null  uint8  \n",
      " 56  merchantCategoryCode_online_gifts          777360 non-null  uint8  \n",
      " 57  merchantCategoryCode_online_retail         777360 non-null  uint8  \n",
      " 58  merchantCategoryCode_online_subscriptions  777360 non-null  uint8  \n",
      " 59  merchantCategoryCode_personal care         777360 non-null  uint8  \n",
      " 60  merchantCategoryCode_rideshare             777360 non-null  uint8  \n",
      " 61  merchantCategoryCode_subscriptions         777360 non-null  uint8  \n",
      "dtypes: bool(1), float64(7), int32(2), int64(14), uint8(38)\n",
      "memory usage: 165.3 MB\n"
     ]
    }
   ],
   "source": [
    "df.info()"
   ]
  },
  {
   "cell_type": "code",
   "execution_count": 17,
   "metadata": {},
   "outputs": [],
   "source": [
    "# Breaking apart features and labels\n",
    "\n",
    "features = df.iloc[:, :-1]\n",
    "labels = df['isFraud']"
   ]
  },
  {
   "cell_type": "markdown",
   "metadata": {},
   "source": [
    "## Splitting dataset into train, test and val"
   ]
  },
  {
   "cell_type": "code",
   "execution_count": 18,
   "metadata": {},
   "outputs": [],
   "source": [
    "from sklearn.model_selection import train_test_split\n",
    "from imblearn.over_sampling import SMOTE\n",
    "\n",
    "np.random.seed(33)\n",
    "tf.random.set_seed(33)\n",
    "\n",
    "X = df.drop('isFraud', axis = 1)\n",
    "Y = df['isFraud']\n",
    "\n",
    "x_train, x_temp, y_train, y_temp = train_test_split(X, Y, test_size=0.3, random_state=33, stratify=Y)\n",
    "x_val, x_test, y_val, y_test = train_test_split(x_temp, y_temp, test_size=0.5, random_state=33, stratify=y_temp)\n"
   ]
  },
  {
   "cell_type": "code",
   "execution_count": 19,
   "metadata": {},
   "outputs": [],
   "source": [
    "np.random.seed(33)\n",
    "tf.random.set_seed(33)\n",
    "\n",
    "#standardize/normalize your numerical features\n",
    "from sklearn.preprocessing import StandardScaler\n",
    "from sklearn.compose import ColumnTransformer\n",
    "\n",
    "#use DataFrame.select_dtypes() to select float64 or int64 feature types automatically.\n",
    "numerical_features = features.select_dtypes(include=['float64', 'int64'])\n",
    "numerical_columns = numerical_features.columns # Get a list of the column names\n",
    "ct = ColumnTransformer([(\"only numeric\", StandardScaler(), numerical_columns)], remainder='passthrough')\n",
    "\n",
    "#Fit your instance ct of ColumnTransformer to the training data and at the same time transform it by using the ColumnTransformer.fit_transform()\n",
    "x_train_scaled = ct.fit_transform(x_train)\n",
    "x_test_scaled = ct.fit_transform(x_test) #Transform your test data instance features_test\n",
    "x_val_scaled = ct.fit_transform(x_val)"
   ]
  },
  {
   "cell_type": "markdown",
   "metadata": {},
   "source": [
    "## Testing Function"
   ]
  },
  {
   "cell_type": "code",
   "execution_count": 20,
   "metadata": {},
   "outputs": [
    {
     "data": {
      "text/plain": [
       "'\\nfrom sklearn.metrics import accuracy_score, precision_score, recall_score, f1_score, roc_curve, roc_auc_score, confusion_matrix, ConfusionMatrixDisplay\\n\\ndef test_metrics(model, x_test, y_test):\\n\\n    #predict probabilities\\n    y_pred = model.predict(x_test)\\n\\n    #Convert probs intobinary predictions\\n    threshold = 0.5\\n    y_pred_binary = (y_pred >= threshold).astype(int)\\n\\n    #Calculate metrics\\n    accuracy = accuracy_score(y_test, y_pred_binary)\\n    precision = precision_score(y_test, y_pred_binary)\\n    recall = recall_score(y_test, y_pred_binary)\\n    f1 = f1_score(y_test, y_pred_binary)\\n\\n    # ROC and AUC\\n    fpr, tpr, _ = roc_curve(y_test, y_pred)\\n    auc = roc_auc_score(y_test, y_pred)\\n\\n    #Confusion Matrix\\n    cm = confusion_matrix(y_test, y_pred_binary)\\n\\n    #Print metrics\\n    print(\"Accuracy:\", accuracy)\\n    print(\"Precision:\", precision)\\n    print(\"Recall:\", recall)\\n    print(\"F1-Score:\", f1)\\n    print(\"AUC:\", auc)\\n    print(\"Confusion Matrix:\")\\n    print(cm)\\n    ConfusionMatrixDisplay.from_predictions(y_test, y_pred_binary)\\n'"
      ]
     },
     "execution_count": 20,
     "metadata": {},
     "output_type": "execute_result"
    }
   ],
   "source": [
    "# Function to test the model and produce results\n",
    "'''\n",
    "from sklearn.metrics import accuracy_score, precision_score, recall_score, f1_score, roc_curve, roc_auc_score, confusion_matrix, ConfusionMatrixDisplay\n",
    "\n",
    "def test_metrics(model, x_test, y_test):\n",
    "\n",
    "    #predict probabilities\n",
    "    y_pred = model.predict(x_test)\n",
    "\n",
    "    #Convert probs intobinary predictions\n",
    "    threshold = 0.5\n",
    "    y_pred_binary = (y_pred >= threshold).astype(int)\n",
    "\n",
    "    #Calculate metrics\n",
    "    accuracy = accuracy_score(y_test, y_pred_binary)\n",
    "    precision = precision_score(y_test, y_pred_binary)\n",
    "    recall = recall_score(y_test, y_pred_binary)\n",
    "    f1 = f1_score(y_test, y_pred_binary)\n",
    "\n",
    "    # ROC and AUC\n",
    "    fpr, tpr, _ = roc_curve(y_test, y_pred)\n",
    "    auc = roc_auc_score(y_test, y_pred)\n",
    "\n",
    "    #Confusion Matrix\n",
    "    cm = confusion_matrix(y_test, y_pred_binary)\n",
    "\n",
    "    #Print metrics\n",
    "    print(\"Accuracy:\", accuracy)\n",
    "    print(\"Precision:\", precision)\n",
    "    print(\"Recall:\", recall)\n",
    "    print(\"F1-Score:\", f1)\n",
    "    print(\"AUC:\", auc)\n",
    "    print(\"Confusion Matrix:\")\n",
    "    print(cm)\n",
    "    ConfusionMatrixDisplay.from_predictions(y_test, y_pred_binary)\n",
    "'''"
   ]
  },
  {
   "cell_type": "code",
   "execution_count": 21,
   "metadata": {},
   "outputs": [],
   "source": [
    "# Function to test the model and produce results\n",
    "from sklearn.metrics import accuracy_score, precision_score, recall_score, f1_score, roc_curve, roc_auc_score, confusion_matrix, ConfusionMatrixDisplay\n",
    "\n",
    "def test_metrics(model, x_test, y_test):\n",
    "    y_pred = model.predict(x_test)\n",
    "\n",
    "    # Find the best threshold for F1 score\n",
    "    thresholds = np.linspace(0, 1, 100)  # Generates 100 points between 0 and 1\n",
    "    f1_scores = []\n",
    "    for thresh in thresholds:\n",
    "        y_pred_binary = (y_pred >= thresh).astype(int)\n",
    "        f1 = f1_score(y_test, y_pred_binary)\n",
    "        f1_scores.append(f1)\n",
    "    \n",
    "    # Get the best threshold\n",
    "    max_f1_index = np.argmax(f1_scores)  # Index of the highest F1 score\n",
    "    best_threshold = thresholds[max_f1_index]\n",
    "    best_f1 = f1_scores[max_f1_index]\n",
    "\n",
    "    # Use the best threshold to get final predictions\n",
    "    y_pred_binary = (y_pred >= best_threshold).astype(int)\n",
    "    accuracy = accuracy_score(y_test, y_pred_binary)\n",
    "    precision = precision_score(y_test, y_pred_binary)\n",
    "    recall = recall_score(y_test, y_pred_binary)\n",
    "    auc = roc_auc_score(y_test, y_pred)\n",
    "    cm = confusion_matrix(y_test, y_pred_binary)\n",
    "\n",
    "    # Print metrics\n",
    "    print(f\"Best Threshold: {best_threshold}\")\n",
    "    print(f\"Accuracy: {accuracy}\")\n",
    "    print(f\"Precision: {precision}\")\n",
    "    print(f\"Recall: {recall}\")\n",
    "    print(f\"F1-Score: {best_f1}\")\n",
    "    print(f\"AUC: {auc}\")\n",
    "    print(\"Confusion Matrix:\")\n",
    "    print(cm)\n",
    "    ConfusionMatrixDisplay.from_predictions(y_test, y_pred_binary)\n",
    "\n",
    "    metrics = {\n",
    "        'Best Threshold': best_threshold,\n",
    "        'Accuracy': accuracy,\n",
    "        'Precision': precision,\n",
    "        'Recall': recall,\n",
    "        'F1-Score': best_f1,\n",
    "        'AUC': auc,\n",
    "        'Confusion Matrix': cm\n",
    "    }\n",
    "    return metrics"
   ]
  },
  {
   "cell_type": "markdown",
   "metadata": {},
   "source": [
    "## Model Creation"
   ]
  },
  {
   "cell_type": "code",
   "execution_count": 22,
   "metadata": {},
   "outputs": [],
   "source": [
    "import tensorflow as tf\n",
    "from tensorflow.keras.models import Sequential\n",
    "from tensorflow.keras.layers import Dense\n",
    "\n",
    "np.random.seed(33)\n",
    "tf.random.set_seed(33)\n",
    "\n",
    "model_1 = Sequential([\n",
    "    tf.keras.layers.Dense(64, activation='relu', input_shape=(x_train_scaled.shape[1],)),\n",
    "    tf.keras.layers.Dense(32, activation='relu'),\n",
    "    tf.keras.layers.Dense(1, activation='sigmoid')\n",
    "])"
   ]
  },
  {
   "cell_type": "code",
   "execution_count": 23,
   "metadata": {},
   "outputs": [],
   "source": [
    "model_1.compile(\n",
    "    optimizer = 'adam',\n",
    "    loss='binary_crossentropy',\n",
    "    metrics=[tf.keras.metrics.BinaryAccuracy(), tf.keras.metrics.Recall()]\n",
    ")"
   ]
  },
  {
   "cell_type": "code",
   "execution_count": 24,
   "metadata": {},
   "outputs": [
    {
     "name": "stdout",
     "output_type": "stream",
     "text": [
      "Epoch 1/10\n",
      "17005/17005 [==============================] - 17s 949us/step - loss: 0.0741 - binary_accuracy: 0.9845 - recall: 0.0000e+00 - val_loss: 0.0719 - val_binary_accuracy: 0.9846 - val_recall: 0.0000e+00\n",
      "Epoch 2/10\n",
      "17005/17005 [==============================] - 16s 931us/step - loss: 0.0715 - binary_accuracy: 0.9846 - recall: 0.0000e+00 - val_loss: 0.0721 - val_binary_accuracy: 0.9846 - val_recall: 0.0000e+00\n",
      "Epoch 3/10\n",
      "17005/17005 [==============================] - 16s 918us/step - loss: 0.0705 - binary_accuracy: 0.9846 - recall: 0.0000e+00 - val_loss: 0.0705 - val_binary_accuracy: 0.9846 - val_recall: 0.0000e+00\n",
      "Epoch 4/10\n",
      "17005/17005 [==============================] - 16s 937us/step - loss: 0.0700 - binary_accuracy: 0.9846 - recall: 0.0000e+00 - val_loss: 0.0710 - val_binary_accuracy: 0.9846 - val_recall: 0.0000e+00\n",
      "Epoch 5/10\n",
      "17005/17005 [==============================] - 16s 924us/step - loss: 0.0696 - binary_accuracy: 0.9846 - recall: 0.0000e+00 - val_loss: 0.0704 - val_binary_accuracy: 0.9846 - val_recall: 0.0000e+00\n",
      "Epoch 6/10\n",
      "17005/17005 [==============================] - 16s 920us/step - loss: 0.0693 - binary_accuracy: 0.9846 - recall: 0.0000e+00 - val_loss: 0.0699 - val_binary_accuracy: 0.9846 - val_recall: 0.0000e+00\n",
      "Epoch 7/10\n",
      "17005/17005 [==============================] - 16s 938us/step - loss: 0.0690 - binary_accuracy: 0.9846 - recall: 0.0000e+00 - val_loss: 0.0702 - val_binary_accuracy: 0.9846 - val_recall: 0.0000e+00\n",
      "Epoch 8/10\n",
      "17005/17005 [==============================] - 16s 934us/step - loss: 0.0686 - binary_accuracy: 0.9846 - recall: 0.0000e+00 - val_loss: 0.0698 - val_binary_accuracy: 0.9846 - val_recall: 0.0000e+00\n",
      "Epoch 9/10\n",
      "17005/17005 [==============================] - 16s 932us/step - loss: 0.0685 - binary_accuracy: 0.9846 - recall: 0.0000e+00 - val_loss: 0.0698 - val_binary_accuracy: 0.9846 - val_recall: 0.0000e+00\n",
      "Epoch 10/10\n",
      "17005/17005 [==============================] - 16s 914us/step - loss: 0.0683 - binary_accuracy: 0.9846 - recall: 0.0000e+00 - val_loss: 0.0696 - val_binary_accuracy: 0.9846 - val_recall: 0.0000e+00\n"
     ]
    }
   ],
   "source": [
    "np.random.seed(33)\n",
    "tf.random.set_seed(33)\n",
    "\n",
    "history = model_1.fit(x_train_scaled, y_train, \n",
    "                    validation_data=(x_val_scaled, y_val),\n",
    "                    epochs=10,\n",
    "                    batch_size=32)"
   ]
  },
  {
   "cell_type": "code",
   "execution_count": 25,
   "metadata": {},
   "outputs": [
    {
     "name": "stdout",
     "output_type": "stream",
     "text": [
      "3644/3644 [==============================] - 2s 518us/step\n",
      "Best Threshold: 0.07070707070707072\n",
      "Accuracy: 0.9535693458200405\n",
      "Precision: 0.09459762385115444\n",
      "Recall: 0.23483583750695602\n",
      "F1-Score: 0.13486736976669864\n",
      "AUC: 0.7920976317666979\n",
      "Confusion Matrix:\n",
      "[[110768   4039]\n",
      " [  1375    422]]\n"
     ]
    },
    {
     "data": {
      "image/png": "[encoded data removed]",
      "text/plain": [
       "<Figure size 640x480 with 2 Axes>"
      ]
     },
     "metadata": {},
     "output_type": "display_data"
    }
   ],
   "source": [
    "m1_test_results = test_metrics(model_1, x_test_scaled, y_test)"
   ]
  },
  {
   "cell_type": "markdown",
   "metadata": {},
   "source": [
    "## Model Creation with SMOTE"
   ]
  },
  {
   "cell_type": "code",
   "execution_count": 26,
   "metadata": {},
   "outputs": [],
   "source": [
    "np.random.seed(33)\n",
    "tf.random.set_seed(33)\n",
    "# Applying SMOTE to address the class imbalance\n",
    "smote = SMOTE(sampling_strategy='auto', random_state=33)\n",
    "x_train_resampled, y_train_resampled = smote.fit_resample(x_train, y_train)"
   ]
  },
  {
   "cell_type": "code",
   "execution_count": 27,
   "metadata": {},
   "outputs": [],
   "source": [
    "np.random.seed(33)\n",
    "tf.random.set_seed(33)\n",
    "\n",
    "#standardize/normalize your numerical features\n",
    "\n",
    "#use DataFrame.select_dtypes() to select float64 or int64 feature types automatically.\n",
    "numerical_features = features.select_dtypes(include=['float64', 'int64'])\n",
    "numerical_columns = numerical_features.columns # Get a list of the column names\n",
    "ct = ColumnTransformer([(\"only numeric\", StandardScaler(), numerical_columns)], remainder='passthrough')\n",
    "\n",
    "#Fit your instance ct of ColumnTransformer to the training data and at the same time transform it by using the ColumnTransformer.fit_transform()\n",
    "x_train_scaled = ct.fit_transform(x_train_resampled)\n",
    "x_test_scaled = ct.fit_transform(x_test) #Transform your test data instance features_test\n",
    "x_val_scaled = ct.fit_transform(x_val)"
   ]
  },
  {
   "cell_type": "code",
   "execution_count": 28,
   "metadata": {},
   "outputs": [],
   "source": [
    "np.random.seed(33)\n",
    "tf.random.set_seed(33)\n",
    "\n",
    "model_2 = Sequential([\n",
    "    Dense(64, activation='relu', input_shape=(x_train_scaled.shape[1],)),\n",
    "    Dense(32, activation='relu'),\n",
    "    Dense(1, activation='sigmoid')\n",
    "])"
   ]
  },
  {
   "cell_type": "code",
   "execution_count": 29,
   "metadata": {},
   "outputs": [],
   "source": [
    "model_2.compile(\n",
    "    optimizer = 'adam',\n",
    "    loss='binary_crossentropy',\n",
    "    metrics=[tf.keras.metrics.BinaryAccuracy(), tf.keras.metrics.Recall()]\n",
    ")"
   ]
  },
  {
   "cell_type": "code",
   "execution_count": 30,
   "metadata": {},
   "outputs": [
    {
     "name": "stdout",
     "output_type": "stream",
     "text": [
      "Epoch 1/10\n",
      "33486/33486 [==============================] - 30s 883us/step - loss: 0.1094 - binary_accuracy: 0.9597 - recall_1: 0.9401 - val_loss: 0.5239 - val_binary_accuracy: 0.7799 - val_recall_1: 0.4853\n",
      "Epoch 2/10\n",
      "33486/33486 [==============================] - 30s 881us/step - loss: 0.0780 - binary_accuracy: 0.9737 - recall_1: 0.9578 - val_loss: 0.7590 - val_binary_accuracy: 0.7066 - val_recall_1: 0.5754\n",
      "Epoch 3/10\n",
      "33486/33486 [==============================] - 30s 881us/step - loss: 0.0714 - binary_accuracy: 0.9764 - recall_1: 0.9618 - val_loss: 1.0112 - val_binary_accuracy: 0.6598 - val_recall_1: 0.6316\n",
      "Epoch 4/10\n",
      "33486/33486 [==============================] - 30s 883us/step - loss: 0.0675 - binary_accuracy: 0.9781 - recall_1: 0.9642 - val_loss: 0.9931 - val_binary_accuracy: 0.6407 - val_recall_1: 0.6244\n",
      "Epoch 5/10\n",
      "33486/33486 [==============================] - 30s 906us/step - loss: 0.0646 - binary_accuracy: 0.9792 - recall_1: 0.9660 - val_loss: 1.1325 - val_binary_accuracy: 0.6374 - val_recall_1: 0.6516\n",
      "Epoch 6/10\n",
      "33486/33486 [==============================] - 30s 888us/step - loss: 0.0628 - binary_accuracy: 0.9799 - recall_1: 0.9672 - val_loss: 1.2398 - val_binary_accuracy: 0.5878 - val_recall_1: 0.6817\n",
      "Epoch 7/10\n",
      "33486/33486 [==============================] - 29s 881us/step - loss: 0.0610 - binary_accuracy: 0.9807 - recall_1: 0.9684 - val_loss: 1.6305 - val_binary_accuracy: 0.4975 - val_recall_1: 0.7741\n",
      "Epoch 8/10\n",
      "33486/33486 [==============================] - 30s 900us/step - loss: 0.0597 - binary_accuracy: 0.9811 - recall_1: 0.9690 - val_loss: 1.4815 - val_binary_accuracy: 0.5635 - val_recall_1: 0.7240\n",
      "Epoch 9/10\n",
      "33486/33486 [==============================] - 30s 882us/step - loss: 0.0586 - binary_accuracy: 0.9817 - recall_1: 0.9699 - val_loss: 1.9333 - val_binary_accuracy: 0.4982 - val_recall_1: 0.7841\n",
      "Epoch 10/10\n",
      "33486/33486 [==============================] - 30s 891us/step - loss: 0.0576 - binary_accuracy: 0.9820 - recall_1: 0.9704 - val_loss: 2.0071 - val_binary_accuracy: 0.4504 - val_recall_1: 0.8030\n"
     ]
    }
   ],
   "source": [
    "np.random.seed(33)\n",
    "tf.random.set_seed(33)\n",
    "\n",
    "history = model_2.fit(x_train_scaled, y_train_resampled, \n",
    "                    validation_data=(x_val_scaled, y_val),\n",
    "                    epochs=10,\n",
    "                    batch_size=32)"
   ]
  },
  {
   "cell_type": "code",
   "execution_count": 31,
   "metadata": {},
   "outputs": [
    {
     "name": "stdout",
     "output_type": "stream",
     "text": [
      "3644/3644 [==============================] - 2s 540us/step\n",
      "Best Threshold: 0.98989898989899\n",
      "Accuracy: 0.8296284861582793\n",
      "Precision: 0.03293180995709042\n",
      "Recall: 0.3544796883695047\n",
      "F1-Score: 0.06026490066225165\n",
      "AUC: 0.6788108992033709\n",
      "Confusion Matrix:\n",
      "[[96101 18706]\n",
      " [ 1160   637]]\n"
     ]
    },
    {
     "data": {
      "image/png": "[encoded data removed]",
      "text/plain": [
       "<Figure size 640x480 with 2 Axes>"
      ]
     },
     "metadata": {},
     "output_type": "display_data"
    }
   ],
   "source": [
    "m2_test_results = test_metrics(model_2, x_test_scaled, y_test)"
   ]
  },
  {
   "cell_type": "markdown",
   "metadata": {},
   "source": [
    "## Model 3\n",
    "Using precision as a metric and SMOTE since it improved True positive rate"
   ]
  },
  {
   "cell_type": "code",
   "execution_count": 32,
   "metadata": {},
   "outputs": [],
   "source": [
    "np.random.seed(33)\n",
    "tf.random.set_seed(33)\n",
    "\n",
    "model_3 = Sequential([\n",
    "    Dense(64, activation='relu', input_shape=(x_train_scaled.shape[1],)),\n",
    "    Dense(32, activation='relu'),\n",
    "    Dense(1, activation='sigmoid')\n",
    "])"
   ]
  },
  {
   "cell_type": "code",
   "execution_count": 33,
   "metadata": {},
   "outputs": [],
   "source": [
    "model_3.compile(\n",
    "    optimizer = 'adam',\n",
    "    loss='binary_crossentropy',\n",
    "    metrics=[tf.keras.metrics.BinaryAccuracy(), tf.keras.metrics.Recall(), tf.keras.metrics.Precision()]\n",
    ")"
   ]
  },
  {
   "cell_type": "code",
   "execution_count": 34,
   "metadata": {},
   "outputs": [
    {
     "name": "stdout",
     "output_type": "stream",
     "text": [
      "Epoch 1/10\n",
      "33486/33486 [==============================] - 31s 901us/step - loss: 0.1136 - binary_accuracy: 0.9584 - recall_2: 0.9386 - precision: 0.9772 - val_loss: 0.5121 - val_binary_accuracy: 0.7768 - val_recall_2: 0.5147 - val_precision: 0.0355\n",
      "Epoch 2/10\n",
      "33486/33486 [==============================] - 30s 887us/step - loss: 0.0804 - binary_accuracy: 0.9726 - recall_2: 0.9563 - precision: 0.9884 - val_loss: 0.6310 - val_binary_accuracy: 0.7340 - val_recall_2: 0.5270 - val_precision: 0.0304\n",
      "Epoch 3/10\n",
      "33486/33486 [==============================] - 30s 881us/step - loss: 0.0730 - binary_accuracy: 0.9757 - recall_2: 0.9608 - precision: 0.9903 - val_loss: 0.9981 - val_binary_accuracy: 0.6289 - val_recall_2: 0.6544 - val_precision: 0.0268\n",
      "Epoch 4/10\n",
      "33486/33486 [==============================] - 29s 880us/step - loss: 0.0686 - binary_accuracy: 0.9774 - recall_2: 0.9634 - precision: 0.9911 - val_loss: 1.1556 - val_binary_accuracy: 0.5788 - val_recall_2: 0.6789 - val_precision: 0.0245\n",
      "Epoch 5/10\n",
      "33486/33486 [==============================] - 30s 884us/step - loss: 0.0656 - binary_accuracy: 0.9788 - recall_2: 0.9653 - precision: 0.9921 - val_loss: 0.9593 - val_binary_accuracy: 0.6436 - val_recall_2: 0.6338 - val_precision: 0.0271\n",
      "Epoch 6/10\n",
      "33486/33486 [==============================] - 30s 905us/step - loss: 0.0632 - binary_accuracy: 0.9797 - recall_2: 0.9666 - precision: 0.9925 - val_loss: 1.1971 - val_binary_accuracy: 0.6010 - val_recall_2: 0.6589 - val_precision: 0.0251\n",
      "Epoch 7/10\n",
      "33486/33486 [==============================] - 31s 917us/step - loss: 0.0613 - binary_accuracy: 0.9806 - recall_2: 0.9680 - precision: 0.9929 - val_loss: 1.7838 - val_binary_accuracy: 0.4651 - val_recall_2: 0.7880 - val_precision: 0.0223\n",
      "Epoch 8/10\n",
      "33486/33486 [==============================] - 30s 891us/step - loss: 0.0599 - binary_accuracy: 0.9811 - recall_2: 0.9688 - precision: 0.9932 - val_loss: 1.8133 - val_binary_accuracy: 0.4593 - val_recall_2: 0.7880 - val_precision: 0.0221\n",
      "Epoch 9/10\n",
      "33486/33486 [==============================] - 31s 922us/step - loss: 0.0587 - binary_accuracy: 0.9816 - recall_2: 0.9696 - precision: 0.9935 - val_loss: 2.3385 - val_binary_accuracy: 0.4260 - val_recall_2: 0.7986 - val_precision: 0.0211\n",
      "Epoch 10/10\n",
      "33486/33486 [==============================] - 30s 906us/step - loss: 0.0578 - binary_accuracy: 0.9820 - recall_2: 0.9701 - precision: 0.9937 - val_loss: 2.0566 - val_binary_accuracy: 0.4307 - val_recall_2: 0.8147 - val_precision: 0.0217\n"
     ]
    }
   ],
   "source": [
    "np.random.seed(33)\n",
    "tf.random.set_seed(33)\n",
    "\n",
    "history = model_3.fit(x_train_scaled, y_train_resampled, \n",
    "                    validation_data=(x_val_scaled, y_val),\n",
    "                    epochs=10,\n",
    "                    batch_size=32)"
   ]
  },
  {
   "cell_type": "code",
   "execution_count": 35,
   "metadata": {},
   "outputs": [
    {
     "name": "stdout",
     "output_type": "stream",
     "text": [
      "3644/3644 [==============================] - 2s 521us/step\n",
      "Best Threshold: 0.98989898989899\n",
      "Accuracy: 0.8323556653288052\n",
      "Precision: 0.035873032473984205\n",
      "Recall: 0.3817473567056205\n",
      "F1-Score: 0.06558317399617591\n",
      "AUC: 0.6892028333011461\n",
      "Confusion Matrix:\n",
      "[[96370 18437]\n",
      " [ 1111   686]]\n"
     ]
    },
    {
     "data": {
      "image/png": "[encoded data removed]",
      "text/plain": [
       "<Figure size 640x480 with 2 Axes>"
      ]
     },
     "metadata": {},
     "output_type": "display_data"
    }
   ],
   "source": [
    "m3_test_results = test_metrics(model_3, x_test_scaled, y_test)"
   ]
  },
  {
   "cell_type": "markdown",
   "metadata": {},
   "source": [
    "## Model 4\n",
    "Model architecture changes.  \n",
    "With SMOTE  \n",
    "Adding two more hidden layers.  \n",
    "Adding dropout layers  \n",
    "Adding regularization to hidden layers."
   ]
  },
  {
   "cell_type": "code",
   "execution_count": 36,
   "metadata": {},
   "outputs": [],
   "source": [
    "from tensorflow.keras import regularizers\n",
    "from tensorflow.keras.layers import Dropout\n",
    "\n",
    "np.random.seed(33)\n",
    "tf.random.set_seed(33)\n",
    "\n",
    "model_4 = Sequential([\n",
    "    tf.keras.layers.Dense(128, activation='relu', kernel_regularizer=regularizers.l2(0.1), input_shape=(x_train_scaled.shape[1],)),\n",
    "    tf.keras.layers.Dropout(0.5),\n",
    "    tf.keras.layers.Dense(64, activation='relu', kernel_regularizer=regularizers.l2(0.1)),\n",
    "    tf.keras.layers.Dropout(0.5),\n",
    "    tf.keras.layers.Dense(32, activation='relu', kernel_regularizer=regularizers.l2(0.1)),\n",
    "    tf.keras.layers.Dropout(0.5),\n",
    "    tf.keras.layers.Dense(16, activation='relu', kernel_regularizer=regularizers.l2(0.1)),\n",
    "    tf.keras.layers.Dropout(0.5),\n",
    "    tf.keras.layers.Dense(1, activation='sigmoid')\n",
    "])"
   ]
  },
  {
   "cell_type": "code",
   "execution_count": 37,
   "metadata": {},
   "outputs": [],
   "source": [
    "model_4.compile(\n",
    "    optimizer = 'adam',\n",
    "    loss='binary_crossentropy',\n",
    "    metrics=[tf.keras.metrics.BinaryAccuracy(), tf.keras.metrics.Recall(), tf.keras.metrics.Precision()]\n",
    ")"
   ]
  },
  {
   "cell_type": "code",
   "execution_count": 38,
   "metadata": {},
   "outputs": [
    {
     "name": "stdout",
     "output_type": "stream",
     "text": [
      "Epoch 1/10\n",
      "33486/33486 [==============================] - 45s 1ms/step - loss: 0.7382 - binary_accuracy: 0.4995 - recall_3: 0.5041 - precision_1: 0.4995 - val_loss: 0.6895 - val_binary_accuracy: 0.9846 - val_recall_3: 0.0000e+00 - val_precision_1: 0.0000e+00\n",
      "Epoch 2/10\n",
      "33486/33486 [==============================] - 44s 1ms/step - loss: 0.6932 - binary_accuracy: 0.4994 - recall_3: 0.5265 - precision_1: 0.4995 - val_loss: 0.6905 - val_binary_accuracy: 0.9846 - val_recall_3: 0.0000e+00 - val_precision_1: 0.0000e+00\n",
      "Epoch 3/10\n",
      "33486/33486 [==============================] - 44s 1ms/step - loss: 0.6932 - binary_accuracy: 0.4998 - recall_3: 0.4784 - precision_1: 0.4998 - val_loss: 0.7048 - val_binary_accuracy: 0.0154 - val_recall_3: 1.0000 - val_precision_1: 0.0154\n",
      "Epoch 4/10\n",
      "33486/33486 [==============================] - 44s 1ms/step - loss: 0.6932 - binary_accuracy: 0.4992 - recall_3: 0.5338 - precision_1: 0.4993 - val_loss: 0.7024 - val_binary_accuracy: 0.0154 - val_recall_3: 1.0000 - val_precision_1: 0.0154\n",
      "Epoch 5/10\n",
      "33486/33486 [==============================] - 44s 1ms/step - loss: 0.6932 - binary_accuracy: 0.5002 - recall_3: 0.5230 - precision_1: 0.5002 - val_loss: 0.6959 - val_binary_accuracy: 0.0154 - val_recall_3: 1.0000 - val_precision_1: 0.0154\n",
      "Epoch 6/10\n",
      "33486/33486 [==============================] - 44s 1ms/step - loss: 0.6932 - binary_accuracy: 0.5001 - recall_3: 0.5260 - precision_1: 0.5001 - val_loss: 0.6909 - val_binary_accuracy: 0.9846 - val_recall_3: 0.0000e+00 - val_precision_1: 0.0000e+00\n",
      "Epoch 7/10\n",
      "33486/33486 [==============================] - 45s 1ms/step - loss: 0.6932 - binary_accuracy: 0.5000 - recall_3: 0.4554 - precision_1: 0.5000 - val_loss: 0.7008 - val_binary_accuracy: 0.0154 - val_recall_3: 1.0000 - val_precision_1: 0.0154\n",
      "Epoch 8/10\n",
      "33486/33486 [==============================] - 44s 1ms/step - loss: 0.6932 - binary_accuracy: 0.5008 - recall_3: 0.4949 - precision_1: 0.5008 - val_loss: 0.6949 - val_binary_accuracy: 0.0154 - val_recall_3: 1.0000 - val_precision_1: 0.0154\n",
      "Epoch 9/10\n",
      "33486/33486 [==============================] - 45s 1ms/step - loss: 0.6932 - binary_accuracy: 0.5003 - recall_3: 0.4703 - precision_1: 0.5003 - val_loss: 0.6927 - val_binary_accuracy: 0.9846 - val_recall_3: 0.0000e+00 - val_precision_1: 0.0000e+00\n",
      "Epoch 10/10\n",
      "33486/33486 [==============================] - 45s 1ms/step - loss: 0.6932 - binary_accuracy: 0.4996 - recall_3: 0.5524 - precision_1: 0.4996 - val_loss: 0.6855 - val_binary_accuracy: 0.9846 - val_recall_3: 0.0000e+00 - val_precision_1: 0.0000e+00\n"
     ]
    }
   ],
   "source": [
    "np.random.seed(33)\n",
    "tf.random.set_seed(33)\n",
    "\n",
    "history = model_4.fit(x_train_scaled, y_train_resampled, \n",
    "                    validation_data=(x_val_scaled, y_val),\n",
    "                    epochs=10,\n",
    "                    batch_size=32)"
   ]
  },
  {
   "cell_type": "code",
   "execution_count": 39,
   "metadata": {},
   "outputs": [
    {
     "name": "stdout",
     "output_type": "stream",
     "text": [
      "3644/3644 [==============================] - 2s 574us/step\n",
      "Best Threshold: 0.0\n",
      "Accuracy: 0.015411135124009469\n",
      "Precision: 0.015411135124009469\n",
      "Recall: 1.0\n",
      "F1-Score: 0.030354473357488535\n",
      "AUC: 0.5\n",
      "Confusion Matrix:\n",
      "[[     0 114807]\n",
      " [     0   1797]]\n"
     ]
    },
    {
     "data": {
      "image/png": "[encoded data removed]",
      "text/plain": [
       "<Figure size 640x480 with 2 Axes>"
      ]
     },
     "metadata": {},
     "output_type": "display_data"
    }
   ],
   "source": [
    "m4_test_results = test_metrics(model_4, x_test_scaled, y_test)"
   ]
  },
  {
   "cell_type": "markdown",
   "metadata": {},
   "source": [
    "## Model 5\n",
    "Previous model had too many changes.  \n",
    "Reverting back to Model 3 arcitechture with only adding dropout layers.\n"
   ]
  },
  {
   "cell_type": "code",
   "execution_count": 40,
   "metadata": {},
   "outputs": [],
   "source": [
    "np.random.seed(33)\n",
    "tf.random.set_seed(33)\n",
    "\n",
    "model_5 = Sequential([\n",
    "    tf.keras.layers.Dense(64, activation='relu', input_shape=(x_train_scaled.shape[1],)),\n",
    "    tf.keras.layers.Dropout(0.2),\n",
    "    tf.keras.layers.Dense(32, activation='relu'),\n",
    "    tf.keras.layers.Dropout(0.2),\n",
    "    tf.keras.layers.Dense(1, activation='sigmoid')\n",
    "])"
   ]
  },
  {
   "cell_type": "code",
   "execution_count": 41,
   "metadata": {},
   "outputs": [],
   "source": [
    "model_5.compile(\n",
    "    optimizer = 'adam',\n",
    "    loss='binary_crossentropy',\n",
    "    metrics=[tf.keras.metrics.BinaryAccuracy(), tf.keras.metrics.Recall(), tf.keras.metrics.Precision()]\n",
    ")"
   ]
  },
  {
   "cell_type": "code",
   "execution_count": 42,
   "metadata": {},
   "outputs": [
    {
     "name": "stdout",
     "output_type": "stream",
     "text": [
      "Epoch 1/10\n",
      "33486/33486 [==============================] - 34s 1ms/step - loss: 0.1447 - binary_accuracy: 0.9435 - recall_4: 0.9190 - precision_2: 0.9663 - val_loss: 0.2376 - val_binary_accuracy: 0.9080 - val_recall_4: 0.2721 - val_precision_2: 0.0494\n",
      "Epoch 2/10\n",
      "33486/33486 [==============================] - 34s 1ms/step - loss: 0.1092 - binary_accuracy: 0.9603 - recall_4: 0.9389 - precision_2: 0.9809 - val_loss: 0.2140 - val_binary_accuracy: 0.9208 - val_recall_4: 0.2565 - val_precision_2: 0.0552\n",
      "Epoch 3/10\n",
      "33486/33486 [==============================] - 34s 1ms/step - loss: 0.1020 - binary_accuracy: 0.9637 - recall_4: 0.9428 - precision_2: 0.9839 - val_loss: 0.2881 - val_binary_accuracy: 0.8789 - val_recall_4: 0.3484 - val_precision_2: 0.0461\n",
      "Epoch 4/10\n",
      "33486/33486 [==============================] - 34s 1ms/step - loss: 0.0982 - binary_accuracy: 0.9653 - recall_4: 0.9453 - precision_2: 0.9848 - val_loss: 0.2709 - val_binary_accuracy: 0.8859 - val_recall_4: 0.3239 - val_precision_2: 0.0459\n",
      "Epoch 5/10\n",
      "33486/33486 [==============================] - 33s 1000us/step - loss: 0.0967 - binary_accuracy: 0.9661 - recall_4: 0.9465 - precision_2: 0.9851 - val_loss: 0.2824 - val_binary_accuracy: 0.8852 - val_recall_4: 0.3450 - val_precision_2: 0.0483\n",
      "Epoch 6/10\n",
      "33486/33486 [==============================] - 34s 1ms/step - loss: 0.0949 - binary_accuracy: 0.9670 - recall_4: 0.9477 - precision_2: 0.9858 - val_loss: 0.3126 - val_binary_accuracy: 0.8708 - val_recall_4: 0.3612 - val_precision_2: 0.0445\n",
      "Epoch 7/10\n",
      "33486/33486 [==============================] - 34s 1ms/step - loss: 0.0933 - binary_accuracy: 0.9677 - recall_4: 0.9489 - precision_2: 0.9860 - val_loss: 0.3086 - val_binary_accuracy: 0.8699 - val_recall_4: 0.3756 - val_precision_2: 0.0458\n",
      "Epoch 8/10\n",
      "33486/33486 [==============================] - 34s 1ms/step - loss: 0.0923 - binary_accuracy: 0.9679 - recall_4: 0.9495 - precision_2: 0.9859 - val_loss: 0.3340 - val_binary_accuracy: 0.8576 - val_recall_4: 0.4051 - val_precision_2: 0.0448\n",
      "Epoch 9/10\n",
      "33486/33486 [==============================] - 34s 1ms/step - loss: 0.0917 - binary_accuracy: 0.9684 - recall_4: 0.9500 - precision_2: 0.9863 - val_loss: 0.3325 - val_binary_accuracy: 0.8578 - val_recall_4: 0.4046 - val_precision_2: 0.0448\n",
      "Epoch 10/10\n",
      "33486/33486 [==============================] - 34s 1ms/step - loss: 0.0911 - binary_accuracy: 0.9687 - recall_4: 0.9506 - precision_2: 0.9864 - val_loss: 0.3581 - val_binary_accuracy: 0.8478 - val_recall_4: 0.4185 - val_precision_2: 0.0431\n"
     ]
    }
   ],
   "source": [
    "np.random.seed(33)\n",
    "tf.random.set_seed(33)\n",
    "\n",
    "history = model_5.fit(x_train_scaled, y_train_resampled, \n",
    "                    validation_data=(x_val_scaled, y_val),\n",
    "                    epochs=10,\n",
    "                    batch_size=32)"
   ]
  },
  {
   "cell_type": "code",
   "execution_count": 43,
   "metadata": {},
   "outputs": [
    {
     "name": "stdout",
     "output_type": "stream",
     "text": [
      "3644/3644 [==============================] - 2s 579us/step\n",
      "Best Threshold: 0.8585858585858587\n",
      "Accuracy: 0.9559449075503413\n",
      "Precision: 0.06167979002624672\n",
      "Recall: 0.13077351140790205\n",
      "F1-Score: 0.08382379168896023\n",
      "AUC: 0.7187855164966581\n",
      "Confusion Matrix:\n",
      "[[111232   3575]\n",
      " [  1562    235]]\n"
     ]
    },
    {
     "data": {
      "image/png": "[encoded data removed]",
      "text/plain": [
       "<Figure size 640x480 with 2 Axes>"
      ]
     },
     "metadata": {},
     "output_type": "display_data"
    }
   ],
   "source": [
    "m5_test_results = test_metrics(model_5, x_test_scaled, y_test)"
   ]
  },
  {
   "cell_type": "markdown",
   "metadata": {},
   "source": [
    "## Model 6\n",
    "Adding an additional layer to model 3 arcitechture"
   ]
  },
  {
   "cell_type": "code",
   "execution_count": 44,
   "metadata": {},
   "outputs": [],
   "source": [
    "np.random.seed(33)\n",
    "tf.random.set_seed(33)\n",
    "\n",
    "model_6 = Sequential([\n",
    "    tf.keras.layers.Dense(64, activation='relu', input_shape=(x_train_scaled.shape[1],)),\n",
    "    tf.keras.layers.Dense(32, activation='relu'),\n",
    "    tf.keras.layers.Dense(32, activation='relu'),\n",
    "    tf.keras.layers.Dense(1, activation='sigmoid')\n",
    "])"
   ]
  },
  {
   "cell_type": "code",
   "execution_count": 45,
   "metadata": {},
   "outputs": [],
   "source": [
    "model_6.compile(\n",
    "    optimizer = 'adam',\n",
    "    loss='binary_crossentropy',\n",
    "    metrics=[tf.keras.metrics.BinaryAccuracy(), tf.keras.metrics.Recall(), tf.keras.metrics.Precision()]\n",
    ")"
   ]
  },
  {
   "cell_type": "code",
   "execution_count": 46,
   "metadata": {},
   "outputs": [
    {
     "name": "stdout",
     "output_type": "stream",
     "text": [
      "Epoch 1/10\n",
      "33486/33486 [==============================] - 32s 938us/step - loss: 0.1075 - binary_accuracy: 0.9606 - recall_5: 0.9399 - precision_3: 0.9806 - val_loss: 0.8717 - val_binary_accuracy: 0.6689 - val_recall_5: 0.5882 - val_precision_3: 0.0272\n",
      "Epoch 2/10\n",
      "33486/33486 [==============================] - 31s 921us/step - loss: 0.0787 - binary_accuracy: 0.9733 - recall_5: 0.9566 - precision_3: 0.9896 - val_loss: 1.0116 - val_binary_accuracy: 0.6675 - val_recall_5: 0.5965 - val_precision_3: 0.0274\n",
      "Epoch 3/10\n",
      "33486/33486 [==============================] - 31s 928us/step - loss: 0.0721 - binary_accuracy: 0.9760 - recall_5: 0.9609 - precision_3: 0.9908 - val_loss: 1.0954 - val_binary_accuracy: 0.6590 - val_recall_5: 0.6199 - val_precision_3: 0.0277\n",
      "Epoch 4/10\n",
      "33486/33486 [==============================] - 30s 910us/step - loss: 0.0684 - binary_accuracy: 0.9775 - recall_5: 0.9633 - precision_3: 0.9915 - val_loss: 1.7198 - val_binary_accuracy: 0.5329 - val_recall_5: 0.7145 - val_precision_3: 0.0232\n",
      "Epoch 5/10\n",
      "33486/33486 [==============================] - 31s 935us/step - loss: 0.0654 - binary_accuracy: 0.9788 - recall_5: 0.9652 - precision_3: 0.9920 - val_loss: 1.2630 - val_binary_accuracy: 0.6272 - val_recall_5: 0.6533 - val_precision_3: 0.0267\n",
      "Epoch 6/10\n",
      "33486/33486 [==============================] - 31s 915us/step - loss: 0.0635 - binary_accuracy: 0.9795 - recall_5: 0.9665 - precision_3: 0.9922 - val_loss: 1.7750 - val_binary_accuracy: 0.5532 - val_recall_5: 0.7184 - val_precision_3: 0.0244\n",
      "Epoch 7/10\n",
      "33486/33486 [==============================] - 31s 926us/step - loss: 0.0615 - binary_accuracy: 0.9804 - recall_5: 0.9678 - precision_3: 0.9928 - val_loss: 1.8003 - val_binary_accuracy: 0.5206 - val_recall_5: 0.7373 - val_precision_3: 0.0233\n",
      "Epoch 8/10\n",
      "33486/33486 [==============================] - 31s 919us/step - loss: 0.0605 - binary_accuracy: 0.9808 - recall_5: 0.9685 - precision_3: 0.9928 - val_loss: 1.8146 - val_binary_accuracy: 0.5427 - val_recall_5: 0.7034 - val_precision_3: 0.0234\n",
      "Epoch 9/10\n",
      "33486/33486 [==============================] - 31s 924us/step - loss: 0.0590 - binary_accuracy: 0.9814 - recall_5: 0.9695 - precision_3: 0.9931 - val_loss: 2.3585 - val_binary_accuracy: 0.5075 - val_recall_5: 0.7373 - val_precision_3: 0.0227\n",
      "Epoch 10/10\n",
      "33486/33486 [==============================] - 31s 922us/step - loss: 0.0579 - binary_accuracy: 0.9819 - recall_5: 0.9703 - precision_3: 0.9934 - val_loss: 1.6554 - val_binary_accuracy: 0.5600 - val_recall_5: 0.6995 - val_precision_3: 0.0242\n"
     ]
    }
   ],
   "source": [
    "np.random.seed(33)\n",
    "tf.random.set_seed(33)\n",
    "\n",
    "history = model_6.fit(x_train_scaled, y_train_resampled, \n",
    "                    validation_data=(x_val_scaled, y_val),\n",
    "                    epochs=10,\n",
    "                    batch_size=32)"
   ]
  },
  {
   "cell_type": "code",
   "execution_count": 47,
   "metadata": {},
   "outputs": [
    {
     "name": "stdout",
     "output_type": "stream",
     "text": [
      "3644/3644 [==============================] - 2s 513us/step\n",
      "Best Threshold: 0.98989898989899\n",
      "Accuracy: 0.8600905629309458\n",
      "Precision: 0.033005211349160395\n",
      "Recall: 0.2854757929883139\n",
      "F1-Score: 0.05916955017301038\n",
      "AUC: 0.6771529232488646\n",
      "Confusion Matrix:\n",
      "[[99777 15030]\n",
      " [ 1284   513]]\n"
     ]
    },
    {
     "data": {
      "image/png": "[encoded data removed]",
      "text/plain": [
       "<Figure size 640x480 with 2 Axes>"
      ]
     },
     "metadata": {},
     "output_type": "display_data"
    }
   ],
   "source": [
    "m6_test_results = test_metrics(model_6, x_test_scaled, y_test)"
   ]
  },
  {
   "cell_type": "markdown",
   "metadata": {},
   "source": [
    "## Model 7\n",
    "Attempt leakly Relu activation"
   ]
  },
  {
   "cell_type": "code",
   "execution_count": 48,
   "metadata": {},
   "outputs": [],
   "source": [
    "np.random.seed(33)\n",
    "tf.random.set_seed(33)\n",
    "\n",
    "model_7 = Sequential([\n",
    "    tf.keras.layers.Dense(64, input_shape=(x_train_scaled.shape[1],)),\n",
    "    tf.keras.layers.LeakyReLU(alpha=0.1),\n",
    "    tf.keras.layers.Dense(32),\n",
    "    tf.keras.layers.LeakyReLU(alpha=0.1),\n",
    "    tf.keras.layers.Dense(1, activation='sigmoid')\n",
    "])"
   ]
  },
  {
   "cell_type": "code",
   "execution_count": 49,
   "metadata": {},
   "outputs": [],
   "source": [
    "model_7.compile(\n",
    "    optimizer = 'adam',\n",
    "    loss='binary_crossentropy',\n",
    "    metrics=[tf.keras.metrics.BinaryAccuracy(), tf.keras.metrics.Recall(), tf.keras.metrics.Precision()]\n",
    ")"
   ]
  },
  {
   "cell_type": "code",
   "execution_count": 50,
   "metadata": {},
   "outputs": [
    {
     "name": "stdout",
     "output_type": "stream",
     "text": [
      "Epoch 1/10\n",
      "33486/33486 [==============================] - 30s 894us/step - loss: 0.1122 - binary_accuracy: 0.9583 - recall_6: 0.9377 - precision_4: 0.9780 - val_loss: 0.6010 - val_binary_accuracy: 0.7491 - val_recall_6: 0.5403 - val_precision_4: 0.0330\n",
      "Epoch 2/10\n",
      "33486/33486 [==============================] - 30s 907us/step - loss: 0.0797 - binary_accuracy: 0.9729 - recall_6: 0.9564 - precision_4: 0.9889 - val_loss: 0.6245 - val_binary_accuracy: 0.7441 - val_recall_6: 0.5275 - val_precision_4: 0.0317\n",
      "Epoch 3/10\n",
      "33486/33486 [==============================] - 30s 894us/step - loss: 0.0732 - binary_accuracy: 0.9757 - recall_6: 0.9605 - precision_4: 0.9906 - val_loss: 1.2800 - val_binary_accuracy: 0.5759 - val_recall_6: 0.7040 - val_precision_4: 0.0252\n",
      "Epoch 4/10\n",
      "33486/33486 [==============================] - 30s 905us/step - loss: 0.0694 - binary_accuracy: 0.9771 - recall_6: 0.9628 - precision_4: 0.9912 - val_loss: 1.1019 - val_binary_accuracy: 0.5999 - val_recall_6: 0.6806 - val_precision_4: 0.0259\n",
      "Epoch 5/10\n",
      "33486/33486 [==============================] - 30s 888us/step - loss: 0.0666 - binary_accuracy: 0.9784 - recall_6: 0.9646 - precision_4: 0.9920 - val_loss: 0.8698 - val_binary_accuracy: 0.6669 - val_recall_6: 0.6416 - val_precision_4: 0.0293\n",
      "Epoch 6/10\n",
      "33486/33486 [==============================] - 30s 901us/step - loss: 0.0645 - binary_accuracy: 0.9793 - recall_6: 0.9661 - precision_4: 0.9922 - val_loss: 0.8898 - val_binary_accuracy: 0.6682 - val_recall_6: 0.6055 - val_precision_4: 0.0278\n",
      "Epoch 7/10\n",
      "33486/33486 [==============================] - 30s 897us/step - loss: 0.0629 - binary_accuracy: 0.9798 - recall_6: 0.9670 - precision_4: 0.9925 - val_loss: 1.4771 - val_binary_accuracy: 0.5352 - val_recall_6: 0.7123 - val_precision_4: 0.0233\n",
      "Epoch 8/10\n",
      "33486/33486 [==============================] - 31s 911us/step - loss: 0.0616 - binary_accuracy: 0.9803 - recall_6: 0.9677 - precision_4: 0.9927 - val_loss: 1.1311 - val_binary_accuracy: 0.6069 - val_recall_6: 0.6650 - val_precision_4: 0.0257\n",
      "Epoch 9/10\n",
      "33486/33486 [==============================] - 39s 1ms/step - loss: 0.0605 - binary_accuracy: 0.9808 - recall_6: 0.9686 - precision_4: 0.9928 - val_loss: 1.8000 - val_binary_accuracy: 0.4963 - val_recall_6: 0.7618 - val_precision_4: 0.0229\n",
      "Epoch 10/10\n",
      "33486/33486 [==============================] - 34s 1ms/step - loss: 0.0595 - binary_accuracy: 0.9812 - recall_6: 0.9692 - precision_4: 0.9931 - val_loss: 1.6781 - val_binary_accuracy: 0.4778 - val_recall_6: 0.8047 - val_precision_4: 0.0233\n"
     ]
    }
   ],
   "source": [
    "np.random.seed(33)\n",
    "tf.random.set_seed(33)\n",
    "\n",
    "history = model_7.fit(x_train_scaled, y_train_resampled, \n",
    "                    validation_data=(x_val_scaled, y_val),\n",
    "                    epochs=10,\n",
    "                    batch_size=32)"
   ]
  },
  {
   "cell_type": "code",
   "execution_count": 51,
   "metadata": {},
   "outputs": [
    {
     "name": "stdout",
     "output_type": "stream",
     "text": [
      "3644/3644 [==============================] - 2s 586us/step\n",
      "Best Threshold: 0.98989898989899\n",
      "Accuracy: 0.8798754759699495\n",
      "Precision: 0.041391225961538464\n",
      "Recall: 0.30662214802448523\n",
      "F1-Score: 0.07293666026871401\n",
      "AUC: 0.703420005951388\n",
      "Confusion Matrix:\n",
      "[[102046  12761]\n",
      " [  1246    551]]\n"
     ]
    },
    {
     "data": {
      "image/png": "[encoded data removed]",
      "text/plain": [
       "<Figure size 640x480 with 2 Axes>"
      ]
     },
     "metadata": {},
     "output_type": "display_data"
    }
   ],
   "source": [
    "m7_test_results  = test_metrics(model_7, x_test_scaled, y_test)"
   ]
  },
  {
   "cell_type": "markdown",
   "metadata": {},
   "source": [
    "## Model 8\n",
    "Testing basic model architecture with biasas in fully connected layers"
   ]
  },
  {
   "cell_type": "code",
   "execution_count": 52,
   "metadata": {},
   "outputs": [],
   "source": [
    "np.random.seed(33)\n",
    "tf.random.set_seed(33)\n",
    "\n",
    "model_8 = Sequential([\n",
    "    tf.keras.layers.Dense(64, activation='relu', input_shape=(x_train_scaled.shape[1],), use_bias=True),\n",
    "    tf.keras.layers.Dense(32, activation='relu',  use_bias=True),\n",
    "    tf.keras.layers.Dense(32, activation='relu',  use_bias=True),\n",
    "    tf.keras.layers.Dense(1, activation='sigmoid',  use_bias=True)\n",
    "])"
   ]
  },
  {
   "cell_type": "code",
   "execution_count": 53,
   "metadata": {},
   "outputs": [],
   "source": [
    "model_8.compile(\n",
    "    optimizer = 'adam',\n",
    "    loss='binary_crossentropy',\n",
    "    metrics=[tf.keras.metrics.BinaryAccuracy(), tf.keras.metrics.Recall(), tf.keras.metrics.Precision()]\n",
    ")"
   ]
  },
  {
   "cell_type": "code",
   "execution_count": 54,
   "metadata": {},
   "outputs": [
    {
     "name": "stdout",
     "output_type": "stream",
     "text": [
      "Epoch 1/10\n",
      "33486/33486 [==============================] - 34s 1ms/step - loss: 0.1094 - binary_accuracy: 0.9598 - recall_7: 0.9389 - precision_5: 0.9797 - val_loss: 0.7522 - val_binary_accuracy: 0.7306 - val_recall_7: 0.5298 - val_precision_5: 0.0302\n",
      "Epoch 2/10\n",
      "33486/33486 [==============================] - 34s 1ms/step - loss: 0.0799 - binary_accuracy: 0.9727 - recall_7: 0.9559 - precision_5: 0.9892 - val_loss: 0.9415 - val_binary_accuracy: 0.6909 - val_recall_7: 0.5637 - val_precision_5: 0.0279\n",
      "Epoch 3/10\n",
      "33486/33486 [==============================] - 34s 1ms/step - loss: 0.0730 - binary_accuracy: 0.9755 - recall_7: 0.9606 - precision_5: 0.9902 - val_loss: 1.3420 - val_binary_accuracy: 0.5937 - val_recall_7: 0.6494 - val_precision_5: 0.0244\n",
      "Epoch 4/10\n",
      "33486/33486 [==============================] - 34s 1ms/step - loss: 0.0686 - binary_accuracy: 0.9775 - recall_7: 0.9635 - precision_5: 0.9912 - val_loss: 1.1633 - val_binary_accuracy: 0.6169 - val_recall_7: 0.6160 - val_precision_5: 0.0246\n",
      "Epoch 5/10\n",
      "33486/33486 [==============================] - 35s 1ms/step - loss: 0.0654 - binary_accuracy: 0.9789 - recall_7: 0.9654 - precision_5: 0.9921 - val_loss: 0.9846 - val_binary_accuracy: 0.6826 - val_recall_7: 0.5904 - val_precision_5: 0.0284\n",
      "Epoch 6/10\n",
      "33486/33486 [==============================] - 35s 1ms/step - loss: 0.0633 - binary_accuracy: 0.9796 - recall_7: 0.9670 - precision_5: 0.9920 - val_loss: 1.2214 - val_binary_accuracy: 0.6471 - val_recall_7: 0.6372 - val_precision_5: 0.0275\n",
      "Epoch 7/10\n",
      "33486/33486 [==============================] - 35s 1ms/step - loss: 0.0614 - binary_accuracy: 0.9804 - recall_7: 0.9681 - precision_5: 0.9926 - val_loss: 2.0027 - val_binary_accuracy: 0.4992 - val_recall_7: 0.7501 - val_precision_5: 0.0227\n",
      "Epoch 8/10\n",
      "33486/33486 [==============================] - 34s 1ms/step - loss: 0.0599 - binary_accuracy: 0.9810 - recall_7: 0.9690 - precision_5: 0.9928 - val_loss: 1.1859 - val_binary_accuracy: 0.6273 - val_recall_7: 0.6427 - val_precision_5: 0.0263\n",
      "Epoch 9/10\n",
      "33486/33486 [==============================] - 35s 1ms/step - loss: 0.0587 - binary_accuracy: 0.9815 - recall_7: 0.9699 - precision_5: 0.9929 - val_loss: 2.5229 - val_binary_accuracy: 0.4558 - val_recall_7: 0.7930 - val_precision_5: 0.0221\n",
      "Epoch 10/10\n",
      "33486/33486 [==============================] - 35s 1ms/step - loss: 0.0576 - binary_accuracy: 0.9820 - recall_7: 0.9707 - precision_5: 0.9932 - val_loss: 1.8947 - val_binary_accuracy: 0.5236 - val_recall_7: 0.7401 - val_precision_5: 0.0236\n"
     ]
    }
   ],
   "source": [
    "np.random.seed(33)\n",
    "tf.random.set_seed(33)\n",
    "\n",
    "history = model_8.fit(x_train_scaled, y_train_resampled, \n",
    "                    validation_data=(x_val_scaled, y_val),\n",
    "                    epochs=10,\n",
    "                    batch_size=32)"
   ]
  },
  {
   "cell_type": "code",
   "execution_count": 55,
   "metadata": {},
   "outputs": [
    {
     "name": "stdout",
     "output_type": "stream",
     "text": [
      "3644/3644 [==============================] - 2s 594us/step\n",
      "Best Threshold: 0.98989898989899\n",
      "Accuracy: 0.8307862509004836\n",
      "Precision: 0.03130880200710851\n",
      "Recall: 0.3333333333333333\n",
      "F1-Score: 0.05724114864542023\n",
      "AUC: 0.6728968898513712\n",
      "Confusion Matrix:\n",
      "[[96274 18533]\n",
      " [ 1198   599]]\n"
     ]
    },
    {
     "data": {
      "image/png": "[encoded data removed]",
      "text/plain": [
       "<Figure size 640x480 with 2 Axes>"
      ]
     },
     "metadata": {},
     "output_type": "display_data"
    }
   ],
   "source": [
    "m8_test_results = test_metrics(model_8, x_test_scaled, y_test)"
   ]
  },
  {
   "cell_type": "markdown",
   "metadata": {},
   "source": [
    "## Model 9\n",
    "Using Model 5 architecture with bias"
   ]
  },
  {
   "cell_type": "code",
   "execution_count": 62,
   "metadata": {},
   "outputs": [],
   "source": [
    "np.random.seed(33)\n",
    "tf.random.set_seed(33)\n",
    "\n",
    "model_9 = Sequential([\n",
    "    tf.keras.layers.Dense(64, activation='relu', input_shape=(x_train_scaled.shape[1],),  use_bias=True),\n",
    "    tf.keras.layers.Dropout(0.2),\n",
    "    tf.keras.layers.Dense(32, activation='relu',  use_bias=True),\n",
    "    tf.keras.layers.Dropout(0.2),\n",
    "    tf.keras.layers.Dense(1, activation='sigmoid',  use_bias=True)\n",
    "])"
   ]
  },
  {
   "cell_type": "code",
   "execution_count": 63,
   "metadata": {},
   "outputs": [],
   "source": [
    "model_9.compile(\n",
    "    optimizer = 'adam',\n",
    "    loss='binary_crossentropy',\n",
    "    metrics=[tf.keras.metrics.BinaryAccuracy(), tf.keras.metrics.Recall(), tf.keras.metrics.Precision()]\n",
    ")"
   ]
  },
  {
   "cell_type": "code",
   "execution_count": 64,
   "metadata": {},
   "outputs": [
    {
     "name": "stdout",
     "output_type": "stream",
     "text": [
      "Epoch 1/10\n",
      "33486/33486 [==============================] - 39s 1ms/step - loss: 0.1468 - binary_accuracy: 0.9424 - recall_9: 0.9177 - precision_7: 0.9654 - val_loss: 0.2375 - val_binary_accuracy: 0.9072 - val_recall_9: 0.2922 - val_precision_7: 0.0521\n",
      "Epoch 2/10\n",
      "33486/33486 [==============================] - 34s 1ms/step - loss: 0.1098 - binary_accuracy: 0.9598 - recall_9: 0.9386 - precision_7: 0.9803 - val_loss: 0.2084 - val_binary_accuracy: 0.9215 - val_recall_9: 0.2554 - val_precision_7: 0.0555\n",
      "Epoch 3/10\n",
      "33486/33486 [==============================] - 34s 1ms/step - loss: 0.1042 - binary_accuracy: 0.9622 - recall_9: 0.9417 - precision_7: 0.9819 - val_loss: 0.2503 - val_binary_accuracy: 0.9016 - val_recall_9: 0.2972 - val_precision_7: 0.0497\n",
      "Epoch 4/10\n",
      "33486/33486 [==============================] - 35s 1ms/step - loss: 0.1003 - binary_accuracy: 0.9642 - recall_9: 0.9442 - precision_7: 0.9836 - val_loss: 0.2335 - val_binary_accuracy: 0.9157 - val_recall_9: 0.2621 - val_precision_7: 0.0525\n",
      "Epoch 5/10\n",
      "33486/33486 [==============================] - 35s 1ms/step - loss: 0.0981 - binary_accuracy: 0.9651 - recall_9: 0.9455 - precision_7: 0.9839 - val_loss: 0.2686 - val_binary_accuracy: 0.8935 - val_recall_9: 0.3333 - val_precision_7: 0.0507\n",
      "Epoch 6/10\n",
      "33486/33486 [==============================] - 35s 1ms/step - loss: 0.0966 - binary_accuracy: 0.9658 - recall_9: 0.9466 - precision_7: 0.9844 - val_loss: 0.2598 - val_binary_accuracy: 0.9008 - val_recall_9: 0.3178 - val_precision_7: 0.0523\n",
      "Epoch 7/10\n",
      "33486/33486 [==============================] - 34s 1ms/step - loss: 0.0946 - binary_accuracy: 0.9666 - recall_9: 0.9480 - precision_7: 0.9847 - val_loss: 0.3501 - val_binary_accuracy: 0.8603 - val_recall_9: 0.3901 - val_precision_7: 0.0441\n",
      "Epoch 8/10\n",
      "33486/33486 [==============================] - 34s 1ms/step - loss: 0.0937 - binary_accuracy: 0.9671 - recall_9: 0.9487 - precision_7: 0.9850 - val_loss: 0.3628 - val_binary_accuracy: 0.8465 - val_recall_9: 0.4057 - val_precision_7: 0.0415\n",
      "Epoch 9/10\n",
      "33486/33486 [==============================] - 34s 1ms/step - loss: 0.0930 - binary_accuracy: 0.9676 - recall_9: 0.9493 - precision_7: 0.9854 - val_loss: 0.3398 - val_binary_accuracy: 0.8582 - val_recall_9: 0.4007 - val_precision_7: 0.0445\n",
      "Epoch 10/10\n",
      "33486/33486 [==============================] - 34s 1ms/step - loss: 0.0918 - binary_accuracy: 0.9681 - recall_9: 0.9502 - precision_7: 0.9855 - val_loss: 0.3878 - val_binary_accuracy: 0.8403 - val_recall_9: 0.4341 - val_precision_7: 0.0424\n"
     ]
    }
   ],
   "source": [
    "np.random.seed(33)\n",
    "tf.random.set_seed(33)\n",
    "\n",
    "history = model_9.fit(x_train_scaled, y_train_resampled, \n",
    "                    validation_data=(x_val_scaled, y_val),\n",
    "                    epochs=10,\n",
    "                    batch_size=32)"
   ]
  },
  {
   "cell_type": "code",
   "execution_count": 66,
   "metadata": {},
   "outputs": [
    {
     "name": "stdout",
     "output_type": "stream",
     "text": [
      "3644/3644 [==============================] - 2s 564us/step\n",
      "Best Threshold: 0.8080808080808082\n",
      "Accuracy: 0.9355339439470344\n",
      "Precision: 0.056451612903225805\n",
      "Recall: 0.2025598219254313\n",
      "F1-Score: 0.08829593693147363\n",
      "AUC: 0.722793661030763\n",
      "Confusion Matrix:\n",
      "[[108723   6084]\n",
      " [  1433    364]]\n"
     ]
    },
    {
     "data": {
      "image/png": "[encoded data removed]",
      "text/plain": [
       "<Figure size 640x480 with 2 Axes>"
      ]
     },
     "metadata": {},
     "output_type": "display_data"
    }
   ],
   "source": [
    "m9_test_results = test_metrics(model_9, x_test_scaled, y_test)"
   ]
  },
  {
   "cell_type": "markdown",
   "metadata": {},
   "source": [
    "## Model 10\n",
    "Same structure as 9 but with leaky relu instead"
   ]
  },
  {
   "cell_type": "code",
   "execution_count": 84,
   "metadata": {},
   "outputs": [],
   "source": [
    "np.random.seed(33)\n",
    "tf.random.set_seed(33)\n",
    "\n",
    "model_10 = Sequential([\n",
    "    tf.keras.layers.Dense(64, input_shape=(x_train_scaled.shape[1],),  use_bias=True),\n",
    "    tf.keras.layers.LeakyReLU(alpha=0.1),\n",
    "    tf.keras.layers.Dropout(0.2),\n",
    "    tf.keras.layers.Dense(32,  use_bias=True),\n",
    "    tf.keras.layers.LeakyReLU(alpha=0.1),\n",
    "    tf.keras.layers.Dropout(0.2),\n",
    "    tf.keras.layers.Dense(1, activation='sigmoid',  use_bias=True)\n",
    "])"
   ]
  },
  {
   "cell_type": "code",
   "execution_count": 85,
   "metadata": {},
   "outputs": [],
   "source": [
    "model_10.compile(\n",
    "    optimizer = 'adam',\n",
    "    loss='binary_crossentropy',\n",
    "    metrics=[tf.keras.metrics.BinaryAccuracy(), tf.keras.metrics.Recall(), tf.keras.metrics.Precision()]\n",
    ")"
   ]
  },
  {
   "cell_type": "code",
   "execution_count": 86,
   "metadata": {},
   "outputs": [
    {
     "name": "stdout",
     "output_type": "stream",
     "text": [
      "Epoch 1/10\n",
      "33486/33486 [==============================] - 39s 1ms/step - loss: 0.1559 - binary_accuracy: 0.9380 - recall_12: 0.9105 - precision_9: 0.9635 - val_loss: 0.1942 - val_binary_accuracy: 0.9324 - val_recall_12: 0.2254 - val_precision_9: 0.0588\n",
      "Epoch 2/10\n",
      "33486/33486 [==============================] - 37s 1ms/step - loss: 0.1259 - binary_accuracy: 0.9519 - recall_12: 0.9282 - precision_9: 0.9744 - val_loss: 0.1860 - val_binary_accuracy: 0.9318 - val_recall_12: 0.2426 - val_precision_9: 0.0620\n",
      "Epoch 3/10\n",
      "33486/33486 [==============================] - 38s 1ms/step - loss: 0.1201 - binary_accuracy: 0.9548 - recall_12: 0.9328 - precision_9: 0.9758 - val_loss: 0.2459 - val_binary_accuracy: 0.9005 - val_recall_12: 0.3244 - val_precision_9: 0.0531\n",
      "Epoch 4/10\n",
      "33486/33486 [==============================] - 37s 1ms/step - loss: 0.1176 - binary_accuracy: 0.9559 - recall_12: 0.9343 - precision_9: 0.9765 - val_loss: 0.2587 - val_binary_accuracy: 0.8951 - val_recall_12: 0.3200 - val_precision_9: 0.0496\n",
      "Epoch 5/10\n",
      "33486/33486 [==============================] - 38s 1ms/step - loss: 0.1157 - binary_accuracy: 0.9573 - recall_12: 0.9361 - precision_9: 0.9775 - val_loss: 0.2152 - val_binary_accuracy: 0.9208 - val_recall_12: 0.2716 - val_precision_9: 0.0580\n",
      "Epoch 6/10\n",
      "33486/33486 [==============================] - 38s 1ms/step - loss: 0.1147 - binary_accuracy: 0.9578 - recall_12: 0.9370 - precision_9: 0.9778 - val_loss: 0.2460 - val_binary_accuracy: 0.9033 - val_recall_12: 0.3144 - val_precision_9: 0.0532\n",
      "Epoch 7/10\n",
      "33486/33486 [==============================] - 38s 1ms/step - loss: 0.1136 - binary_accuracy: 0.9582 - recall_12: 0.9377 - precision_9: 0.9778 - val_loss: 0.2910 - val_binary_accuracy: 0.8773 - val_recall_12: 0.3595 - val_precision_9: 0.0468\n",
      "Epoch 8/10\n",
      "33486/33486 [==============================] - 38s 1ms/step - loss: 0.1127 - binary_accuracy: 0.9585 - recall_12: 0.9385 - precision_9: 0.9777 - val_loss: 0.3178 - val_binary_accuracy: 0.8611 - val_recall_12: 0.4112 - val_precision_9: 0.0465\n",
      "Epoch 9/10\n",
      "33486/33486 [==============================] - 37s 1ms/step - loss: 0.1121 - binary_accuracy: 0.9588 - recall_12: 0.9389 - precision_9: 0.9777 - val_loss: 0.2858 - val_binary_accuracy: 0.8730 - val_recall_12: 0.3767 - val_precision_9: 0.0471\n",
      "Epoch 10/10\n",
      "33486/33486 [==============================] - 38s 1ms/step - loss: 0.1115 - binary_accuracy: 0.9591 - recall_12: 0.9395 - precision_9: 0.9779 - val_loss: 0.3097 - val_binary_accuracy: 0.8635 - val_recall_12: 0.4035 - val_precision_9: 0.0466\n"
     ]
    }
   ],
   "source": [
    "np.random.seed(33)\n",
    "tf.random.set_seed(33)\n",
    "\n",
    "history = model_10.fit(x_train_scaled, y_train_resampled, \n",
    "                    validation_data=(x_val_scaled, y_val),\n",
    "                    epochs=10,\n",
    "                    batch_size=32)"
   ]
  },
  {
   "cell_type": "code",
   "execution_count": 87,
   "metadata": {},
   "outputs": [
    {
     "name": "stdout",
     "output_type": "stream",
     "text": [
      "3644/3644 [==============================] - 2s 555us/step\n",
      "Best Threshold: 0.7676767676767677\n",
      "Accuracy: 0.961202017083462\n",
      "Precision: 0.07773304428615671\n",
      "Recall: 0.13967723984418476\n",
      "F1-Score: 0.09988062077198567\n",
      "AUC: 0.7350237602552829\n",
      "Confusion Matrix:\n",
      "[[111829   2978]\n",
      " [  1546    251]]\n"
     ]
    },
    {
     "data": {
      "image/png": "[encoded data removed]",
      "text/plain": [
       "<Figure size 640x480 with 2 Axes>"
      ]
     },
     "metadata": {},
     "output_type": "display_data"
    }
   ],
   "source": [
    "m10_test_results = test_metrics(model_10, x_test_scaled, y_test)"
   ]
  },
  {
   "cell_type": "markdown",
   "metadata": {},
   "source": [
    "## Model 11\n"
   ]
  },
  {
   "cell_type": "markdown",
   "metadata": {},
   "source": [
    "## Results ordering"
   ]
  },
  {
   "cell_type": "code",
   "execution_count": 88,
   "metadata": {},
   "outputs": [],
   "source": [
    "all_results = {\n",
    "    'model_1': m1_test_results,\n",
    "    'model_2': m2_test_results,\n",
    "    'model_3': m3_test_results,\n",
    "    'model_4': m4_test_results,\n",
    "    'model_5': m5_test_results,\n",
    "    'model_6': m6_test_results,\n",
    "    'model_7': m7_test_results,\n",
    "    'model_8': m8_test_results,\n",
    "    'model_9': m9_test_results,\n",
    "    'model_10': m10_test_results,\n",
    "}"
   ]
  },
  {
   "cell_type": "code",
   "execution_count": 89,
   "metadata": {},
   "outputs": [
    {
     "data": {
      "text/html": [
       "<div>\n",
       "<style scoped>\n",
       "    .dataframe tbody tr th:only-of-type {\n",
       "        vertical-align: middle;\n",
       "    }\n",
       "\n",
       "    .dataframe tbody tr th {\n",
       "        vertical-align: top;\n",
       "    }\n",
       "\n",
       "    .dataframe thead th {\n",
       "        text-align: right;\n",
       "    }\n",
       "</style>\n",
       "<table border=\"1\" class=\"dataframe\">\n",
       "  <thead>\n",
       "    <tr style=\"text-align: right;\">\n",
       "      <th></th>\n",
       "      <th>Best Threshold</th>\n",
       "      <th>Accuracy</th>\n",
       "      <th>Precision</th>\n",
       "      <th>Recall</th>\n",
       "      <th>F1-Score</th>\n",
       "      <th>AUC</th>\n",
       "      <th>Confusion Matrix</th>\n",
       "    </tr>\n",
       "  </thead>\n",
       "  <tbody>\n",
       "    <tr>\n",
       "      <th>model_1</th>\n",
       "      <td>0.070707</td>\n",
       "      <td>0.953569</td>\n",
       "      <td>0.094598</td>\n",
       "      <td>0.234836</td>\n",
       "      <td>0.134867</td>\n",
       "      <td>0.792098</td>\n",
       "      <td>[[110768, 4039], [1375, 422]]</td>\n",
       "    </tr>\n",
       "    <tr>\n",
       "      <th>model_2</th>\n",
       "      <td>0.989899</td>\n",
       "      <td>0.829628</td>\n",
       "      <td>0.032932</td>\n",
       "      <td>0.354480</td>\n",
       "      <td>0.060265</td>\n",
       "      <td>0.678811</td>\n",
       "      <td>[[96101, 18706], [1160, 637]]</td>\n",
       "    </tr>\n",
       "    <tr>\n",
       "      <th>model_3</th>\n",
       "      <td>0.989899</td>\n",
       "      <td>0.832356</td>\n",
       "      <td>0.035873</td>\n",
       "      <td>0.381747</td>\n",
       "      <td>0.065583</td>\n",
       "      <td>0.689203</td>\n",
       "      <td>[[96370, 18437], [1111, 686]]</td>\n",
       "    </tr>\n",
       "    <tr>\n",
       "      <th>model_4</th>\n",
       "      <td>0.000000</td>\n",
       "      <td>0.015411</td>\n",
       "      <td>0.015411</td>\n",
       "      <td>1.000000</td>\n",
       "      <td>0.030354</td>\n",
       "      <td>0.500000</td>\n",
       "      <td>[[0, 114807], [0, 1797]]</td>\n",
       "    </tr>\n",
       "    <tr>\n",
       "      <th>model_5</th>\n",
       "      <td>0.858586</td>\n",
       "      <td>0.955945</td>\n",
       "      <td>0.061680</td>\n",
       "      <td>0.130774</td>\n",
       "      <td>0.083824</td>\n",
       "      <td>0.718786</td>\n",
       "      <td>[[111232, 3575], [1562, 235]]</td>\n",
       "    </tr>\n",
       "    <tr>\n",
       "      <th>model_6</th>\n",
       "      <td>0.989899</td>\n",
       "      <td>0.860091</td>\n",
       "      <td>0.033005</td>\n",
       "      <td>0.285476</td>\n",
       "      <td>0.059170</td>\n",
       "      <td>0.677153</td>\n",
       "      <td>[[99777, 15030], [1284, 513]]</td>\n",
       "    </tr>\n",
       "    <tr>\n",
       "      <th>model_7</th>\n",
       "      <td>0.989899</td>\n",
       "      <td>0.879875</td>\n",
       "      <td>0.041391</td>\n",
       "      <td>0.306622</td>\n",
       "      <td>0.072937</td>\n",
       "      <td>0.703420</td>\n",
       "      <td>[[102046, 12761], [1246, 551]]</td>\n",
       "    </tr>\n",
       "    <tr>\n",
       "      <th>model_8</th>\n",
       "      <td>0.989899</td>\n",
       "      <td>0.830786</td>\n",
       "      <td>0.031309</td>\n",
       "      <td>0.333333</td>\n",
       "      <td>0.057241</td>\n",
       "      <td>0.672897</td>\n",
       "      <td>[[96274, 18533], [1198, 599]]</td>\n",
       "    </tr>\n",
       "    <tr>\n",
       "      <th>model_9</th>\n",
       "      <td>0.808081</td>\n",
       "      <td>0.935534</td>\n",
       "      <td>0.056452</td>\n",
       "      <td>0.202560</td>\n",
       "      <td>0.088296</td>\n",
       "      <td>0.722794</td>\n",
       "      <td>[[108723, 6084], [1433, 364]]</td>\n",
       "    </tr>\n",
       "    <tr>\n",
       "      <th>model_10</th>\n",
       "      <td>0.767677</td>\n",
       "      <td>0.961202</td>\n",
       "      <td>0.077733</td>\n",
       "      <td>0.139677</td>\n",
       "      <td>0.099881</td>\n",
       "      <td>0.735024</td>\n",
       "      <td>[[111829, 2978], [1546, 251]]</td>\n",
       "    </tr>\n",
       "  </tbody>\n",
       "</table>\n",
       "</div>"
      ],
      "text/plain": [
       "          Best Threshold  Accuracy  Precision    Recall  F1-Score       AUC  \\\n",
       "model_1         0.070707  0.953569   0.094598  0.234836  0.134867  0.792098   \n",
       "model_2         0.989899  0.829628   0.032932  0.354480  0.060265  0.678811   \n",
       "model_3         0.989899  0.832356   0.035873  0.381747  0.065583  0.689203   \n",
       "model_4         0.000000  0.015411   0.015411  1.000000  0.030354  0.500000   \n",
       "model_5         0.858586  0.955945   0.061680  0.130774  0.083824  0.718786   \n",
       "model_6         0.989899  0.860091   0.033005  0.285476  0.059170  0.677153   \n",
       "model_7         0.989899  0.879875   0.041391  0.306622  0.072937  0.703420   \n",
       "model_8         0.989899  0.830786   0.031309  0.333333  0.057241  0.672897   \n",
       "model_9         0.808081  0.935534   0.056452  0.202560  0.088296  0.722794   \n",
       "model_10        0.767677  0.961202   0.077733  0.139677  0.099881  0.735024   \n",
       "\n",
       "                        Confusion Matrix  \n",
       "model_1    [[110768, 4039], [1375, 422]]  \n",
       "model_2    [[96101, 18706], [1160, 637]]  \n",
       "model_3    [[96370, 18437], [1111, 686]]  \n",
       "model_4         [[0, 114807], [0, 1797]]  \n",
       "model_5    [[111232, 3575], [1562, 235]]  \n",
       "model_6    [[99777, 15030], [1284, 513]]  \n",
       "model_7   [[102046, 12761], [1246, 551]]  \n",
       "model_8    [[96274, 18533], [1198, 599]]  \n",
       "model_9    [[108723, 6084], [1433, 364]]  \n",
       "model_10   [[111829, 2978], [1546, 251]]  "
      ]
     },
     "execution_count": 89,
     "metadata": {},
     "output_type": "execute_result"
    }
   ],
   "source": [
    "results_df = pd.DataFrame.from_dict(all_results, orient='index')\n",
    "results_df"
   ]
  },
  {
   "cell_type": "code",
   "execution_count": 90,
   "metadata": {},
   "outputs": [
    {
     "data": {
      "text/html": [
       "<div>\n",
       "<style scoped>\n",
       "    .dataframe tbody tr th:only-of-type {\n",
       "        vertical-align: middle;\n",
       "    }\n",
       "\n",
       "    .dataframe tbody tr th {\n",
       "        vertical-align: top;\n",
       "    }\n",
       "\n",
       "    .dataframe thead th {\n",
       "        text-align: right;\n",
       "    }\n",
       "</style>\n",
       "<table border=\"1\" class=\"dataframe\">\n",
       "  <thead>\n",
       "    <tr style=\"text-align: right;\">\n",
       "      <th></th>\n",
       "      <th>Best Threshold</th>\n",
       "      <th>Accuracy</th>\n",
       "      <th>Precision</th>\n",
       "      <th>Recall</th>\n",
       "      <th>F1-Score</th>\n",
       "      <th>AUC</th>\n",
       "      <th>Confusion Matrix</th>\n",
       "    </tr>\n",
       "  </thead>\n",
       "  <tbody>\n",
       "    <tr>\n",
       "      <th>model_1</th>\n",
       "      <td>0.070707</td>\n",
       "      <td>0.953569</td>\n",
       "      <td>0.094598</td>\n",
       "      <td>0.234836</td>\n",
       "      <td>0.134867</td>\n",
       "      <td>0.792098</td>\n",
       "      <td>[[110768, 4039], [1375, 422]]</td>\n",
       "    </tr>\n",
       "    <tr>\n",
       "      <th>model_10</th>\n",
       "      <td>0.767677</td>\n",
       "      <td>0.961202</td>\n",
       "      <td>0.077733</td>\n",
       "      <td>0.139677</td>\n",
       "      <td>0.099881</td>\n",
       "      <td>0.735024</td>\n",
       "      <td>[[111829, 2978], [1546, 251]]</td>\n",
       "    </tr>\n",
       "    <tr>\n",
       "      <th>model_9</th>\n",
       "      <td>0.808081</td>\n",
       "      <td>0.935534</td>\n",
       "      <td>0.056452</td>\n",
       "      <td>0.202560</td>\n",
       "      <td>0.088296</td>\n",
       "      <td>0.722794</td>\n",
       "      <td>[[108723, 6084], [1433, 364]]</td>\n",
       "    </tr>\n",
       "    <tr>\n",
       "      <th>model_5</th>\n",
       "      <td>0.858586</td>\n",
       "      <td>0.955945</td>\n",
       "      <td>0.061680</td>\n",
       "      <td>0.130774</td>\n",
       "      <td>0.083824</td>\n",
       "      <td>0.718786</td>\n",
       "      <td>[[111232, 3575], [1562, 235]]</td>\n",
       "    </tr>\n",
       "    <tr>\n",
       "      <th>model_7</th>\n",
       "      <td>0.989899</td>\n",
       "      <td>0.879875</td>\n",
       "      <td>0.041391</td>\n",
       "      <td>0.306622</td>\n",
       "      <td>0.072937</td>\n",
       "      <td>0.703420</td>\n",
       "      <td>[[102046, 12761], [1246, 551]]</td>\n",
       "    </tr>\n",
       "    <tr>\n",
       "      <th>model_3</th>\n",
       "      <td>0.989899</td>\n",
       "      <td>0.832356</td>\n",
       "      <td>0.035873</td>\n",
       "      <td>0.381747</td>\n",
       "      <td>0.065583</td>\n",
       "      <td>0.689203</td>\n",
       "      <td>[[96370, 18437], [1111, 686]]</td>\n",
       "    </tr>\n",
       "    <tr>\n",
       "      <th>model_2</th>\n",
       "      <td>0.989899</td>\n",
       "      <td>0.829628</td>\n",
       "      <td>0.032932</td>\n",
       "      <td>0.354480</td>\n",
       "      <td>0.060265</td>\n",
       "      <td>0.678811</td>\n",
       "      <td>[[96101, 18706], [1160, 637]]</td>\n",
       "    </tr>\n",
       "    <tr>\n",
       "      <th>model_6</th>\n",
       "      <td>0.989899</td>\n",
       "      <td>0.860091</td>\n",
       "      <td>0.033005</td>\n",
       "      <td>0.285476</td>\n",
       "      <td>0.059170</td>\n",
       "      <td>0.677153</td>\n",
       "      <td>[[99777, 15030], [1284, 513]]</td>\n",
       "    </tr>\n",
       "    <tr>\n",
       "      <th>model_8</th>\n",
       "      <td>0.989899</td>\n",
       "      <td>0.830786</td>\n",
       "      <td>0.031309</td>\n",
       "      <td>0.333333</td>\n",
       "      <td>0.057241</td>\n",
       "      <td>0.672897</td>\n",
       "      <td>[[96274, 18533], [1198, 599]]</td>\n",
       "    </tr>\n",
       "    <tr>\n",
       "      <th>model_4</th>\n",
       "      <td>0.000000</td>\n",
       "      <td>0.015411</td>\n",
       "      <td>0.015411</td>\n",
       "      <td>1.000000</td>\n",
       "      <td>0.030354</td>\n",
       "      <td>0.500000</td>\n",
       "      <td>[[0, 114807], [0, 1797]]</td>\n",
       "    </tr>\n",
       "  </tbody>\n",
       "</table>\n",
       "</div>"
      ],
      "text/plain": [
       "          Best Threshold  Accuracy  Precision    Recall  F1-Score       AUC  \\\n",
       "model_1         0.070707  0.953569   0.094598  0.234836  0.134867  0.792098   \n",
       "model_10        0.767677  0.961202   0.077733  0.139677  0.099881  0.735024   \n",
       "model_9         0.808081  0.935534   0.056452  0.202560  0.088296  0.722794   \n",
       "model_5         0.858586  0.955945   0.061680  0.130774  0.083824  0.718786   \n",
       "model_7         0.989899  0.879875   0.041391  0.306622  0.072937  0.703420   \n",
       "model_3         0.989899  0.832356   0.035873  0.381747  0.065583  0.689203   \n",
       "model_2         0.989899  0.829628   0.032932  0.354480  0.060265  0.678811   \n",
       "model_6         0.989899  0.860091   0.033005  0.285476  0.059170  0.677153   \n",
       "model_8         0.989899  0.830786   0.031309  0.333333  0.057241  0.672897   \n",
       "model_4         0.000000  0.015411   0.015411  1.000000  0.030354  0.500000   \n",
       "\n",
       "                        Confusion Matrix  \n",
       "model_1    [[110768, 4039], [1375, 422]]  \n",
       "model_10   [[111829, 2978], [1546, 251]]  \n",
       "model_9    [[108723, 6084], [1433, 364]]  \n",
       "model_5    [[111232, 3575], [1562, 235]]  \n",
       "model_7   [[102046, 12761], [1246, 551]]  \n",
       "model_3    [[96370, 18437], [1111, 686]]  \n",
       "model_2    [[96101, 18706], [1160, 637]]  \n",
       "model_6    [[99777, 15030], [1284, 513]]  \n",
       "model_8    [[96274, 18533], [1198, 599]]  \n",
       "model_4         [[0, 114807], [0, 1797]]  "
      ]
     },
     "execution_count": 90,
     "metadata": {},
     "output_type": "execute_result"
    }
   ],
   "source": [
    "sorted_df = results_df.sort_values(by='F1-Score', ascending=False)\n",
    "sorted_df"
   ]
  },
  {
   "cell_type": "markdown",
   "metadata": {},
   "source": [
    "## RNN Model\n",
    "First attempt with a simple architecture."
   ]
  },
  {
   "cell_type": "code",
   "execution_count": 56,
   "metadata": {},
   "outputs": [],
   "source": [
    "\n",
    "embedding_dim = 32\n",
    "max_features = 500000\n",
    "\n",
    "model_r1 = tf.keras.Sequential([\n",
    "    tf.keras.layers.Embedding(max_features, embedding_dim),\n",
    "    tf.keras.layers.Dropout(0.2),\n",
    "    tf.keras.layers.GlobalAveragePooling1D(),\n",
    "    tf.keras.layers.Dropout(0.2),\n",
    "    tf.keras.layers.Dense(1, activation = 'sigmoid')\n",
    "])"
   ]
  },
  {
   "cell_type": "code",
   "execution_count": 57,
   "metadata": {},
   "outputs": [],
   "source": [
    "model_r1.compile(\n",
    "    optimizer = 'adam',\n",
    "    loss='binary_crossentropy',\n",
    "    metrics=[tf.keras.metrics.BinaryAccuracy(), tf.keras.metrics.Recall(), tf.keras.metrics.Precision()]\n",
    ")"
   ]
  },
  {
   "cell_type": "code",
   "execution_count": 58,
   "metadata": {},
   "outputs": [
    {
     "name": "stdout",
     "output_type": "stream",
     "text": [
      "Epoch 1/10\n"
     ]
    },
    {
     "ename": "InvalidArgumentError",
     "evalue": "Graph execution error:\n\nDetected at node 'sequential_8/embedding/embedding_lookup' defined at (most recent call last):\n    File \"c:\\Users\\brian\\AppData\\Local\\Programs\\Python\\Python39\\lib\\runpy.py\", line 197, in _run_module_as_main\n      return _run_code(code, main_globals, None,\n    File \"c:\\Users\\brian\\AppData\\Local\\Programs\\Python\\Python39\\lib\\runpy.py\", line 87, in _run_code\n      exec(code, run_globals)\n    File \"C:\\Users\\brian\\AppData\\Roaming\\Python\\Python39\\site-packages\\ipykernel_launcher.py\", line 17, in <module>\n      app.launch_new_instance()\n    File \"c:\\Users\\brian\\AppData\\Local\\Programs\\Python\\Python39\\lib\\site-packages\\traitlets\\config\\application.py\", line 1043, in launch_instance\n      app.start()\n    File \"C:\\Users\\brian\\AppData\\Roaming\\Python\\Python39\\site-packages\\ipykernel\\kernelapp.py\", line 737, in start\n      self.io_loop.start()\n    File \"c:\\Users\\brian\\AppData\\Local\\Programs\\Python\\Python39\\lib\\site-packages\\tornado\\platform\\asyncio.py\", line 215, in start\n      self.asyncio_loop.run_forever()\n    File \"c:\\Users\\brian\\AppData\\Local\\Programs\\Python\\Python39\\lib\\asyncio\\base_events.py\", line 601, in run_forever\n      self._run_once()\n    File \"c:\\Users\\brian\\AppData\\Local\\Programs\\Python\\Python39\\lib\\asyncio\\base_events.py\", line 1905, in _run_once\n      handle._run()\n    File \"c:\\Users\\brian\\AppData\\Local\\Programs\\Python\\Python39\\lib\\asyncio\\events.py\", line 80, in _run\n      self._context.run(self._callback, *self._args)\n    File \"C:\\Users\\brian\\AppData\\Roaming\\Python\\Python39\\site-packages\\ipykernel\\kernelbase.py\", line 524, in dispatch_queue\n      await self.process_one()\n    File \"C:\\Users\\brian\\AppData\\Roaming\\Python\\Python39\\site-packages\\ipykernel\\kernelbase.py\", line 513, in process_one\n      await dispatch(*args)\n    File \"C:\\Users\\brian\\AppData\\Roaming\\Python\\Python39\\site-packages\\ipykernel\\kernelbase.py\", line 418, in dispatch_shell\n      await result\n    File \"C:\\Users\\brian\\AppData\\Roaming\\Python\\Python39\\site-packages\\ipykernel\\kernelbase.py\", line 758, in execute_request\n      reply_content = await reply_content\n    File \"C:\\Users\\brian\\AppData\\Roaming\\Python\\Python39\\site-packages\\ipykernel\\ipkernel.py\", line 426, in do_execute\n      res = shell.run_cell(\n    File \"C:\\Users\\brian\\AppData\\Roaming\\Python\\Python39\\site-packages\\ipykernel\\zmqshell.py\", line 549, in run_cell\n      return super().run_cell(*args, **kwargs)\n    File \"c:\\Users\\brian\\AppData\\Local\\Programs\\Python\\Python39\\lib\\site-packages\\IPython\\core\\interactiveshell.py\", line 3009, in run_cell\n      result = self._run_cell(\n    File \"c:\\Users\\brian\\AppData\\Local\\Programs\\Python\\Python39\\lib\\site-packages\\IPython\\core\\interactiveshell.py\", line 3064, in _run_cell\n      result = runner(coro)\n    File \"c:\\Users\\brian\\AppData\\Local\\Programs\\Python\\Python39\\lib\\site-packages\\IPython\\core\\async_helpers.py\", line 129, in _pseudo_sync_runner\n      coro.send(None)\n    File \"c:\\Users\\brian\\AppData\\Local\\Programs\\Python\\Python39\\lib\\site-packages\\IPython\\core\\interactiveshell.py\", line 3269, in run_cell_async\n      has_raised = await self.run_ast_nodes(code_ast.body, cell_name,\n    File \"c:\\Users\\brian\\AppData\\Local\\Programs\\Python\\Python39\\lib\\site-packages\\IPython\\core\\interactiveshell.py\", line 3448, in run_ast_nodes\n      if await self.run_code(code, result, async_=asy):\n    File \"c:\\Users\\brian\\AppData\\Local\\Programs\\Python\\Python39\\lib\\site-packages\\IPython\\core\\interactiveshell.py\", line 3508, in run_code\n      exec(code_obj, self.user_global_ns, self.user_ns)\n    File \"C:\\Users\\brian\\AppData\\Local\\Temp\\ipykernel_41352\\3956798898.py\", line 4, in <module>\n      history = model_r1.fit(x_train_scaled, y_train_resampled,\n    File \"c:\\Users\\brian\\AppData\\Local\\Programs\\Python\\Python39\\lib\\site-packages\\keras\\utils\\traceback_utils.py\", line 65, in error_handler\n      return fn(*args, **kwargs)\n    File \"c:\\Users\\brian\\AppData\\Local\\Programs\\Python\\Python39\\lib\\site-packages\\keras\\engine\\training.py\", line 1564, in fit\n      tmp_logs = self.train_function(iterator)\n    File \"c:\\Users\\brian\\AppData\\Local\\Programs\\Python\\Python39\\lib\\site-packages\\keras\\engine\\training.py\", line 1160, in train_function\n      return step_function(self, iterator)\n    File \"c:\\Users\\brian\\AppData\\Local\\Programs\\Python\\Python39\\lib\\site-packages\\keras\\engine\\training.py\", line 1146, in step_function\n      outputs = model.distribute_strategy.run(run_step, args=(data,))\n    File \"c:\\Users\\brian\\AppData\\Local\\Programs\\Python\\Python39\\lib\\site-packages\\keras\\engine\\training.py\", line 1135, in run_step\n      outputs = model.train_step(data)\n    File \"c:\\Users\\brian\\AppData\\Local\\Programs\\Python\\Python39\\lib\\site-packages\\keras\\engine\\training.py\", line 993, in train_step\n      y_pred = self(x, training=True)\n    File \"c:\\Users\\brian\\AppData\\Local\\Programs\\Python\\Python39\\lib\\site-packages\\keras\\utils\\traceback_utils.py\", line 65, in error_handler\n      return fn(*args, **kwargs)\n    File \"c:\\Users\\brian\\AppData\\Local\\Programs\\Python\\Python39\\lib\\site-packages\\keras\\engine\\training.py\", line 557, in __call__\n      return super().__call__(*args, **kwargs)\n    File \"c:\\Users\\brian\\AppData\\Local\\Programs\\Python\\Python39\\lib\\site-packages\\keras\\utils\\traceback_utils.py\", line 65, in error_handler\n      return fn(*args, **kwargs)\n    File \"c:\\Users\\brian\\AppData\\Local\\Programs\\Python\\Python39\\lib\\site-packages\\keras\\engine\\base_layer.py\", line 1097, in __call__\n      outputs = call_fn(inputs, *args, **kwargs)\n    File \"c:\\Users\\brian\\AppData\\Local\\Programs\\Python\\Python39\\lib\\site-packages\\keras\\utils\\traceback_utils.py\", line 96, in error_handler\n      return fn(*args, **kwargs)\n    File \"c:\\Users\\brian\\AppData\\Local\\Programs\\Python\\Python39\\lib\\site-packages\\keras\\engine\\sequential.py\", line 410, in call\n      return super().call(inputs, training=training, mask=mask)\n    File \"c:\\Users\\brian\\AppData\\Local\\Programs\\Python\\Python39\\lib\\site-packages\\keras\\engine\\functional.py\", line 510, in call\n      return self._run_internal_graph(inputs, training=training, mask=mask)\n    File \"c:\\Users\\brian\\AppData\\Local\\Programs\\Python\\Python39\\lib\\site-packages\\keras\\engine\\functional.py\", line 667, in _run_internal_graph\n      outputs = node.layer(*args, **kwargs)\n    File \"c:\\Users\\brian\\AppData\\Local\\Programs\\Python\\Python39\\lib\\site-packages\\keras\\utils\\traceback_utils.py\", line 65, in error_handler\n      return fn(*args, **kwargs)\n    File \"c:\\Users\\brian\\AppData\\Local\\Programs\\Python\\Python39\\lib\\site-packages\\keras\\engine\\base_layer.py\", line 1097, in __call__\n      outputs = call_fn(inputs, *args, **kwargs)\n    File \"c:\\Users\\brian\\AppData\\Local\\Programs\\Python\\Python39\\lib\\site-packages\\keras\\utils\\traceback_utils.py\", line 96, in error_handler\n      return fn(*args, **kwargs)\n    File \"c:\\Users\\brian\\AppData\\Local\\Programs\\Python\\Python39\\lib\\site-packages\\keras\\layers\\core\\embedding.py\", line 208, in call\n      out = tf.nn.embedding_lookup(self.embeddings, inputs)\nNode: 'sequential_8/embedding/embedding_lookup'\nindices[21,8] = -1 is not in [0, 500000)\n\t [[{{node sequential_8/embedding/embedding_lookup}}]] [Op:__inference_train_function_16503013]",
     "output_type": "error",
     "traceback": [
      "\u001b[1;31m---------------------------------------------------------------------------\u001b[0m",
      "\u001b[1;31mInvalidArgumentError\u001b[0m                      Traceback (most recent call last)",
      "Cell \u001b[1;32mIn[58], line 4\u001b[0m\n\u001b[0;32m      1\u001b[0m np\u001b[38;5;241m.\u001b[39mrandom\u001b[38;5;241m.\u001b[39mseed(\u001b[38;5;241m33\u001b[39m)\n\u001b[0;32m      2\u001b[0m tf\u001b[38;5;241m.\u001b[39mrandom\u001b[38;5;241m.\u001b[39mset_seed(\u001b[38;5;241m33\u001b[39m)\n\u001b[1;32m----> 4\u001b[0m history \u001b[38;5;241m=\u001b[39m \u001b[43mmodel_r1\u001b[49m\u001b[38;5;241;43m.\u001b[39;49m\u001b[43mfit\u001b[49m\u001b[43m(\u001b[49m\u001b[43mx_train_scaled\u001b[49m\u001b[43m,\u001b[49m\u001b[43m \u001b[49m\u001b[43my_train_resampled\u001b[49m\u001b[43m,\u001b[49m\u001b[43m \u001b[49m\n\u001b[0;32m      5\u001b[0m \u001b[43m                    \u001b[49m\u001b[43mvalidation_data\u001b[49m\u001b[38;5;241;43m=\u001b[39;49m\u001b[43m(\u001b[49m\u001b[43mx_val_scaled\u001b[49m\u001b[43m,\u001b[49m\u001b[43m \u001b[49m\u001b[43my_val\u001b[49m\u001b[43m)\u001b[49m\u001b[43m,\u001b[49m\n\u001b[0;32m      6\u001b[0m \u001b[43m                    \u001b[49m\u001b[43mepochs\u001b[49m\u001b[38;5;241;43m=\u001b[39;49m\u001b[38;5;241;43m10\u001b[39;49m\u001b[43m,\u001b[49m\n\u001b[0;32m      7\u001b[0m \u001b[43m                    \u001b[49m\u001b[43mbatch_size\u001b[49m\u001b[38;5;241;43m=\u001b[39;49m\u001b[38;5;241;43m32\u001b[39;49m\u001b[43m)\u001b[49m\n",
      "File \u001b[1;32mc:\\Users\\brian\\AppData\\Local\\Programs\\Python\\Python39\\lib\\site-packages\\keras\\utils\\traceback_utils.py:70\u001b[0m, in \u001b[0;36mfilter_traceback.<locals>.error_handler\u001b[1;34m(*args, **kwargs)\u001b[0m\n\u001b[0;32m     67\u001b[0m     filtered_tb \u001b[38;5;241m=\u001b[39m _process_traceback_frames(e\u001b[38;5;241m.\u001b[39m__traceback__)\n\u001b[0;32m     68\u001b[0m     \u001b[38;5;66;03m# To get the full stack trace, call:\u001b[39;00m\n\u001b[0;32m     69\u001b[0m     \u001b[38;5;66;03m# `tf.debugging.disable_traceback_filtering()`\u001b[39;00m\n\u001b[1;32m---> 70\u001b[0m     \u001b[38;5;28;01mraise\u001b[39;00m e\u001b[38;5;241m.\u001b[39mwith_traceback(filtered_tb) \u001b[38;5;28;01mfrom\u001b[39;00m \u001b[38;5;28mNone\u001b[39m\n\u001b[0;32m     71\u001b[0m \u001b[38;5;28;01mfinally\u001b[39;00m:\n\u001b[0;32m     72\u001b[0m     \u001b[38;5;28;01mdel\u001b[39;00m filtered_tb\n",
      "File \u001b[1;32mc:\\Users\\brian\\AppData\\Local\\Programs\\Python\\Python39\\lib\\site-packages\\tensorflow\\python\\eager\\execute.py:54\u001b[0m, in \u001b[0;36mquick_execute\u001b[1;34m(op_name, num_outputs, inputs, attrs, ctx, name)\u001b[0m\n\u001b[0;32m     52\u001b[0m \u001b[38;5;28;01mtry\u001b[39;00m:\n\u001b[0;32m     53\u001b[0m   ctx\u001b[38;5;241m.\u001b[39mensure_initialized()\n\u001b[1;32m---> 54\u001b[0m   tensors \u001b[38;5;241m=\u001b[39m pywrap_tfe\u001b[38;5;241m.\u001b[39mTFE_Py_Execute(ctx\u001b[38;5;241m.\u001b[39m_handle, device_name, op_name,\n\u001b[0;32m     55\u001b[0m                                       inputs, attrs, num_outputs)\n\u001b[0;32m     56\u001b[0m \u001b[38;5;28;01mexcept\u001b[39;00m core\u001b[38;5;241m.\u001b[39m_NotOkStatusException \u001b[38;5;28;01mas\u001b[39;00m e:\n\u001b[0;32m     57\u001b[0m   \u001b[38;5;28;01mif\u001b[39;00m name \u001b[38;5;129;01mis\u001b[39;00m \u001b[38;5;129;01mnot\u001b[39;00m \u001b[38;5;28;01mNone\u001b[39;00m:\n",
      "\u001b[1;31mInvalidArgumentError\u001b[0m: Graph execution error:\n\nDetected at node 'sequential_8/embedding/embedding_lookup' defined at (most recent call last):\n    File \"c:\\Users\\brian\\AppData\\Local\\Programs\\Python\\Python39\\lib\\runpy.py\", line 197, in _run_module_as_main\n      return _run_code(code, main_globals, None,\n    File \"c:\\Users\\brian\\AppData\\Local\\Programs\\Python\\Python39\\lib\\runpy.py\", line 87, in _run_code\n      exec(code, run_globals)\n    File \"C:\\Users\\brian\\AppData\\Roaming\\Python\\Python39\\site-packages\\ipykernel_launcher.py\", line 17, in <module>\n      app.launch_new_instance()\n    File \"c:\\Users\\brian\\AppData\\Local\\Programs\\Python\\Python39\\lib\\site-packages\\traitlets\\config\\application.py\", line 1043, in launch_instance\n      app.start()\n    File \"C:\\Users\\brian\\AppData\\Roaming\\Python\\Python39\\site-packages\\ipykernel\\kernelapp.py\", line 737, in start\n      self.io_loop.start()\n    File \"c:\\Users\\brian\\AppData\\Local\\Programs\\Python\\Python39\\lib\\site-packages\\tornado\\platform\\asyncio.py\", line 215, in start\n      self.asyncio_loop.run_forever()\n    File \"c:\\Users\\brian\\AppData\\Local\\Programs\\Python\\Python39\\lib\\asyncio\\base_events.py\", line 601, in run_forever\n      self._run_once()\n    File \"c:\\Users\\brian\\AppData\\Local\\Programs\\Python\\Python39\\lib\\asyncio\\base_events.py\", line 1905, in _run_once\n      handle._run()\n    File \"c:\\Users\\brian\\AppData\\Local\\Programs\\Python\\Python39\\lib\\asyncio\\events.py\", line 80, in _run\n      self._context.run(self._callback, *self._args)\n    File \"C:\\Users\\brian\\AppData\\Roaming\\Python\\Python39\\site-packages\\ipykernel\\kernelbase.py\", line 524, in dispatch_queue\n      await self.process_one()\n    File \"C:\\Users\\brian\\AppData\\Roaming\\Python\\Python39\\site-packages\\ipykernel\\kernelbase.py\", line 513, in process_one\n      await dispatch(*args)\n    File \"C:\\Users\\brian\\AppData\\Roaming\\Python\\Python39\\site-packages\\ipykernel\\kernelbase.py\", line 418, in dispatch_shell\n      await result\n    File \"C:\\Users\\brian\\AppData\\Roaming\\Python\\Python39\\site-packages\\ipykernel\\kernelbase.py\", line 758, in execute_request\n      reply_content = await reply_content\n    File \"C:\\Users\\brian\\AppData\\Roaming\\Python\\Python39\\site-packages\\ipykernel\\ipkernel.py\", line 426, in do_execute\n      res = shell.run_cell(\n    File \"C:\\Users\\brian\\AppData\\Roaming\\Python\\Python39\\site-packages\\ipykernel\\zmqshell.py\", line 549, in run_cell\n      return super().run_cell(*args, **kwargs)\n    File \"c:\\Users\\brian\\AppData\\Local\\Programs\\Python\\Python39\\lib\\site-packages\\IPython\\core\\interactiveshell.py\", line 3009, in run_cell\n      result = self._run_cell(\n    File \"c:\\Users\\brian\\AppData\\Local\\Programs\\Python\\Python39\\lib\\site-packages\\IPython\\core\\interactiveshell.py\", line 3064, in _run_cell\n      result = runner(coro)\n    File \"c:\\Users\\brian\\AppData\\Local\\Programs\\Python\\Python39\\lib\\site-packages\\IPython\\core\\async_helpers.py\", line 129, in _pseudo_sync_runner\n      coro.send(None)\n    File \"c:\\Users\\brian\\AppData\\Local\\Programs\\Python\\Python39\\lib\\site-packages\\IPython\\core\\interactiveshell.py\", line 3269, in run_cell_async\n      has_raised = await self.run_ast_nodes(code_ast.body, cell_name,\n    File \"c:\\Users\\brian\\AppData\\Local\\Programs\\Python\\Python39\\lib\\site-packages\\IPython\\core\\interactiveshell.py\", line 3448, in run_ast_nodes\n      if await self.run_code(code, result, async_=asy):\n    File \"c:\\Users\\brian\\AppData\\Local\\Programs\\Python\\Python39\\lib\\site-packages\\IPython\\core\\interactiveshell.py\", line 3508, in run_code\n      exec(code_obj, self.user_global_ns, self.user_ns)\n    File \"C:\\Users\\brian\\AppData\\Local\\Temp\\ipykernel_41352\\3956798898.py\", line 4, in <module>\n      history = model_r1.fit(x_train_scaled, y_train_resampled,\n    File \"c:\\Users\\brian\\AppData\\Local\\Programs\\Python\\Python39\\lib\\site-packages\\keras\\utils\\traceback_utils.py\", line 65, in error_handler\n      return fn(*args, **kwargs)\n    File \"c:\\Users\\brian\\AppData\\Local\\Programs\\Python\\Python39\\lib\\site-packages\\keras\\engine\\training.py\", line 1564, in fit\n      tmp_logs = self.train_function(iterator)\n    File \"c:\\Users\\brian\\AppData\\Local\\Programs\\Python\\Python39\\lib\\site-packages\\keras\\engine\\training.py\", line 1160, in train_function\n      return step_function(self, iterator)\n    File \"c:\\Users\\brian\\AppData\\Local\\Programs\\Python\\Python39\\lib\\site-packages\\keras\\engine\\training.py\", line 1146, in step_function\n      outputs = model.distribute_strategy.run(run_step, args=(data,))\n    File \"c:\\Users\\brian\\AppData\\Local\\Programs\\Python\\Python39\\lib\\site-packages\\keras\\engine\\training.py\", line 1135, in run_step\n      outputs = model.train_step(data)\n    File \"c:\\Users\\brian\\AppData\\Local\\Programs\\Python\\Python39\\lib\\site-packages\\keras\\engine\\training.py\", line 993, in train_step\n      y_pred = self(x, training=True)\n    File \"c:\\Users\\brian\\AppData\\Local\\Programs\\Python\\Python39\\lib\\site-packages\\keras\\utils\\traceback_utils.py\", line 65, in error_handler\n      return fn(*args, **kwargs)\n    File \"c:\\Users\\brian\\AppData\\Local\\Programs\\Python\\Python39\\lib\\site-packages\\keras\\engine\\training.py\", line 557, in __call__\n      return super().__call__(*args, **kwargs)\n    File \"c:\\Users\\brian\\AppData\\Local\\Programs\\Python\\Python39\\lib\\site-packages\\keras\\utils\\traceback_utils.py\", line 65, in error_handler\n      return fn(*args, **kwargs)\n    File \"c:\\Users\\brian\\AppData\\Local\\Programs\\Python\\Python39\\lib\\site-packages\\keras\\engine\\base_layer.py\", line 1097, in __call__\n      outputs = call_fn(inputs, *args, **kwargs)\n    File \"c:\\Users\\brian\\AppData\\Local\\Programs\\Python\\Python39\\lib\\site-packages\\keras\\utils\\traceback_utils.py\", line 96, in error_handler\n      return fn(*args, **kwargs)\n    File \"c:\\Users\\brian\\AppData\\Local\\Programs\\Python\\Python39\\lib\\site-packages\\keras\\engine\\sequential.py\", line 410, in call\n      return super().call(inputs, training=training, mask=mask)\n    File \"c:\\Users\\brian\\AppData\\Local\\Programs\\Python\\Python39\\lib\\site-packages\\keras\\engine\\functional.py\", line 510, in call\n      return self._run_internal_graph(inputs, training=training, mask=mask)\n    File \"c:\\Users\\brian\\AppData\\Local\\Programs\\Python\\Python39\\lib\\site-packages\\keras\\engine\\functional.py\", line 667, in _run_internal_graph\n      outputs = node.layer(*args, **kwargs)\n    File \"c:\\Users\\brian\\AppData\\Local\\Programs\\Python\\Python39\\lib\\site-packages\\keras\\utils\\traceback_utils.py\", line 65, in error_handler\n      return fn(*args, **kwargs)\n    File \"c:\\Users\\brian\\AppData\\Local\\Programs\\Python\\Python39\\lib\\site-packages\\keras\\engine\\base_layer.py\", line 1097, in __call__\n      outputs = call_fn(inputs, *args, **kwargs)\n    File \"c:\\Users\\brian\\AppData\\Local\\Programs\\Python\\Python39\\lib\\site-packages\\keras\\utils\\traceback_utils.py\", line 96, in error_handler\n      return fn(*args, **kwargs)\n    File \"c:\\Users\\brian\\AppData\\Local\\Programs\\Python\\Python39\\lib\\site-packages\\keras\\layers\\core\\embedding.py\", line 208, in call\n      out = tf.nn.embedding_lookup(self.embeddings, inputs)\nNode: 'sequential_8/embedding/embedding_lookup'\nindices[21,8] = -1 is not in [0, 500000)\n\t [[{{node sequential_8/embedding/embedding_lookup}}]] [Op:__inference_train_function_16503013]"
     ]
    }
   ],
   "source": [
    "np.random.seed(33)\n",
    "tf.random.set_seed(33)\n",
    "\n",
    "history = model_r1.fit(x_train_scaled, y_train_resampled, \n",
    "                    validation_data=(x_val_scaled, y_val),\n",
    "                    epochs=10,\n",
    "                    batch_size=32)"
   ]
  },
  {
   "cell_type": "code",
   "execution_count": null,
   "metadata": {},
   "outputs": [],
   "source": [
    "test_metrics(model_r1, x_test_scaled, y_test)"
   ]
  }
 ],
 "metadata": {
  "kernelspec": {
   "display_name": "Python 3",
   "language": "python",
   "name": "python3"
  },
  "language_info": {
   "codemirror_mode": {
    "name": "ipython",
    "version": 3
   },
   "file_extension": ".py",
   "mimetype": "text/x-python",
   "name": "python",
   "nbconvert_exporter": "python",
   "pygments_lexer": "ipython3",
   "version": "3.9.13"
  }
 },
 "nbformat": 4,
 "nbformat_minor": 2
}
